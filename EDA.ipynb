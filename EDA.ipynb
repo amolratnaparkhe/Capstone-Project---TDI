{
 "cells": [
  {
   "cell_type": "code",
   "execution_count": 1,
   "id": "universal-fairy",
   "metadata": {},
   "outputs": [],
   "source": [
    "import warnings\n",
    "warnings.filterwarnings('ignore')\n",
    "import json\n",
    "import numpy as np\n",
    "import pandas as pd\n",
    "import matplotlib.pyplot as plt\n",
    "import seaborn as sns\n",
    "%matplotlib inline"
   ]
  },
  {
   "cell_type": "code",
   "execution_count": 2,
   "id": "scheduled-minister",
   "metadata": {},
   "outputs": [],
   "source": [
    "sns.set()"
   ]
  },
  {
   "cell_type": "code",
   "execution_count": 3,
   "id": "creative-luther",
   "metadata": {},
   "outputs": [],
   "source": [
    "import pickle"
   ]
  },
  {
   "cell_type": "code",
   "execution_count": 4,
   "id": "single-particle",
   "metadata": {},
   "outputs": [],
   "source": [
    "with open('../archive/test_user.pkl','rb') as f:\n",
    "    data_user = pickle.load(f)\n",
    "with open('../archive/test_rev.pkl','rb') as f:\n",
    "    data_review = pickle.load(f)\n",
    "with open('../archive/test_biz.pkl','rb') as f:\n",
    "    data_biz = pickle.load(f)"
   ]
  },
  {
   "cell_type": "markdown",
   "id": "documented-lancaster",
   "metadata": {},
   "source": [
    "### Let's explore the datasets!"
   ]
  },
  {
   "cell_type": "markdown",
   "id": "great-arcade",
   "metadata": {},
   "source": [
    "### Users dataset"
   ]
  },
  {
   "cell_type": "code",
   "execution_count": 5,
   "id": "average-diploma",
   "metadata": {},
   "outputs": [
    {
     "data": {
      "text/html": [
       "<div>\n",
       "<style scoped>\n",
       "    .dataframe tbody tr th:only-of-type {\n",
       "        vertical-align: middle;\n",
       "    }\n",
       "\n",
       "    .dataframe tbody tr th {\n",
       "        vertical-align: top;\n",
       "    }\n",
       "\n",
       "    .dataframe thead th {\n",
       "        text-align: right;\n",
       "    }\n",
       "</style>\n",
       "<table border=\"1\" class=\"dataframe\">\n",
       "  <thead>\n",
       "    <tr style=\"text-align: right;\">\n",
       "      <th></th>\n",
       "      <th>user_id</th>\n",
       "      <th>name</th>\n",
       "      <th>review_count</th>\n",
       "      <th>yelping_since</th>\n",
       "      <th>useful</th>\n",
       "      <th>funny</th>\n",
       "      <th>cool</th>\n",
       "      <th>elite</th>\n",
       "      <th>friends</th>\n",
       "      <th>fans</th>\n",
       "      <th>...</th>\n",
       "      <th>compliment_more</th>\n",
       "      <th>compliment_profile</th>\n",
       "      <th>compliment_cute</th>\n",
       "      <th>compliment_list</th>\n",
       "      <th>compliment_note</th>\n",
       "      <th>compliment_plain</th>\n",
       "      <th>compliment_cool</th>\n",
       "      <th>compliment_funny</th>\n",
       "      <th>compliment_writer</th>\n",
       "      <th>compliment_photos</th>\n",
       "    </tr>\n",
       "  </thead>\n",
       "  <tbody>\n",
       "    <tr>\n",
       "      <th>0</th>\n",
       "      <td>ntlvfPzc8eglqvk92iDIAw</td>\n",
       "      <td>Rafael</td>\n",
       "      <td>553</td>\n",
       "      <td>2007-07-06 03:27:11</td>\n",
       "      <td>628</td>\n",
       "      <td>225</td>\n",
       "      <td>227</td>\n",
       "      <td></td>\n",
       "      <td>oeMvJh94PiGQnx_6GlndPQ, wm1z1PaJKvHgSDRKfwhfDg...</td>\n",
       "      <td>14</td>\n",
       "      <td>...</td>\n",
       "      <td>2</td>\n",
       "      <td>1</td>\n",
       "      <td>0</td>\n",
       "      <td>1</td>\n",
       "      <td>11</td>\n",
       "      <td>15</td>\n",
       "      <td>22</td>\n",
       "      <td>22</td>\n",
       "      <td>10</td>\n",
       "      <td>0</td>\n",
       "    </tr>\n",
       "    <tr>\n",
       "      <th>1</th>\n",
       "      <td>FOBRPlBHa3WPHFB5qYDlVg</td>\n",
       "      <td>Michelle</td>\n",
       "      <td>564</td>\n",
       "      <td>2008-04-28 01:29:25</td>\n",
       "      <td>790</td>\n",
       "      <td>316</td>\n",
       "      <td>400</td>\n",
       "      <td>2008,2009,2010,2011,2012,2013</td>\n",
       "      <td>ly7EnE8leJmyqyePVYFlug, pRlR63iDytsnnniPb3AOug...</td>\n",
       "      <td>27</td>\n",
       "      <td>...</td>\n",
       "      <td>4</td>\n",
       "      <td>5</td>\n",
       "      <td>2</td>\n",
       "      <td>1</td>\n",
       "      <td>33</td>\n",
       "      <td>37</td>\n",
       "      <td>63</td>\n",
       "      <td>63</td>\n",
       "      <td>21</td>\n",
       "      <td>5</td>\n",
       "    </tr>\n",
       "    <tr>\n",
       "      <th>2</th>\n",
       "      <td>zZUnPeh2hEp0WydbAZEOOg</td>\n",
       "      <td>Martin</td>\n",
       "      <td>60</td>\n",
       "      <td>2008-08-28 23:40:05</td>\n",
       "      <td>151</td>\n",
       "      <td>125</td>\n",
       "      <td>103</td>\n",
       "      <td>2010</td>\n",
       "      <td>Uwlk0txjQBPw_JhHsQnyeg, Ybxr1tSCkv3lYA0I1qmnPQ...</td>\n",
       "      <td>5</td>\n",
       "      <td>...</td>\n",
       "      <td>6</td>\n",
       "      <td>0</td>\n",
       "      <td>1</td>\n",
       "      <td>0</td>\n",
       "      <td>3</td>\n",
       "      <td>7</td>\n",
       "      <td>17</td>\n",
       "      <td>17</td>\n",
       "      <td>4</td>\n",
       "      <td>1</td>\n",
       "    </tr>\n",
       "    <tr>\n",
       "      <th>3</th>\n",
       "      <td>QaELAmRcDc5TfJEylaaP8g</td>\n",
       "      <td>John</td>\n",
       "      <td>206</td>\n",
       "      <td>2008-09-20 00:08:14</td>\n",
       "      <td>233</td>\n",
       "      <td>160</td>\n",
       "      <td>84</td>\n",
       "      <td>2009</td>\n",
       "      <td>iog3Nyg1i4jeumiTVG_BSA, M92xWY2Vr9w0xoH8bPplfQ...</td>\n",
       "      <td>6</td>\n",
       "      <td>...</td>\n",
       "      <td>1</td>\n",
       "      <td>0</td>\n",
       "      <td>0</td>\n",
       "      <td>0</td>\n",
       "      <td>7</td>\n",
       "      <td>14</td>\n",
       "      <td>7</td>\n",
       "      <td>7</td>\n",
       "      <td>2</td>\n",
       "      <td>0</td>\n",
       "    </tr>\n",
       "    <tr>\n",
       "      <th>4</th>\n",
       "      <td>xvu8G900tezTzbbfqmTKvA</td>\n",
       "      <td>Anne</td>\n",
       "      <td>485</td>\n",
       "      <td>2008-08-09 00:30:27</td>\n",
       "      <td>1265</td>\n",
       "      <td>400</td>\n",
       "      <td>512</td>\n",
       "      <td>2009,2010,2011,2012,2014,2015,2016,2017,2018</td>\n",
       "      <td>3W3ZMSthojCUirKEqAwGNw, eTIbuu23j9tOgmIa9POyLQ...</td>\n",
       "      <td>78</td>\n",
       "      <td>...</td>\n",
       "      <td>9</td>\n",
       "      <td>2</td>\n",
       "      <td>1</td>\n",
       "      <td>1</td>\n",
       "      <td>22</td>\n",
       "      <td>28</td>\n",
       "      <td>31</td>\n",
       "      <td>31</td>\n",
       "      <td>19</td>\n",
       "      <td>31</td>\n",
       "    </tr>\n",
       "  </tbody>\n",
       "</table>\n",
       "<p>5 rows × 22 columns</p>\n",
       "</div>"
      ],
      "text/plain": [
       "                  user_id      name  review_count        yelping_since  \\\n",
       "0  ntlvfPzc8eglqvk92iDIAw    Rafael           553  2007-07-06 03:27:11   \n",
       "1  FOBRPlBHa3WPHFB5qYDlVg  Michelle           564  2008-04-28 01:29:25   \n",
       "2  zZUnPeh2hEp0WydbAZEOOg    Martin            60  2008-08-28 23:40:05   \n",
       "3  QaELAmRcDc5TfJEylaaP8g      John           206  2008-09-20 00:08:14   \n",
       "4  xvu8G900tezTzbbfqmTKvA      Anne           485  2008-08-09 00:30:27   \n",
       "\n",
       "   useful  funny  cool                                         elite  \\\n",
       "0     628    225   227                                                 \n",
       "1     790    316   400                 2008,2009,2010,2011,2012,2013   \n",
       "2     151    125   103                                          2010   \n",
       "3     233    160    84                                          2009   \n",
       "4    1265    400   512  2009,2010,2011,2012,2014,2015,2016,2017,2018   \n",
       "\n",
       "                                             friends  fans  ...  \\\n",
       "0  oeMvJh94PiGQnx_6GlndPQ, wm1z1PaJKvHgSDRKfwhfDg...    14  ...   \n",
       "1  ly7EnE8leJmyqyePVYFlug, pRlR63iDytsnnniPb3AOug...    27  ...   \n",
       "2  Uwlk0txjQBPw_JhHsQnyeg, Ybxr1tSCkv3lYA0I1qmnPQ...     5  ...   \n",
       "3  iog3Nyg1i4jeumiTVG_BSA, M92xWY2Vr9w0xoH8bPplfQ...     6  ...   \n",
       "4  3W3ZMSthojCUirKEqAwGNw, eTIbuu23j9tOgmIa9POyLQ...    78  ...   \n",
       "\n",
       "   compliment_more  compliment_profile  compliment_cute  compliment_list  \\\n",
       "0                2                   1                0                1   \n",
       "1                4                   5                2                1   \n",
       "2                6                   0                1                0   \n",
       "3                1                   0                0                0   \n",
       "4                9                   2                1                1   \n",
       "\n",
       "   compliment_note  compliment_plain  compliment_cool  compliment_funny  \\\n",
       "0               11                15               22                22   \n",
       "1               33                37               63                63   \n",
       "2                3                 7               17                17   \n",
       "3                7                14                7                 7   \n",
       "4               22                28               31                31   \n",
       "\n",
       "   compliment_writer  compliment_photos  \n",
       "0                 10                  0  \n",
       "1                 21                  5  \n",
       "2                  4                  1  \n",
       "3                  2                  0  \n",
       "4                 19                 31  \n",
       "\n",
       "[5 rows x 22 columns]"
      ]
     },
     "execution_count": 5,
     "metadata": {},
     "output_type": "execute_result"
    }
   ],
   "source": [
    "data_user.head()"
   ]
  },
  {
   "cell_type": "code",
   "execution_count": 6,
   "id": "fifth-relationship",
   "metadata": {},
   "outputs": [
    {
     "data": {
      "text/plain": [
       "<AxesSubplot:xlabel='review_count', ylabel='Density'>"
      ]
     },
     "execution_count": 6,
     "metadata": {},
     "output_type": "execute_result"
    },
    {
     "data": {
      "image/png": "[encoded data removed]",
      "text/plain": [
       "<Figure size 432x288 with 1 Axes>"
      ]
     },
     "metadata": {},
     "output_type": "display_data"
    }
   ],
   "source": [
    "sns.distplot(data_user['review_count'])"
   ]
  },
  {
   "cell_type": "markdown",
   "id": "funny-appendix",
   "metadata": {},
   "source": [
    "This plot suggests that most users tend to not leave any reviews!"
   ]
  },
  {
   "cell_type": "code",
   "execution_count": 7,
   "id": "correct-freeware",
   "metadata": {},
   "outputs": [
    {
     "data": {
      "text/plain": [
       "count    1.968703e+06\n",
       "mean     2.216930e+01\n",
       "std      7.674226e+01\n",
       "min      0.000000e+00\n",
       "25%      2.000000e+00\n",
       "50%      5.000000e+00\n",
       "75%      1.500000e+01\n",
       "max      1.445500e+04\n",
       "Name: review_count, dtype: float64"
      ]
     },
     "execution_count": 7,
     "metadata": {},
     "output_type": "execute_result"
    }
   ],
   "source": [
    "data_user['review_count'].describe()"
   ]
  },
  {
   "cell_type": "code",
   "execution_count": 8,
   "id": "responsible-sociology",
   "metadata": {},
   "outputs": [
    {
     "data": {
      "text/plain": [
       "user_id               645518\n",
       "name                  645518\n",
       "review_count          645518\n",
       "yelping_since         645518\n",
       "useful                645518\n",
       "funny                 645518\n",
       "cool                  645518\n",
       "elite                 645518\n",
       "friends               645518\n",
       "fans                  645518\n",
       "average_stars         645518\n",
       "compliment_hot        645518\n",
       "compliment_more       645518\n",
       "compliment_profile    645518\n",
       "compliment_cute       645518\n",
       "compliment_list       645518\n",
       "compliment_note       645518\n",
       "compliment_plain      645518\n",
       "compliment_cool       645518\n",
       "compliment_funny      645518\n",
       "compliment_writer     645518\n",
       "compliment_photos     645518\n",
       "dtype: int64"
      ]
     },
     "execution_count": 8,
     "metadata": {},
     "output_type": "execute_result"
    }
   ],
   "source": [
    "data_user[data_user['review_count'] > 10].count() # Minimum of 10 user reviews"
   ]
  },
  {
   "cell_type": "code",
   "execution_count": 9,
   "id": "popular-variation",
   "metadata": {},
   "outputs": [
    {
     "data": {
      "text/plain": [
       "user_id               75961\n",
       "name                  75961\n",
       "review_count          75961\n",
       "yelping_since         75961\n",
       "useful                75961\n",
       "funny                 75961\n",
       "cool                  75961\n",
       "elite                 75961\n",
       "friends               75961\n",
       "fans                  75961\n",
       "average_stars         75961\n",
       "compliment_hot        75961\n",
       "compliment_more       75961\n",
       "compliment_profile    75961\n",
       "compliment_cute       75961\n",
       "compliment_list       75961\n",
       "compliment_note       75961\n",
       "compliment_plain      75961\n",
       "compliment_cool       75961\n",
       "compliment_funny      75961\n",
       "compliment_writer     75961\n",
       "compliment_photos     75961\n",
       "dtype: int64"
      ]
     },
     "execution_count": 9,
     "metadata": {},
     "output_type": "execute_result"
    }
   ],
   "source": [
    "data_user[data_user['elite'].apply(lambda x: len(str(x))>0)].count() # Elite users once or more than once"
   ]
  },
  {
   "cell_type": "markdown",
   "id": "medical-nirvana",
   "metadata": {},
   "source": [
    "### Let's do a conditional masking of the users where either the user has been elite at some point or had more than 10 reviews to his name."
   ]
  },
  {
   "cell_type": "code",
   "execution_count": 10,
   "id": "herbal-candidate",
   "metadata": {},
   "outputs": [],
   "source": [
    "imp_users = data_user[(data_user['review_count'] >= 10) | (data_user['elite'].apply(lambda x: len(str(x))>0))]"
   ]
  },
  {
   "cell_type": "code",
   "execution_count": 11,
   "id": "transparent-vacation",
   "metadata": {},
   "outputs": [
    {
     "data": {
      "text/html": [
       "<div>\n",
       "<style scoped>\n",
       "    .dataframe tbody tr th:only-of-type {\n",
       "        vertical-align: middle;\n",
       "    }\n",
       "\n",
       "    .dataframe tbody tr th {\n",
       "        vertical-align: top;\n",
       "    }\n",
       "\n",
       "    .dataframe thead th {\n",
       "        text-align: right;\n",
       "    }\n",
       "</style>\n",
       "<table border=\"1\" class=\"dataframe\">\n",
       "  <thead>\n",
       "    <tr style=\"text-align: right;\">\n",
       "      <th></th>\n",
       "      <th>user_id</th>\n",
       "      <th>name</th>\n",
       "      <th>review_count</th>\n",
       "      <th>yelping_since</th>\n",
       "      <th>useful</th>\n",
       "      <th>funny</th>\n",
       "      <th>cool</th>\n",
       "      <th>elite</th>\n",
       "      <th>friends</th>\n",
       "      <th>fans</th>\n",
       "      <th>...</th>\n",
       "      <th>compliment_more</th>\n",
       "      <th>compliment_profile</th>\n",
       "      <th>compliment_cute</th>\n",
       "      <th>compliment_list</th>\n",
       "      <th>compliment_note</th>\n",
       "      <th>compliment_plain</th>\n",
       "      <th>compliment_cool</th>\n",
       "      <th>compliment_funny</th>\n",
       "      <th>compliment_writer</th>\n",
       "      <th>compliment_photos</th>\n",
       "    </tr>\n",
       "  </thead>\n",
       "  <tbody>\n",
       "    <tr>\n",
       "      <th>0</th>\n",
       "      <td>ntlvfPzc8eglqvk92iDIAw</td>\n",
       "      <td>Rafael</td>\n",
       "      <td>553</td>\n",
       "      <td>2007-07-06 03:27:11</td>\n",
       "      <td>628</td>\n",
       "      <td>225</td>\n",
       "      <td>227</td>\n",
       "      <td></td>\n",
       "      <td>oeMvJh94PiGQnx_6GlndPQ, wm1z1PaJKvHgSDRKfwhfDg...</td>\n",
       "      <td>14</td>\n",
       "      <td>...</td>\n",
       "      <td>2</td>\n",
       "      <td>1</td>\n",
       "      <td>0</td>\n",
       "      <td>1</td>\n",
       "      <td>11</td>\n",
       "      <td>15</td>\n",
       "      <td>22</td>\n",
       "      <td>22</td>\n",
       "      <td>10</td>\n",
       "      <td>0</td>\n",
       "    </tr>\n",
       "    <tr>\n",
       "      <th>1</th>\n",
       "      <td>FOBRPlBHa3WPHFB5qYDlVg</td>\n",
       "      <td>Michelle</td>\n",
       "      <td>564</td>\n",
       "      <td>2008-04-28 01:29:25</td>\n",
       "      <td>790</td>\n",
       "      <td>316</td>\n",
       "      <td>400</td>\n",
       "      <td>2008,2009,2010,2011,2012,2013</td>\n",
       "      <td>ly7EnE8leJmyqyePVYFlug, pRlR63iDytsnnniPb3AOug...</td>\n",
       "      <td>27</td>\n",
       "      <td>...</td>\n",
       "      <td>4</td>\n",
       "      <td>5</td>\n",
       "      <td>2</td>\n",
       "      <td>1</td>\n",
       "      <td>33</td>\n",
       "      <td>37</td>\n",
       "      <td>63</td>\n",
       "      <td>63</td>\n",
       "      <td>21</td>\n",
       "      <td>5</td>\n",
       "    </tr>\n",
       "    <tr>\n",
       "      <th>2</th>\n",
       "      <td>zZUnPeh2hEp0WydbAZEOOg</td>\n",
       "      <td>Martin</td>\n",
       "      <td>60</td>\n",
       "      <td>2008-08-28 23:40:05</td>\n",
       "      <td>151</td>\n",
       "      <td>125</td>\n",
       "      <td>103</td>\n",
       "      <td>2010</td>\n",
       "      <td>Uwlk0txjQBPw_JhHsQnyeg, Ybxr1tSCkv3lYA0I1qmnPQ...</td>\n",
       "      <td>5</td>\n",
       "      <td>...</td>\n",
       "      <td>6</td>\n",
       "      <td>0</td>\n",
       "      <td>1</td>\n",
       "      <td>0</td>\n",
       "      <td>3</td>\n",
       "      <td>7</td>\n",
       "      <td>17</td>\n",
       "      <td>17</td>\n",
       "      <td>4</td>\n",
       "      <td>1</td>\n",
       "    </tr>\n",
       "    <tr>\n",
       "      <th>3</th>\n",
       "      <td>QaELAmRcDc5TfJEylaaP8g</td>\n",
       "      <td>John</td>\n",
       "      <td>206</td>\n",
       "      <td>2008-09-20 00:08:14</td>\n",
       "      <td>233</td>\n",
       "      <td>160</td>\n",
       "      <td>84</td>\n",
       "      <td>2009</td>\n",
       "      <td>iog3Nyg1i4jeumiTVG_BSA, M92xWY2Vr9w0xoH8bPplfQ...</td>\n",
       "      <td>6</td>\n",
       "      <td>...</td>\n",
       "      <td>1</td>\n",
       "      <td>0</td>\n",
       "      <td>0</td>\n",
       "      <td>0</td>\n",
       "      <td>7</td>\n",
       "      <td>14</td>\n",
       "      <td>7</td>\n",
       "      <td>7</td>\n",
       "      <td>2</td>\n",
       "      <td>0</td>\n",
       "    </tr>\n",
       "    <tr>\n",
       "      <th>4</th>\n",
       "      <td>xvu8G900tezTzbbfqmTKvA</td>\n",
       "      <td>Anne</td>\n",
       "      <td>485</td>\n",
       "      <td>2008-08-09 00:30:27</td>\n",
       "      <td>1265</td>\n",
       "      <td>400</td>\n",
       "      <td>512</td>\n",
       "      <td>2009,2010,2011,2012,2014,2015,2016,2017,2018</td>\n",
       "      <td>3W3ZMSthojCUirKEqAwGNw, eTIbuu23j9tOgmIa9POyLQ...</td>\n",
       "      <td>78</td>\n",
       "      <td>...</td>\n",
       "      <td>9</td>\n",
       "      <td>2</td>\n",
       "      <td>1</td>\n",
       "      <td>1</td>\n",
       "      <td>22</td>\n",
       "      <td>28</td>\n",
       "      <td>31</td>\n",
       "      <td>31</td>\n",
       "      <td>19</td>\n",
       "      <td>31</td>\n",
       "    </tr>\n",
       "  </tbody>\n",
       "</table>\n",
       "<p>5 rows × 22 columns</p>\n",
       "</div>"
      ],
      "text/plain": [
       "                  user_id      name  review_count        yelping_since  \\\n",
       "0  ntlvfPzc8eglqvk92iDIAw    Rafael           553  2007-07-06 03:27:11   \n",
       "1  FOBRPlBHa3WPHFB5qYDlVg  Michelle           564  2008-04-28 01:29:25   \n",
       "2  zZUnPeh2hEp0WydbAZEOOg    Martin            60  2008-08-28 23:40:05   \n",
       "3  QaELAmRcDc5TfJEylaaP8g      John           206  2008-09-20 00:08:14   \n",
       "4  xvu8G900tezTzbbfqmTKvA      Anne           485  2008-08-09 00:30:27   \n",
       "\n",
       "   useful  funny  cool                                         elite  \\\n",
       "0     628    225   227                                                 \n",
       "1     790    316   400                 2008,2009,2010,2011,2012,2013   \n",
       "2     151    125   103                                          2010   \n",
       "3     233    160    84                                          2009   \n",
       "4    1265    400   512  2009,2010,2011,2012,2014,2015,2016,2017,2018   \n",
       "\n",
       "                                             friends  fans  ...  \\\n",
       "0  oeMvJh94PiGQnx_6GlndPQ, wm1z1PaJKvHgSDRKfwhfDg...    14  ...   \n",
       "1  ly7EnE8leJmyqyePVYFlug, pRlR63iDytsnnniPb3AOug...    27  ...   \n",
       "2  Uwlk0txjQBPw_JhHsQnyeg, Ybxr1tSCkv3lYA0I1qmnPQ...     5  ...   \n",
       "3  iog3Nyg1i4jeumiTVG_BSA, M92xWY2Vr9w0xoH8bPplfQ...     6  ...   \n",
       "4  3W3ZMSthojCUirKEqAwGNw, eTIbuu23j9tOgmIa9POyLQ...    78  ...   \n",
       "\n",
       "   compliment_more  compliment_profile  compliment_cute  compliment_list  \\\n",
       "0                2                   1                0                1   \n",
       "1                4                   5                2                1   \n",
       "2                6                   0                1                0   \n",
       "3                1                   0                0                0   \n",
       "4                9                   2                1                1   \n",
       "\n",
       "   compliment_note  compliment_plain  compliment_cool  compliment_funny  \\\n",
       "0               11                15               22                22   \n",
       "1               33                37               63                63   \n",
       "2                3                 7               17                17   \n",
       "3                7                14                7                 7   \n",
       "4               22                28               31                31   \n",
       "\n",
       "   compliment_writer  compliment_photos  \n",
       "0                 10                  0  \n",
       "1                 21                  5  \n",
       "2                  4                  1  \n",
       "3                  2                  0  \n",
       "4                 19                 31  \n",
       "\n",
       "[5 rows x 22 columns]"
      ]
     },
     "execution_count": 11,
     "metadata": {},
     "output_type": "execute_result"
    }
   ],
   "source": [
    "imp_users.head()"
   ]
  },
  {
   "cell_type": "code",
   "execution_count": 12,
   "id": "commercial-coalition",
   "metadata": {},
   "outputs": [],
   "source": [
    "imp_user_ids = imp_users['user_id'].values"
   ]
  },
  {
   "cell_type": "markdown",
   "id": "regular-madagascar",
   "metadata": {},
   "source": [
    "### Business dataset"
   ]
  },
  {
   "cell_type": "code",
   "execution_count": 13,
   "id": "acquired-converter",
   "metadata": {},
   "outputs": [
    {
     "data": {
      "text/html": [
       "<div>\n",
       "<style scoped>\n",
       "    .dataframe tbody tr th:only-of-type {\n",
       "        vertical-align: middle;\n",
       "    }\n",
       "\n",
       "    .dataframe tbody tr th {\n",
       "        vertical-align: top;\n",
       "    }\n",
       "\n",
       "    .dataframe thead th {\n",
       "        text-align: right;\n",
       "    }\n",
       "</style>\n",
       "<table border=\"1\" class=\"dataframe\">\n",
       "  <thead>\n",
       "    <tr style=\"text-align: right;\">\n",
       "      <th></th>\n",
       "      <th>business_id</th>\n",
       "      <th>name</th>\n",
       "      <th>address</th>\n",
       "      <th>city</th>\n",
       "      <th>state</th>\n",
       "      <th>postal_code</th>\n",
       "      <th>latitude</th>\n",
       "      <th>longitude</th>\n",
       "      <th>stars</th>\n",
       "      <th>review_count</th>\n",
       "      <th>is_open</th>\n",
       "      <th>attributes</th>\n",
       "      <th>categories</th>\n",
       "      <th>hours</th>\n",
       "    </tr>\n",
       "  </thead>\n",
       "  <tbody>\n",
       "    <tr>\n",
       "      <th>0</th>\n",
       "      <td>f9NumwFMBDn751xgFiRbNA</td>\n",
       "      <td>The Range At Lake Norman</td>\n",
       "      <td>10913 Bailey Rd</td>\n",
       "      <td>Cornelius</td>\n",
       "      <td>NC</td>\n",
       "      <td>28031</td>\n",
       "      <td>35.462724</td>\n",
       "      <td>-80.852612</td>\n",
       "      <td>3.5</td>\n",
       "      <td>36</td>\n",
       "      <td>1</td>\n",
       "      <td>{'BusinessAcceptsCreditCards': 'True', 'BikePa...</td>\n",
       "      <td>Active Life, Gun/Rifle Ranges, Guns &amp; Ammo, Sh...</td>\n",
       "      <td>{'Monday': '10:0-18:0', 'Tuesday': '11:0-20:0'...</td>\n",
       "    </tr>\n",
       "    <tr>\n",
       "      <th>1</th>\n",
       "      <td>Yzvjg0SayhoZgCljUJRF9Q</td>\n",
       "      <td>Carlos Santo, NMD</td>\n",
       "      <td>8880 E Via Linda, Ste 107</td>\n",
       "      <td>Scottsdale</td>\n",
       "      <td>AZ</td>\n",
       "      <td>85258</td>\n",
       "      <td>33.569404</td>\n",
       "      <td>-111.890264</td>\n",
       "      <td>5.0</td>\n",
       "      <td>4</td>\n",
       "      <td>1</td>\n",
       "      <td>{'GoodForKids': 'True', 'ByAppointmentOnly': '...</td>\n",
       "      <td>Health &amp; Medical, Fitness &amp; Instruction, Yoga,...</td>\n",
       "      <td>None</td>\n",
       "    </tr>\n",
       "    <tr>\n",
       "      <th>2</th>\n",
       "      <td>XNoUzKckATkOD1hP6vghZg</td>\n",
       "      <td>Felinus</td>\n",
       "      <td>3554 Rue Notre-Dame O</td>\n",
       "      <td>Montreal</td>\n",
       "      <td>QC</td>\n",
       "      <td>H4C 1P4</td>\n",
       "      <td>45.479984</td>\n",
       "      <td>-73.580070</td>\n",
       "      <td>5.0</td>\n",
       "      <td>5</td>\n",
       "      <td>1</td>\n",
       "      <td>None</td>\n",
       "      <td>Pets, Pet Services, Pet Groomers</td>\n",
       "      <td>None</td>\n",
       "    </tr>\n",
       "    <tr>\n",
       "      <th>3</th>\n",
       "      <td>6OAZjbxqM5ol29BuHsil3w</td>\n",
       "      <td>Nevada House of Hose</td>\n",
       "      <td>1015 Sharp Cir</td>\n",
       "      <td>North Las Vegas</td>\n",
       "      <td>NV</td>\n",
       "      <td>89030</td>\n",
       "      <td>36.219728</td>\n",
       "      <td>-115.127725</td>\n",
       "      <td>2.5</td>\n",
       "      <td>3</td>\n",
       "      <td>0</td>\n",
       "      <td>{'BusinessAcceptsCreditCards': 'True', 'ByAppo...</td>\n",
       "      <td>Hardware Stores, Home Services, Building Suppl...</td>\n",
       "      <td>{'Monday': '7:0-16:0', 'Tuesday': '7:0-16:0', ...</td>\n",
       "    </tr>\n",
       "    <tr>\n",
       "      <th>4</th>\n",
       "      <td>51M2Kk903DFYI6gnB5I6SQ</td>\n",
       "      <td>USE MY GUY SERVICES LLC</td>\n",
       "      <td>4827 E Downing Cir</td>\n",
       "      <td>Mesa</td>\n",
       "      <td>AZ</td>\n",
       "      <td>85205</td>\n",
       "      <td>33.428065</td>\n",
       "      <td>-111.726648</td>\n",
       "      <td>4.5</td>\n",
       "      <td>26</td>\n",
       "      <td>1</td>\n",
       "      <td>{'BusinessAcceptsCreditCards': 'True', 'ByAppo...</td>\n",
       "      <td>Home Services, Plumbing, Electricians, Handyma...</td>\n",
       "      <td>{'Monday': '0:0-0:0', 'Tuesday': '9:0-16:0', '...</td>\n",
       "    </tr>\n",
       "  </tbody>\n",
       "</table>\n",
       "</div>"
      ],
      "text/plain": [
       "              business_id                      name  \\\n",
       "0  f9NumwFMBDn751xgFiRbNA  The Range At Lake Norman   \n",
       "1  Yzvjg0SayhoZgCljUJRF9Q         Carlos Santo, NMD   \n",
       "2  XNoUzKckATkOD1hP6vghZg                   Felinus   \n",
       "3  6OAZjbxqM5ol29BuHsil3w      Nevada House of Hose   \n",
       "4  51M2Kk903DFYI6gnB5I6SQ   USE MY GUY SERVICES LLC   \n",
       "\n",
       "                     address             city state postal_code   latitude  \\\n",
       "0            10913 Bailey Rd        Cornelius    NC       28031  35.462724   \n",
       "1  8880 E Via Linda, Ste 107       Scottsdale    AZ       85258  33.569404   \n",
       "2      3554 Rue Notre-Dame O         Montreal    QC     H4C 1P4  45.479984   \n",
       "3             1015 Sharp Cir  North Las Vegas    NV       89030  36.219728   \n",
       "4         4827 E Downing Cir             Mesa    AZ       85205  33.428065   \n",
       "\n",
       "    longitude  stars  review_count  is_open  \\\n",
       "0  -80.852612    3.5            36        1   \n",
       "1 -111.890264    5.0             4        1   \n",
       "2  -73.580070    5.0             5        1   \n",
       "3 -115.127725    2.5             3        0   \n",
       "4 -111.726648    4.5            26        1   \n",
       "\n",
       "                                          attributes  \\\n",
       "0  {'BusinessAcceptsCreditCards': 'True', 'BikePa...   \n",
       "1  {'GoodForKids': 'True', 'ByAppointmentOnly': '...   \n",
       "2                                               None   \n",
       "3  {'BusinessAcceptsCreditCards': 'True', 'ByAppo...   \n",
       "4  {'BusinessAcceptsCreditCards': 'True', 'ByAppo...   \n",
       "\n",
       "                                          categories  \\\n",
       "0  Active Life, Gun/Rifle Ranges, Guns & Ammo, Sh...   \n",
       "1  Health & Medical, Fitness & Instruction, Yoga,...   \n",
       "2                   Pets, Pet Services, Pet Groomers   \n",
       "3  Hardware Stores, Home Services, Building Suppl...   \n",
       "4  Home Services, Plumbing, Electricians, Handyma...   \n",
       "\n",
       "                                               hours  \n",
       "0  {'Monday': '10:0-18:0', 'Tuesday': '11:0-20:0'...  \n",
       "1                                               None  \n",
       "2                                               None  \n",
       "3  {'Monday': '7:0-16:0', 'Tuesday': '7:0-16:0', ...  \n",
       "4  {'Monday': '0:0-0:0', 'Tuesday': '9:0-16:0', '...  "
      ]
     },
     "execution_count": 13,
     "metadata": {},
     "output_type": "execute_result"
    }
   ],
   "source": [
    "data_biz.head()"
   ]
  },
  {
   "cell_type": "markdown",
   "id": "fatal-windsor",
   "metadata": {},
   "source": [
    "### We're interested in the restaurants! Let's filter those out!"
   ]
  },
  {
   "cell_type": "code",
   "execution_count": 14,
   "id": "apparent-jenny",
   "metadata": {},
   "outputs": [],
   "source": [
    "data_restaurant = data_biz[data_biz['categories'].str.contains('Restaurant'or 'restaurant' or 'Food' or 'food')& data_biz['categories'].notna()]"
   ]
  },
  {
   "cell_type": "markdown",
   "id": "controlled-owner",
   "metadata": {},
   "source": [
    "Let's look at the distribution of the businesses"
   ]
  },
  {
   "cell_type": "code",
   "execution_count": 15,
   "id": "harmful-kuwait",
   "metadata": {},
   "outputs": [
    {
     "data": {
      "text/plain": [
       "array(['IL', 'NC', 'ON', 'AZ', 'NV', 'OH', 'QC', 'PA', 'AB', 'SC', 'WI',\n",
       "       'TX', 'CO', 'XWY', 'BC', 'HPL', 'NY', 'FL', 'VT', 'AR', 'HI', 'MB',\n",
       "       'OR', 'WA', 'AL', 'CA', 'VA', 'NE'], dtype=object)"
      ]
     },
     "execution_count": 15,
     "metadata": {},
     "output_type": "execute_result"
    }
   ],
   "source": [
    "data_restaurant['state'].unique()"
   ]
  },
  {
   "cell_type": "code",
   "execution_count": 16,
   "id": "changing-clinton",
   "metadata": {},
   "outputs": [
    {
     "data": {
      "text/plain": [
       "Toronto                      8681\n",
       "Las Vegas                    6937\n",
       "Phoenix                      4221\n",
       "Montréal                     4097\n",
       "Calgary                      3117\n",
       "                             ... \n",
       "Schottsdale                     1\n",
       "Sainte-Marguerite-Esterel       1\n",
       "Hampstead                       1\n",
       "Alberta                         1\n",
       "Troy Township                   1\n",
       "Name: city, Length: 813, dtype: int64"
      ]
     },
     "execution_count": 16,
     "metadata": {},
     "output_type": "execute_result"
    }
   ],
   "source": [
    "data_restaurant['city'].value_counts()"
   ]
  },
  {
   "cell_type": "code",
   "execution_count": 17,
   "id": "indian-exposure",
   "metadata": {},
   "outputs": [
    {
     "data": {
      "text/plain": [
       "<AxesSubplot:ylabel='city'>"
      ]
     },
     "execution_count": 17,
     "metadata": {},
     "output_type": "execute_result"
    },
    {
     "data": {
      "image/png": "[encoded data removed]",
      "text/plain": [
       "<Figure size 720x432 with 1 Axes>"
      ]
     },
     "metadata": {},
     "output_type": "display_data"
    }
   ],
   "source": [
    "plt.figure(figsize = (10,6))\n",
    "sns.barplot(x=data_restaurant['city'].value_counts()[:10].index, y=data_restaurant['city'].value_counts()[:10])"
   ]
  },
  {
   "cell_type": "markdown",
   "id": "tender-processor",
   "metadata": {},
   "source": [
    "### Most number of restaurants are out there in Toronto. In the US, it's Las Vegas! Let's study the restaurants in Vegas!"
   ]
  },
  {
   "cell_type": "code",
   "execution_count": 56,
   "id": "sporting-brook",
   "metadata": {},
   "outputs": [],
   "source": [
    "vegas_restaurants = data_restaurant[data_restaurant['city'] == 'Las Vegas']"
   ]
  },
  {
   "cell_type": "code",
   "execution_count": 48,
   "id": "uniform-accountability",
   "metadata": {},
   "outputs": [],
   "source": [
    "vegas_ids = vegas_restaurants['business_id'].values.tolist()\n",
    "vegas_open_ids = vegas_restaurants.loc[vegas_restaurants['is_open']!=0]['business_id'].values.tolist()"
   ]
  },
  {
   "cell_type": "code",
   "execution_count": 53,
   "id": "smaller-replica",
   "metadata": {},
   "outputs": [
    {
     "data": {
      "text/plain": [
       "(2742, 2132)"
      ]
     },
     "execution_count": 53,
     "metadata": {},
     "output_type": "execute_result"
    }
   ],
   "source": [
    "len(vegas_ids),len(vegas_open_ids)"
   ]
  },
  {
   "cell_type": "code",
   "execution_count": 19,
   "id": "single-highland",
   "metadata": {},
   "outputs": [
    {
     "data": {
      "text/plain": [
       "count     6937.000000\n",
       "mean       209.775551\n",
       "std        470.820114\n",
       "min          3.000000\n",
       "25%         18.000000\n",
       "50%         60.000000\n",
       "75%        200.000000\n",
       "max      10129.000000\n",
       "Name: review_count, dtype: float64"
      ]
     },
     "execution_count": 19,
     "metadata": {},
     "output_type": "execute_result"
    }
   ],
   "source": [
    "vegas_restaurants['review_count'].describe()"
   ]
  },
  {
   "cell_type": "markdown",
   "id": "closing-eating",
   "metadata": {},
   "source": [
    "Let's grab the restaurants with at least 100 reviews"
   ]
  },
  {
   "cell_type": "code",
   "execution_count": 57,
   "id": "exceptional-glenn",
   "metadata": {},
   "outputs": [],
   "source": [
    "vegas_restaurants = vegas_restaurants[vegas_restaurants['review_count']>= 100]"
   ]
  },
  {
   "cell_type": "code",
   "execution_count": 40,
   "id": "round-anthropology",
   "metadata": {},
   "outputs": [],
   "source": [
    "vegas_ids = vegas_restaurants['business_id'].values"
   ]
  },
  {
   "cell_type": "markdown",
   "id": "changing-header",
   "metadata": {},
   "source": [
    "### Reviews dataset"
   ]
  },
  {
   "cell_type": "code",
   "execution_count": 22,
   "id": "pressed-shelf",
   "metadata": {},
   "outputs": [
    {
     "data": {
      "text/html": [
       "<div>\n",
       "<style scoped>\n",
       "    .dataframe tbody tr th:only-of-type {\n",
       "        vertical-align: middle;\n",
       "    }\n",
       "\n",
       "    .dataframe tbody tr th {\n",
       "        vertical-align: top;\n",
       "    }\n",
       "\n",
       "    .dataframe thead th {\n",
       "        text-align: right;\n",
       "    }\n",
       "</style>\n",
       "<table border=\"1\" class=\"dataframe\">\n",
       "  <thead>\n",
       "    <tr style=\"text-align: right;\">\n",
       "      <th></th>\n",
       "      <th>review_id</th>\n",
       "      <th>user_id</th>\n",
       "      <th>business_id</th>\n",
       "      <th>stars</th>\n",
       "      <th>useful</th>\n",
       "      <th>funny</th>\n",
       "      <th>cool</th>\n",
       "      <th>text</th>\n",
       "      <th>date</th>\n",
       "    </tr>\n",
       "  </thead>\n",
       "  <tbody>\n",
       "    <tr>\n",
       "      <th>0</th>\n",
       "      <td>xQY8N_XvtGbearJ5X4QryQ</td>\n",
       "      <td>OwjRMXRC0KyPrIlcjaXeFQ</td>\n",
       "      <td>-MhfebM0QIsKt87iDN-FNw</td>\n",
       "      <td>2.0</td>\n",
       "      <td>5</td>\n",
       "      <td>0</td>\n",
       "      <td>0</td>\n",
       "      <td>As someone who has worked with many museums, I...</td>\n",
       "      <td>2015-04-15 05:21:16</td>\n",
       "    </tr>\n",
       "    <tr>\n",
       "      <th>1</th>\n",
       "      <td>UmFMZ8PyXZTY2QcwzsfQYA</td>\n",
       "      <td>nIJD_7ZXHq-FX8byPMOkMQ</td>\n",
       "      <td>lbrU8StCq3yDfr-QMnGrmQ</td>\n",
       "      <td>1.0</td>\n",
       "      <td>1</td>\n",
       "      <td>1</td>\n",
       "      <td>0</td>\n",
       "      <td>I am actually horrified this place is still in...</td>\n",
       "      <td>2013-12-07 03:16:52</td>\n",
       "    </tr>\n",
       "    <tr>\n",
       "      <th>2</th>\n",
       "      <td>LG2ZaYiOgpr2DK_90pYjNw</td>\n",
       "      <td>V34qejxNsCbcgD8C0HVk-Q</td>\n",
       "      <td>HQl28KMwrEKHqhFrrDqVNQ</td>\n",
       "      <td>5.0</td>\n",
       "      <td>1</td>\n",
       "      <td>0</td>\n",
       "      <td>0</td>\n",
       "      <td>I love Deagan's. I do. I really do. The atmosp...</td>\n",
       "      <td>2015-12-05 03:18:11</td>\n",
       "    </tr>\n",
       "    <tr>\n",
       "      <th>3</th>\n",
       "      <td>i6g_oA9Yf9Y31qt0wibXpw</td>\n",
       "      <td>ofKDkJKXSKZXu5xJNGiiBQ</td>\n",
       "      <td>5JxlZaqCnk1MnbgRirs40Q</td>\n",
       "      <td>1.0</td>\n",
       "      <td>0</td>\n",
       "      <td>0</td>\n",
       "      <td>0</td>\n",
       "      <td>Dismal, lukewarm, defrosted-tasting \"TexMex\" g...</td>\n",
       "      <td>2011-05-27 05:30:52</td>\n",
       "    </tr>\n",
       "    <tr>\n",
       "      <th>4</th>\n",
       "      <td>6TdNDKywdbjoTkizeMce8A</td>\n",
       "      <td>UgMW8bLE0QMJDCkQ1Ax5Mg</td>\n",
       "      <td>IS4cv902ykd8wj1TR0N3-A</td>\n",
       "      <td>4.0</td>\n",
       "      <td>0</td>\n",
       "      <td>0</td>\n",
       "      <td>0</td>\n",
       "      <td>Oh happy day, finally have a Canes near my cas...</td>\n",
       "      <td>2017-01-14 21:56:57</td>\n",
       "    </tr>\n",
       "  </tbody>\n",
       "</table>\n",
       "</div>"
      ],
      "text/plain": [
       "                review_id                 user_id             business_id  \\\n",
       "0  xQY8N_XvtGbearJ5X4QryQ  OwjRMXRC0KyPrIlcjaXeFQ  -MhfebM0QIsKt87iDN-FNw   \n",
       "1  UmFMZ8PyXZTY2QcwzsfQYA  nIJD_7ZXHq-FX8byPMOkMQ  lbrU8StCq3yDfr-QMnGrmQ   \n",
       "2  LG2ZaYiOgpr2DK_90pYjNw  V34qejxNsCbcgD8C0HVk-Q  HQl28KMwrEKHqhFrrDqVNQ   \n",
       "3  i6g_oA9Yf9Y31qt0wibXpw  ofKDkJKXSKZXu5xJNGiiBQ  5JxlZaqCnk1MnbgRirs40Q   \n",
       "4  6TdNDKywdbjoTkizeMce8A  UgMW8bLE0QMJDCkQ1Ax5Mg  IS4cv902ykd8wj1TR0N3-A   \n",
       "\n",
       "   stars  useful  funny  cool  \\\n",
       "0    2.0       5      0     0   \n",
       "1    1.0       1      1     0   \n",
       "2    5.0       1      0     0   \n",
       "3    1.0       0      0     0   \n",
       "4    4.0       0      0     0   \n",
       "\n",
       "                                                text                 date  \n",
       "0  As someone who has worked with many museums, I...  2015-04-15 05:21:16  \n",
       "1  I am actually horrified this place is still in...  2013-12-07 03:16:52  \n",
       "2  I love Deagan's. I do. I really do. The atmosp...  2015-12-05 03:18:11  \n",
       "3  Dismal, lukewarm, defrosted-tasting \"TexMex\" g...  2011-05-27 05:30:52  \n",
       "4  Oh happy day, finally have a Canes near my cas...  2017-01-14 21:56:57  "
      ]
     },
     "execution_count": 22,
     "metadata": {},
     "output_type": "execute_result"
    }
   ],
   "source": [
    "data_review.head()"
   ]
  },
  {
   "cell_type": "code",
   "execution_count": 23,
   "id": "ordered-energy",
   "metadata": {},
   "outputs": [
    {
     "data": {
      "text/plain": [
       "<AxesSubplot:xlabel='stars', ylabel='count'>"
      ]
     },
     "execution_count": 23,
     "metadata": {},
     "output_type": "execute_result"
    },
    {
     "data": {
      "image/png": "[encoded data removed]",
      "text/plain": [
       "<Figure size 432x288 with 1 Axes>"
      ]
     },
     "metadata": {},
     "output_type": "display_data"
    }
   ],
   "source": [
    "sns.countplot(x = 'stars',data = data_review)"
   ]
  },
  {
   "cell_type": "markdown",
   "id": "manufactured-malta",
   "metadata": {},
   "source": [
    "The number of 5-star reviews is far higher than than any other rating."
   ]
  },
  {
   "cell_type": "markdown",
   "id": "reported-reflection",
   "metadata": {},
   "source": [
    "### Now, we need to merge the reviews dataset on the users and business dataset to extract meaningful information."
   ]
  },
  {
   "cell_type": "code",
   "execution_count": 50,
   "id": "brazilian-watershed",
   "metadata": {},
   "outputs": [],
   "source": [
    "vegas_reviews = data_review[data_review['user_id'].isin(imp_user_ids)&data_review['business_id'].isin(vegas_ids)]"
   ]
  },
  {
   "cell_type": "code",
   "execution_count": 58,
   "id": "stupid-result",
   "metadata": {},
   "outputs": [],
   "source": [
    "vegas_restaurants = vegas_restaurants.loc[vegas_restaurants['is_open']!= 0]"
   ]
  },
  {
   "cell_type": "code",
   "execution_count": 34,
   "id": "recovered-clarity",
   "metadata": {},
   "outputs": [
    {
     "data": {
      "text/html": [
       "<div>\n",
       "<style scoped>\n",
       "    .dataframe tbody tr th:only-of-type {\n",
       "        vertical-align: middle;\n",
       "    }\n",
       "\n",
       "    .dataframe tbody tr th {\n",
       "        vertical-align: top;\n",
       "    }\n",
       "\n",
       "    .dataframe thead th {\n",
       "        text-align: right;\n",
       "    }\n",
       "</style>\n",
       "<table border=\"1\" class=\"dataframe\">\n",
       "  <thead>\n",
       "    <tr style=\"text-align: right;\">\n",
       "      <th></th>\n",
       "      <th>business_id</th>\n",
       "      <th>name</th>\n",
       "      <th>address</th>\n",
       "      <th>city</th>\n",
       "      <th>state</th>\n",
       "      <th>postal_code</th>\n",
       "      <th>latitude</th>\n",
       "      <th>longitude</th>\n",
       "      <th>stars</th>\n",
       "      <th>review_count</th>\n",
       "      <th>is_open</th>\n",
       "      <th>attributes</th>\n",
       "      <th>categories</th>\n",
       "      <th>hours</th>\n",
       "    </tr>\n",
       "  </thead>\n",
       "  <tbody>\n",
       "    <tr>\n",
       "      <th>157</th>\n",
       "      <td>Yr_w9lakJrKMyEG_hI6zbA</td>\n",
       "      <td>Fat Moe's Pizza &amp; Wings</td>\n",
       "      <td>6125 W Tropicana Ave, Ste F</td>\n",
       "      <td>Las Vegas</td>\n",
       "      <td>NV</td>\n",
       "      <td>89103</td>\n",
       "      <td>36.099361</td>\n",
       "      <td>-115.226636</td>\n",
       "      <td>4.0</td>\n",
       "      <td>141</td>\n",
       "      <td>1</td>\n",
       "      <td>{'RestaurantsAttire': 'u'casual'', 'Restaurant...</td>\n",
       "      <td>Pizza, Salad, Burgers, Restaurants</td>\n",
       "      <td>{'Monday': '11:0-22:0', 'Tuesday': '11:0-22:0'...</td>\n",
       "    </tr>\n",
       "    <tr>\n",
       "      <th>238</th>\n",
       "      <td>AN0bWhisCf6LN9eHZ7DQ3w</td>\n",
       "      <td>Los Olivos Ristorante</td>\n",
       "      <td>3759 E Desert Inn Rd</td>\n",
       "      <td>Las Vegas</td>\n",
       "      <td>NV</td>\n",
       "      <td>89121</td>\n",
       "      <td>36.129178</td>\n",
       "      <td>-115.092483</td>\n",
       "      <td>5.0</td>\n",
       "      <td>222</td>\n",
       "      <td>1</td>\n",
       "      <td>{'WiFi': 'u'free'', 'RestaurantsPriceRange2': ...</td>\n",
       "      <td>Restaurants, Italian</td>\n",
       "      <td>{'Monday': '0:0-0:0', 'Tuesday': '16:0-21:0', ...</td>\n",
       "    </tr>\n",
       "    <tr>\n",
       "      <th>246</th>\n",
       "      <td>AtD6B83S4Mbmq0t7iDnUVA</td>\n",
       "      <td>Veggie House</td>\n",
       "      <td>5115 Spring Mountain Rd, Ste 203</td>\n",
       "      <td>Las Vegas</td>\n",
       "      <td>NV</td>\n",
       "      <td>89146</td>\n",
       "      <td>36.125569</td>\n",
       "      <td>-115.210911</td>\n",
       "      <td>4.5</td>\n",
       "      <td>1142</td>\n",
       "      <td>1</td>\n",
       "      <td>{'RestaurantsPriceRange2': '2', 'BikeParking':...</td>\n",
       "      <td>Restaurants, Specialty Food, Japanese, Sushi B...</td>\n",
       "      <td>{'Monday': '11:30-21:30', 'Tuesday': '11:30-21...</td>\n",
       "    </tr>\n",
       "    <tr>\n",
       "      <th>308</th>\n",
       "      <td>oUX2bYbqjqST-urKbOHG6w</td>\n",
       "      <td>Loftti Cafe</td>\n",
       "      <td>7729 S Rainbow Blvd, Ste 9B</td>\n",
       "      <td>Las Vegas</td>\n",
       "      <td>NV</td>\n",
       "      <td>89139</td>\n",
       "      <td>36.047942</td>\n",
       "      <td>-115.244167</td>\n",
       "      <td>4.5</td>\n",
       "      <td>284</td>\n",
       "      <td>1</td>\n",
       "      <td>{'OutdoorSeating': 'True', 'BusinessParking': ...</td>\n",
       "      <td>Sandwiches, Shaved Ice, Coffee &amp; Tea, Desserts...</td>\n",
       "      <td>{'Monday': '0:0-0:0', 'Tuesday': '8:0-3:0', 'W...</td>\n",
       "    </tr>\n",
       "    <tr>\n",
       "      <th>315</th>\n",
       "      <td>FiW6w5nmhlUoJAyNofb4jg</td>\n",
       "      <td>Fruits and Roots</td>\n",
       "      <td>5020 Blue Diamond Rd</td>\n",
       "      <td>Las Vegas</td>\n",
       "      <td>NV</td>\n",
       "      <td>89139</td>\n",
       "      <td>36.032122</td>\n",
       "      <td>-115.210267</td>\n",
       "      <td>4.5</td>\n",
       "      <td>106</td>\n",
       "      <td>1</td>\n",
       "      <td>{'BusinessAcceptsCreditCards': 'True', 'DogsAl...</td>\n",
       "      <td>Coffee &amp; Tea, Food Stands, Food, Restaurants, ...</td>\n",
       "      <td>{'Monday': '0:0-0:0'}</td>\n",
       "    </tr>\n",
       "  </tbody>\n",
       "</table>\n",
       "</div>"
      ],
      "text/plain": [
       "                business_id                     name  \\\n",
       "157  Yr_w9lakJrKMyEG_hI6zbA  Fat Moe's Pizza & Wings   \n",
       "238  AN0bWhisCf6LN9eHZ7DQ3w    Los Olivos Ristorante   \n",
       "246  AtD6B83S4Mbmq0t7iDnUVA             Veggie House   \n",
       "308  oUX2bYbqjqST-urKbOHG6w              Loftti Cafe   \n",
       "315  FiW6w5nmhlUoJAyNofb4jg         Fruits and Roots   \n",
       "\n",
       "                              address       city state postal_code   latitude  \\\n",
       "157       6125 W Tropicana Ave, Ste F  Las Vegas    NV       89103  36.099361   \n",
       "238              3759 E Desert Inn Rd  Las Vegas    NV       89121  36.129178   \n",
       "246  5115 Spring Mountain Rd, Ste 203  Las Vegas    NV       89146  36.125569   \n",
       "308       7729 S Rainbow Blvd, Ste 9B  Las Vegas    NV       89139  36.047942   \n",
       "315              5020 Blue Diamond Rd  Las Vegas    NV       89139  36.032122   \n",
       "\n",
       "      longitude  stars  review_count  is_open  \\\n",
       "157 -115.226636    4.0           141        1   \n",
       "238 -115.092483    5.0           222        1   \n",
       "246 -115.210911    4.5          1142        1   \n",
       "308 -115.244167    4.5           284        1   \n",
       "315 -115.210267    4.5           106        1   \n",
       "\n",
       "                                            attributes  \\\n",
       "157  {'RestaurantsAttire': 'u'casual'', 'Restaurant...   \n",
       "238  {'WiFi': 'u'free'', 'RestaurantsPriceRange2': ...   \n",
       "246  {'RestaurantsPriceRange2': '2', 'BikeParking':...   \n",
       "308  {'OutdoorSeating': 'True', 'BusinessParking': ...   \n",
       "315  {'BusinessAcceptsCreditCards': 'True', 'DogsAl...   \n",
       "\n",
       "                                            categories  \\\n",
       "157                 Pizza, Salad, Burgers, Restaurants   \n",
       "238                               Restaurants, Italian   \n",
       "246  Restaurants, Specialty Food, Japanese, Sushi B...   \n",
       "308  Sandwiches, Shaved Ice, Coffee & Tea, Desserts...   \n",
       "315  Coffee & Tea, Food Stands, Food, Restaurants, ...   \n",
       "\n",
       "                                                 hours  \n",
       "157  {'Monday': '11:0-22:0', 'Tuesday': '11:0-22:0'...  \n",
       "238  {'Monday': '0:0-0:0', 'Tuesday': '16:0-21:0', ...  \n",
       "246  {'Monday': '11:30-21:30', 'Tuesday': '11:30-21...  \n",
       "308  {'Monday': '0:0-0:0', 'Tuesday': '8:0-3:0', 'W...  \n",
       "315                              {'Monday': '0:0-0:0'}  "
      ]
     },
     "execution_count": 34,
     "metadata": {},
     "output_type": "execute_result"
    }
   ],
   "source": [
    "vegas_restaurants.head()"
   ]
  },
  {
   "cell_type": "code",
   "execution_count": 60,
   "id": "wrapped-gossip",
   "metadata": {},
   "outputs": [],
   "source": [
    "vegas_restaurants.drop(['stars','review_count','is_open','attributes','hours'],axis=1,inplace=True)"
   ]
  },
  {
   "cell_type": "code",
   "execution_count": 59,
   "id": "precise-fraction",
   "metadata": {},
   "outputs": [
    {
     "data": {
      "text/plain": [
       "2132"
      ]
     },
     "execution_count": 59,
     "metadata": {},
     "output_type": "execute_result"
    }
   ],
   "source": [
    "len(vegas_restaurants)"
   ]
  },
  {
   "cell_type": "code",
   "execution_count": 43,
   "id": "trying-services",
   "metadata": {},
   "outputs": [
    {
     "data": {
      "text/html": [
       "<div>\n",
       "<style scoped>\n",
       "    .dataframe tbody tr th:only-of-type {\n",
       "        vertical-align: middle;\n",
       "    }\n",
       "\n",
       "    .dataframe tbody tr th {\n",
       "        vertical-align: top;\n",
       "    }\n",
       "\n",
       "    .dataframe thead th {\n",
       "        text-align: right;\n",
       "    }\n",
       "</style>\n",
       "<table border=\"1\" class=\"dataframe\">\n",
       "  <thead>\n",
       "    <tr style=\"text-align: right;\">\n",
       "      <th></th>\n",
       "      <th>review_id</th>\n",
       "      <th>user_id</th>\n",
       "      <th>business_id</th>\n",
       "      <th>stars</th>\n",
       "      <th>useful</th>\n",
       "      <th>funny</th>\n",
       "      <th>cool</th>\n",
       "      <th>text</th>\n",
       "      <th>date</th>\n",
       "    </tr>\n",
       "  </thead>\n",
       "  <tbody>\n",
       "    <tr>\n",
       "      <th>16</th>\n",
       "      <td>bVTjZgRNq8ToxzvtiVrqMA</td>\n",
       "      <td>2hRe26HSCAWbFRn5WChK-Q</td>\n",
       "      <td>d4qwVw4PcN-_2mK2o1Ro1g</td>\n",
       "      <td>1.0</td>\n",
       "      <td>0</td>\n",
       "      <td>0</td>\n",
       "      <td>0</td>\n",
       "      <td>10pm on a super bowl Sunday and they're alread...</td>\n",
       "      <td>2015-02-02 06:28:00</td>\n",
       "    </tr>\n",
       "    <tr>\n",
       "      <th>21</th>\n",
       "      <td>TeX0eOIeZb_wpo86rCedXQ</td>\n",
       "      <td>RR-2nouBn408e3djxC470g</td>\n",
       "      <td>d4qwVw4PcN-_2mK2o1Ro1g</td>\n",
       "      <td>5.0</td>\n",
       "      <td>0</td>\n",
       "      <td>0</td>\n",
       "      <td>0</td>\n",
       "      <td>Holy heck this place is amazing. I love their ...</td>\n",
       "      <td>2017-02-09 04:25:03</td>\n",
       "    </tr>\n",
       "    <tr>\n",
       "      <th>24</th>\n",
       "      <td>XvLG7ReC8JZmBltOLJzfcA</td>\n",
       "      <td>-Co-ReNx_lXT1xL_Rr0B2g</td>\n",
       "      <td>XZbuPXdyA0ZtTu3AzqtQhg</td>\n",
       "      <td>4.0</td>\n",
       "      <td>0</td>\n",
       "      <td>1</td>\n",
       "      <td>0</td>\n",
       "      <td>As the previous person posted, what more can r...</td>\n",
       "      <td>2009-10-13 09:50:48</td>\n",
       "    </tr>\n",
       "    <tr>\n",
       "      <th>30</th>\n",
       "      <td>WGbtqQMeJwTVg6DFb156EQ</td>\n",
       "      <td>K5MSNpwRf0xKQSaC6gK9Cw</td>\n",
       "      <td>PL3cimEUfNHlenOGSOAdJg</td>\n",
       "      <td>4.0</td>\n",
       "      <td>3</td>\n",
       "      <td>0</td>\n",
       "      <td>1</td>\n",
       "      <td>This was our choice, by default, for New Year'...</td>\n",
       "      <td>2017-01-02 05:24:56</td>\n",
       "    </tr>\n",
       "    <tr>\n",
       "      <th>40</th>\n",
       "      <td>TkcxD1A4N_9kRZwGhUjDKA</td>\n",
       "      <td>bgG0jJyUXta_kczGrQW2Rw</td>\n",
       "      <td>7EZ4Eu7YJ1ltRCC5jXFJrQ</td>\n",
       "      <td>1.0</td>\n",
       "      <td>1</td>\n",
       "      <td>0</td>\n",
       "      <td>0</td>\n",
       "      <td>There wasn't one specific thing that made this...</td>\n",
       "      <td>2013-04-10 16:19:12</td>\n",
       "    </tr>\n",
       "  </tbody>\n",
       "</table>\n",
       "</div>"
      ],
      "text/plain": [
       "                 review_id                 user_id             business_id  \\\n",
       "16  bVTjZgRNq8ToxzvtiVrqMA  2hRe26HSCAWbFRn5WChK-Q  d4qwVw4PcN-_2mK2o1Ro1g   \n",
       "21  TeX0eOIeZb_wpo86rCedXQ  RR-2nouBn408e3djxC470g  d4qwVw4PcN-_2mK2o1Ro1g   \n",
       "24  XvLG7ReC8JZmBltOLJzfcA  -Co-ReNx_lXT1xL_Rr0B2g  XZbuPXdyA0ZtTu3AzqtQhg   \n",
       "30  WGbtqQMeJwTVg6DFb156EQ  K5MSNpwRf0xKQSaC6gK9Cw  PL3cimEUfNHlenOGSOAdJg   \n",
       "40  TkcxD1A4N_9kRZwGhUjDKA  bgG0jJyUXta_kczGrQW2Rw  7EZ4Eu7YJ1ltRCC5jXFJrQ   \n",
       "\n",
       "    stars  useful  funny  cool  \\\n",
       "16    1.0       0      0     0   \n",
       "21    5.0       0      0     0   \n",
       "24    4.0       0      1     0   \n",
       "30    4.0       3      0     1   \n",
       "40    1.0       1      0     0   \n",
       "\n",
       "                                                 text                 date  \n",
       "16  10pm on a super bowl Sunday and they're alread...  2015-02-02 06:28:00  \n",
       "21  Holy heck this place is amazing. I love their ...  2017-02-09 04:25:03  \n",
       "24  As the previous person posted, what more can r...  2009-10-13 09:50:48  \n",
       "30  This was our choice, by default, for New Year'...  2017-01-02 05:24:56  \n",
       "40  There wasn't one specific thing that made this...  2013-04-10 16:19:12  "
      ]
     },
     "execution_count": 43,
     "metadata": {},
     "output_type": "execute_result"
    }
   ],
   "source": [
    "vegas_reviews.head()"
   ]
  },
  {
   "cell_type": "markdown",
   "id": "accredited-scope",
   "metadata": {},
   "source": [
    "## The dataset vegas_reviews contains all the user reviews left by important users for restaurants in the city of Las Vegas. "
   ]
  },
  {
   "cell_type": "code",
   "execution_count": 51,
   "id": "advanced-fishing",
   "metadata": {},
   "outputs": [],
   "source": [
    "with open('vegas_reviews.pkl','wb') as f:          # How to dump the data into pickle\n",
    "    pickle.dump(vegas_reviews,f)"
   ]
  },
  {
   "cell_type": "code",
   "execution_count": 61,
   "id": "smoking-pepper",
   "metadata": {},
   "outputs": [],
   "source": [
    "with open('vegas_restaurants.pkl','wb') as f:          # How to dump the data into pickle\n",
    "    pickle.dump(vegas_restaurants,f)"
   ]
  },
  {
   "cell_type": "code",
   "execution_count": 54,
   "id": "answering-cleaners",
   "metadata": {},
   "outputs": [],
   "source": [
    "# Dumping the ids in a json file\n",
    "with open('vegas_ids.json', 'w') as fp:\n",
    "    json.dump(vegas_ids, fp)\n",
    "with open('vegas_open_ids.json', 'w') as fp:\n",
    "    json.dump(vegas_open_ids, fp)"
   ]
  },
  {
   "cell_type": "code",
   "execution_count": null,
   "id": "otherwise-lawrence",
   "metadata": {},
   "outputs": [],
   "source": [
    "# Reading the json file\n",
    "with open('processed_texts.json', 'r') as fp:\n",
    "    processed_texts = json.load(fp)"
   ]
  }
 ],
 "metadata": {
  "kernelspec": {
   "display_name": "flask_env",
   "language": "python",
   "name": "flask_env"
  },
  "language_info": {
   "codemirror_mode": {
    "name": "ipython",
    "version": 3
   },
   "file_extension": ".py",
   "mimetype": "text/x-python",
   "name": "python",
   "nbconvert_exporter": "python",
   "pygments_lexer": "ipython3",
   "version": "3.6.12"
  }
 },
 "nbformat": 4,
 "nbformat_minor": 5
}
