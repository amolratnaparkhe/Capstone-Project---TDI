{
 "cells": [
  {
   "cell_type": "code",
   "execution_count": 1,
   "id": "indoor-inventory",
   "metadata": {},
   "outputs": [],
   "source": [
    "import warnings\n",
    "warnings.filterwarnings('ignore')\n",
    "import os\n",
    "import random\n",
    "import json\n",
    "import numpy as np\n",
    "import pandas as pd\n",
    "import pickle\n",
    "import matplotlib.pyplot as plt\n",
    "import seaborn as sns\n",
    "%matplotlib inline"
   ]
  },
  {
   "cell_type": "code",
   "execution_count": 2,
   "id": "engaging-charleston",
   "metadata": {},
   "outputs": [],
   "source": [
    "sns.set()"
   ]
  },
  {
   "cell_type": "code",
   "execution_count": 13,
   "id": "sophisticated-morocco",
   "metadata": {},
   "outputs": [],
   "source": [
    "from surprise import SVD, NMF, NormalPredictor,KNNBasic\n",
    "from surprise import accuracy, Reader, Dataset, dump \n",
    "from surprise.model_selection import cross_validate, GridSearchCV, train_test_split"
   ]
  },
  {
   "cell_type": "code",
   "execution_count": 8,
   "id": "printable-assignment",
   "metadata": {},
   "outputs": [],
   "source": [
    "with open('vegas_reviews.pkl','rb') as f:\n",
    "    vegas_reviews = pickle.load(f)"
   ]
  },
  {
   "cell_type": "code",
   "execution_count": 68,
   "id": "dramatic-oklahoma",
   "metadata": {},
   "outputs": [
    {
     "data": {
      "text/plain": [
       "bLbSNkLggFnqwNNzzq-Ijw    1117\n",
       "PKEzKWv_FktMm2mGPjwd0Q     893\n",
       "U4INQZOPSUaj8hMjLlZ3KA     870\n",
       "UYcmGbelzRa0Q6JqzLoguw     604\n",
       "n86B7IkbU20AkxlFX_5aew     541\n",
       "                          ... \n",
       "-xDW3gYiYaoeVASXywTPgw     186\n",
       "53bZ_EsXH71L7iFs5MP9_w     185\n",
       "F_5_UNX-wrAFCXuAkBZRDw     184\n",
       "0hZfE2He1YssM_wEvKhfcA     183\n",
       "LwVUO_5jjHuJRhvl6hlHVg     182\n",
       "Name: user_id, Length: 100, dtype: int64"
      ]
     },
     "execution_count": 68,
     "metadata": {},
     "output_type": "execute_result"
    }
   ],
   "source": []
  },
  {
   "cell_type": "code",
   "execution_count": 5,
   "id": "conventional-thanksgiving",
   "metadata": {},
   "outputs": [],
   "source": [
    "unique_users = vegas_reviews['user_id'].unique()\n",
    "unique_restaurants = vegas_reviews['business_id'].unique()"
   ]
  },
  {
   "cell_type": "code",
   "execution_count": 6,
   "id": "noticed-instruction",
   "metadata": {},
   "outputs": [],
   "source": [
    "user_dict = {unique_users[i]:i + 1 for i in range(len(unique_users))}\n",
    "user_rest = {unique_restaurants[i]:i + 1 for i in range(len(unique_restaurants))}"
   ]
  },
  {
   "cell_type": "markdown",
   "id": "documented-microphone",
   "metadata": {},
   "source": [
    "## We need the user_id, business_id and the stars columns to work with the Surprise library"
   ]
  },
  {
   "cell_type": "code",
   "execution_count": 14,
   "id": "hollow-pickup",
   "metadata": {},
   "outputs": [],
   "source": [
    "reader = Reader(rating_scale=(1, 5))\n",
    "data = Dataset.load_from_df(vegas_reviews[['user_id', 'business_id', 'stars']], reader)"
   ]
  },
  {
   "cell_type": "code",
   "execution_count": 9,
   "id": "floppy-variety",
   "metadata": {},
   "outputs": [],
   "source": [
    "# We'll use three algorithms here and check which one of these performs better\n",
    "benchmark = []\n",
    "# Iterate over all algorithms\n",
    "for algorithm in [SVD(), NMF(), NormalPredictor()]:\n",
    "    # Perform cross validation\n",
    "    results = cross_validate(algorithm, data, measures=['RMSE'], cv=3, verbose=False)\n",
    "    \n",
    "    # Get results & append algorithm name\n",
    "    tmp = pd.DataFrame.from_dict(results).mean(axis=0)\n",
    "    tmp = tmp.append(pd.Series([str(algorithm).split(' ')[0].split('.')[-1]],index=['Algorithm']))\n",
    "    benchmark.append(tmp)"
   ]
  },
  {
   "cell_type": "code",
   "execution_count": 10,
   "id": "graduate-reserve",
   "metadata": {},
   "outputs": [
    {
     "data": {
      "text/html": [
       "<div>\n",
       "<style scoped>\n",
       "    .dataframe tbody tr th:only-of-type {\n",
       "        vertical-align: middle;\n",
       "    }\n",
       "\n",
       "    .dataframe tbody tr th {\n",
       "        vertical-align: top;\n",
       "    }\n",
       "\n",
       "    .dataframe thead th {\n",
       "        text-align: right;\n",
       "    }\n",
       "</style>\n",
       "<table border=\"1\" class=\"dataframe\">\n",
       "  <thead>\n",
       "    <tr style=\"text-align: right;\">\n",
       "      <th></th>\n",
       "      <th>test_rmse</th>\n",
       "      <th>fit_time</th>\n",
       "      <th>test_time</th>\n",
       "    </tr>\n",
       "    <tr>\n",
       "      <th>Algorithm</th>\n",
       "      <th></th>\n",
       "      <th></th>\n",
       "      <th></th>\n",
       "    </tr>\n",
       "  </thead>\n",
       "  <tbody>\n",
       "    <tr>\n",
       "      <th>SVD</th>\n",
       "      <td>1.189730</td>\n",
       "      <td>46.609256</td>\n",
       "      <td>4.210331</td>\n",
       "    </tr>\n",
       "    <tr>\n",
       "      <th>NMF</th>\n",
       "      <td>1.350399</td>\n",
       "      <td>66.506140</td>\n",
       "      <td>3.521168</td>\n",
       "    </tr>\n",
       "    <tr>\n",
       "      <th>NormalPredictor</th>\n",
       "      <td>1.684775</td>\n",
       "      <td>1.490442</td>\n",
       "      <td>3.496053</td>\n",
       "    </tr>\n",
       "  </tbody>\n",
       "</table>\n",
       "</div>"
      ],
      "text/plain": [
       "                 test_rmse   fit_time  test_time\n",
       "Algorithm                                       \n",
       "SVD               1.189730  46.609256   4.210331\n",
       "NMF               1.350399  66.506140   3.521168\n",
       "NormalPredictor   1.684775   1.490442   3.496053"
      ]
     },
     "execution_count": 10,
     "metadata": {},
     "output_type": "execute_result"
    }
   ],
   "source": [
    "pd.DataFrame(benchmark).set_index('Algorithm')"
   ]
  },
  {
   "cell_type": "markdown",
   "id": "liberal-tender",
   "metadata": {},
   "source": [
    "### SVD seems to be doing the best job of the three! We'll use this for the rest!"
   ]
  },
  {
   "cell_type": "code",
   "execution_count": 11,
   "id": "measured-juvenile",
   "metadata": {},
   "outputs": [],
   "source": [
    "param_grid = {'n_factors': [ 30, 35], 'n_epochs': [ 20, 25], 'lr_all': [0.001, 0.003],\n",
    "              'reg_all': [0.08, 0.1]}\n",
    "gs = GridSearchCV(SVD, param_grid, measures=['rmse', 'mae'], cv=3)\n",
    "gs.fit(data)"
   ]
  },
  {
   "cell_type": "code",
   "execution_count": 12,
   "id": "expected-arnold",
   "metadata": {},
   "outputs": [
    {
     "name": "stdout",
     "output_type": "stream",
     "text": [
      "1.170404160000227\n",
      "{'n_factors': 30, 'n_epochs': 25, 'lr_all': 0.003, 'reg_all': 0.1}\n"
     ]
    }
   ],
   "source": [
    "algo = gs.best_estimator['rmse']\n",
    "print(gs.best_score['rmse'])\n",
    "print(gs.best_params['rmse'])"
   ]
  },
  {
   "cell_type": "code",
   "execution_count": 14,
   "id": "fitting-fairy",
   "metadata": {},
   "outputs": [],
   "source": [
    "# Build the whole dataset as a training set"
   ]
  },
  {
   "cell_type": "code",
   "execution_count": 15,
   "id": "atlantic-education",
   "metadata": {},
   "outputs": [],
   "source": [
    "# Retrieve the trainset.\n",
    "trainset = data.build_full_trainset()"
   ]
  },
  {
   "cell_type": "code",
   "execution_count": 16,
   "id": "identical-attitude",
   "metadata": {},
   "outputs": [
    {
     "data": {
      "text/plain": [
       "<surprise.prediction_algorithms.matrix_factorization.SVD at 0x7fd65a8b1438>"
      ]
     },
     "execution_count": 16,
     "metadata": {},
     "output_type": "execute_result"
    }
   ],
   "source": [
    "algo.fit(trainset)"
   ]
  },
  {
   "cell_type": "code",
   "execution_count": 10,
   "id": "comfortable-favor",
   "metadata": {},
   "outputs": [
    {
     "ename": "NameError",
     "evalue": "name 'algo' is not defined",
     "output_type": "error",
     "traceback": [
      "\u001b[0;31m---------------------------------------------------------------------------\u001b[0m",
      "\u001b[0;31mNameError\u001b[0m                                 Traceback (most recent call last)",
      "\u001b[0;32m<ipython-input-10-ba132c3c18da>\u001b[0m in \u001b[0;36m<module>\u001b[0;34m\u001b[0m\n\u001b[1;32m      1\u001b[0m \u001b[0;31m# Dump algorithm and reload it.\u001b[0m\u001b[0;34m\u001b[0m\u001b[0;34m\u001b[0m\u001b[0;34m\u001b[0m\u001b[0m\n\u001b[1;32m      2\u001b[0m \u001b[0mfile_name\u001b[0m \u001b[0;34m=\u001b[0m \u001b[0mos\u001b[0m\u001b[0;34m.\u001b[0m\u001b[0mpath\u001b[0m\u001b[0;34m.\u001b[0m\u001b[0mexpanduser\u001b[0m\u001b[0;34m(\u001b[0m\u001b[0;34m'dump_file'\u001b[0m\u001b[0;34m)\u001b[0m\u001b[0;34m\u001b[0m\u001b[0;34m\u001b[0m\u001b[0m\n\u001b[0;32m----> 3\u001b[0;31m \u001b[0mdump\u001b[0m\u001b[0;34m.\u001b[0m\u001b[0mdump\u001b[0m\u001b[0;34m(\u001b[0m\u001b[0mfile_name\u001b[0m\u001b[0;34m,\u001b[0m \u001b[0malgo\u001b[0m\u001b[0;34m=\u001b[0m\u001b[0malgo\u001b[0m\u001b[0;34m)\u001b[0m\u001b[0;34m\u001b[0m\u001b[0;34m\u001b[0m\u001b[0m\n\u001b[0m\u001b[1;32m      4\u001b[0m \u001b[0m_\u001b[0m\u001b[0;34m,\u001b[0m \u001b[0mloaded_algo\u001b[0m \u001b[0;34m=\u001b[0m \u001b[0mdump\u001b[0m\u001b[0;34m.\u001b[0m\u001b[0mload\u001b[0m\u001b[0;34m(\u001b[0m\u001b[0mfile_name\u001b[0m\u001b[0;34m)\u001b[0m\u001b[0;34m\u001b[0m\u001b[0;34m\u001b[0m\u001b[0m\n",
      "\u001b[0;31mNameError\u001b[0m: name 'algo' is not defined"
     ]
    }
   ],
   "source": [
    "# Dump algorithm and reload it.\n",
    "file_name = os.path.expanduser('dump_file')\n",
    "dump.dump(file_name, algo=algo)\n"
   ]
  },
  {
   "cell_type": "code",
   "execution_count": 11,
   "id": "rough-longer",
   "metadata": {},
   "outputs": [],
   "source": [
    "_, loaded_algo = dump.load(file_name)"
   ]
  },
  {
   "cell_type": "code",
   "execution_count": 72,
   "id": "subsequent-profit",
   "metadata": {},
   "outputs": [],
   "source": [
    "# Randomly select 10 USER Ids\n",
    "unique_user_ids = vegas_reviews['user_id'].unique()\n",
    "select_user_list = random.choices(unique_user_ids,k = 10)\n"
   ]
  },
  {
   "cell_type": "code",
   "execution_count": 7,
   "id": "enormous-scope",
   "metadata": {},
   "outputs": [
    {
     "data": {
      "text/plain": [
       "['bLbSNkLggFnqwNNzzq-Ijw',\n",
       " 'tH0uKD-vNwMoEc3Xk3Cbdg',\n",
       " 'YE54kKTuqJJPNYWIKIpOEQ',\n",
       " 'o68A_3bAJTge-ioGXHdxKA',\n",
       " 'DoRCeCcJbrsM2BiAKj3trA',\n",
       " 'Mfmx6DSGOrJjr4jeWmqCuw',\n",
       " 'vWP8-aQX0rYJszqkWVL7Ew',\n",
       " 'wXZS42D0L8hoCiSh2Krc_A',\n",
       " 'NrpzAH3EoNhWUR8OysUhBQ',\n",
       " 'lQGJcwX105k17081f6pulg']"
      ]
     },
     "execution_count": 7,
     "metadata": {},
     "output_type": "execute_result"
    }
   ],
   "source": []
  },
  {
   "cell_type": "code",
   "execution_count": 9,
   "id": "textile-cassette",
   "metadata": {},
   "outputs": [
    {
     "data": {
      "text/plain": [
       "['bLbSNkLggFnqwNNzzq-Ijw',\n",
       " 'B1829_hxXSEpDPEDJtYeIw',\n",
       " 'keBv05MsMFBd0Hu98vXThQ',\n",
       " '_7PfR6Tvh2xTbiVi1GELoQ',\n",
       " 'WM7MFrRP-7YFuGBAJ6quRQ',\n",
       " 'rt3PC7WCgCKsoufmQJELfw',\n",
       " 'aWXGwath_dSGPwNdFiy9BQ',\n",
       " '5wT0vDycEzgq95yVCZ60Aw',\n",
       " 'Q7IoE5m2heQKThuVq3SYFA',\n",
       " 'RQlnSCjuqMnhR3Qk6j4KoA']"
      ]
     },
     "execution_count": 9,
     "metadata": {},
     "output_type": "execute_result"
    }
   ],
   "source": [
    "custom = vegas_reviews['user_id'].value_counts()[:100].index.tolist()\n",
    "custom_user_list = [custom[i] for i in range(0,len(custom),10)]\n",
    "custom_user_list"
   ]
  },
  {
   "cell_type": "code",
   "execution_count": 15,
   "id": "occasional-attention",
   "metadata": {},
   "outputs": [],
   "source": [
    "vegas_small = vegas_reviews[vegas_reviews['user_id'].isin(custom_user_list)]\n",
    "data_small = Dataset.load_from_df(vegas_small[['user_id', 'business_id', 'stars']], reader)"
   ]
  },
  {
   "cell_type": "code",
   "execution_count": 16,
   "id": "incident-mumbai",
   "metadata": {},
   "outputs": [],
   "source": [
    "# Retrieve the smaller trainset.\n",
    "trainset_small = data_small.build_full_trainset()"
   ]
  },
  {
   "cell_type": "code",
   "execution_count": 17,
   "id": "administrative-enemy",
   "metadata": {},
   "outputs": [],
   "source": [
    "# Than predict ratings for all pairs (u, i) that are NOT in the training set.\n",
    "testset = trainset_small.build_anti_testset()\n",
    "#predictions = loaded_algo.test(testset)\n",
    "loaded_predictions = loaded_algo.test(testset)"
   ]
  },
  {
   "cell_type": "code",
   "execution_count": 18,
   "id": "confused-sheriff",
   "metadata": {},
   "outputs": [],
   "source": [
    "# Function for the top-10 recommendations for a user\n",
    "from collections import defaultdict\n",
    "def get_top_n(predictions, n=10):\n",
    "    \"\"\"Return the top-N recommendation for each user from a set of predictions.\n",
    "\n",
    "    Args:\n",
    "        predictions(list of Prediction objects): The list of predictions, as\n",
    "            returned by the test method of an algorithm.\n",
    "        n(int): The number of recommendation to output for each user. Default\n",
    "            is 10.\n",
    "\n",
    "    Returns:\n",
    "    A dict where keys are user (raw) ids and values are lists of tuples:\n",
    "        [(raw item id, rating estimation), ...] of size n.\n",
    "    \"\"\"\n",
    "\n",
    "    # First map the predictions to each user.\n",
    "    top_n = defaultdict(list)\n",
    "    for uid, iid, true_r, est, _ in predictions:\n",
    "        top_n[uid].append((iid, est))\n",
    "\n",
    "    # Then sort the predictions for each user and retrieve the k highest ones.\n",
    "    for uid, user_ratings in top_n.items():\n",
    "        user_ratings.sort(key=lambda x: x[1], reverse=True)\n",
    "        top_n[uid] = user_ratings[:n]\n",
    "\n",
    "    return top_n"
   ]
  },
  {
   "cell_type": "code",
   "execution_count": 20,
   "id": "blank-wrapping",
   "metadata": {},
   "outputs": [
    {
     "name": "stdout",
     "output_type": "stream",
     "text": [
      "For the user id bLbSNkLggFnqwNNzzq-Ijw:\n",
      "Rest ID: 3pSUr_cdrphurO6m1HMP9A| Rating: 4.168396808600322\n",
      "Rest ID: nKph91qATrPCbJ-QwZjDZw| Rating: 4.106289634554573\n",
      "Rest ID: OMRYQihVjqqzjoNoQgyhgQ| Rating: 4.070132479173685\n",
      "Rest ID: Ef5P6C2yHAv08FPif5Rdtg| Rating: 4.053395792888882\n",
      "Rest ID: sVjL9DQ8hYW_pS-jprYLgg| Rating: 4.017729613410831\n",
      "Rest ID: aS1qJzTGyluRT2tJ09Jbaw| Rating: 4.001651665811226\n",
      "Rest ID: 296PZdxSrtH08EUwCsOKMw| Rating: 3.990121864528656\n",
      "Rest ID: l3joBBpkq0ib11dKUpKMAw| Rating: 3.9874022498712947\n",
      "Rest ID: SEMvJDVnDB4NoPW6tXXO_Q| Rating: 3.958284504633101\n",
      "Rest ID: cZO6RmJcqRY9jGbYY71z-A| Rating: 3.9389509845958353\n",
      "------------------------------------------------------------------------\n",
      "For the user id B1829_hxXSEpDPEDJtYeIw:\n",
      "Rest ID: vOMDU31gdylrzBhAKC9QbA| Rating: 4.392461230617754\n",
      "Rest ID: B-9IuVXitKKwXj0fXUxczQ| Rating: 4.388845494036167\n",
      "Rest ID: G4hjhtA_wQ-tSOGpgGlDjw| Rating: 4.381008218239597\n",
      "Rest ID: cePE3rCuUOVSCCAHSjWxoQ| Rating: 4.363797002689774\n",
      "Rest ID: cOqd9ou3uf-1k3OWFo-_CQ| Rating: 4.3570076356655525\n",
      "Rest ID: Jjwa-WCK73efAwVZRksWSw| Rating: 4.343923961494769\n",
      "Rest ID: 8fFTJBh0RB2EKG53ibiBKw| Rating: 4.338407372490271\n",
      "Rest ID: 9P23-V64kYz3trn9ecaJJA| Rating: 4.337357798679613\n",
      "Rest ID: iX2c4IzH_L5F6FM5GD3SUQ| Rating: 4.334855041558612\n",
      "Rest ID: L1-1P3acJc4gEFvWwjXcNQ| Rating: 4.295876148004342\n",
      "------------------------------------------------------------------------\n",
      "For the user id keBv05MsMFBd0Hu98vXThQ:\n",
      "Rest ID: Gdv3qhsDeQzZ2Ag-Tzq6vA| Rating:   5\n",
      "Rest ID: eaNenRk_liZBERFFLCXqqQ| Rating:   5\n",
      "Rest ID: IhNASEZ3XnBHmuuVnWdIwA| Rating:   5\n",
      "Rest ID: Ef5P6C2yHAv08FPif5Rdtg| Rating:   5\n",
      "Rest ID: hihud--QRriCYZw1zZvW4g| Rating:   5\n",
      "Rest ID: WCFz9KVJTtIXSVvD5NMYoQ| Rating:   5\n",
      "Rest ID: wkKlpSx3OcoGJiv7p8VZzw| Rating:   5\n",
      "Rest ID: ufmokEGxGqEWIdvIVsNg_Q| Rating:   5\n",
      "Rest ID: 0XEqyl_lVaJNHRKxNcjJZg| Rating:   5\n",
      "Rest ID: uh7DUWtPoZkuEE05fghJ_w| Rating:   5\n",
      "------------------------------------------------------------------------\n",
      "For the user id _7PfR6Tvh2xTbiVi1GELoQ:\n",
      "Rest ID: IhNASEZ3XnBHmuuVnWdIwA| Rating: 4.356295705194958\n",
      "Rest ID: B-9IuVXitKKwXj0fXUxczQ| Rating: 4.342654607363801\n",
      "Rest ID: vOMDU31gdylrzBhAKC9QbA| Rating: 4.337904947062115\n",
      "Rest ID: cePE3rCuUOVSCCAHSjWxoQ| Rating: 4.3275551809616335\n",
      "Rest ID: cOqd9ou3uf-1k3OWFo-_CQ| Rating: 4.320591370577965\n",
      "Rest ID: Jjwa-WCK73efAwVZRksWSw| Rating: 4.3087549246242345\n",
      "Rest ID: iX2c4IzH_L5F6FM5GD3SUQ| Rating: 4.3057440163319916\n",
      "Rest ID: 8fFTJBh0RB2EKG53ibiBKw| Rating: 4.3053583214214655\n",
      "Rest ID: 9P23-V64kYz3trn9ecaJJA| Rating: 4.303788573319134\n",
      "Rest ID: QjbxHoNfK3CjSWpGPeQLEQ| Rating: 4.285725801989428\n",
      "------------------------------------------------------------------------\n",
      "For the user id WM7MFrRP-7YFuGBAJ6quRQ:\n",
      "Rest ID: IhNASEZ3XnBHmuuVnWdIwA| Rating: 4.8732849090360055\n",
      "Rest ID: vOMDU31gdylrzBhAKC9QbA| Rating: 4.859870725344277\n",
      "Rest ID: B-9IuVXitKKwXj0fXUxczQ| Rating: 4.838545138518011\n",
      "Rest ID: cOqd9ou3uf-1k3OWFo-_CQ| Rating: 4.8352047329340255\n",
      "Rest ID: 9P23-V64kYz3trn9ecaJJA| Rating: 4.821898937510595\n",
      "Rest ID: iX2c4IzH_L5F6FM5GD3SUQ| Rating: 4.816559899511647\n",
      "Rest ID: 3pSUr_cdrphurO6m1HMP9A| Rating: 4.813371997715766\n",
      "Rest ID: wWuGa3OOQJro_XGe-GKBXA| Rating: 4.811574277230934\n",
      "Rest ID: 8fFTJBh0RB2EKG53ibiBKw| Rating: 4.809338961994026\n",
      "Rest ID: L1-1P3acJc4gEFvWwjXcNQ| Rating: 4.780233790470108\n",
      "------------------------------------------------------------------------\n",
      "For the user id rt3PC7WCgCKsoufmQJELfw:\n",
      "Rest ID: IhNASEZ3XnBHmuuVnWdIwA| Rating: 4.626389813138716\n",
      "Rest ID: vOMDU31gdylrzBhAKC9QbA| Rating: 4.618475917404384\n",
      "Rest ID: G4hjhtA_wQ-tSOGpgGlDjw| Rating: 4.602153800196612\n",
      "Rest ID: B-9IuVXitKKwXj0fXUxczQ| Rating: 4.594896987400093\n",
      "Rest ID: cePE3rCuUOVSCCAHSjWxoQ| Rating: 4.590658574272068\n",
      "Rest ID: 9P23-V64kYz3trn9ecaJJA| Rating: 4.585518926168948\n",
      "Rest ID: 8fFTJBh0RB2EKG53ibiBKw| Rating: 4.583879469760255\n",
      "Rest ID: Jjwa-WCK73efAwVZRksWSw| Rating: 4.580077620128389\n",
      "Rest ID: cOqd9ou3uf-1k3OWFo-_CQ| Rating: 4.571073732981466\n",
      "Rest ID: iX2c4IzH_L5F6FM5GD3SUQ| Rating: 4.56767974416517\n",
      "------------------------------------------------------------------------\n",
      "For the user id aWXGwath_dSGPwNdFiy9BQ:\n",
      "Rest ID: B-9IuVXitKKwXj0fXUxczQ| Rating: 4.647136290442203\n",
      "Rest ID: G4hjhtA_wQ-tSOGpgGlDjw| Rating: 4.618262604180579\n",
      "Rest ID: cOqd9ou3uf-1k3OWFo-_CQ| Rating: 4.616854300021042\n",
      "Rest ID: cePE3rCuUOVSCCAHSjWxoQ| Rating: 4.610916538145475\n",
      "Rest ID: Jjwa-WCK73efAwVZRksWSw| Rating: 4.610145002014615\n",
      "Rest ID: vOMDU31gdylrzBhAKC9QbA| Rating: 4.610059201259932\n",
      "Rest ID: 9P23-V64kYz3trn9ecaJJA| Rating: 4.6019185438125705\n",
      "Rest ID: 8fFTJBh0RB2EKG53ibiBKw| Rating: 4.596699579675418\n",
      "Rest ID: iX2c4IzH_L5F6FM5GD3SUQ| Rating: 4.593673785312846\n",
      "Rest ID: 3pSUr_cdrphurO6m1HMP9A| Rating: 4.583214226353558\n",
      "------------------------------------------------------------------------\n",
      "For the user id 5wT0vDycEzgq95yVCZ60Aw:\n",
      "Rest ID: vOMDU31gdylrzBhAKC9QbA| Rating: 4.3609816430000565\n",
      "Rest ID: B-9IuVXitKKwXj0fXUxczQ| Rating: 4.341786390891269\n",
      "Rest ID: G4hjhtA_wQ-tSOGpgGlDjw| Rating: 4.334252431528604\n",
      "Rest ID: cePE3rCuUOVSCCAHSjWxoQ| Rating: 4.324895907894568\n",
      "Rest ID: cOqd9ou3uf-1k3OWFo-_CQ| Rating: 4.32177180899274\n",
      "Rest ID: 8fFTJBh0RB2EKG53ibiBKw| Rating: 4.319563353868493\n",
      "Rest ID: iX2c4IzH_L5F6FM5GD3SUQ| Rating: 4.31460723002375\n",
      "Rest ID: wWuGa3OOQJro_XGe-GKBXA| Rating: 4.3110391225666085\n",
      "Rest ID: Jjwa-WCK73efAwVZRksWSw| Rating: 4.3089450233788025\n",
      "Rest ID: 3pSUr_cdrphurO6m1HMP9A| Rating: 4.296097698389847\n",
      "------------------------------------------------------------------------\n",
      "For the user id Q7IoE5m2heQKThuVq3SYFA:\n",
      "Rest ID: IhNASEZ3XnBHmuuVnWdIwA| Rating: 4.5904921733462\n",
      "Rest ID: B-9IuVXitKKwXj0fXUxczQ| Rating: 4.577570768800541\n",
      "Rest ID: G4hjhtA_wQ-tSOGpgGlDjw| Rating: 4.57020219549937\n",
      "Rest ID: vOMDU31gdylrzBhAKC9QbA| Rating: 4.569959169993705\n",
      "Rest ID: cePE3rCuUOVSCCAHSjWxoQ| Rating: 4.554445761493793\n",
      "Rest ID: iX2c4IzH_L5F6FM5GD3SUQ| Rating: 4.546540012472691\n",
      "Rest ID: 9P23-V64kYz3trn9ecaJJA| Rating: 4.545684401891362\n",
      "Rest ID: cOqd9ou3uf-1k3OWFo-_CQ| Rating: 4.541509634618061\n",
      "Rest ID: 8fFTJBh0RB2EKG53ibiBKw| Rating: 4.53193897124181\n",
      "Rest ID: Jjwa-WCK73efAwVZRksWSw| Rating: 4.5253583498394585\n",
      "------------------------------------------------------------------------\n",
      "For the user id RQlnSCjuqMnhR3Qk6j4KoA:\n",
      "Rest ID: IhNASEZ3XnBHmuuVnWdIwA| Rating: 4.599583790203805\n",
      "Rest ID: B-9IuVXitKKwXj0fXUxczQ| Rating: 4.59129019662023\n",
      "Rest ID: vOMDU31gdylrzBhAKC9QbA| Rating: 4.589609257290683\n",
      "Rest ID: G4hjhtA_wQ-tSOGpgGlDjw| Rating: 4.578236152421427\n",
      "Rest ID: Jjwa-WCK73efAwVZRksWSw| Rating: 4.5685404153570826\n",
      "Rest ID: cePE3rCuUOVSCCAHSjWxoQ| Rating: 4.5617485802763085\n",
      "Rest ID: 8fFTJBh0RB2EKG53ibiBKw| Rating: 4.55564185108419\n",
      "Rest ID: cOqd9ou3uf-1k3OWFo-_CQ| Rating: 4.554179278400472\n",
      "Rest ID: iX2c4IzH_L5F6FM5GD3SUQ| Rating: 4.551245750979146\n",
      "Rest ID: wWuGa3OOQJro_XGe-GKBXA| Rating: 4.548011117105077\n",
      "------------------------------------------------------------------------\n"
     ]
    }
   ],
   "source": [
    "#Top 10 recommendations for the randomly chosen 10 user ids\n",
    "top_n = get_top_n(loaded_predictions, n=10)\n",
    "for i in range(len(custom_user_list)):\n",
    "    \n",
    "    usr_id = custom_user_list[i] \n",
    "    top_recommendations = top_n[usr_id]\n",
    "    print(f'For the user id {usr_id}:')\n",
    "    for rest in top_recommendations:\n",
    "        print(f'Rest ID: {rest[0]:3}| Rating: {rest[1]:3}')\n",
    "    print('------'*12)\n",
    "        "
   ]
  },
  {
   "cell_type": "code",
   "execution_count": 21,
   "id": "entitled-thursday",
   "metadata": {},
   "outputs": [],
   "source": [
    "# Dumping the top 10 user recommendations in a json file\n",
    "with open('rec.json', 'w') as fp:\n",
    "    json.dump(top_n, fp)"
   ]
  },
  {
   "cell_type": "markdown",
   "id": "afraid-portable",
   "metadata": {},
   "source": [
    "## All the top predictions for a select-few have been saved in rec.json"
   ]
  },
  {
   "cell_type": "code",
   "execution_count": null,
   "id": "according-apartment",
   "metadata": {},
   "outputs": [],
   "source": []
  }
 ],
 "metadata": {
  "kernelspec": {
   "display_name": "flask_env",
   "language": "python",
   "name": "flask_env"
  },
  "language_info": {
   "codemirror_mode": {
    "name": "ipython",
    "version": 3
   },
   "file_extension": ".py",
   "mimetype": "text/x-python",
   "name": "python",
   "nbconvert_exporter": "python",
   "pygments_lexer": "ipython3",
   "version": "3.6.12"
  }
 },
 "nbformat": 4,
 "nbformat_minor": 5
}
