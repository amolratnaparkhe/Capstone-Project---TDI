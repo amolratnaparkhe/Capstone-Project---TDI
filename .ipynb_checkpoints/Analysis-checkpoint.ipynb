{
 "cells": [
  {
   "cell_type": "code",
   "execution_count": 1,
   "metadata": {},
   "outputs": [],
   "source": [
    "import re\n",
    "import string\n",
    "from nltk.corpus import stopwords\n",
    "from nltk.stem.porter import PorterStemmer\n",
    "from nltk.stem import WordNetLemmatizer\n",
    "from collections import Counter"
   ]
  },
  {
   "cell_type": "code",
   "execution_count": 2,
   "metadata": {},
   "outputs": [
    {
     "name": "stderr",
     "output_type": "stream",
     "text": [
      "\n",
      "Bad key savefig.frameon in file /Users/axr524/opt/anaconda3/envs/nlp_course/lib/python3.7/site-packages/matplotlib/mpl-data/stylelib/_classic_test.mplstyle, line 421 ('savefig.frameon : True')\n",
      "You probably need to get an updated matplotlibrc file from\n",
      "https://github.com/matplotlib/matplotlib/blob/v3.3.2/matplotlibrc.template\n",
      "or from the matplotlib source distribution\n",
      "\n",
      "Bad key verbose.level in file /Users/axr524/opt/anaconda3/envs/nlp_course/lib/python3.7/site-packages/matplotlib/mpl-data/stylelib/_classic_test.mplstyle, line 472 ('verbose.level  : silent      # one of silent, helpful, debug, debug-annoying')\n",
      "You probably need to get an updated matplotlibrc file from\n",
      "https://github.com/matplotlib/matplotlib/blob/v3.3.2/matplotlibrc.template\n",
      "or from the matplotlib source distribution\n",
      "\n",
      "Bad key verbose.fileo in file /Users/axr524/opt/anaconda3/envs/nlp_course/lib/python3.7/site-packages/matplotlib/mpl-data/stylelib/_classic_test.mplstyle, line 473 ('verbose.fileo  : sys.stdout  # a log filename, sys.stdout or sys.stderr')\n",
      "You probably need to get an updated matplotlibrc file from\n",
      "https://github.com/matplotlib/matplotlib/blob/v3.3.2/matplotlibrc.template\n",
      "or from the matplotlib source distribution\n",
      "In /Users/axr524/opt/anaconda3/envs/nlp_course/lib/python3.7/site-packages/matplotlib/mpl-data/stylelib/_classic_test.mplstyle: \n",
      "The text.latex.preview rcparam was deprecated in Matplotlib 3.3 and will be removed two minor releases later.\n",
      "In /Users/axr524/opt/anaconda3/envs/nlp_course/lib/python3.7/site-packages/matplotlib/mpl-data/stylelib/_classic_test.mplstyle: \n",
      "The mathtext.fallback_to_cm rcparam was deprecated in Matplotlib 3.3 and will be removed two minor releases later.\n",
      "In /Users/axr524/opt/anaconda3/envs/nlp_course/lib/python3.7/site-packages/matplotlib/mpl-data/stylelib/_classic_test.mplstyle: Support for setting the 'mathtext.fallback_to_cm' rcParam is deprecated since 3.3 and will be removed two minor releases later; use 'mathtext.fallback : 'cm' instead.\n",
      "In /Users/axr524/opt/anaconda3/envs/nlp_course/lib/python3.7/site-packages/matplotlib/mpl-data/stylelib/_classic_test.mplstyle: \n",
      "The validate_bool_maybe_none function was deprecated in Matplotlib 3.3 and will be removed two minor releases later.\n",
      "In /Users/axr524/opt/anaconda3/envs/nlp_course/lib/python3.7/site-packages/matplotlib/mpl-data/stylelib/_classic_test.mplstyle: \n",
      "The savefig.jpeg_quality rcparam was deprecated in Matplotlib 3.3 and will be removed two minor releases later.\n",
      "In /Users/axr524/opt/anaconda3/envs/nlp_course/lib/python3.7/site-packages/matplotlib/mpl-data/stylelib/_classic_test.mplstyle: \n",
      "The keymap.all_axes rcparam was deprecated in Matplotlib 3.3 and will be removed two minor releases later.\n",
      "In /Users/axr524/opt/anaconda3/envs/nlp_course/lib/python3.7/site-packages/matplotlib/mpl-data/stylelib/_classic_test.mplstyle: \n",
      "The animation.avconv_path rcparam was deprecated in Matplotlib 3.3 and will be removed two minor releases later.\n",
      "In /Users/axr524/opt/anaconda3/envs/nlp_course/lib/python3.7/site-packages/matplotlib/mpl-data/stylelib/_classic_test.mplstyle: \n",
      "The animation.avconv_args rcparam was deprecated in Matplotlib 3.3 and will be removed two minor releases later.\n"
     ]
    }
   ],
   "source": [
    "import numpy as np\n",
    "import pandas as pd\n",
    "import matplotlib.pyplot as plt\n",
    "import seaborn as sns\n",
    "sns.set()\n",
    "import pickle\n",
    "import spacy\n",
    "nlp_large = spacy.load('en_core_web_lg')\n",
    "from wordcloud import WordCloud\n",
    "import textacy\n",
    "from sklearn.feature_extraction.text import CountVectorizer, TfidfVectorizer\n",
    "import scipy"
   ]
  },
  {
   "cell_type": "code",
   "execution_count": 3,
   "metadata": {},
   "outputs": [],
   "source": [
    "with open('ohio_restaurants.pkl','rb') as f:\n",
    "    ohio_restaurants = pickle.load(f)\n",
    "with open('imp_ohio_reviews.pkl','rb') as f:\n",
    "    imp_ohio_reviews = pickle.load(f)"
   ]
  },
  {
   "cell_type": "code",
   "execution_count": 4,
   "metadata": {},
   "outputs": [
    {
     "data": {
      "text/html": [
       "<div>\n",
       "<style scoped>\n",
       "    .dataframe tbody tr th:only-of-type {\n",
       "        vertical-align: middle;\n",
       "    }\n",
       "\n",
       "    .dataframe tbody tr th {\n",
       "        vertical-align: top;\n",
       "    }\n",
       "\n",
       "    .dataframe thead th {\n",
       "        text-align: right;\n",
       "    }\n",
       "</style>\n",
       "<table border=\"1\" class=\"dataframe\">\n",
       "  <thead>\n",
       "    <tr style=\"text-align: right;\">\n",
       "      <th></th>\n",
       "      <th>business_id</th>\n",
       "      <th>name</th>\n",
       "      <th>address</th>\n",
       "      <th>city</th>\n",
       "      <th>state</th>\n",
       "      <th>postal_code</th>\n",
       "      <th>latitude</th>\n",
       "      <th>longitude</th>\n",
       "      <th>stars</th>\n",
       "      <th>review_count</th>\n",
       "      <th>is_open</th>\n",
       "      <th>attributes</th>\n",
       "      <th>categories</th>\n",
       "      <th>hours</th>\n",
       "      <th>sep_categories</th>\n",
       "    </tr>\n",
       "  </thead>\n",
       "  <tbody>\n",
       "    <tr>\n",
       "      <th>83</th>\n",
       "      <td>7j0kor_fkeYhyEpXh4OpnQ</td>\n",
       "      <td>Scramblers - Strongsville</td>\n",
       "      <td>16726 Pearl Rd</td>\n",
       "      <td>Strongsville</td>\n",
       "      <td>OH</td>\n",
       "      <td>44136</td>\n",
       "      <td>41.295689</td>\n",
       "      <td>-81.835722</td>\n",
       "      <td>3.5</td>\n",
       "      <td>81</td>\n",
       "      <td>1</td>\n",
       "      <td>{'BusinessAcceptsCreditCards': 'True', 'Ambien...</td>\n",
       "      <td>Breakfast &amp; Brunch, Restaurants, American (Tra...</td>\n",
       "      <td>{'Monday': '6:30-15:0', 'Tuesday': '6:30-15:0'...</td>\n",
       "      <td>[Breakfast &amp; Brunch, Restaurants, American (Tr...</td>\n",
       "    </tr>\n",
       "    <tr>\n",
       "      <th>115</th>\n",
       "      <td>8Hvp1tYKiQbBgGIwkCRK5g</td>\n",
       "      <td>Tony's Family Restaurant</td>\n",
       "      <td>1515 W Pleasant Valley Rd</td>\n",
       "      <td>Parma</td>\n",
       "      <td>OH</td>\n",
       "      <td>44134</td>\n",
       "      <td>41.361185</td>\n",
       "      <td>-81.688755</td>\n",
       "      <td>4.0</td>\n",
       "      <td>60</td>\n",
       "      <td>1</td>\n",
       "      <td>{'OutdoorSeating': 'False', 'RestaurantsReserv...</td>\n",
       "      <td>Coffee &amp; Tea, Restaurants, Food, Breakfast &amp; B...</td>\n",
       "      <td>{'Monday': '6:0-21:0', 'Tuesday': '6:0-21:0', ...</td>\n",
       "      <td>[Coffee &amp; Tea, Restaurants, Food, Breakfast &amp; ...</td>\n",
       "    </tr>\n",
       "    <tr>\n",
       "      <th>433</th>\n",
       "      <td>owV0aSgh4t_9aG56iPxGEw</td>\n",
       "      <td>Panda Express</td>\n",
       "      <td>6895 Ridge Rd</td>\n",
       "      <td>Parma</td>\n",
       "      <td>OH</td>\n",
       "      <td>44129</td>\n",
       "      <td>41.378045</td>\n",
       "      <td>-81.734138</td>\n",
       "      <td>2.5</td>\n",
       "      <td>57</td>\n",
       "      <td>1</td>\n",
       "      <td>{'RestaurantsTableService': 'False', 'Restaura...</td>\n",
       "      <td>Chinese, Fast Food, Restaurants</td>\n",
       "      <td>{'Monday': '10:30-21:30', 'Tuesday': '10:30-21...</td>\n",
       "      <td>[Chinese, Fast Food, Restaurants]</td>\n",
       "    </tr>\n",
       "    <tr>\n",
       "      <th>492</th>\n",
       "      <td>Ra5fI9BEAuWWaLJSfkiCiQ</td>\n",
       "      <td>White Oaks</td>\n",
       "      <td>777 Cahoon Rd</td>\n",
       "      <td>Westlake</td>\n",
       "      <td>OH</td>\n",
       "      <td>44145</td>\n",
       "      <td>41.475638</td>\n",
       "      <td>-81.924795</td>\n",
       "      <td>3.5</td>\n",
       "      <td>143</td>\n",
       "      <td>1</td>\n",
       "      <td>{'GoodForKids': 'False', 'RestaurantsReservati...</td>\n",
       "      <td>Mediterranean, Salad, Seafood, American (New),...</td>\n",
       "      <td>{'Monday': '17:0-22:0', 'Tuesday': '17:0-22:0'...</td>\n",
       "      <td>[Mediterranean, Salad, Seafood, American (New)...</td>\n",
       "    </tr>\n",
       "    <tr>\n",
       "      <th>577</th>\n",
       "      <td>ErxACeMyF4hSQyGhpEt4Tw</td>\n",
       "      <td>Peppermint Thai Cuisine</td>\n",
       "      <td>30769 Pinetree Rd</td>\n",
       "      <td>Pepper Pike</td>\n",
       "      <td>OH</td>\n",
       "      <td>44124</td>\n",
       "      <td>41.462942</td>\n",
       "      <td>-81.461824</td>\n",
       "      <td>4.0</td>\n",
       "      <td>217</td>\n",
       "      <td>1</td>\n",
       "      <td>{'OutdoorSeating': 'False', 'RestaurantsTakeOu...</td>\n",
       "      <td>Restaurants, Thai</td>\n",
       "      <td>{'Tuesday': '17:0-21:30', 'Wednesday': '17:0-2...</td>\n",
       "      <td>[Restaurants, Thai]</td>\n",
       "    </tr>\n",
       "  </tbody>\n",
       "</table>\n",
       "</div>"
      ],
      "text/plain": [
       "                business_id                       name  \\\n",
       "83   7j0kor_fkeYhyEpXh4OpnQ  Scramblers - Strongsville   \n",
       "115  8Hvp1tYKiQbBgGIwkCRK5g   Tony's Family Restaurant   \n",
       "433  owV0aSgh4t_9aG56iPxGEw              Panda Express   \n",
       "492  Ra5fI9BEAuWWaLJSfkiCiQ                 White Oaks   \n",
       "577  ErxACeMyF4hSQyGhpEt4Tw    Peppermint Thai Cuisine   \n",
       "\n",
       "                       address          city state postal_code   latitude  \\\n",
       "83              16726 Pearl Rd  Strongsville    OH       44136  41.295689   \n",
       "115  1515 W Pleasant Valley Rd         Parma    OH       44134  41.361185   \n",
       "433              6895 Ridge Rd         Parma    OH       44129  41.378045   \n",
       "492              777 Cahoon Rd      Westlake    OH       44145  41.475638   \n",
       "577          30769 Pinetree Rd   Pepper Pike    OH       44124  41.462942   \n",
       "\n",
       "     longitude  stars  review_count  is_open  \\\n",
       "83  -81.835722    3.5            81        1   \n",
       "115 -81.688755    4.0            60        1   \n",
       "433 -81.734138    2.5            57        1   \n",
       "492 -81.924795    3.5           143        1   \n",
       "577 -81.461824    4.0           217        1   \n",
       "\n",
       "                                            attributes  \\\n",
       "83   {'BusinessAcceptsCreditCards': 'True', 'Ambien...   \n",
       "115  {'OutdoorSeating': 'False', 'RestaurantsReserv...   \n",
       "433  {'RestaurantsTableService': 'False', 'Restaura...   \n",
       "492  {'GoodForKids': 'False', 'RestaurantsReservati...   \n",
       "577  {'OutdoorSeating': 'False', 'RestaurantsTakeOu...   \n",
       "\n",
       "                                            categories  \\\n",
       "83   Breakfast & Brunch, Restaurants, American (Tra...   \n",
       "115  Coffee & Tea, Restaurants, Food, Breakfast & B...   \n",
       "433                    Chinese, Fast Food, Restaurants   \n",
       "492  Mediterranean, Salad, Seafood, American (New),...   \n",
       "577                                  Restaurants, Thai   \n",
       "\n",
       "                                                 hours  \\\n",
       "83   {'Monday': '6:30-15:0', 'Tuesday': '6:30-15:0'...   \n",
       "115  {'Monday': '6:0-21:0', 'Tuesday': '6:0-21:0', ...   \n",
       "433  {'Monday': '10:30-21:30', 'Tuesday': '10:30-21...   \n",
       "492  {'Monday': '17:0-22:0', 'Tuesday': '17:0-22:0'...   \n",
       "577  {'Tuesday': '17:0-21:30', 'Wednesday': '17:0-2...   \n",
       "\n",
       "                                        sep_categories  \n",
       "83   [Breakfast & Brunch, Restaurants, American (Tr...  \n",
       "115  [Coffee & Tea, Restaurants, Food, Breakfast & ...  \n",
       "433                  [Chinese, Fast Food, Restaurants]  \n",
       "492  [Mediterranean, Salad, Seafood, American (New)...  \n",
       "577                                [Restaurants, Thai]  "
      ]
     },
     "execution_count": 4,
     "metadata": {},
     "output_type": "execute_result"
    }
   ],
   "source": [
    "ohio_restaurants.head()"
   ]
  },
  {
   "cell_type": "code",
   "execution_count": 5,
   "metadata": {},
   "outputs": [
    {
     "data": {
      "text/html": [
       "<div>\n",
       "<style scoped>\n",
       "    .dataframe tbody tr th:only-of-type {\n",
       "        vertical-align: middle;\n",
       "    }\n",
       "\n",
       "    .dataframe tbody tr th {\n",
       "        vertical-align: top;\n",
       "    }\n",
       "\n",
       "    .dataframe thead th {\n",
       "        text-align: right;\n",
       "    }\n",
       "</style>\n",
       "<table border=\"1\" class=\"dataframe\">\n",
       "  <thead>\n",
       "    <tr style=\"text-align: right;\">\n",
       "      <th></th>\n",
       "      <th>review_id</th>\n",
       "      <th>user_id</th>\n",
       "      <th>business_id</th>\n",
       "      <th>stars</th>\n",
       "      <th>useful</th>\n",
       "      <th>funny</th>\n",
       "      <th>cool</th>\n",
       "      <th>text</th>\n",
       "      <th>date</th>\n",
       "    </tr>\n",
       "  </thead>\n",
       "  <tbody>\n",
       "    <tr>\n",
       "      <th>0</th>\n",
       "      <td>LG2ZaYiOgpr2DK_90pYjNw</td>\n",
       "      <td>V34qejxNsCbcgD8C0HVk-Q</td>\n",
       "      <td>HQl28KMwrEKHqhFrrDqVNQ</td>\n",
       "      <td>5.0</td>\n",
       "      <td>1</td>\n",
       "      <td>0</td>\n",
       "      <td>0</td>\n",
       "      <td>I love Deagan's. I do. I really do. The atmosp...</td>\n",
       "      <td>2015-12-05 03:18:11</td>\n",
       "    </tr>\n",
       "    <tr>\n",
       "      <th>1</th>\n",
       "      <td>jCza0LPv1vNU0FF-NFMWQA</td>\n",
       "      <td>V34qejxNsCbcgD8C0HVk-Q</td>\n",
       "      <td>ErxACeMyF4hSQyGhpEt4Tw</td>\n",
       "      <td>5.0</td>\n",
       "      <td>1</td>\n",
       "      <td>1</td>\n",
       "      <td>1</td>\n",
       "      <td>This is definitely one of my favorite Thai res...</td>\n",
       "      <td>2019-12-04 14:09:06</td>\n",
       "    </tr>\n",
       "    <tr>\n",
       "      <th>2</th>\n",
       "      <td>14_N-s_7TsEpzgjnXJMu9Q</td>\n",
       "      <td>V34qejxNsCbcgD8C0HVk-Q</td>\n",
       "      <td>eoJfl5vG7X87QhcKb0nt5Q</td>\n",
       "      <td>4.0</td>\n",
       "      <td>4</td>\n",
       "      <td>1</td>\n",
       "      <td>3</td>\n",
       "      <td>This is exactly what you think it will be. A h...</td>\n",
       "      <td>2014-11-27 05:28:11</td>\n",
       "    </tr>\n",
       "    <tr>\n",
       "      <th>3</th>\n",
       "      <td>eE3ekstCj5dNcBJVsbOJBw</td>\n",
       "      <td>V34qejxNsCbcgD8C0HVk-Q</td>\n",
       "      <td>VH2BjFjc9usDquDgoHhptA</td>\n",
       "      <td>4.0</td>\n",
       "      <td>2</td>\n",
       "      <td>0</td>\n",
       "      <td>2</td>\n",
       "      <td>How exciting to have another great Barrio loca...</td>\n",
       "      <td>2015-02-11 03:05:31</td>\n",
       "    </tr>\n",
       "    <tr>\n",
       "      <th>4</th>\n",
       "      <td>B6-F7JQzRIiMQpphyPR3VA</td>\n",
       "      <td>V34qejxNsCbcgD8C0HVk-Q</td>\n",
       "      <td>0youcKV6-eE3F2MQj1l6Fw</td>\n",
       "      <td>4.0</td>\n",
       "      <td>1</td>\n",
       "      <td>0</td>\n",
       "      <td>1</td>\n",
       "      <td>I attended a group event here with about 80 pe...</td>\n",
       "      <td>2014-11-08 19:11:34</td>\n",
       "    </tr>\n",
       "  </tbody>\n",
       "</table>\n",
       "</div>"
      ],
      "text/plain": [
       "                review_id                 user_id             business_id  \\\n",
       "0  LG2ZaYiOgpr2DK_90pYjNw  V34qejxNsCbcgD8C0HVk-Q  HQl28KMwrEKHqhFrrDqVNQ   \n",
       "1  jCza0LPv1vNU0FF-NFMWQA  V34qejxNsCbcgD8C0HVk-Q  ErxACeMyF4hSQyGhpEt4Tw   \n",
       "2  14_N-s_7TsEpzgjnXJMu9Q  V34qejxNsCbcgD8C0HVk-Q  eoJfl5vG7X87QhcKb0nt5Q   \n",
       "3  eE3ekstCj5dNcBJVsbOJBw  V34qejxNsCbcgD8C0HVk-Q  VH2BjFjc9usDquDgoHhptA   \n",
       "4  B6-F7JQzRIiMQpphyPR3VA  V34qejxNsCbcgD8C0HVk-Q  0youcKV6-eE3F2MQj1l6Fw   \n",
       "\n",
       "   stars  useful  funny  cool  \\\n",
       "0    5.0       1      0     0   \n",
       "1    5.0       1      1     1   \n",
       "2    4.0       4      1     3   \n",
       "3    4.0       2      0     2   \n",
       "4    4.0       1      0     1   \n",
       "\n",
       "                                                text                 date  \n",
       "0  I love Deagan's. I do. I really do. The atmosp...  2015-12-05 03:18:11  \n",
       "1  This is definitely one of my favorite Thai res...  2019-12-04 14:09:06  \n",
       "2  This is exactly what you think it will be. A h...  2014-11-27 05:28:11  \n",
       "3  How exciting to have another great Barrio loca...  2015-02-11 03:05:31  \n",
       "4  I attended a group event here with about 80 pe...  2014-11-08 19:11:34  "
      ]
     },
     "execution_count": 5,
     "metadata": {},
     "output_type": "execute_result"
    }
   ],
   "source": [
    "imp_ohio_reviews.head()"
   ]
  },
  {
   "cell_type": "code",
   "execution_count": 6,
   "metadata": {},
   "outputs": [],
   "source": [
    "categories_list = ohio_restaurants['sep_categories'].values.flatten()\n",
    "categories_list = [item for sublist in categories_list for item in sublist]"
   ]
  },
  {
   "cell_type": "code",
   "execution_count": 7,
   "metadata": {},
   "outputs": [],
   "source": [
    "corpus = [ohio_restaurants['sep_categories'].iloc[i] for i in range(len(ohio_restaurants))]\n",
    "unique_categories = sorted(list(set(categories_list)))\n"
   ]
  },
  {
   "cell_type": "code",
   "execution_count": 8,
   "metadata": {},
   "outputs": [],
   "source": [
    "m = len(unique_categories)\n",
    "n = len(corpus)"
   ]
  },
  {
   "cell_type": "code",
   "execution_count": 9,
   "metadata": {},
   "outputs": [],
   "source": [
    "dict_category = Counter()\n",
    "for item in categories_list:\n",
    "    dict_category[item] += 1"
   ]
  },
  {
   "cell_type": "code",
   "execution_count": 10,
   "metadata": {},
   "outputs": [],
   "source": [
    "dict_category_sorted = sorted(dict_category.items(),key = lambda x: x[1],reverse = True)"
   ]
  },
  {
   "cell_type": "code",
   "execution_count": 11,
   "metadata": {},
   "outputs": [],
   "source": [
    "from sklearn import base\n",
    "\n",
    "class DictEncoder(base.BaseEstimator, base.TransformerMixin):\n",
    "    \n",
    "    def __init__(self, col):\n",
    "        self.col = col\n",
    "    \n",
    "    def fit(self, X, y=None):\n",
    "        return self\n",
    "    \n",
    "    def transform(self, X):\n",
    "        \n",
    "        def to_dict(l):\n",
    "            try:\n",
    "                return {x: 1 for x in l}\n",
    "            except TypeError:\n",
    "                return {}\n",
    "        \n",
    "        return X[self.col].apply(to_dict)"
   ]
  },
  {
   "cell_type": "code",
   "execution_count": 12,
   "metadata": {},
   "outputs": [],
   "source": [
    "from collections import Counter\n",
    "# col is a list of entries\n",
    "def count_vectorizer(col):    # custom countvectorizer\n",
    "    m = len(unique_categories)\n",
    "    lst = [None] * m\n",
    "    for i in range(m):\n",
    "        if unique_categories[i] in col:\n",
    "            lst[i] = 1\n",
    "        else:    \n",
    "            lst[i] = 0\n",
    "    return lst    \n",
    "\n",
    "# Function to check how many documents in the corpus contain the word\n",
    "def idf(word):\n",
    "    count = 0\n",
    "    n = len(corpus)\n",
    "    for i in range(n):\n",
    "        if word in corpus[i]:\n",
    "            count += 1\n",
    "    return count\n",
    "\n",
    "\n",
    "def tfidf_vectorizer(col):    # custom tfidfvectorizer\n",
    "    m = len(unique_categories)\n",
    "    lst = [None]*m\n",
    "    counter = Counter()\n",
    "    for word in col:\n",
    "        counter[word] += 1\n",
    "    for i in range(m):\n",
    "        if unique_categories[i] in col:\n",
    "            tf = counter[unique_categories[i]]/len(col)\n",
    "            inv_df = np.log((n + 1)/(idf(unique_categories[i]) + 1))\n",
    "            tfidf = tf*inv_df\n",
    "            lst[i] = tfidf\n",
    "        else:\n",
    "            lst[i] = 0\n",
    "    return lst"
   ]
  },
  {
   "cell_type": "code",
   "execution_count": 13,
   "metadata": {},
   "outputs": [
    {
     "data": {
      "text/html": [
       "<div>\n",
       "<style scoped>\n",
       "    .dataframe tbody tr th:only-of-type {\n",
       "        vertical-align: middle;\n",
       "    }\n",
       "\n",
       "    .dataframe tbody tr th {\n",
       "        vertical-align: top;\n",
       "    }\n",
       "\n",
       "    .dataframe thead th {\n",
       "        text-align: right;\n",
       "    }\n",
       "</style>\n",
       "<table border=\"1\" class=\"dataframe\">\n",
       "  <thead>\n",
       "    <tr style=\"text-align: right;\">\n",
       "      <th></th>\n",
       "      <th>review_id</th>\n",
       "      <th>user_id</th>\n",
       "      <th>business_id</th>\n",
       "      <th>stars</th>\n",
       "      <th>useful</th>\n",
       "      <th>funny</th>\n",
       "      <th>cool</th>\n",
       "      <th>text</th>\n",
       "      <th>date</th>\n",
       "    </tr>\n",
       "  </thead>\n",
       "  <tbody>\n",
       "    <tr>\n",
       "      <th>0</th>\n",
       "      <td>LG2ZaYiOgpr2DK_90pYjNw</td>\n",
       "      <td>V34qejxNsCbcgD8C0HVk-Q</td>\n",
       "      <td>HQl28KMwrEKHqhFrrDqVNQ</td>\n",
       "      <td>5.0</td>\n",
       "      <td>1</td>\n",
       "      <td>0</td>\n",
       "      <td>0</td>\n",
       "      <td>I love Deagan's. I do. I really do. The atmosp...</td>\n",
       "      <td>2015-12-05 03:18:11</td>\n",
       "    </tr>\n",
       "    <tr>\n",
       "      <th>1</th>\n",
       "      <td>jCza0LPv1vNU0FF-NFMWQA</td>\n",
       "      <td>V34qejxNsCbcgD8C0HVk-Q</td>\n",
       "      <td>ErxACeMyF4hSQyGhpEt4Tw</td>\n",
       "      <td>5.0</td>\n",
       "      <td>1</td>\n",
       "      <td>1</td>\n",
       "      <td>1</td>\n",
       "      <td>This is definitely one of my favorite Thai res...</td>\n",
       "      <td>2019-12-04 14:09:06</td>\n",
       "    </tr>\n",
       "    <tr>\n",
       "      <th>2</th>\n",
       "      <td>14_N-s_7TsEpzgjnXJMu9Q</td>\n",
       "      <td>V34qejxNsCbcgD8C0HVk-Q</td>\n",
       "      <td>eoJfl5vG7X87QhcKb0nt5Q</td>\n",
       "      <td>4.0</td>\n",
       "      <td>4</td>\n",
       "      <td>1</td>\n",
       "      <td>3</td>\n",
       "      <td>This is exactly what you think it will be. A h...</td>\n",
       "      <td>2014-11-27 05:28:11</td>\n",
       "    </tr>\n",
       "    <tr>\n",
       "      <th>3</th>\n",
       "      <td>eE3ekstCj5dNcBJVsbOJBw</td>\n",
       "      <td>V34qejxNsCbcgD8C0HVk-Q</td>\n",
       "      <td>VH2BjFjc9usDquDgoHhptA</td>\n",
       "      <td>4.0</td>\n",
       "      <td>2</td>\n",
       "      <td>0</td>\n",
       "      <td>2</td>\n",
       "      <td>How exciting to have another great Barrio loca...</td>\n",
       "      <td>2015-02-11 03:05:31</td>\n",
       "    </tr>\n",
       "    <tr>\n",
       "      <th>4</th>\n",
       "      <td>B6-F7JQzRIiMQpphyPR3VA</td>\n",
       "      <td>V34qejxNsCbcgD8C0HVk-Q</td>\n",
       "      <td>0youcKV6-eE3F2MQj1l6Fw</td>\n",
       "      <td>4.0</td>\n",
       "      <td>1</td>\n",
       "      <td>0</td>\n",
       "      <td>1</td>\n",
       "      <td>I attended a group event here with about 80 pe...</td>\n",
       "      <td>2014-11-08 19:11:34</td>\n",
       "    </tr>\n",
       "  </tbody>\n",
       "</table>\n",
       "</div>"
      ],
      "text/plain": [
       "                review_id                 user_id             business_id  \\\n",
       "0  LG2ZaYiOgpr2DK_90pYjNw  V34qejxNsCbcgD8C0HVk-Q  HQl28KMwrEKHqhFrrDqVNQ   \n",
       "1  jCza0LPv1vNU0FF-NFMWQA  V34qejxNsCbcgD8C0HVk-Q  ErxACeMyF4hSQyGhpEt4Tw   \n",
       "2  14_N-s_7TsEpzgjnXJMu9Q  V34qejxNsCbcgD8C0HVk-Q  eoJfl5vG7X87QhcKb0nt5Q   \n",
       "3  eE3ekstCj5dNcBJVsbOJBw  V34qejxNsCbcgD8C0HVk-Q  VH2BjFjc9usDquDgoHhptA   \n",
       "4  B6-F7JQzRIiMQpphyPR3VA  V34qejxNsCbcgD8C0HVk-Q  0youcKV6-eE3F2MQj1l6Fw   \n",
       "\n",
       "   stars  useful  funny  cool  \\\n",
       "0    5.0       1      0     0   \n",
       "1    5.0       1      1     1   \n",
       "2    4.0       4      1     3   \n",
       "3    4.0       2      0     2   \n",
       "4    4.0       1      0     1   \n",
       "\n",
       "                                                text                 date  \n",
       "0  I love Deagan's. I do. I really do. The atmosp...  2015-12-05 03:18:11  \n",
       "1  This is definitely one of my favorite Thai res...  2019-12-04 14:09:06  \n",
       "2  This is exactly what you think it will be. A h...  2014-11-27 05:28:11  \n",
       "3  How exciting to have another great Barrio loca...  2015-02-11 03:05:31  \n",
       "4  I attended a group event here with about 80 pe...  2014-11-08 19:11:34  "
      ]
     },
     "execution_count": 13,
     "metadata": {},
     "output_type": "execute_result"
    }
   ],
   "source": [
    "imp_ohio_reviews.head()"
   ]
  },
  {
   "cell_type": "code",
   "execution_count": 14,
   "metadata": {},
   "outputs": [],
   "source": [
    "ohio_categorywise = ohio_restaurants[['business_id','stars','sep_categories']]"
   ]
  },
  {
   "cell_type": "code",
   "execution_count": 15,
   "metadata": {},
   "outputs": [],
   "source": [
    "imp_ohio_reviews = imp_ohio_reviews.merge(ohio_categorywise)"
   ]
  },
  {
   "cell_type": "code",
   "execution_count": null,
   "metadata": {},
   "outputs": [],
   "source": []
  },
  {
   "cell_type": "code",
   "execution_count": null,
   "metadata": {},
   "outputs": [],
   "source": []
  },
  {
   "cell_type": "code",
   "execution_count": 16,
   "metadata": {},
   "outputs": [
    {
     "data": {
      "text/html": [
       "<div>\n",
       "<style scoped>\n",
       "    .dataframe tbody tr th:only-of-type {\n",
       "        vertical-align: middle;\n",
       "    }\n",
       "\n",
       "    .dataframe tbody tr th {\n",
       "        vertical-align: top;\n",
       "    }\n",
       "\n",
       "    .dataframe thead th {\n",
       "        text-align: right;\n",
       "    }\n",
       "</style>\n",
       "<table border=\"1\" class=\"dataframe\">\n",
       "  <thead>\n",
       "    <tr style=\"text-align: right;\">\n",
       "      <th></th>\n",
       "      <th>review_id</th>\n",
       "      <th>user_id</th>\n",
       "      <th>business_id</th>\n",
       "      <th>stars</th>\n",
       "      <th>useful</th>\n",
       "      <th>funny</th>\n",
       "      <th>cool</th>\n",
       "      <th>text</th>\n",
       "      <th>date</th>\n",
       "      <th>sep_categories</th>\n",
       "    </tr>\n",
       "  </thead>\n",
       "  <tbody>\n",
       "    <tr>\n",
       "      <th>0</th>\n",
       "      <td>eE3ekstCj5dNcBJVsbOJBw</td>\n",
       "      <td>V34qejxNsCbcgD8C0HVk-Q</td>\n",
       "      <td>VH2BjFjc9usDquDgoHhptA</td>\n",
       "      <td>4.0</td>\n",
       "      <td>2</td>\n",
       "      <td>0</td>\n",
       "      <td>2</td>\n",
       "      <td>How exciting to have another great Barrio loca...</td>\n",
       "      <td>2015-02-11 03:05:31</td>\n",
       "      <td>[Restaurants, Breakfast &amp; Brunch, Mexican, Nig...</td>\n",
       "    </tr>\n",
       "    <tr>\n",
       "      <th>1</th>\n",
       "      <td>9RIlb-Awn4B4Cdv7hfL9Hg</td>\n",
       "      <td>sxEzazybwfF86Mv8Dm3tgw</td>\n",
       "      <td>VH2BjFjc9usDquDgoHhptA</td>\n",
       "      <td>4.0</td>\n",
       "      <td>1</td>\n",
       "      <td>0</td>\n",
       "      <td>0</td>\n",
       "      <td>Fun, fun place!  It's just the perfect food-wi...</td>\n",
       "      <td>2016-12-04 14:15:43</td>\n",
       "      <td>[Restaurants, Breakfast &amp; Brunch, Mexican, Nig...</td>\n",
       "    </tr>\n",
       "    <tr>\n",
       "      <th>2</th>\n",
       "      <td>V18bxL_rnoPltBZhthORYA</td>\n",
       "      <td>v35r6tj4TjIsON7Z1xE4yA</td>\n",
       "      <td>VH2BjFjc9usDquDgoHhptA</td>\n",
       "      <td>4.0</td>\n",
       "      <td>0</td>\n",
       "      <td>0</td>\n",
       "      <td>0</td>\n",
       "      <td>So effing good. Super cheap too. Did the build...</td>\n",
       "      <td>2015-12-15 01:46:39</td>\n",
       "      <td>[Restaurants, Breakfast &amp; Brunch, Mexican, Nig...</td>\n",
       "    </tr>\n",
       "    <tr>\n",
       "      <th>3</th>\n",
       "      <td>ee7s14ESTjHfhbXEAl1_yw</td>\n",
       "      <td>p0lnRfBorJW2HzkzoLyymQ</td>\n",
       "      <td>VH2BjFjc9usDquDgoHhptA</td>\n",
       "      <td>4.0</td>\n",
       "      <td>0</td>\n",
       "      <td>0</td>\n",
       "      <td>0</td>\n",
       "      <td>Heading into Cleveland for the first time, we ...</td>\n",
       "      <td>2017-11-08 15:13:13</td>\n",
       "      <td>[Restaurants, Breakfast &amp; Brunch, Mexican, Nig...</td>\n",
       "    </tr>\n",
       "    <tr>\n",
       "      <th>4</th>\n",
       "      <td>raOFF3dORMPZ81RI5zh1Wg</td>\n",
       "      <td>ILk5Y4wPNW-7y0_As-xI6A</td>\n",
       "      <td>VH2BjFjc9usDquDgoHhptA</td>\n",
       "      <td>4.0</td>\n",
       "      <td>4</td>\n",
       "      <td>0</td>\n",
       "      <td>1</td>\n",
       "      <td>Hot dogs are to Happy Dog as tacos are to Barr...</td>\n",
       "      <td>2015-02-10 03:53:51</td>\n",
       "      <td>[Restaurants, Breakfast &amp; Brunch, Mexican, Nig...</td>\n",
       "    </tr>\n",
       "  </tbody>\n",
       "</table>\n",
       "</div>"
      ],
      "text/plain": [
       "                review_id                 user_id             business_id  \\\n",
       "0  eE3ekstCj5dNcBJVsbOJBw  V34qejxNsCbcgD8C0HVk-Q  VH2BjFjc9usDquDgoHhptA   \n",
       "1  9RIlb-Awn4B4Cdv7hfL9Hg  sxEzazybwfF86Mv8Dm3tgw  VH2BjFjc9usDquDgoHhptA   \n",
       "2  V18bxL_rnoPltBZhthORYA  v35r6tj4TjIsON7Z1xE4yA  VH2BjFjc9usDquDgoHhptA   \n",
       "3  ee7s14ESTjHfhbXEAl1_yw  p0lnRfBorJW2HzkzoLyymQ  VH2BjFjc9usDquDgoHhptA   \n",
       "4  raOFF3dORMPZ81RI5zh1Wg  ILk5Y4wPNW-7y0_As-xI6A  VH2BjFjc9usDquDgoHhptA   \n",
       "\n",
       "   stars  useful  funny  cool  \\\n",
       "0    4.0       2      0     2   \n",
       "1    4.0       1      0     0   \n",
       "2    4.0       0      0     0   \n",
       "3    4.0       0      0     0   \n",
       "4    4.0       4      0     1   \n",
       "\n",
       "                                                text                 date  \\\n",
       "0  How exciting to have another great Barrio loca...  2015-02-11 03:05:31   \n",
       "1  Fun, fun place!  It's just the perfect food-wi...  2016-12-04 14:15:43   \n",
       "2  So effing good. Super cheap too. Did the build...  2015-12-15 01:46:39   \n",
       "3  Heading into Cleveland for the first time, we ...  2017-11-08 15:13:13   \n",
       "4  Hot dogs are to Happy Dog as tacos are to Barr...  2015-02-10 03:53:51   \n",
       "\n",
       "                                      sep_categories  \n",
       "0  [Restaurants, Breakfast & Brunch, Mexican, Nig...  \n",
       "1  [Restaurants, Breakfast & Brunch, Mexican, Nig...  \n",
       "2  [Restaurants, Breakfast & Brunch, Mexican, Nig...  \n",
       "3  [Restaurants, Breakfast & Brunch, Mexican, Nig...  \n",
       "4  [Restaurants, Breakfast & Brunch, Mexican, Nig...  "
      ]
     },
     "execution_count": 16,
     "metadata": {},
     "output_type": "execute_result"
    }
   ],
   "source": [
    "imp_ohio_reviews.head()"
   ]
  },
  {
   "cell_type": "code",
   "execution_count": 17,
   "metadata": {},
   "outputs": [],
   "source": [
    "imp_ohio_reviews['lst_stars'] = imp_ohio_reviews['stars'].apply(lambda x: [x])"
   ]
  },
  {
   "cell_type": "code",
   "execution_count": 18,
   "metadata": {},
   "outputs": [],
   "source": [
    "imp_ohio_reviews['count_vect'] = imp_ohio_reviews['sep_categories'].apply(count_vectorizer)\n",
    "imp_ohio_reviews['tfidf_vect'] = imp_ohio_reviews['sep_categories'].apply(tfidf_vectorizer)\n"
   ]
  },
  {
   "cell_type": "code",
   "execution_count": 19,
   "metadata": {},
   "outputs": [],
   "source": [
    "imp_ohio_reviews['values_cnt'] = imp_ohio_reviews['lst_stars'] + imp_ohio_reviews['count_vect']\n",
    "imp_ohio_reviews['values_tfidf'] = imp_ohio_reviews['lst_stars'] + imp_ohio_reviews['tfidf_vect']"
   ]
  },
  {
   "cell_type": "markdown",
   "metadata": {},
   "source": [
    "### Let's pick a category to test"
   ]
  },
  {
   "cell_type": "code",
   "execution_count": 99,
   "metadata": {},
   "outputs": [],
   "source": [
    "category = 'Indian'"
   ]
  },
  {
   "cell_type": "code",
   "execution_count": 110,
   "metadata": {},
   "outputs": [
    {
     "data": {
      "text/html": [
       "<div>\n",
       "<style scoped>\n",
       "    .dataframe tbody tr th:only-of-type {\n",
       "        vertical-align: middle;\n",
       "    }\n",
       "\n",
       "    .dataframe tbody tr th {\n",
       "        vertical-align: top;\n",
       "    }\n",
       "\n",
       "    .dataframe thead th {\n",
       "        text-align: right;\n",
       "    }\n",
       "</style>\n",
       "<table border=\"1\" class=\"dataframe\">\n",
       "  <thead>\n",
       "    <tr style=\"text-align: right;\">\n",
       "      <th></th>\n",
       "      <th>review_id</th>\n",
       "      <th>user_id</th>\n",
       "      <th>business_id</th>\n",
       "      <th>stars</th>\n",
       "      <th>text</th>\n",
       "      <th>date</th>\n",
       "      <th>sep_categories</th>\n",
       "      <th>lst_stars</th>\n",
       "      <th>count_vect</th>\n",
       "      <th>tfidf_vect</th>\n",
       "      <th>values_cnt</th>\n",
       "      <th>values_tfidf</th>\n",
       "      <th>clean_text</th>\n",
       "    </tr>\n",
       "  </thead>\n",
       "  <tbody>\n",
       "    <tr>\n",
       "      <th>2202</th>\n",
       "      <td>skpu0gIwu_cTteh8KXJeDw</td>\n",
       "      <td>wDS2IgK5uTgx-NXum8jPBw</td>\n",
       "      <td>ScdtR67jO-p_ZIpVbZPRfw</td>\n",
       "      <td>4.0</td>\n",
       "      <td>Before coming here I had never had Indian food...</td>\n",
       "      <td>2019-03-23 22:06:32</td>\n",
       "      <td>[Restaurants, Pakistani, Indian, Vegetarian, V...</td>\n",
       "      <td>[4.0]</td>\n",
       "      <td>[0, 0, 0, 0, 0, 0, 0, 0, 0, 0, 0, 0, 0, 0, 0, ...</td>\n",
       "      <td>[0, 0, 0, 0, 0, 0, 0, 0, 0, 0, 0, 0, 0, 0, 0, ...</td>\n",
       "      <td>[4.0, 0, 0, 0, 0, 0, 0, 0, 0, 0, 0, 0, 0, 0, 0...</td>\n",
       "      <td>[4.0, 0, 0, 0, 0, 0, 0, 0, 0, 0, 0, 0, 0, 0, 0...</td>\n",
       "      <td>coming never indian food before friend brought...</td>\n",
       "    </tr>\n",
       "    <tr>\n",
       "      <th>2203</th>\n",
       "      <td>y35iDDIHmO8td29RGVdKXw</td>\n",
       "      <td>lEw2VL9JCDFk3R5NzahqnA</td>\n",
       "      <td>ScdtR67jO-p_ZIpVbZPRfw</td>\n",
       "      <td>4.0</td>\n",
       "      <td>I'm a true omnivore, but I could be a really h...</td>\n",
       "      <td>2011-06-30 22:42:35</td>\n",
       "      <td>[Restaurants, Pakistani, Indian, Vegetarian, V...</td>\n",
       "      <td>[4.0]</td>\n",
       "      <td>[0, 0, 0, 0, 0, 0, 0, 0, 0, 0, 0, 0, 0, 0, 0, ...</td>\n",
       "      <td>[0, 0, 0, 0, 0, 0, 0, 0, 0, 0, 0, 0, 0, 0, 0, ...</td>\n",
       "      <td>[4.0, 0, 0, 0, 0, 0, 0, 0, 0, 0, 0, 0, 0, 0, 0...</td>\n",
       "      <td>[4.0, 0, 0, 0, 0, 0, 0, 0, 0, 0, 0, 0, 0, 0, 0...</td>\n",
       "      <td>i am true omnivore could really happy vegetari...</td>\n",
       "    </tr>\n",
       "  </tbody>\n",
       "</table>\n",
       "</div>"
      ],
      "text/plain": [
       "                   review_id                 user_id             business_id  \\\n",
       "2202  skpu0gIwu_cTteh8KXJeDw  wDS2IgK5uTgx-NXum8jPBw  ScdtR67jO-p_ZIpVbZPRfw   \n",
       "2203  y35iDDIHmO8td29RGVdKXw  lEw2VL9JCDFk3R5NzahqnA  ScdtR67jO-p_ZIpVbZPRfw   \n",
       "\n",
       "      stars                                               text  \\\n",
       "2202    4.0  Before coming here I had never had Indian food...   \n",
       "2203    4.0  I'm a true omnivore, but I could be a really h...   \n",
       "\n",
       "                    date                                     sep_categories  \\\n",
       "2202 2019-03-23 22:06:32  [Restaurants, Pakistani, Indian, Vegetarian, V...   \n",
       "2203 2011-06-30 22:42:35  [Restaurants, Pakistani, Indian, Vegetarian, V...   \n",
       "\n",
       "     lst_stars                                         count_vect  \\\n",
       "2202     [4.0]  [0, 0, 0, 0, 0, 0, 0, 0, 0, 0, 0, 0, 0, 0, 0, ...   \n",
       "2203     [4.0]  [0, 0, 0, 0, 0, 0, 0, 0, 0, 0, 0, 0, 0, 0, 0, ...   \n",
       "\n",
       "                                             tfidf_vect  \\\n",
       "2202  [0, 0, 0, 0, 0, 0, 0, 0, 0, 0, 0, 0, 0, 0, 0, ...   \n",
       "2203  [0, 0, 0, 0, 0, 0, 0, 0, 0, 0, 0, 0, 0, 0, 0, ...   \n",
       "\n",
       "                                             values_cnt  \\\n",
       "2202  [4.0, 0, 0, 0, 0, 0, 0, 0, 0, 0, 0, 0, 0, 0, 0...   \n",
       "2203  [4.0, 0, 0, 0, 0, 0, 0, 0, 0, 0, 0, 0, 0, 0, 0...   \n",
       "\n",
       "                                           values_tfidf  \\\n",
       "2202  [4.0, 0, 0, 0, 0, 0, 0, 0, 0, 0, 0, 0, 0, 0, 0...   \n",
       "2203  [4.0, 0, 0, 0, 0, 0, 0, 0, 0, 0, 0, 0, 0, 0, 0...   \n",
       "\n",
       "                                             clean_text  \n",
       "2202  coming never indian food before friend brought...  \n",
       "2203  i am true omnivore could really happy vegetari...  "
      ]
     },
     "execution_count": 110,
     "metadata": {},
     "output_type": "execute_result"
    }
   ],
   "source": [
    "imp_ohio_reviews[imp_ohio_reviews['sep_categories'].apply(lambda x: True if category in x else False)].head(2)"
   ]
  },
  {
   "cell_type": "code",
   "execution_count": 102,
   "metadata": {},
   "outputs": [],
   "source": [
    "indian_restaurants  = imp_ohio_reviews[imp_ohio_reviews['sep_categories'].apply(lambda x: True if category in x else False)]"
   ]
  },
  {
   "cell_type": "code",
   "execution_count": 130,
   "metadata": {},
   "outputs": [],
   "source": [
    "top_5_ind_rest = indian_restaurants[['business_id','stars']].groupby('business_id').mean().sort_values(by=['stars'],ascending=False)[:10].index.tolist()"
   ]
  },
  {
   "cell_type": "code",
   "execution_count": 132,
   "metadata": {},
   "outputs": [],
   "source": [
    "top_indian_restaurants = ohio_restaurants[ohio_restaurants['business_id'].apply(lambda x: True if x in top_5_ind_rest else False)]"
   ]
  },
  {
   "cell_type": "code",
   "execution_count": 138,
   "metadata": {},
   "outputs": [
    {
     "data": {
      "text/html": [
       "<div>\n",
       "<style scoped>\n",
       "    .dataframe tbody tr th:only-of-type {\n",
       "        vertical-align: middle;\n",
       "    }\n",
       "\n",
       "    .dataframe tbody tr th {\n",
       "        vertical-align: top;\n",
       "    }\n",
       "\n",
       "    .dataframe thead th {\n",
       "        text-align: right;\n",
       "    }\n",
       "</style>\n",
       "<table border=\"1\" class=\"dataframe\">\n",
       "  <thead>\n",
       "    <tr style=\"text-align: right;\">\n",
       "      <th></th>\n",
       "      <th>business_id</th>\n",
       "      <th>name</th>\n",
       "      <th>address</th>\n",
       "      <th>city</th>\n",
       "      <th>state</th>\n",
       "      <th>postal_code</th>\n",
       "      <th>latitude</th>\n",
       "      <th>longitude</th>\n",
       "      <th>stars</th>\n",
       "      <th>review_count</th>\n",
       "      <th>is_open</th>\n",
       "      <th>attributes</th>\n",
       "      <th>categories</th>\n",
       "      <th>hours</th>\n",
       "      <th>sep_categories</th>\n",
       "    </tr>\n",
       "  </thead>\n",
       "  <tbody>\n",
       "    <tr>\n",
       "      <th>69360</th>\n",
       "      <td>7xfeQhen2wLnvFuQNvmTAg</td>\n",
       "      <td>Tandul</td>\n",
       "      <td>2505 Professor Ave</td>\n",
       "      <td>Cleveland</td>\n",
       "      <td>OH</td>\n",
       "      <td>44113</td>\n",
       "      <td>41.477919</td>\n",
       "      <td>-81.682580</td>\n",
       "      <td>4.0</td>\n",
       "      <td>194</td>\n",
       "      <td>1</td>\n",
       "      <td>{'Smoking': 'u'outdoor'', 'WiFi': 'u'no'', 'Al...</td>\n",
       "      <td>Nightlife, Indian, Buffets, Restaurants, Bars</td>\n",
       "      <td>{'Monday': '14:0-22:0', 'Tuesday': '14:0-22:0'...</td>\n",
       "      <td>[Nightlife, Indian, Buffets, Restaurants, Bars]</td>\n",
       "    </tr>\n",
       "    <tr>\n",
       "      <th>76010</th>\n",
       "      <td>1v9TVINzMod7JfSQI7Aayw</td>\n",
       "      <td>Bombaychaat</td>\n",
       "      <td>2044 Euclid Ave</td>\n",
       "      <td>Cleveland</td>\n",
       "      <td>OH</td>\n",
       "      <td>44114</td>\n",
       "      <td>41.501403</td>\n",
       "      <td>-81.675836</td>\n",
       "      <td>4.0</td>\n",
       "      <td>128</td>\n",
       "      <td>1</td>\n",
       "      <td>{'NoiseLevel': 'u'average'', 'GoodForMeal': '{...</td>\n",
       "      <td>Halal, Fast Food, Ethnic Food, Indian, Food, R...</td>\n",
       "      <td>{'Monday': '11:0-22:0', 'Tuesday': '11:0-22:0'...</td>\n",
       "      <td>[Halal, Fast Food, Ethnic Food, Indian, Food, ...</td>\n",
       "    </tr>\n",
       "    <tr>\n",
       "      <th>97874</th>\n",
       "      <td>-z_DR7omzpcR__l7MbDu0A</td>\n",
       "      <td>Paradise Biryani Pointe</td>\n",
       "      <td>6679 Wilson Mills Rd</td>\n",
       "      <td>Gates Mills</td>\n",
       "      <td>OH</td>\n",
       "      <td>44040</td>\n",
       "      <td>41.539657</td>\n",
       "      <td>-81.437713</td>\n",
       "      <td>4.0</td>\n",
       "      <td>71</td>\n",
       "      <td>1</td>\n",
       "      <td>{'WiFi': ''no'', 'GoodForKids': 'True', 'HasTV...</td>\n",
       "      <td>Restaurants, Indian</td>\n",
       "      <td>{'Monday': '0:0-0:0', 'Tuesday': '17:30-22:0',...</td>\n",
       "      <td>[Restaurants, Indian]</td>\n",
       "    </tr>\n",
       "    <tr>\n",
       "      <th>99789</th>\n",
       "      <td>5z0qD9Qftputpv37VjFJPQ</td>\n",
       "      <td>Pari Indian Cuisine</td>\n",
       "      <td>12775 Chillicothe Rd</td>\n",
       "      <td>Chesterland</td>\n",
       "      <td>OH</td>\n",
       "      <td>44026</td>\n",
       "      <td>41.521203</td>\n",
       "      <td>-81.337234</td>\n",
       "      <td>4.0</td>\n",
       "      <td>84</td>\n",
       "      <td>1</td>\n",
       "      <td>{'GoodForMeal': '{'dessert': False, 'latenight...</td>\n",
       "      <td>Restaurants, Indian</td>\n",
       "      <td>{'Monday': '17:0-21:30', 'Tuesday': '17:0-21:3...</td>\n",
       "      <td>[Restaurants, Indian]</td>\n",
       "    </tr>\n",
       "    <tr>\n",
       "      <th>127061</th>\n",
       "      <td>KcxNZlw2arK3jCX3-YV9TQ</td>\n",
       "      <td>Jaipur Junction</td>\n",
       "      <td>180 W Streetsboro St, Ste 5</td>\n",
       "      <td>Hudson</td>\n",
       "      <td>OH</td>\n",
       "      <td>44236</td>\n",
       "      <td>41.238594</td>\n",
       "      <td>-81.449626</td>\n",
       "      <td>4.0</td>\n",
       "      <td>113</td>\n",
       "      <td>1</td>\n",
       "      <td>{'RestaurantsPriceRange2': '2', 'RestaurantsAt...</td>\n",
       "      <td>Indian, Restaurants</td>\n",
       "      <td>{'Monday': '17:0-22:0', 'Tuesday': '17:0-22:0'...</td>\n",
       "      <td>[Indian, Restaurants]</td>\n",
       "    </tr>\n",
       "  </tbody>\n",
       "</table>\n",
       "</div>"
      ],
      "text/plain": [
       "                   business_id                     name  \\\n",
       "69360   7xfeQhen2wLnvFuQNvmTAg                   Tandul   \n",
       "76010   1v9TVINzMod7JfSQI7Aayw              Bombaychaat   \n",
       "97874   -z_DR7omzpcR__l7MbDu0A  Paradise Biryani Pointe   \n",
       "99789   5z0qD9Qftputpv37VjFJPQ      Pari Indian Cuisine   \n",
       "127061  KcxNZlw2arK3jCX3-YV9TQ          Jaipur Junction   \n",
       "\n",
       "                            address         city state postal_code   latitude  \\\n",
       "69360            2505 Professor Ave    Cleveland    OH       44113  41.477919   \n",
       "76010               2044 Euclid Ave    Cleveland    OH       44114  41.501403   \n",
       "97874          6679 Wilson Mills Rd  Gates Mills    OH       44040  41.539657   \n",
       "99789          12775 Chillicothe Rd  Chesterland    OH       44026  41.521203   \n",
       "127061  180 W Streetsboro St, Ste 5       Hudson    OH       44236  41.238594   \n",
       "\n",
       "        longitude  stars  review_count  is_open  \\\n",
       "69360  -81.682580    4.0           194        1   \n",
       "76010  -81.675836    4.0           128        1   \n",
       "97874  -81.437713    4.0            71        1   \n",
       "99789  -81.337234    4.0            84        1   \n",
       "127061 -81.449626    4.0           113        1   \n",
       "\n",
       "                                               attributes  \\\n",
       "69360   {'Smoking': 'u'outdoor'', 'WiFi': 'u'no'', 'Al...   \n",
       "76010   {'NoiseLevel': 'u'average'', 'GoodForMeal': '{...   \n",
       "97874   {'WiFi': ''no'', 'GoodForKids': 'True', 'HasTV...   \n",
       "99789   {'GoodForMeal': '{'dessert': False, 'latenight...   \n",
       "127061  {'RestaurantsPriceRange2': '2', 'RestaurantsAt...   \n",
       "\n",
       "                                               categories  \\\n",
       "69360       Nightlife, Indian, Buffets, Restaurants, Bars   \n",
       "76010   Halal, Fast Food, Ethnic Food, Indian, Food, R...   \n",
       "97874                                 Restaurants, Indian   \n",
       "99789                                 Restaurants, Indian   \n",
       "127061                                Indian, Restaurants   \n",
       "\n",
       "                                                    hours  \\\n",
       "69360   {'Monday': '14:0-22:0', 'Tuesday': '14:0-22:0'...   \n",
       "76010   {'Monday': '11:0-22:0', 'Tuesday': '11:0-22:0'...   \n",
       "97874   {'Monday': '0:0-0:0', 'Tuesday': '17:30-22:0',...   \n",
       "99789   {'Monday': '17:0-21:30', 'Tuesday': '17:0-21:3...   \n",
       "127061  {'Monday': '17:0-22:0', 'Tuesday': '17:0-22:0'...   \n",
       "\n",
       "                                           sep_categories  \n",
       "69360     [Nightlife, Indian, Buffets, Restaurants, Bars]  \n",
       "76010   [Halal, Fast Food, Ethnic Food, Indian, Food, ...  \n",
       "97874                               [Restaurants, Indian]  \n",
       "99789                               [Restaurants, Indian]  \n",
       "127061                              [Indian, Restaurants]  "
      ]
     },
     "execution_count": 138,
     "metadata": {},
     "output_type": "execute_result"
    }
   ],
   "source": [
    "top_indian_restaurants.head()"
   ]
  },
  {
   "cell_type": "code",
   "execution_count": 427,
   "metadata": {},
   "outputs": [
    {
     "data": {
      "text/html": [
       "<div>\n",
       "<style scoped>\n",
       "    .dataframe tbody tr th:only-of-type {\n",
       "        vertical-align: middle;\n",
       "    }\n",
       "\n",
       "    .dataframe tbody tr th {\n",
       "        vertical-align: top;\n",
       "    }\n",
       "\n",
       "    .dataframe thead th {\n",
       "        text-align: right;\n",
       "    }\n",
       "</style>\n",
       "<table border=\"1\" class=\"dataframe\">\n",
       "  <thead>\n",
       "    <tr style=\"text-align: right;\">\n",
       "      <th></th>\n",
       "      <th>review_id</th>\n",
       "      <th>user_id</th>\n",
       "      <th>business_id</th>\n",
       "      <th>stars</th>\n",
       "      <th>text</th>\n",
       "      <th>date</th>\n",
       "      <th>sep_categories</th>\n",
       "      <th>lst_stars</th>\n",
       "      <th>count_vect</th>\n",
       "      <th>tfidf_vect</th>\n",
       "      <th>values_cnt</th>\n",
       "      <th>values_tfidf</th>\n",
       "      <th>clean_text</th>\n",
       "    </tr>\n",
       "  </thead>\n",
       "  <tbody>\n",
       "    <tr>\n",
       "      <th>0</th>\n",
       "      <td>eE3ekstCj5dNcBJVsbOJBw</td>\n",
       "      <td>V34qejxNsCbcgD8C0HVk-Q</td>\n",
       "      <td>VH2BjFjc9usDquDgoHhptA</td>\n",
       "      <td>4.0</td>\n",
       "      <td>How exciting to have another great Barrio loca...</td>\n",
       "      <td>2015-02-11 03:05:31</td>\n",
       "      <td>[Restaurants, Breakfast &amp; Brunch, Mexican, Nig...</td>\n",
       "      <td>[4.0]</td>\n",
       "      <td>[0, 0, 0, 0, 0, 0, 0, 0, 0, 0, 0, 0, 0, 0, 0, ...</td>\n",
       "      <td>[0, 0, 0, 0, 0, 0, 0, 0, 0, 0, 0, 0, 0, 0, 0, ...</td>\n",
       "      <td>[4.0, 0, 0, 0, 0, 0, 0, 0, 0, 0, 0, 0, 0, 0, 0...</td>\n",
       "      <td>[4.0, 0, 0, 0, 0, 0, 0, 0, 0, 0, 0, 0, 0, 0, 0...</td>\n",
       "      <td>exciting another great barrio location large b...</td>\n",
       "    </tr>\n",
       "    <tr>\n",
       "      <th>1</th>\n",
       "      <td>9RIlb-Awn4B4Cdv7hfL9Hg</td>\n",
       "      <td>sxEzazybwfF86Mv8Dm3tgw</td>\n",
       "      <td>VH2BjFjc9usDquDgoHhptA</td>\n",
       "      <td>4.0</td>\n",
       "      <td>Fun, fun place!  It's just the perfect food-wi...</td>\n",
       "      <td>2016-12-04 14:15:43</td>\n",
       "      <td>[Restaurants, Breakfast &amp; Brunch, Mexican, Nig...</td>\n",
       "      <td>[4.0]</td>\n",
       "      <td>[0, 0, 0, 0, 0, 0, 0, 0, 0, 0, 0, 0, 0, 0, 0, ...</td>\n",
       "      <td>[0, 0, 0, 0, 0, 0, 0, 0, 0, 0, 0, 0, 0, 0, 0, ...</td>\n",
       "      <td>[4.0, 0, 0, 0, 0, 0, 0, 0, 0, 0, 0, 0, 0, 0, 0...</td>\n",
       "      <td>[4.0, 0, 0, 0, 0, 0, 0, 0, 0, 0, 0, 0, 0, 0, 0...</td>\n",
       "      <td>fun fun place ! perfect food - with - drinks k...</td>\n",
       "    </tr>\n",
       "    <tr>\n",
       "      <th>2</th>\n",
       "      <td>V18bxL_rnoPltBZhthORYA</td>\n",
       "      <td>v35r6tj4TjIsON7Z1xE4yA</td>\n",
       "      <td>VH2BjFjc9usDquDgoHhptA</td>\n",
       "      <td>4.0</td>\n",
       "      <td>So effing good. Super cheap too. Did the build...</td>\n",
       "      <td>2015-12-15 01:46:39</td>\n",
       "      <td>[Restaurants, Breakfast &amp; Brunch, Mexican, Nig...</td>\n",
       "      <td>[4.0]</td>\n",
       "      <td>[0, 0, 0, 0, 0, 0, 0, 0, 0, 0, 0, 0, 0, 0, 0, ...</td>\n",
       "      <td>[0, 0, 0, 0, 0, 0, 0, 0, 0, 0, 0, 0, 0, 0, 0, ...</td>\n",
       "      <td>[4.0, 0, 0, 0, 0, 0, 0, 0, 0, 0, 0, 0, 0, 0, 0...</td>\n",
       "      <td>[4.0, 0, 0, 0, 0, 0, 0, 0, 0, 0, 0, 0, 0, 0, 0...</td>\n",
       "      <td>effing good super cheap too build tacos pulled...</td>\n",
       "    </tr>\n",
       "    <tr>\n",
       "      <th>3</th>\n",
       "      <td>ee7s14ESTjHfhbXEAl1_yw</td>\n",
       "      <td>p0lnRfBorJW2HzkzoLyymQ</td>\n",
       "      <td>VH2BjFjc9usDquDgoHhptA</td>\n",
       "      <td>4.0</td>\n",
       "      <td>Heading into Cleveland for the first time, we ...</td>\n",
       "      <td>2017-11-08 15:13:13</td>\n",
       "      <td>[Restaurants, Breakfast &amp; Brunch, Mexican, Nig...</td>\n",
       "      <td>[4.0]</td>\n",
       "      <td>[0, 0, 0, 0, 0, 0, 0, 0, 0, 0, 0, 0, 0, 0, 0, ...</td>\n",
       "      <td>[0, 0, 0, 0, 0, 0, 0, 0, 0, 0, 0, 0, 0, 0, 0, ...</td>\n",
       "      <td>[4.0, 0, 0, 0, 0, 0, 0, 0, 0, 0, 0, 0, 0, 0, 0...</td>\n",
       "      <td>[4.0, 0, 0, 0, 0, 0, 0, 0, 0, 0, 0, 0, 0, 0, 0...</td>\n",
       "      <td>heading cleveland first time stopped grove cit...</td>\n",
       "    </tr>\n",
       "    <tr>\n",
       "      <th>4</th>\n",
       "      <td>raOFF3dORMPZ81RI5zh1Wg</td>\n",
       "      <td>ILk5Y4wPNW-7y0_As-xI6A</td>\n",
       "      <td>VH2BjFjc9usDquDgoHhptA</td>\n",
       "      <td>4.0</td>\n",
       "      <td>Hot dogs are to Happy Dog as tacos are to Barr...</td>\n",
       "      <td>2015-02-10 03:53:51</td>\n",
       "      <td>[Restaurants, Breakfast &amp; Brunch, Mexican, Nig...</td>\n",
       "      <td>[4.0]</td>\n",
       "      <td>[0, 0, 0, 0, 0, 0, 0, 0, 0, 0, 0, 0, 0, 0, 0, ...</td>\n",
       "      <td>[0, 0, 0, 0, 0, 0, 0, 0, 0, 0, 0, 0, 0, 0, 0, ...</td>\n",
       "      <td>[4.0, 0, 0, 0, 0, 0, 0, 0, 0, 0, 0, 0, 0, 0, 0...</td>\n",
       "      <td>[4.0, 0, 0, 0, 0, 0, 0, 0, 0, 0, 0, 0, 0, 0, 0...</td>\n",
       "      <td>hot dogs happy dog tacos barrio ! barrio truly...</td>\n",
       "    </tr>\n",
       "  </tbody>\n",
       "</table>\n",
       "</div>"
      ],
      "text/plain": [
       "                review_id                 user_id             business_id  \\\n",
       "0  eE3ekstCj5dNcBJVsbOJBw  V34qejxNsCbcgD8C0HVk-Q  VH2BjFjc9usDquDgoHhptA   \n",
       "1  9RIlb-Awn4B4Cdv7hfL9Hg  sxEzazybwfF86Mv8Dm3tgw  VH2BjFjc9usDquDgoHhptA   \n",
       "2  V18bxL_rnoPltBZhthORYA  v35r6tj4TjIsON7Z1xE4yA  VH2BjFjc9usDquDgoHhptA   \n",
       "3  ee7s14ESTjHfhbXEAl1_yw  p0lnRfBorJW2HzkzoLyymQ  VH2BjFjc9usDquDgoHhptA   \n",
       "4  raOFF3dORMPZ81RI5zh1Wg  ILk5Y4wPNW-7y0_As-xI6A  VH2BjFjc9usDquDgoHhptA   \n",
       "\n",
       "   stars                                               text  \\\n",
       "0    4.0  How exciting to have another great Barrio loca...   \n",
       "1    4.0  Fun, fun place!  It's just the perfect food-wi...   \n",
       "2    4.0  So effing good. Super cheap too. Did the build...   \n",
       "3    4.0  Heading into Cleveland for the first time, we ...   \n",
       "4    4.0  Hot dogs are to Happy Dog as tacos are to Barr...   \n",
       "\n",
       "                 date                                     sep_categories  \\\n",
       "0 2015-02-11 03:05:31  [Restaurants, Breakfast & Brunch, Mexican, Nig...   \n",
       "1 2016-12-04 14:15:43  [Restaurants, Breakfast & Brunch, Mexican, Nig...   \n",
       "2 2015-12-15 01:46:39  [Restaurants, Breakfast & Brunch, Mexican, Nig...   \n",
       "3 2017-11-08 15:13:13  [Restaurants, Breakfast & Brunch, Mexican, Nig...   \n",
       "4 2015-02-10 03:53:51  [Restaurants, Breakfast & Brunch, Mexican, Nig...   \n",
       "\n",
       "  lst_stars                                         count_vect  \\\n",
       "0     [4.0]  [0, 0, 0, 0, 0, 0, 0, 0, 0, 0, 0, 0, 0, 0, 0, ...   \n",
       "1     [4.0]  [0, 0, 0, 0, 0, 0, 0, 0, 0, 0, 0, 0, 0, 0, 0, ...   \n",
       "2     [4.0]  [0, 0, 0, 0, 0, 0, 0, 0, 0, 0, 0, 0, 0, 0, 0, ...   \n",
       "3     [4.0]  [0, 0, 0, 0, 0, 0, 0, 0, 0, 0, 0, 0, 0, 0, 0, ...   \n",
       "4     [4.0]  [0, 0, 0, 0, 0, 0, 0, 0, 0, 0, 0, 0, 0, 0, 0, ...   \n",
       "\n",
       "                                          tfidf_vect  \\\n",
       "0  [0, 0, 0, 0, 0, 0, 0, 0, 0, 0, 0, 0, 0, 0, 0, ...   \n",
       "1  [0, 0, 0, 0, 0, 0, 0, 0, 0, 0, 0, 0, 0, 0, 0, ...   \n",
       "2  [0, 0, 0, 0, 0, 0, 0, 0, 0, 0, 0, 0, 0, 0, 0, ...   \n",
       "3  [0, 0, 0, 0, 0, 0, 0, 0, 0, 0, 0, 0, 0, 0, 0, ...   \n",
       "4  [0, 0, 0, 0, 0, 0, 0, 0, 0, 0, 0, 0, 0, 0, 0, ...   \n",
       "\n",
       "                                          values_cnt  \\\n",
       "0  [4.0, 0, 0, 0, 0, 0, 0, 0, 0, 0, 0, 0, 0, 0, 0...   \n",
       "1  [4.0, 0, 0, 0, 0, 0, 0, 0, 0, 0, 0, 0, 0, 0, 0...   \n",
       "2  [4.0, 0, 0, 0, 0, 0, 0, 0, 0, 0, 0, 0, 0, 0, 0...   \n",
       "3  [4.0, 0, 0, 0, 0, 0, 0, 0, 0, 0, 0, 0, 0, 0, 0...   \n",
       "4  [4.0, 0, 0, 0, 0, 0, 0, 0, 0, 0, 0, 0, 0, 0, 0...   \n",
       "\n",
       "                                        values_tfidf  \\\n",
       "0  [4.0, 0, 0, 0, 0, 0, 0, 0, 0, 0, 0, 0, 0, 0, 0...   \n",
       "1  [4.0, 0, 0, 0, 0, 0, 0, 0, 0, 0, 0, 0, 0, 0, 0...   \n",
       "2  [4.0, 0, 0, 0, 0, 0, 0, 0, 0, 0, 0, 0, 0, 0, 0...   \n",
       "3  [4.0, 0, 0, 0, 0, 0, 0, 0, 0, 0, 0, 0, 0, 0, 0...   \n",
       "4  [4.0, 0, 0, 0, 0, 0, 0, 0, 0, 0, 0, 0, 0, 0, 0...   \n",
       "\n",
       "                                          clean_text  \n",
       "0  exciting another great barrio location large b...  \n",
       "1  fun fun place ! perfect food - with - drinks k...  \n",
       "2  effing good super cheap too build tacos pulled...  \n",
       "3  heading cleveland first time stopped grove cit...  \n",
       "4  hot dogs happy dog tacos barrio ! barrio truly...  "
      ]
     },
     "execution_count": 427,
     "metadata": {},
     "output_type": "execute_result"
    }
   ],
   "source": [
    "imp_ohio_reviews.head()"
   ]
  },
  {
   "cell_type": "markdown",
   "metadata": {},
   "source": [
    "### Let's wrap it into a function"
   ]
  },
  {
   "cell_type": "code",
   "execution_count": 255,
   "metadata": {},
   "outputs": [],
   "source": [
    "try_categories_list = [item[0] for item in dict_category_sorted[:55]]"
   ]
  },
  {
   "cell_type": "code",
   "execution_count": 256,
   "metadata": {},
   "outputs": [],
   "source": [
    "try_categories_list.remove('Restaurants')\n",
    "try_categories_list.remove('Food')"
   ]
  },
  {
   "cell_type": "code",
   "execution_count": 251,
   "metadata": {},
   "outputs": [],
   "source": [
    "def get_popular_restaurants(df,categories_list):\n",
    "    \n",
    "    store_restaurants = []\n",
    "    \n",
    "    df_rest = pd.DataFrame(columns=ohio_restaurants.columns)\n",
    "    for category in categories_list:        \n",
    "        category_restaurants = df[df['sep_categories'].apply(lambda x: True if category in x else False)]\n",
    "        rest_list = category_restaurants[['business_id','stars']].groupby('business_id').mean().sort_values(by=['stars'],ascending=False).index.tolist()\n",
    "        df_categ = ohio_restaurants[ohio_restaurants['business_id'].apply(lambda x: True if x in rest_list else False)]\n",
    "        df_rest = pd.concat([df_rest,df_categ])  \n",
    "    for index,row in df_rest.iterrows():\n",
    "        restaurant_details = {}\n",
    "        restaurant_details['Name'] = row['name']\n",
    "        restaurant_details['Address'] = row['address']\n",
    "        restaurant_details['Zip Code'] = row['postal_code']\n",
    "        restaurant_details['Latitude'] = row['latitude']\n",
    "        restaurant_details['Longitude'] = row['longitude']\n",
    "        \n",
    "        restaurant_details['Category'] = row['sep_categories']\n",
    "        restaurant_details['Stars'] = row['stars']\n",
    "#         restaurant_details['additional_details'] = row['attributes']\n",
    "        store_restaurants.append(restaurant_details)\n",
    "    return sorted(store_restaurants,key = lambda x: x['Stars'],reverse=True)"
   ]
  },
  {
   "cell_type": "code",
   "execution_count": 425,
   "metadata": {},
   "outputs": [],
   "source": [
    "test_list = get_popular_restaurants(imp_ohio_reviews,['Latin American'])"
   ]
  },
  {
   "cell_type": "code",
   "execution_count": 430,
   "metadata": {},
   "outputs": [
    {
     "data": {
      "text/plain": [
       "({'Name': 'Sabor Miami Cafe & Gallery',\n",
       "  'Address': '4848 Broadview Rd',\n",
       "  'Zip Code': '44109',\n",
       "  'Latitude': 41.4241196,\n",
       "  'Longitude': -81.6973112,\n",
       "  'Category': ['Latin American', 'Cafes', 'Restaurants'],\n",
       "  'Stars': 5.0},\n",
       " {'Name': 'Cocos Locos',\n",
       "  'Address': '35535 Euclid Ave',\n",
       "  'Zip Code': '44094',\n",
       "  'Latitude': 41.626652,\n",
       "  'Longitude': -81.433992,\n",
       "  'Category': ['Mexican',\n",
       "   'Event Planning & Services',\n",
       "   'Caterers',\n",
       "   'Latin American',\n",
       "   'Restaurants'],\n",
       "  'Stars': 4.0},\n",
       " {'Name': 'Bomba Tacos & Rum',\n",
       "  'Address': '3900 Medina Rd',\n",
       "  'Zip Code': '44333',\n",
       "  'Latitude': 41.1342696794,\n",
       "  'Longitude': -81.6382378712,\n",
       "  'Category': ['Desserts',\n",
       "   'Nightlife',\n",
       "   'Bars',\n",
       "   'Restaurants',\n",
       "   'Food',\n",
       "   'Latin American'],\n",
       "  'Stars': 4.0},\n",
       " {'Name': 'Paladar Latin Kitchen & Rum Bar',\n",
       "  'Address': '28601 Chagrin Blvd, Ste 900',\n",
       "  'Zip Code': '44122',\n",
       "  'Latitude': 41.463018,\n",
       "  'Longitude': -81.477888,\n",
       "  'Category': ['Mexican', 'Latin American', 'Restaurants', 'Vegan'],\n",
       "  'Stars': 4.0},\n",
       " {'Name': 'Caribe Bake Shop',\n",
       "  'Address': '2906 Fulton Rd',\n",
       "  'Zip Code': '44113',\n",
       "  'Latitude': 41.4723506,\n",
       "  'Longitude': -81.7077925,\n",
       "  'Category': ['Latin American',\n",
       "   'Bakeries',\n",
       "   'Restaurants',\n",
       "   'Puerto Rican',\n",
       "   'Food',\n",
       "   'Caribbean'],\n",
       "  'Stars': 4.0},\n",
       " {'Name': 'Bahama Breeze',\n",
       "  'Address': '3900 Orange Pl',\n",
       "  'Zip Code': '44122',\n",
       "  'Latitude': 41.4554605666,\n",
       "  'Longitude': -81.4896052103,\n",
       "  'Category': ['Laotian',\n",
       "   'Latin American',\n",
       "   'American (New)',\n",
       "   'Nightlife',\n",
       "   'Restaurants',\n",
       "   'Seafood',\n",
       "   'Caribbean',\n",
       "   'Bars'],\n",
       "  'Stars': 3.0})"
      ]
     },
     "execution_count": 430,
     "metadata": {},
     "output_type": "execute_result"
    }
   ],
   "source": [
    "tuple(test_list)"
   ]
  },
  {
   "cell_type": "code",
   "execution_count": 415,
   "metadata": {},
   "outputs": [],
   "source": [
    "import json\n",
    "test_list_json = json.dumps(test_list)"
   ]
  },
  {
   "cell_type": "code",
   "execution_count": 424,
   "metadata": {},
   "outputs": [
    {
     "data": {
      "text/plain": [
       "list"
      ]
     },
     "execution_count": 424,
     "metadata": {},
     "output_type": "execute_result"
    }
   ],
   "source": [
    "json.loads(test_list_json)"
   ]
  },
  {
   "cell_type": "code",
   "execution_count": null,
   "metadata": {},
   "outputs": [],
   "source": []
  },
  {
   "cell_type": "code",
   "execution_count": 421,
   "metadata": {},
   "outputs": [
    {
     "data": {
      "text/plain": [
       "str"
      ]
     },
     "execution_count": 421,
     "metadata": {},
     "output_type": "execute_result"
    }
   ],
   "source": [
    "test_list_json"
   ]
  },
  {
   "cell_type": "code",
   "execution_count": 354,
   "metadata": {},
   "outputs": [
    {
     "data": {
      "text/plain": [
       "['Nightlife',\n",
       " 'Bars',\n",
       " 'American (Traditional)',\n",
       " 'American (New)',\n",
       " 'Sandwiches',\n",
       " 'Italian',\n",
       " 'Breakfast & Brunch',\n",
       " 'Pizza',\n",
       " 'Burgers',\n",
       " 'Seafood',\n",
       " 'Event Planning & Services',\n",
       " 'Mexican',\n",
       " 'Salad',\n",
       " 'Pubs',\n",
       " 'Steakhouses',\n",
       " 'Caterers',\n",
       " 'Sports Bars',\n",
       " 'Japanese',\n",
       " 'Sushi Bars',\n",
       " 'Beer',\n",
       " 'Wine & Spirits',\n",
       " 'Wine Bars',\n",
       " 'Chinese',\n",
       " 'Fast Food',\n",
       " 'Cocktail Bars',\n",
       " 'Desserts',\n",
       " 'Diners',\n",
       " 'Mediterranean',\n",
       " 'Asian Fusion',\n",
       " 'Barbeque',\n",
       " 'Coffee & Tea',\n",
       " 'Thai',\n",
       " 'Cafes',\n",
       " 'Chicken Wings',\n",
       " 'Specialty Food',\n",
       " 'Delis',\n",
       " 'Vegetarian',\n",
       " 'Bakeries',\n",
       " 'Middle Eastern',\n",
       " 'Gluten-Free',\n",
       " 'Arts & Entertainment',\n",
       " 'Soup',\n",
       " 'Gastropubs',\n",
       " 'Vegan',\n",
       " 'Beer Bar',\n",
       " 'Venues & Event Spaces',\n",
       " 'Indian',\n",
       " 'Breweries',\n",
       " 'Latin American',\n",
       " 'Lounges',\n",
       " 'Buffets',\n",
       " 'Tacos',\n",
       " 'Tapas/Small Plates']"
      ]
     },
     "execution_count": 354,
     "metadata": {},
     "output_type": "execute_result"
    }
   ],
   "source": [
    "try_categories_list"
   ]
  },
  {
   "cell_type": "code",
   "execution_count": 261,
   "metadata": {},
   "outputs": [],
   "source": [
    "import folium"
   ]
  },
  {
   "cell_type": "code",
   "execution_count": 443,
   "metadata": {},
   "outputs": [
    {
     "data": {
      "text/plain": [
       "[1]"
      ]
     },
     "execution_count": 443,
     "metadata": {},
     "output_type": "execute_result"
    }
   ],
   "source": [
    "a = 1\n",
    "a = [a]\n",
    "a"
   ]
  },
  {
   "cell_type": "code",
   "execution_count": 447,
   "metadata": {},
   "outputs": [
    {
     "data": {
      "text/plain": [
       "[1, 2, 3, 4, 5]"
      ]
     },
     "execution_count": 447,
     "metadata": {},
     "output_type": "execute_result"
    }
   ],
   "source": [
    "x = [1,2,3,4,5]\n",
    "x[:8]"
   ]
  },
  {
   "cell_type": "code",
   "execution_count": 461,
   "metadata": {},
   "outputs": [],
   "source": [
    "preference1 = ['Italian']\n",
    "preference2 = ['Italian']\n",
    "lst_store = []\n"
   ]
  },
  {
   "cell_type": "code",
   "execution_count": 462,
   "metadata": {},
   "outputs": [],
   "source": [
    "rest_pref1 = get_popular_restaurants(imp_ohio_reviews,preference1)\n",
    "rest_pref2 = get_popular_restaurants(imp_ohio_reviews,preference2)\n",
    "lst_prefer = [rest_pref1,rest_pref2]"
   ]
  },
  {
   "cell_type": "code",
   "execution_count": 460,
   "metadata": {},
   "outputs": [
    {
     "data": {
      "text/plain": [
       "13"
      ]
     },
     "execution_count": 460,
     "metadata": {},
     "output_type": "execute_result"
    }
   ],
   "source": []
  },
  {
   "cell_type": "code",
   "execution_count": 463,
   "metadata": {},
   "outputs": [],
   "source": [
    "# For top 15 from either category, 30 in total\n",
    "if preference1 != preference2:\n",
    "    for i in range(2):\n",
    "        lst_store.extend(lst_prefer[i][:15])\n",
    "else:\n",
    "    lst_store.extend(lst_prefer[0][:30])"
   ]
  },
  {
   "cell_type": "code",
   "execution_count": 464,
   "metadata": {},
   "outputs": [
    {
     "data": {
      "text/plain": [
       "[{'Name': 'DeVitis Italian Market',\n",
       "  'Address': '560 E Tallmadge Ave',\n",
       "  'Zip Code': '44310',\n",
       "  'Latitude': 41.1020069,\n",
       "  'Longitude': -81.4946355,\n",
       "  'Category': ['Grocery', 'Restaurants', 'Delis', 'Food', 'Italian'],\n",
       "  'Stars': 5.0},\n",
       " {'Name': 'Coffee Coffee Coffee',\n",
       "  'Address': '4193 Pearl Rd',\n",
       "  'Zip Code': '44109',\n",
       "  'Latitude': 41.44111,\n",
       "  'Longitude': -81.70505,\n",
       "  'Category': ['Italian', 'Coffee & Tea', 'Sandwiches', 'Restaurants', 'Food'],\n",
       "  'Stars': 5.0},\n",
       " {'Name': \"Fatbob's Pizza\",\n",
       "  'Address': '1739 Pearl Rd',\n",
       "  'Zip Code': '44212',\n",
       "  'Latitude': 41.2273376,\n",
       "  'Longitude': -81.840746,\n",
       "  'Category': ['Italian', 'Food', 'Restaurants', 'Pizza'],\n",
       "  'Stars': 4.0},\n",
       " {'Name': \"Sainato's at Rivergate\",\n",
       "  'Address': '1852 Columbus Rd',\n",
       "  'Zip Code': '44113',\n",
       "  'Latitude': 41.4892123,\n",
       "  'Longitude': -81.7008022,\n",
       "  'Category': ['Nightlife',\n",
       "   'Bars',\n",
       "   'Sports Bars',\n",
       "   'Event Planning & Services',\n",
       "   'Italian',\n",
       "   'Pizza',\n",
       "   'Caterers',\n",
       "   'Restaurants'],\n",
       "  'Stars': 4.0},\n",
       " {'Name': 'Nora',\n",
       "  'Address': '2181 Murray Hill Rd',\n",
       "  'Zip Code': '44106',\n",
       "  'Latitude': 41.5041563,\n",
       "  'Longitude': -81.6002941,\n",
       "  'Category': ['Salad', 'Food', 'Desserts', 'Restaurants', 'Italian'],\n",
       "  'Stars': 4.0},\n",
       " {'Name': \"Russo's\",\n",
       "  'Address': '4895 State Rd',\n",
       "  'Zip Code': '44264',\n",
       "  'Latitude': 41.2022425,\n",
       "  'Longitude': -81.4958047,\n",
       "  'Category': ['Italian',\n",
       "   'Sandwiches',\n",
       "   'Pizza',\n",
       "   'Bars',\n",
       "   'Cocktail Bars',\n",
       "   'Nightlife',\n",
       "   'Restaurants',\n",
       "   'Cajun/Creole'],\n",
       "  'Stars': 4.0},\n",
       " {'Name': \"D'Angelo's Italian Ristorante\",\n",
       "  'Address': '7995 Darrow Rd',\n",
       "  'Zip Code': '44087',\n",
       "  'Latitude': 41.283266,\n",
       "  'Longitude': -81.43974,\n",
       "  'Category': ['Restaurants',\n",
       "   'Caterers',\n",
       "   'Event Planning & Services',\n",
       "   'Italian',\n",
       "   'Venues & Event Spaces'],\n",
       "  'Stars': 4.0},\n",
       " {'Name': 'Lago East Bank',\n",
       "  'Address': '1091 W 10th St',\n",
       "  'Zip Code': '44113',\n",
       "  'Latitude': 41.5002522793,\n",
       "  'Longitude': -81.7042245615,\n",
       "  'Category': ['Seafood', 'Restaurants', 'Italian'],\n",
       "  'Stars': 4.0},\n",
       " {'Name': \"Stancato's Italian Restaurant\",\n",
       "  'Address': '7380 State Rd',\n",
       "  'Zip Code': '44134',\n",
       "  'Latitude': 41.3649739,\n",
       "  'Longitude': -81.7176998,\n",
       "  'Category': ['Restaurants',\n",
       "   'Pizza',\n",
       "   'Caterers',\n",
       "   'Event Planning & Services',\n",
       "   'Italian'],\n",
       "  'Stars': 4.0},\n",
       " {'Name': \"Johnny's Bar\",\n",
       "  'Address': '3164 Fulton Rd',\n",
       "  'Zip Code': '44109',\n",
       "  'Latitude': 41.4677558,\n",
       "  'Longitude': -81.7077306,\n",
       "  'Category': ['Italian', 'Bars', 'Nightlife', 'Restaurants', 'Salad'],\n",
       "  'Stars': 4.0},\n",
       " {'Name': \"Abo's Grill\",\n",
       "  'Address': '5288 Mayfield Rd',\n",
       "  'Zip Code': '44124',\n",
       "  'Latitude': 41.519601,\n",
       "  'Longitude': -81.489113,\n",
       "  'Category': ['Restaurants', 'Italian', 'Pizza'],\n",
       "  'Stars': 4.0},\n",
       " {'Name': 'Etna Restaurant & Wine Bar',\n",
       "  'Address': '11919 Mayfield Rd',\n",
       "  'Zip Code': '44106',\n",
       "  'Latitude': 41.5088363,\n",
       "  'Longitude': -81.5994753,\n",
       "  'Category': ['Nightlife',\n",
       "   'Wine Bars',\n",
       "   'Bars',\n",
       "   'Seafood',\n",
       "   'Restaurants',\n",
       "   'Italian'],\n",
       "  'Stars': 4.0},\n",
       " {'Name': 'My Pizzetta',\n",
       "  'Address': '14290 State Rd',\n",
       "  'Zip Code': '44133',\n",
       "  'Latitude': 41.311528,\n",
       "  'Longitude': -81.725577,\n",
       "  'Category': ['Italian',\n",
       "   'Restaurants',\n",
       "   'Pizza',\n",
       "   'Pasta Shops',\n",
       "   'Food',\n",
       "   'Specialty Food',\n",
       "   'Salad',\n",
       "   'Desserts'],\n",
       "  'Stars': 4.0},\n",
       " {'Name': 'Marottas',\n",
       "  'Address': '2289 Lee Rd',\n",
       "  'Zip Code': '44118',\n",
       "  'Latitude': 41.4973505,\n",
       "  'Longitude': -81.564977,\n",
       "  'Category': ['Nightlife',\n",
       "   'Restaurants',\n",
       "   'Wine Bars',\n",
       "   'Pizza',\n",
       "   'Italian',\n",
       "   'Bars'],\n",
       "  'Stars': 4.0},\n",
       " {'Name': 'Luxe Kitchen & Lounge',\n",
       "  'Address': '6605 Detroit Ave',\n",
       "  'Zip Code': '44102',\n",
       "  'Latitude': 41.4836507,\n",
       "  'Longitude': -81.7309664,\n",
       "  'Category': ['Mediterranean',\n",
       "   'Vegetarian',\n",
       "   'Italian',\n",
       "   'Bars',\n",
       "   'Tapas Bars',\n",
       "   'Lounges',\n",
       "   'Vegan',\n",
       "   'Nightlife',\n",
       "   'American (New)',\n",
       "   'Restaurants'],\n",
       "  'Stars': 4.0},\n",
       " {'Name': \"Carrabba's Italian Grill\",\n",
       "  'Address': '25054 Sperry Dr',\n",
       "  'Zip Code': '44145',\n",
       "  'Latitude': 41.4745693462,\n",
       "  'Longitude': -81.8983233303,\n",
       "  'Category': ['Restaurants', 'Seafood', 'Italian'],\n",
       "  'Stars': 4.0},\n",
       " {'Name': \"Leo's Italian Social\",\n",
       "  'Address': '2251 Front St',\n",
       "  'Zip Code': '44221',\n",
       "  'Latitude': 41.137374,\n",
       "  'Longitude': -81.4824073,\n",
       "  'Category': ['Restaurants', 'Italian'],\n",
       "  'Stars': 4.0},\n",
       " {'Name': 'Pappou Cafe',\n",
       "  'Address': '8320 Snow Rd',\n",
       "  'Zip Code': '44129',\n",
       "  'Latitude': 41.405087,\n",
       "  'Longitude': -81.7426833,\n",
       "  'Category': ['Diners',\n",
       "   'American (Traditional)',\n",
       "   'Italian',\n",
       "   'Greek',\n",
       "   'Restaurants'],\n",
       "  'Stars': 4.0},\n",
       " {'Name': \"Matteo's Casual Italian\",\n",
       "  'Address': '8072 Columbia Rd',\n",
       "  'Zip Code': '44138',\n",
       "  'Latitude': 41.3747475,\n",
       "  'Longitude': -81.9017388,\n",
       "  'Category': ['Caterers',\n",
       "   'Cocktail Bars',\n",
       "   'Event Planning & Services',\n",
       "   'Nightlife',\n",
       "   'Italian',\n",
       "   'Wine Bars',\n",
       "   'Restaurants',\n",
       "   'Bars',\n",
       "   'Pizza'],\n",
       "  'Stars': 4.0},\n",
       " {'Name': 'Giovannis Ristorante',\n",
       "  'Address': '25550 Chagrin Blvd',\n",
       "  'Zip Code': '44122',\n",
       "  'Latitude': 41.463861,\n",
       "  'Longitude': -81.498804,\n",
       "  'Category': ['Italian', 'Restaurants'],\n",
       "  'Stars': 4.0},\n",
       " {'Name': \"Dave's Cosmic Subs\",\n",
       "  'Address': '9 River St',\n",
       "  'Zip Code': '44022',\n",
       "  'Latitude': 41.4315,\n",
       "  'Longitude': -81.3925753,\n",
       "  'Category': ['Sandwiches',\n",
       "   'Restaurants',\n",
       "   'Chicken Wings',\n",
       "   'Soup',\n",
       "   'Salad',\n",
       "   'Italian'],\n",
       "  'Stars': 4.0},\n",
       " {'Name': 'Felice',\n",
       "  'Address': '12502 Larchmere Blvd',\n",
       "  'Zip Code': '44120',\n",
       "  'Latitude': 41.4875934,\n",
       "  'Longitude': -81.5960105,\n",
       "  'Category': ['Food',\n",
       "   'Bars',\n",
       "   'Italian',\n",
       "   'American (New)',\n",
       "   'Desserts',\n",
       "   'Nightlife',\n",
       "   'Cafes',\n",
       "   'Restaurants'],\n",
       "  'Stars': 4.0},\n",
       " {'Name': '3 Brothers Pizza',\n",
       "  'Address': '7523 Pearl Rd',\n",
       "  'Zip Code': '44130',\n",
       "  'Latitude': 41.3606048,\n",
       "  'Longitude': -81.8129143,\n",
       "  'Category': ['Salad',\n",
       "   'Restaurants',\n",
       "   'Beer Bar',\n",
       "   'Wine Bars',\n",
       "   'Burgers',\n",
       "   'Beer',\n",
       "   'Wine & Spirits',\n",
       "   'Event Planning & Services',\n",
       "   'Desserts',\n",
       "   'Chicken Wings',\n",
       "   'Sandwiches',\n",
       "   'American (Traditional)',\n",
       "   'American (New)',\n",
       "   'Food',\n",
       "   'Italian',\n",
       "   'Caterers',\n",
       "   'Pizza',\n",
       "   'Gluten-Free',\n",
       "   'Bars',\n",
       "   'Nightlife'],\n",
       "  'Stars': 4.0},\n",
       " {'Name': \"Bruno's Ristorante\",\n",
       "  'Address': '2644 W 41st St',\n",
       "  'Zip Code': '44113',\n",
       "  'Latitude': 41.4713385,\n",
       "  'Longitude': -81.7136123,\n",
       "  'Category': ['Event Planning & Services',\n",
       "   'Caterers',\n",
       "   'Italian',\n",
       "   'Restaurants'],\n",
       "  'Stars': 4.0},\n",
       " {'Name': 'Vaccaros Trattoria',\n",
       "  'Address': '1000 Ghent Rd',\n",
       "  'Zip Code': '44333',\n",
       "  'Latitude': 41.1517107,\n",
       "  'Longitude': -81.6343109,\n",
       "  'Category': ['Italian', 'Pizza', 'Restaurants', 'Vegan'],\n",
       "  'Stars': 4.0},\n",
       " {'Name': 'The Tavern of Stow',\n",
       "  'Address': '4976 Darrow Rd',\n",
       "  'Zip Code': '44224',\n",
       "  'Latitude': 41.2006727685,\n",
       "  'Longitude': -81.4410854504,\n",
       "  'Category': ['American (Traditional)',\n",
       "   'Beer',\n",
       "   'Wine & Spirits',\n",
       "   'Food',\n",
       "   'Restaurants',\n",
       "   'Wraps',\n",
       "   'Italian',\n",
       "   'Soup'],\n",
       "  'Stars': 4.0},\n",
       " {'Name': 'Cafe Toscano',\n",
       "  'Address': '215 W Garfield Rd, Ste 170',\n",
       "  'Zip Code': '44202',\n",
       "  'Latitude': 41.3166542,\n",
       "  'Longitude': -81.353397,\n",
       "  'Category': ['Italian', 'Restaurants'],\n",
       "  'Stars': 4.0},\n",
       " {'Name': \"TJ's On The Avenue\",\n",
       "  'Address': '7485 Mentor Ave',\n",
       "  'Zip Code': '44060',\n",
       "  'Latitude': 41.6550373,\n",
       "  'Longitude': -81.3743175,\n",
       "  'Category': ['Caterers',\n",
       "   'Restaurants',\n",
       "   'Grocery',\n",
       "   'Italian',\n",
       "   'Food',\n",
       "   'Event Planning & Services'],\n",
       "  'Stars': 4.0},\n",
       " {'Name': \"Bucci's J Bella\",\n",
       "  'Address': '12201 Pearl Rd',\n",
       "  'Zip Code': '44136',\n",
       "  'Latitude': 41.3233866,\n",
       "  'Longitude': -81.8357989,\n",
       "  'Category': ['Restaurants', 'Pizza', 'Italian', 'American (New)'],\n",
       "  'Stars': 4.0},\n",
       " {'Name': \"Corleone's Ristorante & Bar\",\n",
       "  'Address': '5669 Broadview Rd',\n",
       "  'Zip Code': '44134',\n",
       "  'Latitude': 41.4081300284,\n",
       "  'Longitude': -81.6906800866,\n",
       "  'Category': ['Wine Bars',\n",
       "   'Seafood',\n",
       "   'Italian',\n",
       "   'Bars',\n",
       "   'Nightlife',\n",
       "   'Pizza',\n",
       "   'Restaurants'],\n",
       "  'Stars': 4.0}]"
      ]
     },
     "execution_count": 464,
     "metadata": {},
     "output_type": "execute_result"
    }
   ],
   "source": [
    "lst_store"
   ]
  },
  {
   "cell_type": "code",
   "execution_count": 409,
   "metadata": {},
   "outputs": [],
   "source": [
    "cleveland_coordinates = (41.4993, -81.6944)\n",
    "folium_map = folium.Map(location=cleveland_coordinates,width=1000,height=800,zoom_start=10)"
   ]
  },
  {
   "cell_type": "code",
   "execution_count": 410,
   "metadata": {},
   "outputs": [],
   "source": [
    "top_restaurants = get_popular_restaurants(imp_ohio_reviews,['Latin American'])"
   ]
  },
  {
   "cell_type": "code",
   "execution_count": 445,
   "metadata": {},
   "outputs": [
    {
     "data": {
      "text/html": [
       "<div style=\"width:100%;\"><div style=\"position:relative;width:100%;height:0;padding-bottom:60%;\"><span style=\"color:#565656\">Make this Notebook Trusted to load map: File -> Trust Notebook</span><iframe src=\"about:blank\" style=\"position:absolute;width:100%;height:100%;left:0;top:0;border:none !important;\" data-html=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 onload=\"this.contentDocument.open();this.contentDocument.write(atob(this.getAttribute('data-html')));this.contentDocument.close();\" allowfullscreen webkitallowfullscreen mozallowfullscreen></iframe></div></div>"
      ],
      "text/plain": [
       "<folium.folium.Map at 0x1a974fa8d0>"
      ]
     },
     "execution_count": 445,
     "metadata": {},
     "output_type": "execute_result"
    }
   ],
   "source": [
    "\n",
    "for restaurant in lst_store:\n",
    "    coordinates = restaurant['Latitude'],restaurant['Longitude']\n",
    "    folium.Marker(coordinates,popup=(restaurant['Name'],restaurant['Category'])).add_to(folium_map)  \n",
    "folium_map"
   ]
  },
  {
   "cell_type": "code",
   "execution_count": 367,
   "metadata": {},
   "outputs": [],
   "source": [
    "folium_map.save(\"map.html\")"
   ]
  },
  {
   "cell_type": "code",
   "execution_count": 21,
   "metadata": {},
   "outputs": [
    {
     "data": {
      "image/png": "[encoded data removed]",
      "text/plain": [
       "<Figure size 1080x720 with 1 Axes>"
      ]
     },
     "metadata": {},
     "output_type": "display_data"
    }
   ],
   "source": [
    "# Let's see the distribution of these categories.\n",
    "indices = np.arange(len(dict_category_sorted[:50]))\n",
    "word = []\n",
    "frequency = []\n",
    "\n",
    "for i in range(len(dict_category_sorted[:50])):\n",
    "    word.append(dict_category_sorted[i][0])\n",
    "    frequency.append(dict_category_sorted[i][1])\n",
    "plt.figure(figsize=(15,10))\n",
    "plt.bar(indices, frequency, color='b')\n",
    "plt.xticks(indices, word, rotation='vertical')\n",
    "plt.tight_layout()\n",
    "plt.show()"
   ]
  },
  {
   "cell_type": "markdown",
   "metadata": {},
   "source": [
    "### Text processing of the reviews"
   ]
  },
  {
   "cell_type": "code",
   "execution_count": null,
   "metadata": {},
   "outputs": [],
   "source": []
  },
  {
   "cell_type": "code",
   "execution_count": 22,
   "metadata": {},
   "outputs": [
    {
     "data": {
      "text/html": [
       "<div>\n",
       "<style scoped>\n",
       "    .dataframe tbody tr th:only-of-type {\n",
       "        vertical-align: middle;\n",
       "    }\n",
       "\n",
       "    .dataframe tbody tr th {\n",
       "        vertical-align: top;\n",
       "    }\n",
       "\n",
       "    .dataframe thead th {\n",
       "        text-align: right;\n",
       "    }\n",
       "</style>\n",
       "<table border=\"1\" class=\"dataframe\">\n",
       "  <thead>\n",
       "    <tr style=\"text-align: right;\">\n",
       "      <th></th>\n",
       "      <th>review_id</th>\n",
       "      <th>user_id</th>\n",
       "      <th>business_id</th>\n",
       "      <th>stars</th>\n",
       "      <th>useful</th>\n",
       "      <th>funny</th>\n",
       "      <th>cool</th>\n",
       "      <th>text</th>\n",
       "      <th>date</th>\n",
       "      <th>sep_categories</th>\n",
       "      <th>lst_stars</th>\n",
       "      <th>count_vect</th>\n",
       "      <th>tfidf_vect</th>\n",
       "      <th>values_cnt</th>\n",
       "      <th>values_tfidf</th>\n",
       "    </tr>\n",
       "  </thead>\n",
       "  <tbody>\n",
       "    <tr>\n",
       "      <th>0</th>\n",
       "      <td>eE3ekstCj5dNcBJVsbOJBw</td>\n",
       "      <td>V34qejxNsCbcgD8C0HVk-Q</td>\n",
       "      <td>VH2BjFjc9usDquDgoHhptA</td>\n",
       "      <td>4.0</td>\n",
       "      <td>2</td>\n",
       "      <td>0</td>\n",
       "      <td>2</td>\n",
       "      <td>How exciting to have another great Barrio loca...</td>\n",
       "      <td>2015-02-11 03:05:31</td>\n",
       "      <td>[Restaurants, Breakfast &amp; Brunch, Mexican, Nig...</td>\n",
       "      <td>[4.0]</td>\n",
       "      <td>[0, 0, 0, 0, 0, 0, 0, 0, 0, 0, 0, 0, 0, 0, 0, ...</td>\n",
       "      <td>[0, 0, 0, 0, 0, 0, 0, 0, 0, 0, 0, 0, 0, 0, 0, ...</td>\n",
       "      <td>[4.0, 0, 0, 0, 0, 0, 0, 0, 0, 0, 0, 0, 0, 0, 0...</td>\n",
       "      <td>[4.0, 0, 0, 0, 0, 0, 0, 0, 0, 0, 0, 0, 0, 0, 0...</td>\n",
       "    </tr>\n",
       "    <tr>\n",
       "      <th>1</th>\n",
       "      <td>9RIlb-Awn4B4Cdv7hfL9Hg</td>\n",
       "      <td>sxEzazybwfF86Mv8Dm3tgw</td>\n",
       "      <td>VH2BjFjc9usDquDgoHhptA</td>\n",
       "      <td>4.0</td>\n",
       "      <td>1</td>\n",
       "      <td>0</td>\n",
       "      <td>0</td>\n",
       "      <td>Fun, fun place!  It's just the perfect food-wi...</td>\n",
       "      <td>2016-12-04 14:15:43</td>\n",
       "      <td>[Restaurants, Breakfast &amp; Brunch, Mexican, Nig...</td>\n",
       "      <td>[4.0]</td>\n",
       "      <td>[0, 0, 0, 0, 0, 0, 0, 0, 0, 0, 0, 0, 0, 0, 0, ...</td>\n",
       "      <td>[0, 0, 0, 0, 0, 0, 0, 0, 0, 0, 0, 0, 0, 0, 0, ...</td>\n",
       "      <td>[4.0, 0, 0, 0, 0, 0, 0, 0, 0, 0, 0, 0, 0, 0, 0...</td>\n",
       "      <td>[4.0, 0, 0, 0, 0, 0, 0, 0, 0, 0, 0, 0, 0, 0, 0...</td>\n",
       "    </tr>\n",
       "    <tr>\n",
       "      <th>2</th>\n",
       "      <td>V18bxL_rnoPltBZhthORYA</td>\n",
       "      <td>v35r6tj4TjIsON7Z1xE4yA</td>\n",
       "      <td>VH2BjFjc9usDquDgoHhptA</td>\n",
       "      <td>4.0</td>\n",
       "      <td>0</td>\n",
       "      <td>0</td>\n",
       "      <td>0</td>\n",
       "      <td>So effing good. Super cheap too. Did the build...</td>\n",
       "      <td>2015-12-15 01:46:39</td>\n",
       "      <td>[Restaurants, Breakfast &amp; Brunch, Mexican, Nig...</td>\n",
       "      <td>[4.0]</td>\n",
       "      <td>[0, 0, 0, 0, 0, 0, 0, 0, 0, 0, 0, 0, 0, 0, 0, ...</td>\n",
       "      <td>[0, 0, 0, 0, 0, 0, 0, 0, 0, 0, 0, 0, 0, 0, 0, ...</td>\n",
       "      <td>[4.0, 0, 0, 0, 0, 0, 0, 0, 0, 0, 0, 0, 0, 0, 0...</td>\n",
       "      <td>[4.0, 0, 0, 0, 0, 0, 0, 0, 0, 0, 0, 0, 0, 0, 0...</td>\n",
       "    </tr>\n",
       "    <tr>\n",
       "      <th>3</th>\n",
       "      <td>ee7s14ESTjHfhbXEAl1_yw</td>\n",
       "      <td>p0lnRfBorJW2HzkzoLyymQ</td>\n",
       "      <td>VH2BjFjc9usDquDgoHhptA</td>\n",
       "      <td>4.0</td>\n",
       "      <td>0</td>\n",
       "      <td>0</td>\n",
       "      <td>0</td>\n",
       "      <td>Heading into Cleveland for the first time, we ...</td>\n",
       "      <td>2017-11-08 15:13:13</td>\n",
       "      <td>[Restaurants, Breakfast &amp; Brunch, Mexican, Nig...</td>\n",
       "      <td>[4.0]</td>\n",
       "      <td>[0, 0, 0, 0, 0, 0, 0, 0, 0, 0, 0, 0, 0, 0, 0, ...</td>\n",
       "      <td>[0, 0, 0, 0, 0, 0, 0, 0, 0, 0, 0, 0, 0, 0, 0, ...</td>\n",
       "      <td>[4.0, 0, 0, 0, 0, 0, 0, 0, 0, 0, 0, 0, 0, 0, 0...</td>\n",
       "      <td>[4.0, 0, 0, 0, 0, 0, 0, 0, 0, 0, 0, 0, 0, 0, 0...</td>\n",
       "    </tr>\n",
       "    <tr>\n",
       "      <th>4</th>\n",
       "      <td>raOFF3dORMPZ81RI5zh1Wg</td>\n",
       "      <td>ILk5Y4wPNW-7y0_As-xI6A</td>\n",
       "      <td>VH2BjFjc9usDquDgoHhptA</td>\n",
       "      <td>4.0</td>\n",
       "      <td>4</td>\n",
       "      <td>0</td>\n",
       "      <td>1</td>\n",
       "      <td>Hot dogs are to Happy Dog as tacos are to Barr...</td>\n",
       "      <td>2015-02-10 03:53:51</td>\n",
       "      <td>[Restaurants, Breakfast &amp; Brunch, Mexican, Nig...</td>\n",
       "      <td>[4.0]</td>\n",
       "      <td>[0, 0, 0, 0, 0, 0, 0, 0, 0, 0, 0, 0, 0, 0, 0, ...</td>\n",
       "      <td>[0, 0, 0, 0, 0, 0, 0, 0, 0, 0, 0, 0, 0, 0, 0, ...</td>\n",
       "      <td>[4.0, 0, 0, 0, 0, 0, 0, 0, 0, 0, 0, 0, 0, 0, 0...</td>\n",
       "      <td>[4.0, 0, 0, 0, 0, 0, 0, 0, 0, 0, 0, 0, 0, 0, 0...</td>\n",
       "    </tr>\n",
       "  </tbody>\n",
       "</table>\n",
       "</div>"
      ],
      "text/plain": [
       "                review_id                 user_id             business_id  \\\n",
       "0  eE3ekstCj5dNcBJVsbOJBw  V34qejxNsCbcgD8C0HVk-Q  VH2BjFjc9usDquDgoHhptA   \n",
       "1  9RIlb-Awn4B4Cdv7hfL9Hg  sxEzazybwfF86Mv8Dm3tgw  VH2BjFjc9usDquDgoHhptA   \n",
       "2  V18bxL_rnoPltBZhthORYA  v35r6tj4TjIsON7Z1xE4yA  VH2BjFjc9usDquDgoHhptA   \n",
       "3  ee7s14ESTjHfhbXEAl1_yw  p0lnRfBorJW2HzkzoLyymQ  VH2BjFjc9usDquDgoHhptA   \n",
       "4  raOFF3dORMPZ81RI5zh1Wg  ILk5Y4wPNW-7y0_As-xI6A  VH2BjFjc9usDquDgoHhptA   \n",
       "\n",
       "   stars  useful  funny  cool  \\\n",
       "0    4.0       2      0     2   \n",
       "1    4.0       1      0     0   \n",
       "2    4.0       0      0     0   \n",
       "3    4.0       0      0     0   \n",
       "4    4.0       4      0     1   \n",
       "\n",
       "                                                text                 date  \\\n",
       "0  How exciting to have another great Barrio loca...  2015-02-11 03:05:31   \n",
       "1  Fun, fun place!  It's just the perfect food-wi...  2016-12-04 14:15:43   \n",
       "2  So effing good. Super cheap too. Did the build...  2015-12-15 01:46:39   \n",
       "3  Heading into Cleveland for the first time, we ...  2017-11-08 15:13:13   \n",
       "4  Hot dogs are to Happy Dog as tacos are to Barr...  2015-02-10 03:53:51   \n",
       "\n",
       "                                      sep_categories lst_stars  \\\n",
       "0  [Restaurants, Breakfast & Brunch, Mexican, Nig...     [4.0]   \n",
       "1  [Restaurants, Breakfast & Brunch, Mexican, Nig...     [4.0]   \n",
       "2  [Restaurants, Breakfast & Brunch, Mexican, Nig...     [4.0]   \n",
       "3  [Restaurants, Breakfast & Brunch, Mexican, Nig...     [4.0]   \n",
       "4  [Restaurants, Breakfast & Brunch, Mexican, Nig...     [4.0]   \n",
       "\n",
       "                                          count_vect  \\\n",
       "0  [0, 0, 0, 0, 0, 0, 0, 0, 0, 0, 0, 0, 0, 0, 0, ...   \n",
       "1  [0, 0, 0, 0, 0, 0, 0, 0, 0, 0, 0, 0, 0, 0, 0, ...   \n",
       "2  [0, 0, 0, 0, 0, 0, 0, 0, 0, 0, 0, 0, 0, 0, 0, ...   \n",
       "3  [0, 0, 0, 0, 0, 0, 0, 0, 0, 0, 0, 0, 0, 0, 0, ...   \n",
       "4  [0, 0, 0, 0, 0, 0, 0, 0, 0, 0, 0, 0, 0, 0, 0, ...   \n",
       "\n",
       "                                          tfidf_vect  \\\n",
       "0  [0, 0, 0, 0, 0, 0, 0, 0, 0, 0, 0, 0, 0, 0, 0, ...   \n",
       "1  [0, 0, 0, 0, 0, 0, 0, 0, 0, 0, 0, 0, 0, 0, 0, ...   \n",
       "2  [0, 0, 0, 0, 0, 0, 0, 0, 0, 0, 0, 0, 0, 0, 0, ...   \n",
       "3  [0, 0, 0, 0, 0, 0, 0, 0, 0, 0, 0, 0, 0, 0, 0, ...   \n",
       "4  [0, 0, 0, 0, 0, 0, 0, 0, 0, 0, 0, 0, 0, 0, 0, ...   \n",
       "\n",
       "                                          values_cnt  \\\n",
       "0  [4.0, 0, 0, 0, 0, 0, 0, 0, 0, 0, 0, 0, 0, 0, 0...   \n",
       "1  [4.0, 0, 0, 0, 0, 0, 0, 0, 0, 0, 0, 0, 0, 0, 0...   \n",
       "2  [4.0, 0, 0, 0, 0, 0, 0, 0, 0, 0, 0, 0, 0, 0, 0...   \n",
       "3  [4.0, 0, 0, 0, 0, 0, 0, 0, 0, 0, 0, 0, 0, 0, 0...   \n",
       "4  [4.0, 0, 0, 0, 0, 0, 0, 0, 0, 0, 0, 0, 0, 0, 0...   \n",
       "\n",
       "                                        values_tfidf  \n",
       "0  [4.0, 0, 0, 0, 0, 0, 0, 0, 0, 0, 0, 0, 0, 0, 0...  \n",
       "1  [4.0, 0, 0, 0, 0, 0, 0, 0, 0, 0, 0, 0, 0, 0, 0...  \n",
       "2  [4.0, 0, 0, 0, 0, 0, 0, 0, 0, 0, 0, 0, 0, 0, 0...  \n",
       "3  [4.0, 0, 0, 0, 0, 0, 0, 0, 0, 0, 0, 0, 0, 0, 0...  \n",
       "4  [4.0, 0, 0, 0, 0, 0, 0, 0, 0, 0, 0, 0, 0, 0, 0...  "
      ]
     },
     "execution_count": 22,
     "metadata": {},
     "output_type": "execute_result"
    }
   ],
   "source": [
    "imp_ohio_reviews.head()"
   ]
  },
  {
   "cell_type": "code",
   "execution_count": 23,
   "metadata": {},
   "outputs": [],
   "source": [
    "import datetime"
   ]
  },
  {
   "cell_type": "code",
   "execution_count": 24,
   "metadata": {},
   "outputs": [
    {
     "data": {
      "text/plain": [
       "'2015-02-11 03:05:31'"
      ]
     },
     "execution_count": 24,
     "metadata": {},
     "output_type": "execute_result"
    }
   ],
   "source": [
    "imp_ohio_reviews['date'][0]"
   ]
  },
  {
   "cell_type": "code",
   "execution_count": 25,
   "metadata": {},
   "outputs": [],
   "source": [
    "imp_ohio_reviews['date'] = imp_ohio_reviews['date'].apply(lambda x: datetime.datetime.strptime(x, \"%Y-%m-%d %H:%M:%S\"))"
   ]
  },
  {
   "cell_type": "code",
   "execution_count": 26,
   "metadata": {},
   "outputs": [],
   "source": [
    "imp_ohio_reviews.drop(['useful','funny','cool'],axis=1,inplace=True)"
   ]
  },
  {
   "cell_type": "code",
   "execution_count": 27,
   "metadata": {},
   "outputs": [],
   "source": [
    "# Let's clean the text"
   ]
  },
  {
   "cell_type": "code",
   "execution_count": 37,
   "metadata": {},
   "outputs": [
    {
     "ename": "AttributeError",
     "evalue": "'set' object has no attribute 'words'",
     "output_type": "error",
     "traceback": [
      "\u001b[0;31m---------------------------------------------------------------------------\u001b[0m",
      "\u001b[0;31mAttributeError\u001b[0m                            Traceback (most recent call last)",
      "\u001b[0;32m<ipython-input-37-a84421a30dbc>\u001b[0m in \u001b[0;36m<module>\u001b[0;34m\u001b[0m\n\u001b[0;32m----> 1\u001b[0;31m \u001b[0mstopwords\u001b[0m \u001b[0;34m=\u001b[0m \u001b[0mset\u001b[0m\u001b[0;34m(\u001b[0m\u001b[0mstopwords\u001b[0m\u001b[0;34m.\u001b[0m\u001b[0mwords\u001b[0m\u001b[0;34m(\u001b[0m\u001b[0;34m'english'\u001b[0m\u001b[0;34m)\u001b[0m\u001b[0;34m)\u001b[0m\u001b[0;34m\u001b[0m\u001b[0;34m\u001b[0m\u001b[0m\n\u001b[0m\u001b[1;32m      2\u001b[0m \u001b[0;32mdef\u001b[0m \u001b[0mpreprocess\u001b[0m\u001b[0;34m(\u001b[0m\u001b[0mtext\u001b[0m\u001b[0;34m)\u001b[0m\u001b[0;34m:\u001b[0m\u001b[0;34m\u001b[0m\u001b[0;34m\u001b[0m\u001b[0m\n\u001b[1;32m      3\u001b[0m     \u001b[0mtext\u001b[0m \u001b[0;34m=\u001b[0m \u001b[0mtext\u001b[0m\u001b[0;34m.\u001b[0m\u001b[0mtranslate\u001b[0m\u001b[0;34m(\u001b[0m\u001b[0mstring\u001b[0m\u001b[0;34m.\u001b[0m\u001b[0mpunctuation\u001b[0m\u001b[0;34m)\u001b[0m\u001b[0;34m\u001b[0m\u001b[0;34m\u001b[0m\u001b[0m\n\u001b[1;32m      4\u001b[0m     \u001b[0mtext\u001b[0m \u001b[0;34m=\u001b[0m \u001b[0mtext\u001b[0m\u001b[0;34m.\u001b[0m\u001b[0mlower\u001b[0m\u001b[0;34m(\u001b[0m\u001b[0;34m)\u001b[0m\u001b[0;34m.\u001b[0m\u001b[0msplit\u001b[0m\u001b[0;34m(\u001b[0m\u001b[0;34m)\u001b[0m\u001b[0;34m\u001b[0m\u001b[0;34m\u001b[0m\u001b[0m\n\u001b[1;32m      5\u001b[0m     \u001b[0mtext\u001b[0m \u001b[0;34m=\u001b[0m \u001b[0;34m[\u001b[0m\u001b[0mw\u001b[0m \u001b[0;32mfor\u001b[0m \u001b[0mw\u001b[0m \u001b[0;32min\u001b[0m \u001b[0mtext\u001b[0m \u001b[0;32mif\u001b[0m \u001b[0;32mnot\u001b[0m \u001b[0mw\u001b[0m \u001b[0;32min\u001b[0m \u001b[0mstopwords\u001b[0m \u001b[0;32mand\u001b[0m \u001b[0mlen\u001b[0m\u001b[0;34m(\u001b[0m\u001b[0mw\u001b[0m\u001b[0;34m)\u001b[0m \u001b[0;34m>\u001b[0m \u001b[0;36m0\u001b[0m\u001b[0;34m]\u001b[0m\u001b[0;34m\u001b[0m\u001b[0;34m\u001b[0m\u001b[0m\n",
      "\u001b[0;31mAttributeError\u001b[0m: 'set' object has no attribute 'words'"
     ]
    }
   ],
   "source": [
    "stopwords = set(stopwords.words('english'))\n",
    "def preprocess(text):\n",
    "    text = text.translate(string.punctuation)\n",
    "    text = text.lower().split()    \n",
    "    text = [w for w in text if not w in stopwords and len(w) > 0]    \n",
    "    text = \" \".join(text)\n",
    "    \n",
    "    text = re.sub(r\"[^A-Za-z0-9^,!.\\/'+-=]\", \" \", text)\n",
    "    text = re.sub(r\"what's\", \"what is \", text)\n",
    "    text = re.sub(r\"\\'s\", \" \", text)\n",
    "    text = re.sub(r\"\\'ve\", \" have \", text)\n",
    "    text = re.sub(r\"n't\", \" not \", text)\n",
    "    text = re.sub(r\"i'm\", \"i am \", text)\n",
    "    text = re.sub(r\"\\'re\", \" are \", text)\n",
    "    text = re.sub(r\"\\'d\", \" would \", text)\n",
    "    text = re.sub(r\"\\'ll\", \" will \", text)\n",
    "    text = re.sub(r\",\", \" \", text)\n",
    "    text = re.sub(r\"\\.\", \" \", text)\n",
    "    text = re.sub(r\"!\", \" ! \", text)\n",
    "    text = re.sub(r\"\\/\", \" \", text)\n",
    "    text = re.sub(r\"\\^\", \" \", text)\n",
    "    text = re.sub(r\"\\+\", \" \", text)\n",
    "    text = re.sub(r\"\\-\", \" - \", text)\n",
    "    text = re.sub(r\"\\=\", \" \", text)\n",
    "    text = re.sub(r\"'\", \" \", text)\n",
    "    text = re.sub(r\":\", \" \", text)\n",
    "    text = re.sub(r\" e g \", \" eg \", text)\n",
    "    text = re.sub(r\" b g \", \" bg \", text)\n",
    "    text = re.sub(r\" u s \", \" american \", text)\n",
    "    text = re.sub(r\"\\0s\", \"0\", text)\n",
    "    text = re.sub(r\" 9 11 \", \"911\", text)\n",
    "    text = re.sub(r\"e - mail\", \"email\", text)\n",
    "    text = re.sub(r\"j k\", \"jk\", text)\n",
    "    text = re.sub(r\"\\s{2,}\", \" \", text)    \n",
    "    return text"
   ]
  },
  {
   "cell_type": "code",
   "execution_count": 36,
   "metadata": {},
   "outputs": [],
   "source": [
    "imp_ohio_reviews['clean_text'] = imp_ohio_reviews['text'].apply(preprocess)"
   ]
  },
  {
   "cell_type": "code",
   "execution_count": 38,
   "metadata": {},
   "outputs": [
    {
     "name": "stdout",
     "output_type": "stream",
     "text": [
      "How exciting to have another great Barrio location. It's large and bright and the service was quick. Same cheap prices and great tacos as we're used to from the Tremont and Lakewood locations.\n",
      "\n",
      "\n",
      "exciting another great barrio location large bright service quick cheap prices great tacos we are used tremont lakewood locations \n",
      "----------------------------------------------------------------------------------------------------\n",
      "Fun, fun place!  It's just the perfect food-with-drinks kind of place.  For $3 each, you make your own tacos. (Ordering off of a check list, choosing your own shell, protein, toppings, etc).  Totally vegan-friendly too.  I ordered two corn/hard shells, one with spicy tofu and the other with black beans, both with a jicama slaw and salsas.  You can also order a small side of rice which comes in the perfect-sized four ounce container to compliment the tacos.\n",
      "So $7 got me two tacos and rice which was more than enough for me.  The food was surprisingly good.  Everything tastes fresh.\n",
      "\n",
      "\n",
      "fun fun place ! perfect food - with - drinks kind place 3 each make tacos ordering check list choosing shell protein toppings etc totally vegan - friendly too ordered two corn hard shells one spicy tofu black beans jicama slaw salsas also order small side rice comes perfect - sized four ounce container compliment tacos so 7 got two tacos rice enough me food surprisingly good everything tastes fresh \n",
      "----------------------------------------------------------------------------------------------------\n"
     ]
    }
   ],
   "source": [
    "for i in range(2):\n",
    "    print(imp_ohio_reviews.iloc[i]['text'])\n",
    "    print('\\n')\n",
    "    print(imp_ohio_reviews.iloc[i]['clean_text'])\n",
    "    print('-'*100)"
   ]
  },
  {
   "cell_type": "markdown",
   "metadata": {},
   "source": [
    "### One hot encoding over the dishes!"
   ]
  },
  {
   "cell_type": "markdown",
   "metadata": {},
   "source": [
    "### There are multiple reviews per user as well as per restaurant"
   ]
  },
  {
   "cell_type": "code",
   "execution_count": 41,
   "metadata": {},
   "outputs": [],
   "source": [
    "user_rev = imp_ohio_reviews.groupby('user_id').agg({'clean_text': ' '.join})\n",
    "rest_rev = imp_ohio_reviews.groupby('business_id').agg({'clean_text': ' '.join})"
   ]
  },
  {
   "cell_type": "code",
   "execution_count": 42,
   "metadata": {},
   "outputs": [
    {
     "data": {
      "text/html": [
       "<div>\n",
       "<style scoped>\n",
       "    .dataframe tbody tr th:only-of-type {\n",
       "        vertical-align: middle;\n",
       "    }\n",
       "\n",
       "    .dataframe tbody tr th {\n",
       "        vertical-align: top;\n",
       "    }\n",
       "\n",
       "    .dataframe thead tr th {\n",
       "        text-align: left;\n",
       "    }\n",
       "\n",
       "    .dataframe thead tr:last-of-type th {\n",
       "        text-align: right;\n",
       "    }\n",
       "</style>\n",
       "<table border=\"1\" class=\"dataframe\">\n",
       "  <thead>\n",
       "    <tr>\n",
       "      <th></th>\n",
       "      <th colspan=\"8\" halign=\"left\">stars</th>\n",
       "    </tr>\n",
       "    <tr>\n",
       "      <th></th>\n",
       "      <th>count</th>\n",
       "      <th>mean</th>\n",
       "      <th>std</th>\n",
       "      <th>min</th>\n",
       "      <th>25%</th>\n",
       "      <th>50%</th>\n",
       "      <th>75%</th>\n",
       "      <th>max</th>\n",
       "    </tr>\n",
       "    <tr>\n",
       "      <th>business_id</th>\n",
       "      <th></th>\n",
       "      <th></th>\n",
       "      <th></th>\n",
       "      <th></th>\n",
       "      <th></th>\n",
       "      <th></th>\n",
       "      <th></th>\n",
       "      <th></th>\n",
       "    </tr>\n",
       "  </thead>\n",
       "  <tbody>\n",
       "    <tr>\n",
       "      <th>--S62v0QgkqQaVUhFnNHrw</th>\n",
       "      <td>3.0</td>\n",
       "      <td>2.0</td>\n",
       "      <td>0.0</td>\n",
       "      <td>2.0</td>\n",
       "      <td>2.0</td>\n",
       "      <td>2.0</td>\n",
       "      <td>2.0</td>\n",
       "      <td>2.0</td>\n",
       "    </tr>\n",
       "    <tr>\n",
       "      <th>-GOsHrWPC0meDRgkCEgC8w</th>\n",
       "      <td>41.0</td>\n",
       "      <td>4.0</td>\n",
       "      <td>0.0</td>\n",
       "      <td>4.0</td>\n",
       "      <td>4.0</td>\n",
       "      <td>4.0</td>\n",
       "      <td>4.0</td>\n",
       "      <td>4.0</td>\n",
       "    </tr>\n",
       "    <tr>\n",
       "      <th>-MC7EFxTsyKMKB3zeP_FIQ</th>\n",
       "      <td>10.0</td>\n",
       "      <td>4.0</td>\n",
       "      <td>0.0</td>\n",
       "      <td>4.0</td>\n",
       "      <td>4.0</td>\n",
       "      <td>4.0</td>\n",
       "      <td>4.0</td>\n",
       "      <td>4.0</td>\n",
       "    </tr>\n",
       "    <tr>\n",
       "      <th>-OD5KnGJk4Ld8IVa2jAuFA</th>\n",
       "      <td>16.0</td>\n",
       "      <td>4.0</td>\n",
       "      <td>0.0</td>\n",
       "      <td>4.0</td>\n",
       "      <td>4.0</td>\n",
       "      <td>4.0</td>\n",
       "      <td>4.0</td>\n",
       "      <td>4.0</td>\n",
       "    </tr>\n",
       "    <tr>\n",
       "      <th>-_DxZ8gKU50sfuZEu4ypKg</th>\n",
       "      <td>69.0</td>\n",
       "      <td>4.0</td>\n",
       "      <td>0.0</td>\n",
       "      <td>4.0</td>\n",
       "      <td>4.0</td>\n",
       "      <td>4.0</td>\n",
       "      <td>4.0</td>\n",
       "      <td>4.0</td>\n",
       "    </tr>\n",
       "    <tr>\n",
       "      <th>...</th>\n",
       "      <td>...</td>\n",
       "      <td>...</td>\n",
       "      <td>...</td>\n",
       "      <td>...</td>\n",
       "      <td>...</td>\n",
       "      <td>...</td>\n",
       "      <td>...</td>\n",
       "      <td>...</td>\n",
       "    </tr>\n",
       "    <tr>\n",
       "      <th>zm8u9z2KCwEkNiCD59UQ3Q</th>\n",
       "      <td>9.0</td>\n",
       "      <td>4.0</td>\n",
       "      <td>0.0</td>\n",
       "      <td>4.0</td>\n",
       "      <td>4.0</td>\n",
       "      <td>4.0</td>\n",
       "      <td>4.0</td>\n",
       "      <td>4.0</td>\n",
       "    </tr>\n",
       "    <tr>\n",
       "      <th>ztQH2Q99E3D-iSdfImqjcQ</th>\n",
       "      <td>13.0</td>\n",
       "      <td>4.0</td>\n",
       "      <td>0.0</td>\n",
       "      <td>4.0</td>\n",
       "      <td>4.0</td>\n",
       "      <td>4.0</td>\n",
       "      <td>4.0</td>\n",
       "      <td>4.0</td>\n",
       "    </tr>\n",
       "    <tr>\n",
       "      <th>zutT311xSgH_Gbdza_jc1w</th>\n",
       "      <td>14.0</td>\n",
       "      <td>4.0</td>\n",
       "      <td>0.0</td>\n",
       "      <td>4.0</td>\n",
       "      <td>4.0</td>\n",
       "      <td>4.0</td>\n",
       "      <td>4.0</td>\n",
       "      <td>4.0</td>\n",
       "    </tr>\n",
       "    <tr>\n",
       "      <th>zydbdBR6-CM8UZ6WkW1DWA</th>\n",
       "      <td>8.0</td>\n",
       "      <td>3.0</td>\n",
       "      <td>0.0</td>\n",
       "      <td>3.0</td>\n",
       "      <td>3.0</td>\n",
       "      <td>3.0</td>\n",
       "      <td>3.0</td>\n",
       "      <td>3.0</td>\n",
       "    </tr>\n",
       "    <tr>\n",
       "      <th>zzSYBWuv_fXGtSgsO-6_1g</th>\n",
       "      <td>77.0</td>\n",
       "      <td>4.0</td>\n",
       "      <td>0.0</td>\n",
       "      <td>4.0</td>\n",
       "      <td>4.0</td>\n",
       "      <td>4.0</td>\n",
       "      <td>4.0</td>\n",
       "      <td>4.0</td>\n",
       "    </tr>\n",
       "  </tbody>\n",
       "</table>\n",
       "<p>689 rows × 8 columns</p>\n",
       "</div>"
      ],
      "text/plain": [
       "                       stars                                   \n",
       "                       count mean  std  min  25%  50%  75%  max\n",
       "business_id                                                    \n",
       "--S62v0QgkqQaVUhFnNHrw   3.0  2.0  0.0  2.0  2.0  2.0  2.0  2.0\n",
       "-GOsHrWPC0meDRgkCEgC8w  41.0  4.0  0.0  4.0  4.0  4.0  4.0  4.0\n",
       "-MC7EFxTsyKMKB3zeP_FIQ  10.0  4.0  0.0  4.0  4.0  4.0  4.0  4.0\n",
       "-OD5KnGJk4Ld8IVa2jAuFA  16.0  4.0  0.0  4.0  4.0  4.0  4.0  4.0\n",
       "-_DxZ8gKU50sfuZEu4ypKg  69.0  4.0  0.0  4.0  4.0  4.0  4.0  4.0\n",
       "...                      ...  ...  ...  ...  ...  ...  ...  ...\n",
       "zm8u9z2KCwEkNiCD59UQ3Q   9.0  4.0  0.0  4.0  4.0  4.0  4.0  4.0\n",
       "ztQH2Q99E3D-iSdfImqjcQ  13.0  4.0  0.0  4.0  4.0  4.0  4.0  4.0\n",
       "zutT311xSgH_Gbdza_jc1w  14.0  4.0  0.0  4.0  4.0  4.0  4.0  4.0\n",
       "zydbdBR6-CM8UZ6WkW1DWA   8.0  3.0  0.0  3.0  3.0  3.0  3.0  3.0\n",
       "zzSYBWuv_fXGtSgsO-6_1g  77.0  4.0  0.0  4.0  4.0  4.0  4.0  4.0\n",
       "\n",
       "[689 rows x 8 columns]"
      ]
     },
     "execution_count": 42,
     "metadata": {},
     "output_type": "execute_result"
    }
   ],
   "source": [
    "imp_ohio_reviews.groupby('business_id').describe()"
   ]
  },
  {
   "cell_type": "code",
   "execution_count": 43,
   "metadata": {},
   "outputs": [
    {
     "data": {
      "text/html": [
       "<div>\n",
       "<style scoped>\n",
       "    .dataframe tbody tr th:only-of-type {\n",
       "        vertical-align: middle;\n",
       "    }\n",
       "\n",
       "    .dataframe tbody tr th {\n",
       "        vertical-align: top;\n",
       "    }\n",
       "\n",
       "    .dataframe thead th {\n",
       "        text-align: right;\n",
       "    }\n",
       "</style>\n",
       "<table border=\"1\" class=\"dataframe\">\n",
       "  <thead>\n",
       "    <tr style=\"text-align: right;\">\n",
       "      <th></th>\n",
       "      <th>clean_text</th>\n",
       "    </tr>\n",
       "    <tr>\n",
       "      <th>user_id</th>\n",
       "      <th></th>\n",
       "    </tr>\n",
       "  </thead>\n",
       "  <tbody>\n",
       "    <tr>\n",
       "      <th>--J8UruLD_xvVuI1lMAxpA</th>\n",
       "      <td>lived cleveland often took customers favorite ...</td>\n",
       "    </tr>\n",
       "    <tr>\n",
       "      <th>--amZ_cR9Zgu4B1RrAHJyA</th>\n",
       "      <td>great location pho row staff pretty cool frien...</td>\n",
       "    </tr>\n",
       "    <tr>\n",
       "      <th>--cO5bedOWodnt8UgamQNA</th>\n",
       "      <td>service great ! chips alright just tortilla ch...</td>\n",
       "    </tr>\n",
       "    <tr>\n",
       "      <th>-0MXmdIs75oSWmp8XlQKIw</th>\n",
       "      <td>place pretty decent burger kind way way chicag...</td>\n",
       "    </tr>\n",
       "    <tr>\n",
       "      <th>-0S_XaK3Q_Mesal2Unta2w</th>\n",
       "      <td>hole wall place but food pretty good pho crepe...</td>\n",
       "    </tr>\n",
       "  </tbody>\n",
       "</table>\n",
       "</div>"
      ],
      "text/plain": [
       "                                                               clean_text\n",
       "user_id                                                                  \n",
       "--J8UruLD_xvVuI1lMAxpA  lived cleveland often took customers favorite ...\n",
       "--amZ_cR9Zgu4B1RrAHJyA  great location pho row staff pretty cool frien...\n",
       "--cO5bedOWodnt8UgamQNA  service great ! chips alright just tortilla ch...\n",
       "-0MXmdIs75oSWmp8XlQKIw  place pretty decent burger kind way way chicag...\n",
       "-0S_XaK3Q_Mesal2Unta2w  hole wall place but food pretty good pho crepe..."
      ]
     },
     "execution_count": 43,
     "metadata": {},
     "output_type": "execute_result"
    }
   ],
   "source": [
    "user_rev.head()"
   ]
  },
  {
   "cell_type": "code",
   "execution_count": 44,
   "metadata": {},
   "outputs": [],
   "source": [
    "tfidf_user = TfidfVectorizer(max_features=5000)\n",
    "tfidf_rest = TfidfVectorizer(max_features=5000)"
   ]
  },
  {
   "cell_type": "code",
   "execution_count": 45,
   "metadata": {},
   "outputs": [],
   "source": [
    "trans_user_rev = tfidf_user.fit_transform(user_rev['clean_text'])"
   ]
  },
  {
   "cell_type": "code",
   "execution_count": 46,
   "metadata": {},
   "outputs": [],
   "source": [
    "trans_rest_rev = tfidf_rest.fit_transform(rest_rev['clean_text'])"
   ]
  },
  {
   "cell_type": "markdown",
   "metadata": {},
   "source": [
    "### I could use some kind of similarity measure!"
   ]
  },
  {
   "cell_type": "code",
   "execution_count": 47,
   "metadata": {},
   "outputs": [
    {
     "data": {
      "text/plain": [
       "array([[0., 0., 0., ..., 0., 0., 0.]])"
      ]
     },
     "execution_count": 47,
     "metadata": {},
     "output_type": "execute_result"
    }
   ],
   "source": [
    "trans_rest_rev[0].toarray()"
   ]
  },
  {
   "cell_type": "markdown",
   "metadata": {},
   "source": [
    "## SpaCy word2vec"
   ]
  },
  {
   "cell_type": "markdown",
   "metadata": {},
   "source": [
    "Make a function to check the similarities between two text reviews"
   ]
  },
  {
   "cell_type": "code",
   "execution_count": 48,
   "metadata": {},
   "outputs": [],
   "source": [
    "def check_similarities(str1,str2):\n",
    "    doc1 = nlp_large(str1)\n",
    "    doc2 = nlp_large(str2)\n",
    "    return doc1.similarity(doc2)"
   ]
  },
  {
   "cell_type": "markdown",
   "metadata": {},
   "source": [
    "### We can use this function to calculate the similarity between the reviews for user 1 and user2"
   ]
  },
  {
   "cell_type": "code",
   "execution_count": 49,
   "metadata": {},
   "outputs": [
    {
     "data": {
      "text/plain": [
       "0.9280858216188774"
      ]
     },
     "execution_count": 49,
     "metadata": {},
     "output_type": "execute_result"
    }
   ],
   "source": [
    "# Similarity between user 1 and user 2\n",
    "check_similarities(user_rev.iloc[0]['clean_text'],user_rev.iloc[500]['clean_text'])"
   ]
  },
  {
   "cell_type": "code",
   "execution_count": 50,
   "metadata": {},
   "outputs": [
    {
     "data": {
      "text/plain": [
       "0.9575572142908965"
      ]
     },
     "execution_count": 50,
     "metadata": {},
     "output_type": "execute_result"
    }
   ],
   "source": [
    "# Similarity between user 1 and user 2\n",
    "check_similarities(rest_rev.iloc[0]['clean_text'],rest_rev.iloc[1]['clean_text'])"
   ]
  },
  {
   "cell_type": "code",
   "execution_count": null,
   "metadata": {},
   "outputs": [],
   "source": []
  },
  {
   "cell_type": "markdown",
   "metadata": {},
   "source": [
    "##  VADER polarity scores "
   ]
  },
  {
   "cell_type": "code",
   "execution_count": 51,
   "metadata": {},
   "outputs": [],
   "source": [
    "from nltk.sentiment.vader import SentimentIntensityAnalyzer"
   ]
  },
  {
   "cell_type": "code",
   "execution_count": 397,
   "metadata": {},
   "outputs": [
    {
     "name": "stdout",
     "output_type": "stream",
     "text": [
      "Collecting vaderSentiment\n",
      "  Downloading vaderSentiment-3.3.2-py2.py3-none-any.whl (125 kB)\n",
      "\u001b[K     |████████████████████████████████| 125 kB 2.5 MB/s eta 0:00:01\n",
      "\u001b[?25hRequirement already satisfied: requests in /Users/axr524/opt/anaconda3/envs/nlp_course/lib/python3.7/site-packages (from vaderSentiment) (2.24.0)\n",
      "Requirement already satisfied: idna<3,>=2.5 in /Users/axr524/opt/anaconda3/envs/nlp_course/lib/python3.7/site-packages (from requests->vaderSentiment) (2.10)\n",
      "Requirement already satisfied: chardet<4,>=3.0.2 in /Users/axr524/opt/anaconda3/envs/nlp_course/lib/python3.7/site-packages (from requests->vaderSentiment) (3.0.4)\n",
      "Requirement already satisfied: certifi>=2017.4.17 in /Users/axr524/opt/anaconda3/envs/nlp_course/lib/python3.7/site-packages (from requests->vaderSentiment) (2020.11.8)\n",
      "Requirement already satisfied: urllib3!=1.25.0,!=1.25.1,<1.26,>=1.21.1 in /Users/axr524/opt/anaconda3/envs/nlp_course/lib/python3.7/site-packages (from requests->vaderSentiment) (1.24.3)\n",
      "Installing collected packages: vaderSentiment\n",
      "Successfully installed vaderSentiment-3.3.2\n"
     ]
    }
   ],
   "source": [
    "!pip install vaderSentiment\n",
    "from vaderSentiment.vaderSentiment import SentimentIntensityAnalyzer\n",
    "analyzer = SentimentIntensityAnalyzer()"
   ]
  },
  {
   "cell_type": "code",
   "execution_count": 52,
   "metadata": {},
   "outputs": [],
   "source": [
    "sid = SentimentIntensityAnalyzer()"
   ]
  },
  {
   "cell_type": "code",
   "execution_count": 398,
   "metadata": {},
   "outputs": [
    {
     "data": {
      "text/plain": [
       "{'neg': 0.0, 'neu': 0.512, 'pos': 0.488, 'compound': 0.936}"
      ]
     },
     "execution_count": 398,
     "metadata": {},
     "output_type": "execute_result"
    }
   ],
   "source": [
    "sid.polarity_scores(imp_ohio_reviews['clean_text'][0])"
   ]
  },
  {
   "cell_type": "code",
   "execution_count": 399,
   "metadata": {},
   "outputs": [
    {
     "data": {
      "text/plain": [
       "{'neg': 0.0, 'neu': 0.512, 'pos': 0.488, 'compound': 0.936}"
      ]
     },
     "execution_count": 399,
     "metadata": {},
     "output_type": "execute_result"
    }
   ],
   "source": [
    "analyzer.polarity_scores(imp_ohio_reviews['clean_text'][0])"
   ]
  },
  {
   "cell_type": "code",
   "execution_count": 60,
   "metadata": {},
   "outputs": [
    {
     "data": {
      "text/plain": [
       "'exciting another great barrio location large bright service quick cheap prices great tacos we are used tremont lakewood locations '"
      ]
     },
     "execution_count": 60,
     "metadata": {},
     "output_type": "execute_result"
    }
   ],
   "source": [
    "imp_ohio_reviews.loc[0]['clean_text']"
   ]
  },
  {
   "cell_type": "code",
   "execution_count": 65,
   "metadata": {},
   "outputs": [
    {
     "data": {
      "text/plain": [
       "4.0    16784\n",
       "3.0     2177\n",
       "5.0      571\n",
       "2.0      124\n",
       "Name: stars, dtype: int64"
      ]
     },
     "execution_count": 65,
     "metadata": {},
     "output_type": "execute_result"
    }
   ],
   "source": [
    "imp_ohio_reviews['stars'].value_counts()"
   ]
  },
  {
   "cell_type": "code",
   "execution_count": 67,
   "metadata": {},
   "outputs": [
    {
     "data": {
      "text/plain": [
       "19656"
      ]
     },
     "execution_count": 67,
     "metadata": {},
     "output_type": "execute_result"
    }
   ],
   "source": [
    "len(imp_ohio_reviews)"
   ]
  },
  {
   "cell_type": "code",
   "execution_count": 401,
   "metadata": {},
   "outputs": [
    {
     "name": "stdout",
     "output_type": "stream",
     "text": [
      "The star rating is 4.0 \n",
      "The vader dict score is {'neg': 0.0, 'neu': 0.512, 'pos': 0.488, 'compound': 0.936} \n",
      "The polarity score is 0.488\n",
      "exciting another great barrio location large bright service quick cheap prices great tacos we are used tremont lakewood locations \n",
      "\n",
      "\n",
      "The star rating is 4.0 \n",
      "The vader dict score is {'neg': 0.015, 'neu': 0.616, 'pos': 0.369, 'compound': 0.9865} \n",
      "The polarity score is 0.369\n",
      "fun fun place ! perfect food - with - drinks kind place 3 each make tacos ordering check list choosing shell protein toppings etc totally vegan - friendly too ordered two corn hard shells one spicy tofu black beans jicama slaw salsas also order small side rice comes perfect - sized four ounce container compliment tacos so 7 got two tacos rice enough me food surprisingly good everything tastes fresh \n",
      "\n",
      "\n",
      "The star rating is 4.0 \n",
      "The vader dict score is {'neg': 0.0, 'neu': 0.374, 'pos': 0.626, 'compound': 0.9498} \n",
      "The polarity score is 0.626\n",
      "effing good super cheap too build tacos pulled pork good ! fun atmosphere good service\n",
      "\n",
      "\n",
      "The star rating is 4.0 \n",
      "The vader dict score is {'neg': 0.082, 'neu': 0.731, 'pos': 0.187, 'compound': 0.8091} \n",
      "The polarity score is 0.187\n",
      "heading cleveland first time stopped grove city pennsylvania guy working one shops told us barrio as canadians love mexican food naturally said hell yeah we are going check out not single regret personally like restaurant focuses taco only allowing either get offer put together building custom taco i ca not remember had remember happiness bite come back cleveland again bet i am coming back barrio \n",
      "\n",
      "\n",
      "The star rating is 4.0 \n",
      "The vader dict score is {'neg': 0.015, 'neu': 0.703, 'pos': 0.282, 'compound': 0.9933} \n",
      "The polarity score is 0.282\n",
      "hot dogs happy dog tacos barrio ! barrio truly gift east 4th area open weeks i have enough call regular ca not beat margs tacos ! i opted create tacos turned fantastic green goddess shell favorite taco shell filled sorts delicious things - shredded chicken chihuahua cheese mango salsa onions cilantro try it i would lead astray also big fan fish tacos soft shell onions cilantro crema sauce chris got recommended tacos big fan dirty taco surprisingly enough vegetarian option meat - eater is opted add chorizo it like spicy like this as far drinks go tried sangria huge fan also pear margarita found little sweet i will trying one margarita flavors next time go though ! the service so - so went opening night server really friendly little slow forgot quite things think overwhelmed second trip out waitress really sure specials i hoping weather starts warm up consider adding patio space would prime people - watching area sporting events concerts ! \n",
      "\n",
      "\n",
      "The star rating is 4.0 \n",
      "The vader dict score is {'neg': 0.071, 'neu': 0.713, 'pos': 0.216, 'compound': 0.818} \n",
      "The polarity score is 0.216\n",
      "cool place amazing food decent service going cowboys v browns game made right rush got table ordered salsa verde pineapple guacamole - guacamole sooooo good carne taco pulled pork taco chicken taco steak taco chef selections menu absolutely die except steak aaaaawful mush place everything else delicious \n",
      "\n",
      "\n",
      "The star rating is 4.0 \n",
      "The vader dict score is {'neg': 0.037, 'neu': 0.783, 'pos': 0.18, 'compound': 0.9576} \n",
      "The polarity score is 0.18\n",
      "great build tacos ! a good place stop lunch friday work happy hour half priced margs ! late night eats concert game dinner times weekends tend waits order drinks bar wait some recommendation - stoner queso - omg tasty - stoner taco - greek goddess taco - chorizo anything - coke cola marinated beef - new item - apple jicama slaw ! ! tasty ! - pickled peppers - blood orange margaritas also good gluten free options low carb options vegetarian options paleo options get corn tacos flour tacos bowls without rice tofu black bean portobello mushrooms protein vegetarian vegan \n",
      "\n",
      "\n",
      "The star rating is 4.0 \n",
      "The vader dict score is {'neg': 0.134, 'neu': 0.682, 'pos': 0.184, 'compound': 0.0258} \n",
      "The polarity score is 0.184\n",
      "met friend last week flipped delish chips salsa tacos good but cold tacos cold lakewood location too odd \n",
      "\n",
      "\n",
      "The star rating is 4.0 \n",
      "The vader dict score is {'neg': 0.029, 'neu': 0.625, 'pos': 0.346, 'compound': 0.9784} \n",
      "The polarity score is 0.346\n",
      "great late night dining spot tons local beers draft really ca not go wrong anything menu would say seafood fish shrimp bit fishy tons others choose from really like build tacos find coca cola steak best second best chicken the ghost pepper hot sauce habanero - y spicy paralyzing i think two tacos good large super grateful live close\n",
      "\n",
      "\n",
      "The star rating is 4.0 \n",
      "The vader dict score is {'neg': 0.029, 'neu': 0.832, 'pos': 0.139, 'compound': 0.9846} \n",
      "The polarity score is 0.139\n",
      "i am happy finally visited often talked barrio looking delicious taco place you taco probably authentic tacos mexico appeal foodies taste great barrio located downtown cleveland close 5th street arcade close many restaurants bars along 4th street parking may pain street parking paid lots voinovich park walked park took 10 mins taco - - way ordering works first pick tortilla protein option beans tofu chicken etc pick toppings cheese salsa sauces sheet paper table mark want order pick selection set tacos make build own menu choose tacos build own menu got 1 chicken taco 3 plus 1 shrimp taco 3 pre - made taco 4 each for chicken tacos chose hard soft shell combination 1 extra turned delicious made full satisfied getting traditional soft hard taco shell added cilantro - lime rice tacos 2nd taco ordered jalape o lime shrimp came lettuce corn tomatoes got taco soft shell overall tacos delicious chips salsa cilantro pesto sauce favourite dip taco ate them chicken shrimp could seasoned better still tasted yummy service - - service attentive tacos served waiter aj brought friend ami warm chips salsa table also asked drinks wanted got water lemon drinks - - drink alcohol bar drinks menu ambiance - - atmosphere friendly get noisy sat area tv able catch golden state warriors nba finals basketball game i ca not wait come back summer - 83 total reviews 2019 - 292 total yelp reviews - reviewed 31 may 2019\n",
      "\n",
      "\n"
     ]
    }
   ],
   "source": [
    "for i in range(10):\n",
    "    item_star = imp_ohio_reviews['stars'][i]\n",
    "    \n",
    "    pol_dict = analyzer.polarity_scores(imp_ohio_reviews['clean_text'][i])\n",
    "    if pol_dict['pos'] >= pol_dict['neg']:\n",
    "        item_pol = pol_dict['pos']\n",
    "    else:\n",
    "        item_pol = pol_dict['neg']\n",
    "    \n",
    "\n",
    "    print(f\"The star rating is {item_star} \\nThe vader dict score is {pol_dict} \\nThe polarity score is {item_pol}\")\n",
    "    print(imp_ohio_reviews['clean_text'][i])\n",
    "    print('\\n')"
   ]
  },
  {
   "cell_type": "code",
   "execution_count": 81,
   "metadata": {},
   "outputs": [],
   "source": [
    "# make a function\n",
    "def extract_polarity(clean_text):\n",
    "    pol_dict = sid.polarity_scores(clean_text)\n",
    "    if pol_dict['pos'] >= pol_dict['neg']:\n",
    "        item_pol = pol_dict['pos']\n",
    "        return item_pol\n",
    "    else:\n",
    "        item_pol = -pol_dict['neg']\n",
    "        return item_pol\n",
    "    "
   ]
  },
  {
   "cell_type": "code",
   "execution_count": 85,
   "metadata": {},
   "outputs": [
    {
     "data": {
      "text/plain": [
       "-0.381"
      ]
     },
     "execution_count": 85,
     "metadata": {},
     "output_type": "execute_result"
    }
   ],
   "source": [
    "extract_polarity('exciting another horrible barrio location not large bright service bad cheap prices great')"
   ]
  },
  {
   "cell_type": "code",
   "execution_count": 55,
   "metadata": {},
   "outputs": [],
   "source": [
    "for i in range(100):\n",
    "    item_star = imp_ohio_reviews['stars'][i]\n",
    "    if item_star <= 2.0:\n",
    "        pol_dict = sid.polarity_scores(imp_ohio_reviews['clean_text'][i])\n",
    "        if pol_dict['pos'] >= pol_dict['neg']:\n",
    "            item_pol = pol_dict['compound']\n",
    "        elif pol_dict['pos'] + 0.02 < pol_dict['neg']:\n",
    "            item_pol = pol_dict['compound']\n",
    "        else:\n",
    "            item_pol = -pol_dict['compound']\n",
    "\n",
    "        print(f\"The star rating is {item_star} \\nThe compound score is {pol_dict} \\nThe polarity score in {item_pol}\")\n",
    "        print(imp_ohio_reviews['clean_text'][i])\n",
    "        print('\\n')"
   ]
  },
  {
   "cell_type": "code",
   "execution_count": null,
   "metadata": {},
   "outputs": [],
   "source": []
  },
  {
   "cell_type": "markdown",
   "metadata": {},
   "source": [
    "## Vader is not able to capture the negative sentiments!"
   ]
  },
  {
   "cell_type": "markdown",
   "metadata": {},
   "source": [
    "## Latent Dirichlet Allocation(LDA) "
   ]
  },
  {
   "cell_type": "code",
   "execution_count": 34,
   "metadata": {},
   "outputs": [],
   "source": [
    "\n"
   ]
  },
  {
   "cell_type": "code",
   "execution_count": 102,
   "metadata": {},
   "outputs": [],
   "source": [
    "cv = CountVectorizer(min_df=0.1,max_df=0.9,stop_words=stopwords,)"
   ]
  },
  {
   "cell_type": "code",
   "execution_count": 103,
   "metadata": {},
   "outputs": [],
   "source": [
    "matrix = cv.fit_transform(imp_ohio_reviews['text'])"
   ]
  },
  {
   "cell_type": "code",
   "execution_count": 104,
   "metadata": {},
   "outputs": [
    {
     "data": {
      "text/plain": [
       "<109248x65 sparse matrix of type '<class 'numpy.longlong'>'\n",
       "\twith 1201673 stored elements in Compressed Sparse Row format>"
      ]
     },
     "execution_count": 104,
     "metadata": {},
     "output_type": "execute_result"
    }
   ],
   "source": [
    "matrix"
   ]
  },
  {
   "cell_type": "code",
   "execution_count": 94,
   "metadata": {},
   "outputs": [],
   "source": [
    "from sklearn.decomposition import LatentDirichletAllocation"
   ]
  },
  {
   "cell_type": "code",
   "execution_count": 105,
   "metadata": {},
   "outputs": [],
   "source": [
    "LDA = LatentDirichletAllocation(n_components=5,random_state=42)"
   ]
  },
  {
   "cell_type": "code",
   "execution_count": 106,
   "metadata": {},
   "outputs": [
    {
     "data": {
      "text/plain": [
       "LatentDirichletAllocation(batch_size=128, doc_topic_prior=None,\n",
       "             evaluate_every=-1, learning_decay=0.7,\n",
       "             learning_method='batch', learning_offset=10.0,\n",
       "             max_doc_update_iter=100, max_iter=10, mean_change_tol=0.001,\n",
       "             n_components=5, n_jobs=None, n_topics=None, perp_tol=0.1,\n",
       "             random_state=42, topic_word_prior=None,\n",
       "             total_samples=1000000.0, verbose=0)"
      ]
     },
     "execution_count": 106,
     "metadata": {},
     "output_type": "execute_result"
    }
   ],
   "source": [
    "LDA.fit(matrix)"
   ]
  },
  {
   "cell_type": "code",
   "execution_count": 108,
   "metadata": {},
   "outputs": [
    {
     "data": {
      "text/plain": [
       "array([1.08637490e+04, 1.28961075e+01, 1.51446325e+03, 1.33589934e+03,\n",
       "       9.18723704e+02, 3.22918025e+03, 9.21615274e+01, 1.01995673e+01,\n",
       "       2.34514419e+03, 1.99098020e+03, 3.18407224e+03, 1.20820581e+04,\n",
       "       2.42675472e+04, 3.61457978e+02, 1.19051714e+03, 2.22499104e+03,\n",
       "       4.59356239e+03, 6.66922365e+03, 2.92663026e+03, 8.26826874e+02,\n",
       "       9.39538589e+02, 1.69222890e+03, 1.06222046e+02, 9.63888032e+02,\n",
       "       9.63639960e+03, 5.82503573e+03, 1.33538152e+03, 2.49460780e+03,\n",
       "       1.55355364e+03, 3.52482571e+04, 6.60373315e+03, 6.07659023e+03,\n",
       "       9.44176582e+03, 8.85093284e+03, 6.88796703e+02, 2.56200783e+03,\n",
       "       7.59759688e+02, 3.92394433e+03, 3.86631934e+03, 3.58890692e+03,\n",
       "       1.54133784e+02, 9.26813408e+03, 9.43273545e+02, 2.58357928e+03,\n",
       "       2.03927296e+03, 1.02997436e+04, 2.44870608e+02, 6.29211225e+03,\n",
       "       7.57818480e+03, 1.25065714e+04, 3.13885694e+03, 1.65114678e+04,\n",
       "       5.14944951e+03, 7.72711912e+03, 7.77290521e+01, 1.20822046e+02,\n",
       "       2.18640730e+03, 1.68155622e+03, 4.56391081e+03, 1.57899170e+03,\n",
       "       2.23022392e+01, 3.21400902e+01, 5.84216976e+03, 1.73532427e+03,\n",
       "       4.84331674e+03])"
      ]
     },
     "execution_count": 108,
     "metadata": {},
     "output_type": "execute_result"
    }
   ],
   "source": [
    "LDA.components_[0]"
   ]
  },
  {
   "cell_type": "code",
   "execution_count": 109,
   "metadata": {},
   "outputs": [
    {
     "data": {
      "text/plain": [
       "['also',\n",
       " 'always',\n",
       " 'amazing',\n",
       " 'area',\n",
       " 'atmosphere',\n",
       " 'back',\n",
       " 'bar',\n",
       " 'beer',\n",
       " 'best',\n",
       " 'better',\n",
       " 'came',\n",
       " 'cheese',\n",
       " 'chicken',\n",
       " 'cleveland',\n",
       " 'come',\n",
       " 'could',\n",
       " 'definitely',\n",
       " 'delicious',\n",
       " 'dinner',\n",
       " 'eat',\n",
       " 'even',\n",
       " 'everything',\n",
       " 'experience',\n",
       " 'first',\n",
       " 'food',\n",
       " 'fresh',\n",
       " 'friendly',\n",
       " 'get',\n",
       " 'go',\n",
       " 'good',\n",
       " 'got',\n",
       " 'great',\n",
       " 'like',\n",
       " 'little',\n",
       " 'love',\n",
       " 'made',\n",
       " 'make',\n",
       " 'meal',\n",
       " 'menu',\n",
       " 'much',\n",
       " 'never',\n",
       " 'nice',\n",
       " 'night',\n",
       " 'one',\n",
       " 'order',\n",
       " 'ordered',\n",
       " 'people',\n",
       " 'place',\n",
       " 'pretty',\n",
       " 'really',\n",
       " 'restaurant',\n",
       " 'sauce',\n",
       " 'service',\n",
       " 'side',\n",
       " 'staff',\n",
       " 'table',\n",
       " 'think',\n",
       " 'time',\n",
       " 'try',\n",
       " 'two',\n",
       " 'us',\n",
       " 'wait',\n",
       " 'well',\n",
       " 'went',\n",
       " 'would']"
      ]
     },
     "execution_count": 109,
     "metadata": {},
     "output_type": "execute_result"
    }
   ],
   "source": [
    "cv.get_feature_names()"
   ]
  },
  {
   "cell_type": "code",
   "execution_count": 110,
   "metadata": {},
   "outputs": [],
   "source": [
    "single_topic = LDA.components_[0]"
   ]
  },
  {
   "cell_type": "code",
   "execution_count": 113,
   "metadata": {},
   "outputs": [
    {
     "name": "stdout",
     "output_type": "stream",
     "text": [
      "beer\n",
      "always\n",
      "us\n",
      "wait\n",
      "staff\n",
      "bar\n",
      "experience\n",
      "table\n",
      "never\n",
      "people\n"
     ]
    }
   ],
   "source": [
    "for index in single_topic.argsort()[:10]:\n",
    "    print(cv.get_feature_names()[index])\n",
    "    "
   ]
  },
  {
   "cell_type": "code",
   "execution_count": 114,
   "metadata": {},
   "outputs": [
    {
     "name": "stdout",
     "output_type": "stream",
     "text": [
      "beer\n",
      "always\n",
      "us\n",
      "wait\n",
      "staff\n",
      "bar\n",
      "experience\n",
      "table\n",
      "never\n",
      "people\n",
      "--------------------------------------------------\n",
      "chicken\n",
      "sauce\n",
      "always\n",
      "ordered\n",
      "came\n",
      "order\n",
      "fresh\n",
      "table\n",
      "us\n",
      "got\n",
      "--------------------------------------------------\n",
      "chicken\n",
      "always\n",
      "beer\n",
      "love\n",
      "go\n",
      "sauce\n",
      "eat\n",
      "cheese\n",
      "never\n",
      "pretty\n",
      "--------------------------------------------------\n",
      "beer\n",
      "came\n",
      "ordered\n",
      "got\n",
      "us\n",
      "went\n",
      "bar\n",
      "chicken\n",
      "atmosphere\n",
      "table\n",
      "--------------------------------------------------\n",
      "beer\n",
      "always\n",
      "atmosphere\n",
      "chicken\n",
      "staff\n",
      "friendly\n",
      "fresh\n",
      "love\n",
      "great\n",
      "delicious\n",
      "--------------------------------------------------\n"
     ]
    }
   ],
   "source": [
    "for topic in LDA.components_:\n",
    "    for index in topic.argsort()[:10]:\n",
    "        print(cv.get_feature_names()[index])\n",
    "    print('-'*50)"
   ]
  },
  {
   "cell_type": "markdown",
   "metadata": {},
   "source": [
    "### All the reviews are food and restaurant related so, LDA is not able to capture the individual topics!"
   ]
  },
  {
   "cell_type": "code",
   "execution_count": null,
   "metadata": {},
   "outputs": [],
   "source": []
  }
 ],
 "metadata": {
  "kernelspec": {
   "display_name": "nlp_course",
   "language": "python",
   "name": "nlp_course"
  },
  "language_info": {
   "codemirror_mode": {
    "name": "ipython",
    "version": 3
   },
   "file_extension": ".py",
   "mimetype": "text/x-python",
   "name": "python",
   "nbconvert_exporter": "python",
   "pygments_lexer": "ipython3",
   "version": "3.7.9"
  }
 },
 "nbformat": 4,
 "nbformat_minor": 4
}
