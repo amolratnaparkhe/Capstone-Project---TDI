{
 "cells": [
  {
   "cell_type": "code",
   "execution_count": 121,
   "metadata": {},
   "outputs": [],
   "source": [
    "import warnings\n",
    "warnings.filterwarnings('ignore')\n",
    "import os\n",
    "import random\n",
    "import json\n",
    "import numpy as np\n",
    "import pandas as pd\n",
    "import pickle\n",
    "import matplotlib.pyplot as plt\n",
    "import seaborn as sns\n",
    "%matplotlib inline"
   ]
  },
  {
   "cell_type": "code",
   "execution_count": 122,
   "metadata": {},
   "outputs": [],
   "source": [
    "from scipy import stats\n",
    "from collections import Counter\n",
    "from sklearn.feature_extraction.text import TfidfVectorizer, CountVectorizer\n",
    "from sklearn.metrics.pairwise import linear_kernel, cosine_similarity"
   ]
  },
  {
   "cell_type": "code",
   "execution_count": 3,
   "metadata": {},
   "outputs": [],
   "source": [
    "with open('vegas_contents.pkl','rb') as f:\n",
    "    vegas_contents = pickle.load(f)"
   ]
  },
  {
   "cell_type": "code",
   "execution_count": 34,
   "metadata": {},
   "outputs": [
    {
     "data": {
      "text/html": [
       "<div>\n",
       "<style scoped>\n",
       "    .dataframe tbody tr th:only-of-type {\n",
       "        vertical-align: middle;\n",
       "    }\n",
       "\n",
       "    .dataframe tbody tr th {\n",
       "        vertical-align: top;\n",
       "    }\n",
       "\n",
       "    .dataframe thead th {\n",
       "        text-align: right;\n",
       "    }\n",
       "</style>\n",
       "<table border=\"1\" class=\"dataframe\">\n",
       "  <thead>\n",
       "    <tr style=\"text-align: right;\">\n",
       "      <th></th>\n",
       "      <th>business_id</th>\n",
       "      <th>name</th>\n",
       "      <th>address</th>\n",
       "      <th>postal_code</th>\n",
       "      <th>latitude</th>\n",
       "      <th>longitude</th>\n",
       "      <th>categories</th>\n",
       "      <th>sep_categories</th>\n",
       "      <th>Dominant Ids</th>\n",
       "      <th>Percent</th>\n",
       "      <th>Topics</th>\n",
       "      <th>Features</th>\n",
       "      <th>stars</th>\n",
       "      <th>Combined Features</th>\n",
       "    </tr>\n",
       "  </thead>\n",
       "  <tbody>\n",
       "    <tr>\n",
       "      <th>0</th>\n",
       "      <td>Yr_w9lakJrKMyEG_hI6zbA</td>\n",
       "      <td>Fat Moe's Pizza &amp; Wings</td>\n",
       "      <td>6125 W Tropicana Ave, Ste F</td>\n",
       "      <td>89103</td>\n",
       "      <td>36.099361</td>\n",
       "      <td>-115.226636</td>\n",
       "      <td>Pizza, Salad, Burgers, Restaurants</td>\n",
       "      <td>[Pizza, Salad, Burgers, Restaurants]</td>\n",
       "      <td>[6, 1, 0]</td>\n",
       "      <td>[0.71840245, 0.10773659, 0.06156651]</td>\n",
       "      <td>[Good Ambiance / Service, Fastfood / American,...</td>\n",
       "      <td>[Pizza, Salad, Burgers, Ambiance / Good Servic...</td>\n",
       "      <td>3.694118</td>\n",
       "      <td>Pizza Salad Burgers Ambiance / Good Service Fa...</td>\n",
       "    </tr>\n",
       "    <tr>\n",
       "      <th>1</th>\n",
       "      <td>AN0bWhisCf6LN9eHZ7DQ3w</td>\n",
       "      <td>Los Olivos Ristorante</td>\n",
       "      <td>3759 E Desert Inn Rd</td>\n",
       "      <td>89121</td>\n",
       "      <td>36.129178</td>\n",
       "      <td>-115.092483</td>\n",
       "      <td>Restaurants, Italian</td>\n",
       "      <td>[Restaurants, Italian]</td>\n",
       "      <td>[2, 6, 0]</td>\n",
       "      <td>[0.44978717, 0.2163004, 0.09988998]</td>\n",
       "      <td>[Dinner, Good Ambiance / Service, Continental]</td>\n",
       "      <td>[Italian, Steakhouse / Dinner, Ambiance / Good...</td>\n",
       "      <td>4.807143</td>\n",
       "      <td>Italian Steakhouse / Dinner Ambiance / Good Se...</td>\n",
       "    </tr>\n",
       "    <tr>\n",
       "      <th>2</th>\n",
       "      <td>AtD6B83S4Mbmq0t7iDnUVA</td>\n",
       "      <td>Veggie House</td>\n",
       "      <td>5115 Spring Mountain Rd, Ste 203</td>\n",
       "      <td>89146</td>\n",
       "      <td>36.125569</td>\n",
       "      <td>-115.210911</td>\n",
       "      <td>Restaurants, Specialty Food, Japanese, Sushi B...</td>\n",
       "      <td>[Restaurants, Specialty Food, Japanese, Sushi ...</td>\n",
       "      <td>[4, 0, 3]</td>\n",
       "      <td>[0.30285373, 0.2803057, 0.13361645]</td>\n",
       "      <td>[Fusion / Buffet, Continental, Snack / Tacos]</td>\n",
       "      <td>[Specialty Food, Japanese, Sushi Bars, Dim Sum...</td>\n",
       "      <td>4.523707</td>\n",
       "      <td>Specialty Food Japanese Sushi Bars Dim Sum Veg...</td>\n",
       "    </tr>\n",
       "    <tr>\n",
       "      <th>3</th>\n",
       "      <td>oUX2bYbqjqST-urKbOHG6w</td>\n",
       "      <td>Loftti Cafe</td>\n",
       "      <td>7729 S Rainbow Blvd, Ste 9B</td>\n",
       "      <td>89139</td>\n",
       "      <td>36.047942</td>\n",
       "      <td>-115.244167</td>\n",
       "      <td>Sandwiches, Shaved Ice, Coffee &amp; Tea, Desserts...</td>\n",
       "      <td>[Sandwiches, Shaved Ice, Coffee &amp; Tea, Dessert...</td>\n",
       "      <td>[0, 6, 5]</td>\n",
       "      <td>[0.39396736, 0.19578542, 0.14329998]</td>\n",
       "      <td>[Continental, Good Ambiance / Service, Exotic]</td>\n",
       "      <td>[Sandwiches, Shaved Ice, Coffee &amp; Tea, Dessert...</td>\n",
       "      <td>4.277512</td>\n",
       "      <td>Sandwiches Shaved Ice Coffee &amp; Tea Desserts Ca...</td>\n",
       "    </tr>\n",
       "    <tr>\n",
       "      <th>4</th>\n",
       "      <td>FiW6w5nmhlUoJAyNofb4jg</td>\n",
       "      <td>Fruits and Roots</td>\n",
       "      <td>5020 Blue Diamond Rd</td>\n",
       "      <td>89139</td>\n",
       "      <td>36.032122</td>\n",
       "      <td>-115.210267</td>\n",
       "      <td>Coffee &amp; Tea, Food Stands, Food, Restaurants, ...</td>\n",
       "      <td>[Coffee &amp; Tea, Food Stands, Food, Restaurants,...</td>\n",
       "      <td>[0, 3, 5]</td>\n",
       "      <td>[0.49596417, 0.12588032, 0.09800566]</td>\n",
       "      <td>[Continental, Snack / Tacos, Exotic]</td>\n",
       "      <td>[Coffee &amp; Tea, Food Stands, Juice Bars &amp; Smoot...</td>\n",
       "      <td>4.296296</td>\n",
       "      <td>Coffee &amp; Tea Food Stands Juice Bars &amp; Smoothie...</td>\n",
       "    </tr>\n",
       "  </tbody>\n",
       "</table>\n",
       "</div>"
      ],
      "text/plain": [
       "              business_id                     name  \\\n",
       "0  Yr_w9lakJrKMyEG_hI6zbA  Fat Moe's Pizza & Wings   \n",
       "1  AN0bWhisCf6LN9eHZ7DQ3w    Los Olivos Ristorante   \n",
       "2  AtD6B83S4Mbmq0t7iDnUVA             Veggie House   \n",
       "3  oUX2bYbqjqST-urKbOHG6w              Loftti Cafe   \n",
       "4  FiW6w5nmhlUoJAyNofb4jg         Fruits and Roots   \n",
       "\n",
       "                            address postal_code   latitude   longitude  \\\n",
       "0       6125 W Tropicana Ave, Ste F       89103  36.099361 -115.226636   \n",
       "1              3759 E Desert Inn Rd       89121  36.129178 -115.092483   \n",
       "2  5115 Spring Mountain Rd, Ste 203       89146  36.125569 -115.210911   \n",
       "3       7729 S Rainbow Blvd, Ste 9B       89139  36.047942 -115.244167   \n",
       "4              5020 Blue Diamond Rd       89139  36.032122 -115.210267   \n",
       "\n",
       "                                          categories  \\\n",
       "0                 Pizza, Salad, Burgers, Restaurants   \n",
       "1                               Restaurants, Italian   \n",
       "2  Restaurants, Specialty Food, Japanese, Sushi B...   \n",
       "3  Sandwiches, Shaved Ice, Coffee & Tea, Desserts...   \n",
       "4  Coffee & Tea, Food Stands, Food, Restaurants, ...   \n",
       "\n",
       "                                      sep_categories Dominant Ids  \\\n",
       "0               [Pizza, Salad, Burgers, Restaurants]    [6, 1, 0]   \n",
       "1                             [Restaurants, Italian]    [2, 6, 0]   \n",
       "2  [Restaurants, Specialty Food, Japanese, Sushi ...    [4, 0, 3]   \n",
       "3  [Sandwiches, Shaved Ice, Coffee & Tea, Dessert...    [0, 6, 5]   \n",
       "4  [Coffee & Tea, Food Stands, Food, Restaurants,...    [0, 3, 5]   \n",
       "\n",
       "                                Percent  \\\n",
       "0  [0.71840245, 0.10773659, 0.06156651]   \n",
       "1   [0.44978717, 0.2163004, 0.09988998]   \n",
       "2   [0.30285373, 0.2803057, 0.13361645]   \n",
       "3  [0.39396736, 0.19578542, 0.14329998]   \n",
       "4  [0.49596417, 0.12588032, 0.09800566]   \n",
       "\n",
       "                                              Topics  \\\n",
       "0  [Good Ambiance / Service, Fastfood / American,...   \n",
       "1     [Dinner, Good Ambiance / Service, Continental]   \n",
       "2      [Fusion / Buffet, Continental, Snack / Tacos]   \n",
       "3     [Continental, Good Ambiance / Service, Exotic]   \n",
       "4               [Continental, Snack / Tacos, Exotic]   \n",
       "\n",
       "                                            Features     stars  \\\n",
       "0  [Pizza, Salad, Burgers, Ambiance / Good Servic...  3.694118   \n",
       "1  [Italian, Steakhouse / Dinner, Ambiance / Good...  4.807143   \n",
       "2  [Specialty Food, Japanese, Sushi Bars, Dim Sum...  4.523707   \n",
       "3  [Sandwiches, Shaved Ice, Coffee & Tea, Dessert...  4.277512   \n",
       "4  [Coffee & Tea, Food Stands, Juice Bars & Smoot...  4.296296   \n",
       "\n",
       "                                   Combined Features  \n",
       "0  Pizza Salad Burgers Ambiance / Good Service Fa...  \n",
       "1  Italian Steakhouse / Dinner Ambiance / Good Se...  \n",
       "2  Specialty Food Japanese Sushi Bars Dim Sum Veg...  \n",
       "3  Sandwiches Shaved Ice Coffee & Tea Desserts Ca...  \n",
       "4  Coffee & Tea Food Stands Juice Bars & Smoothie...  "
      ]
     },
     "execution_count": 34,
     "metadata": {},
     "output_type": "execute_result"
    }
   ],
   "source": [
    "vegas_contents.head()"
   ]
  },
  {
   "cell_type": "code",
   "execution_count": 5,
   "metadata": {},
   "outputs": [],
   "source": [
    "# Reading the json file\n",
    "with open('rec.json', 'r') as fp:\n",
    "    user_ids = json.load(fp)\n",
    "with open('zip_codes.json', 'r') as fp:\n",
    "    zips = json.load(fp)"
   ]
  },
  {
   "cell_type": "code",
   "execution_count": 6,
   "metadata": {},
   "outputs": [],
   "source": [
    "zip_codes = vegas_contents['postal_code'].unique().tolist()"
   ]
  },
  {
   "cell_type": "code",
   "execution_count": null,
   "metadata": {},
   "outputs": [],
   "source": []
  },
  {
   "cell_type": "code",
   "execution_count": 90,
   "metadata": {},
   "outputs": [],
   "source": [
    "zip_site = [item['fields']['zip'] for item in zips]"
   ]
  },
  {
   "cell_type": "code",
   "execution_count": 91,
   "metadata": {},
   "outputs": [
    {
     "data": {
      "text/plain": [
       "['89183', '89178', '89169', '89166', '89179']"
      ]
     },
     "execution_count": 91,
     "metadata": {},
     "output_type": "execute_result"
    }
   ],
   "source": [
    "[item for item in zip_codes if item not in zip_site]"
   ]
  },
  {
   "cell_type": "code",
   "execution_count": null,
   "metadata": {},
   "outputs": [],
   "source": [
    "manual_locations = [('89183',[35.9987, -115.1593]),\n",
    "                   ('89169',[36.1295, -115.1326]),\n",
    "                   ('89178',[36.0457, -115.3134]),\n",
    "                   ('89166',[36.3192, -115.3683]),\n",
    "                   ('89179',[35.9919, -115.2555])]"
   ]
  },
  {
   "cell_type": "code",
   "execution_count": 227,
   "metadata": {},
   "outputs": [
    {
     "data": {
      "text/plain": [
       "[('89014', '89014'),\n",
       " ('89019', '89019'),\n",
       " ('89030', '89030'),\n",
       " ('89031', '89031'),\n",
       " ('89032', '89032'),\n",
       " ('89052', '89052'),\n",
       " ('89084', '89084'),\n",
       " ('89101', '89101'),\n",
       " ('89102', '89102'),\n",
       " ('89103', '89103'),\n",
       " ('89104', '89104'),\n",
       " ('89106', '89106'),\n",
       " ('89107', '89107'),\n",
       " ('89108', '89108'),\n",
       " ('89109', '89109'),\n",
       " ('89110', '89110'),\n",
       " ('89111', '89111'),\n",
       " ('89113', '89113'),\n",
       " ('89114', '89114'),\n",
       " ('89115', '89115'),\n",
       " ('89117', '89117'),\n",
       " ('89118', '89118'),\n",
       " ('89119', '89119'),\n",
       " ('89120', '89120'),\n",
       " ('89121', '89121'),\n",
       " ('89122', '89122'),\n",
       " ('89123', '89123'),\n",
       " ('89128', '89128'),\n",
       " ('89129', '89129'),\n",
       " ('89130', '89130'),\n",
       " ('89131', '89131'),\n",
       " ('89134', '89134'),\n",
       " ('89135', '89135'),\n",
       " ('89136', '89136'),\n",
       " ('89139', '89139'),\n",
       " ('89141', '89141'),\n",
       " ('89142', '89142'),\n",
       " ('89143', '89143'),\n",
       " ('89144', '89144'),\n",
       " ('89145', '89145'),\n",
       " ('89146', '89146'),\n",
       " ('89147', '89147'),\n",
       " ('89148', '89148'),\n",
       " ('89149', '89149'),\n",
       " ('89152', '89152'),\n",
       " ('89156', '89156'),\n",
       " ('89158', '89158')]"
      ]
     },
     "execution_count": 227,
     "metadata": {},
     "output_type": "execute_result"
    }
   ],
   "source": [
    "[(item,item) for item in list(map(str,sorted([int(item) for item in sorted(locations.keys())])))]"
   ]
  },
  {
   "cell_type": "code",
   "execution_count": 120,
   "metadata": {},
   "outputs": [
    {
     "data": {
      "text/plain": [
       "dict_keys(['89148', '89147', '89103', '89113', '89145', '89117', '89158', '89123', '89032', '89115', '89119', '89130', '89102', '89120', '89108', '89118', '89110', '89107', '89101', '89131', '89111', '89122', '89014', '89141', '89104', '89031', '89139', '89146', '89134', '89030', '89128', '89152', '89084', '89052', '89114', '89121', '89136', '89106', '89129', '89019', '89156', '89144', '89109', '89149', '89142', '89143', '89135'])"
      ]
     },
     "execution_count": 120,
     "metadata": {},
     "output_type": "execute_result"
    }
   ],
   "source": [
    "locations.keys()"
   ]
  },
  {
   "cell_type": "code",
   "execution_count": 7,
   "metadata": {},
   "outputs": [],
   "source": [
    "locations = {item['fields']['zip']:item['fields']['geopoint'] for item in zips if item['fields']['zip'] in zip_codes}"
   ]
  },
  {
   "cell_type": "code",
   "execution_count": 21,
   "metadata": {},
   "outputs": [],
   "source": [
    "topics_map = {0: 'Continental',\n",
    "              1: 'Fastfood / American',\n",
    "              2: 'Dinner',\n",
    "              3: 'Snack / Tacos',\n",
    "              4: 'Fusion / Buffet',\n",
    "              5: 'Exotic',\n",
    "              6: 'Good Ambiance / Service',\n",
    "              7: 'Hotel/ Bar/ Night life'\n",
    "             }  \n",
    "\n",
    "def map_dominant(num):\n",
    "    return topics_map[num]"
   ]
  },
  {
   "cell_type": "code",
   "execution_count": 23,
   "metadata": {},
   "outputs": [],
   "source": [
    "vegas_contents['Topics'] = vegas_contents['Dominant Ids'].apply(lambda x: list(map(map_dominant,x)))"
   ]
  },
  {
   "cell_type": "code",
   "execution_count": 55,
   "metadata": {},
   "outputs": [
    {
     "name": "stdout",
     "output_type": "stream",
     "text": [
      "The distance between the two is about 12 miles.\n"
     ]
    }
   ],
   "source": [
    "# approximate radius of earth in km\n",
    "def distance(coord1,coord2):\n",
    "    R = 6373.0\n",
    "    lat1,lon1 = coord1\n",
    "    lat2,lon2 = coord2\n",
    "    lat1,lon1 = np.radians(lat1), np.radians(lon1)\n",
    "    lat2,lon2 = np.radians(lat2), np.radians(lon2)\n",
    "    dlon = lon2 - lon1\n",
    "    dlat = lat2 - lat1\n",
    "\n",
    "    a = np.sin(dlat/2)**2 + np.cos(lat1)*np.cos(lat2)*np.sin(dlon/2)**2\n",
    "    c = 2*np.arctan2(np.sqrt(a), np.sqrt(1 - a))\n",
    "\n",
    "    dist = R*c/1.6\n",
    "    return dist\n",
    "\n",
    "coord1 = (36.2296756, -115.0122287)\n",
    "coord2 = (36.2006374, -115.2251681)\n",
    "print(f\"The distance between the two is about {int(distance(coord1,coord2)):2} miles.\")"
   ]
  },
  {
   "cell_type": "code",
   "execution_count": 9,
   "metadata": {},
   "outputs": [
    {
     "name": "stdout",
     "output_type": "stream",
     "text": [
      "The distance from 89134 to [36.049095, -115.28485] is    10.914 miles\n",
      "The distance from 89134 to [36.113059, -115.27343] is     6.720 miles\n",
      "The distance from 89134 to [36.067495, -115.26039] is     9.960 miles\n",
      "The distance from 89134 to [36.031873, -115.20342] is    13.466 miles\n"
     ]
    }
   ],
   "source": [
    "zip_std = '89134'\n",
    "for zip in ['89148','89147','89113','89139']:\n",
    "    if (distance(locations[zip_std],locations[zip])) < 20.0:\n",
    "        print(f'The distance from {zip_std} to {locations[zip]} is {(distance(locations[zip_std],locations[zip])):9.3f} miles')"
   ]
  },
  {
   "cell_type": "code",
   "execution_count": 25,
   "metadata": {},
   "outputs": [],
   "source": [
    "vegas_contents['Features'] = vegas_contents['Features'].apply(lambda x: [item for item in x if item not in ['Restaurants','Food']])"
   ]
  },
  {
   "cell_type": "code",
   "execution_count": 26,
   "metadata": {},
   "outputs": [],
   "source": [
    "vegas_contents['Combined Features'] = (vegas_contents['Features']).apply(lambda x: ' '.join(x))"
   ]
  },
  {
   "cell_type": "code",
   "execution_count": 27,
   "metadata": {},
   "outputs": [],
   "source": [
    "categories_list = vegas_contents['sep_categories'].values.flatten()\n",
    "categories_list = [item for sublist in categories_list for item in sublist]\n",
    "unique_categories = sorted(list(set(categories_list)))"
   ]
  },
  {
   "cell_type": "code",
   "execution_count": 28,
   "metadata": {},
   "outputs": [],
   "source": [
    "topic_list = vegas_contents['Topics'].values.flatten()\n",
    "topic_list = [item for sublist in topic_list for item in sublist]\n",
    "unique_topics = sorted(list(set(topic_list)))"
   ]
  },
  {
   "cell_type": "code",
   "execution_count": 35,
   "metadata": {},
   "outputs": [],
   "source": [
    "def get_restaurants_by_preference(df,categories_list):\n",
    "    \n",
    "    store_restaurants = []\n",
    "    \n",
    "    df_rest = pd.DataFrame(columns=vegas_contents.columns)\n",
    "    for category in categories_list:        \n",
    "        category_restaurants = df[df['sep_categories'].apply(lambda x: True if category in x else False)]\n",
    "        rest_list = category_restaurants[['business_id','stars']].groupby('business_id').mean().sort_values(by=['stars'],ascending=False).index.tolist()\n",
    "        df_categ = vegas_contents[vegas_contents['business_id'].apply(lambda x: True if x in rest_list else False)]\n",
    "        df_rest = pd.concat([df_rest,df_categ])  \n",
    "    for index,row in df_rest.iterrows():\n",
    "        restaurant_details = {}\n",
    "        restaurant_details['Name'] = row['name']\n",
    "        restaurant_details['Address'] = row['address']\n",
    "        restaurant_details['Zip Code'] = row['postal_code']\n",
    "        restaurant_details['Latitude'] = row['latitude']\n",
    "        restaurant_details['Longitude'] = row['longitude']\n",
    "        \n",
    "        restaurant_details['Category'] = row['sep_categories']\n",
    "        restaurant_details['Topics'] = row['Topics']\n",
    "        restaurant_details['Stars'] = row['stars']\n",
    "#         restaurant_details['additional_details'] = row['attributes']\n",
    "        store_restaurants.append(restaurant_details)\n",
    "    return sorted(store_restaurants,key = lambda x: x['Stars'],reverse=True)\n",
    "\n",
    "def get_restaurants_by_topic(df,categories_list):\n",
    "    \n",
    "    store_restaurants = []\n",
    "    \n",
    "    df_rest = pd.DataFrame(columns=vegas_contents.columns)\n",
    "    for category in categories_list:        \n",
    "        category_restaurants = df[df['Topics'].apply(lambda x: True if category in x else False)]\n",
    "        rest_list = category_restaurants[['business_id','stars']].groupby('business_id').mean().sort_values(by=['stars'],ascending=False).index.tolist()\n",
    "        df_categ = vegas_contents[vegas_contents['business_id'].apply(lambda x: True if x in rest_list else False)]\n",
    "        df_rest = pd.concat([df_rest,df_categ])  \n",
    "    for index,row in df_rest.iterrows():\n",
    "        restaurant_details = {}\n",
    "        restaurant_details['Name'] = row['name']\n",
    "        restaurant_details['Address'] = row['address']\n",
    "        restaurant_details['Zip Code'] = row['postal_code']\n",
    "        restaurant_details['Latitude'] = row['latitude']\n",
    "        restaurant_details['Longitude'] = row['longitude']\n",
    "        \n",
    "        restaurant_details['Category'] = row['sep_categories']\n",
    "        restaurant_details['Topics'] = row['Topics']\n",
    "        restaurant_details['Stars'] = row['stars']\n",
    "#         restaurant_details['additional_details'] = row['attributes']\n",
    "        store_restaurants.append(restaurant_details)\n",
    "    return sorted(store_restaurants,key = lambda x: x['Stars'],reverse=True)"
   ]
  },
  {
   "cell_type": "code",
   "execution_count": 36,
   "metadata": {},
   "outputs": [],
   "source": [
    "def get_restaurants_by_usr_id(df,usr_id):\n",
    "    \n",
    "    store_restaurants = []\n",
    "    \n",
    "    df_rest = vegas_contents[vegas_contents['business_id'].isin([item[0] for item in user_ids[usr_id]])]\n",
    "     \n",
    "    for index,row in df_rest.iterrows():\n",
    "        restaurant_details = {}\n",
    "        restaurant_details['Name'] = row['name']\n",
    "        restaurant_details['Address'] = row['address']\n",
    "        restaurant_details['Zip Code'] = row['postal_code']\n",
    "        restaurant_details['Latitude'] = row['latitude']\n",
    "        restaurant_details['Longitude'] = row['longitude']\n",
    "        \n",
    "        restaurant_details['Category'] = row['sep_categories']\n",
    "        restaurant_details['Topics'] = row['Topics']\n",
    "        restaurant_details['Stars'] = row['stars']\n",
    "#         restaurant_details['additional_details'] = row['attributes']\n",
    "        store_restaurants.append(restaurant_details)\n",
    "    return sorted(store_restaurants,key = lambda x: x['Stars'],reverse=True)"
   ]
  },
  {
   "cell_type": "code",
   "execution_count": 30,
   "metadata": {},
   "outputs": [
    {
     "data": {
      "text/html": [
       "<div>\n",
       "<style scoped>\n",
       "    .dataframe tbody tr th:only-of-type {\n",
       "        vertical-align: middle;\n",
       "    }\n",
       "\n",
       "    .dataframe tbody tr th {\n",
       "        vertical-align: top;\n",
       "    }\n",
       "\n",
       "    .dataframe thead th {\n",
       "        text-align: right;\n",
       "    }\n",
       "</style>\n",
       "<table border=\"1\" class=\"dataframe\">\n",
       "  <thead>\n",
       "    <tr style=\"text-align: right;\">\n",
       "      <th></th>\n",
       "      <th>business_id</th>\n",
       "      <th>name</th>\n",
       "      <th>address</th>\n",
       "      <th>postal_code</th>\n",
       "      <th>latitude</th>\n",
       "      <th>longitude</th>\n",
       "      <th>categories</th>\n",
       "      <th>sep_categories</th>\n",
       "      <th>Dominant Ids</th>\n",
       "      <th>Percent</th>\n",
       "      <th>Topics</th>\n",
       "      <th>Features</th>\n",
       "      <th>stars</th>\n",
       "      <th>Combined Features</th>\n",
       "    </tr>\n",
       "  </thead>\n",
       "  <tbody>\n",
       "    <tr>\n",
       "      <th>0</th>\n",
       "      <td>Yr_w9lakJrKMyEG_hI6zbA</td>\n",
       "      <td>Fat Moe's Pizza &amp; Wings</td>\n",
       "      <td>6125 W Tropicana Ave, Ste F</td>\n",
       "      <td>89103</td>\n",
       "      <td>36.099361</td>\n",
       "      <td>-115.226636</td>\n",
       "      <td>Pizza, Salad, Burgers, Restaurants</td>\n",
       "      <td>[Pizza, Salad, Burgers, Restaurants]</td>\n",
       "      <td>[6, 1, 0]</td>\n",
       "      <td>[0.71840245, 0.10773659, 0.06156651]</td>\n",
       "      <td>[Good Ambiance / Service, Fastfood / American,...</td>\n",
       "      <td>[Pizza, Salad, Burgers, Ambiance / Good Servic...</td>\n",
       "      <td>3.694118</td>\n",
       "      <td>Pizza Salad Burgers Ambiance / Good Service Fa...</td>\n",
       "    </tr>\n",
       "    <tr>\n",
       "      <th>1</th>\n",
       "      <td>AN0bWhisCf6LN9eHZ7DQ3w</td>\n",
       "      <td>Los Olivos Ristorante</td>\n",
       "      <td>3759 E Desert Inn Rd</td>\n",
       "      <td>89121</td>\n",
       "      <td>36.129178</td>\n",
       "      <td>-115.092483</td>\n",
       "      <td>Restaurants, Italian</td>\n",
       "      <td>[Restaurants, Italian]</td>\n",
       "      <td>[2, 6, 0]</td>\n",
       "      <td>[0.44978717, 0.2163004, 0.09988998]</td>\n",
       "      <td>[Dinner, Good Ambiance / Service, Continental]</td>\n",
       "      <td>[Italian, Steakhouse / Dinner, Ambiance / Good...</td>\n",
       "      <td>4.807143</td>\n",
       "      <td>Italian Steakhouse / Dinner Ambiance / Good Se...</td>\n",
       "    </tr>\n",
       "    <tr>\n",
       "      <th>2</th>\n",
       "      <td>AtD6B83S4Mbmq0t7iDnUVA</td>\n",
       "      <td>Veggie House</td>\n",
       "      <td>5115 Spring Mountain Rd, Ste 203</td>\n",
       "      <td>89146</td>\n",
       "      <td>36.125569</td>\n",
       "      <td>-115.210911</td>\n",
       "      <td>Restaurants, Specialty Food, Japanese, Sushi B...</td>\n",
       "      <td>[Restaurants, Specialty Food, Japanese, Sushi ...</td>\n",
       "      <td>[4, 0, 3]</td>\n",
       "      <td>[0.30285373, 0.2803057, 0.13361645]</td>\n",
       "      <td>[Fusion / Buffet, Continental, Snack / Tacos]</td>\n",
       "      <td>[Specialty Food, Japanese, Sushi Bars, Dim Sum...</td>\n",
       "      <td>4.523707</td>\n",
       "      <td>Specialty Food Japanese Sushi Bars Dim Sum Veg...</td>\n",
       "    </tr>\n",
       "    <tr>\n",
       "      <th>3</th>\n",
       "      <td>oUX2bYbqjqST-urKbOHG6w</td>\n",
       "      <td>Loftti Cafe</td>\n",
       "      <td>7729 S Rainbow Blvd, Ste 9B</td>\n",
       "      <td>89139</td>\n",
       "      <td>36.047942</td>\n",
       "      <td>-115.244167</td>\n",
       "      <td>Sandwiches, Shaved Ice, Coffee &amp; Tea, Desserts...</td>\n",
       "      <td>[Sandwiches, Shaved Ice, Coffee &amp; Tea, Dessert...</td>\n",
       "      <td>[0, 6, 5]</td>\n",
       "      <td>[0.39396736, 0.19578542, 0.14329998]</td>\n",
       "      <td>[Continental, Good Ambiance / Service, Exotic]</td>\n",
       "      <td>[Sandwiches, Shaved Ice, Coffee &amp; Tea, Dessert...</td>\n",
       "      <td>4.277512</td>\n",
       "      <td>Sandwiches Shaved Ice Coffee &amp; Tea Desserts Ca...</td>\n",
       "    </tr>\n",
       "    <tr>\n",
       "      <th>4</th>\n",
       "      <td>FiW6w5nmhlUoJAyNofb4jg</td>\n",
       "      <td>Fruits and Roots</td>\n",
       "      <td>5020 Blue Diamond Rd</td>\n",
       "      <td>89139</td>\n",
       "      <td>36.032122</td>\n",
       "      <td>-115.210267</td>\n",
       "      <td>Coffee &amp; Tea, Food Stands, Food, Restaurants, ...</td>\n",
       "      <td>[Coffee &amp; Tea, Food Stands, Food, Restaurants,...</td>\n",
       "      <td>[0, 3, 5]</td>\n",
       "      <td>[0.49596417, 0.12588032, 0.09800566]</td>\n",
       "      <td>[Continental, Snack / Tacos, Exotic]</td>\n",
       "      <td>[Coffee &amp; Tea, Food Stands, Juice Bars &amp; Smoot...</td>\n",
       "      <td>4.296296</td>\n",
       "      <td>Coffee &amp; Tea Food Stands Juice Bars &amp; Smoothie...</td>\n",
       "    </tr>\n",
       "  </tbody>\n",
       "</table>\n",
       "</div>"
      ],
      "text/plain": [
       "              business_id                     name  \\\n",
       "0  Yr_w9lakJrKMyEG_hI6zbA  Fat Moe's Pizza & Wings   \n",
       "1  AN0bWhisCf6LN9eHZ7DQ3w    Los Olivos Ristorante   \n",
       "2  AtD6B83S4Mbmq0t7iDnUVA             Veggie House   \n",
       "3  oUX2bYbqjqST-urKbOHG6w              Loftti Cafe   \n",
       "4  FiW6w5nmhlUoJAyNofb4jg         Fruits and Roots   \n",
       "\n",
       "                            address postal_code   latitude   longitude  \\\n",
       "0       6125 W Tropicana Ave, Ste F       89103  36.099361 -115.226636   \n",
       "1              3759 E Desert Inn Rd       89121  36.129178 -115.092483   \n",
       "2  5115 Spring Mountain Rd, Ste 203       89146  36.125569 -115.210911   \n",
       "3       7729 S Rainbow Blvd, Ste 9B       89139  36.047942 -115.244167   \n",
       "4              5020 Blue Diamond Rd       89139  36.032122 -115.210267   \n",
       "\n",
       "                                          categories  \\\n",
       "0                 Pizza, Salad, Burgers, Restaurants   \n",
       "1                               Restaurants, Italian   \n",
       "2  Restaurants, Specialty Food, Japanese, Sushi B...   \n",
       "3  Sandwiches, Shaved Ice, Coffee & Tea, Desserts...   \n",
       "4  Coffee & Tea, Food Stands, Food, Restaurants, ...   \n",
       "\n",
       "                                      sep_categories Dominant Ids  \\\n",
       "0               [Pizza, Salad, Burgers, Restaurants]    [6, 1, 0]   \n",
       "1                             [Restaurants, Italian]    [2, 6, 0]   \n",
       "2  [Restaurants, Specialty Food, Japanese, Sushi ...    [4, 0, 3]   \n",
       "3  [Sandwiches, Shaved Ice, Coffee & Tea, Dessert...    [0, 6, 5]   \n",
       "4  [Coffee & Tea, Food Stands, Food, Restaurants,...    [0, 3, 5]   \n",
       "\n",
       "                                Percent  \\\n",
       "0  [0.71840245, 0.10773659, 0.06156651]   \n",
       "1   [0.44978717, 0.2163004, 0.09988998]   \n",
       "2   [0.30285373, 0.2803057, 0.13361645]   \n",
       "3  [0.39396736, 0.19578542, 0.14329998]   \n",
       "4  [0.49596417, 0.12588032, 0.09800566]   \n",
       "\n",
       "                                              Topics  \\\n",
       "0  [Good Ambiance / Service, Fastfood / American,...   \n",
       "1     [Dinner, Good Ambiance / Service, Continental]   \n",
       "2      [Fusion / Buffet, Continental, Snack / Tacos]   \n",
       "3     [Continental, Good Ambiance / Service, Exotic]   \n",
       "4               [Continental, Snack / Tacos, Exotic]   \n",
       "\n",
       "                                            Features     stars  \\\n",
       "0  [Pizza, Salad, Burgers, Ambiance / Good Servic...  3.694118   \n",
       "1  [Italian, Steakhouse / Dinner, Ambiance / Good...  4.807143   \n",
       "2  [Specialty Food, Japanese, Sushi Bars, Dim Sum...  4.523707   \n",
       "3  [Sandwiches, Shaved Ice, Coffee & Tea, Dessert...  4.277512   \n",
       "4  [Coffee & Tea, Food Stands, Juice Bars & Smoot...  4.296296   \n",
       "\n",
       "                                   Combined Features  \n",
       "0  Pizza Salad Burgers Ambiance / Good Service Fa...  \n",
       "1  Italian Steakhouse / Dinner Ambiance / Good Se...  \n",
       "2  Specialty Food Japanese Sushi Bars Dim Sum Veg...  \n",
       "3  Sandwiches Shaved Ice Coffee & Tea Desserts Ca...  \n",
       "4  Coffee & Tea Food Stands Juice Bars & Smoothie...  "
      ]
     },
     "execution_count": 30,
     "metadata": {},
     "output_type": "execute_result"
    }
   ],
   "source": [
    "vegas_contents.head()"
   ]
  },
  {
   "cell_type": "code",
   "execution_count": 66,
   "metadata": {},
   "outputs": [],
   "source": [
    "with open('restaurants.pkl', 'wb') as fp:\n",
    "    pickle.dump(vegas_contents, fp)"
   ]
  },
  {
   "cell_type": "code",
   "execution_count": 38,
   "metadata": {},
   "outputs": [
    {
     "data": {
      "text/plain": [
       "[{'Name': 'Brew Tea Bar',\n",
       "  'Address': '7380 S Rainbow Blvd, Ste 101',\n",
       "  'Zip Code': '89139',\n",
       "  'Latitude': 36.0542269,\n",
       "  'Longitude': -115.2423924,\n",
       "  'Category': ['Restaurants',\n",
       "   'Food',\n",
       "   'Cafes',\n",
       "   'Tea Rooms',\n",
       "   'Bubble Tea',\n",
       "   'Desserts'],\n",
       "  'Topics': ['Continental', 'Good Ambiance / Service', 'Exotic'],\n",
       "  'Stars': 4.830034129692833},\n",
       " {'Name': 'POTs',\n",
       "  'Address': '1745 S Rainbow Blvd, Ste a',\n",
       "  'Zip Code': '89146',\n",
       "  'Latitude': 36.1520101,\n",
       "  'Longitude': -115.243704,\n",
       "  'Category': ['Vegan',\n",
       "   'Middle Eastern',\n",
       "   'Egyptian',\n",
       "   'Restaurants',\n",
       "   'Vegetarian'],\n",
       "  'Topics': ['Continental', 'Fastfood / American', 'Good Ambiance / Service'],\n",
       "  'Stars': 4.82}]"
      ]
     },
     "execution_count": 38,
     "metadata": {},
     "output_type": "execute_result"
    }
   ],
   "source": [
    "topic = 'Continental'\n",
    "get_restaurants_by_topic(vegas_contents,categories_list=[topic])[:2]\n"
   ]
  },
  {
   "cell_type": "code",
   "execution_count": 40,
   "metadata": {},
   "outputs": [
    {
     "data": {
      "text/plain": [
       "[{'Name': 'Chef Kennys Asian Vegan Restaurant',\n",
       "  'Address': '6820 Spring Mountain Rd, Ste 111',\n",
       "  'Zip Code': '89146',\n",
       "  'Latitude': 36.1269461,\n",
       "  'Longitude': -115.2410542,\n",
       "  'Category': ['Restaurants', 'Chinese', 'Vegan', 'Sushi Bars', 'Vegetarian'],\n",
       "  'Topics': ['Exotic', 'Fusion / Buffet', 'Continental'],\n",
       "  'Stars': 4.646766169154229},\n",
       " {'Name': 'Sushi King',\n",
       "  'Address': '3430 E Tropicana Ave, Ste 30',\n",
       "  'Zip Code': '89121',\n",
       "  'Latitude': 36.1006736,\n",
       "  'Longitude': -115.1002334,\n",
       "  'Category': ['Restaurants',\n",
       "   'Asian Fusion',\n",
       "   'Sushi Bars',\n",
       "   'Ramen',\n",
       "   'Hawaiian',\n",
       "   'Japanese',\n",
       "   'Chinese'],\n",
       "  'Topics': ['Exotic', 'Fusion / Buffet', 'Continental'],\n",
       "  'Stars': 4.627659574468085}]"
      ]
     },
     "execution_count": 40,
     "metadata": {},
     "output_type": "execute_result"
    }
   ],
   "source": [
    "preference = 'Chinese'\n",
    "get_restaurants_by_preference(vegas_contents,categories_list=[preference])[:2]"
   ]
  },
  {
   "cell_type": "code",
   "execution_count": 42,
   "metadata": {},
   "outputs": [],
   "source": [
    "preference1 = ['Chinese']\n",
    "preference2 = ['Indian']\n",
    "topic = ['Continental']\n",
    "store_rest = []"
   ]
  },
  {
   "cell_type": "code",
   "execution_count": 43,
   "metadata": {},
   "outputs": [],
   "source": [
    "rest_pref1 = get_restaurants_by_preference(vegas_contents,preference1)\n",
    "rest_pref2 = get_restaurants_by_preference(vegas_contents,preference2)\n",
    "pref_store = [rest_pref1,rest_pref2]"
   ]
  },
  {
   "cell_type": "code",
   "execution_count": 44,
   "metadata": {},
   "outputs": [],
   "source": [
    "if preference1 != preference2:\n",
    "    for i in range(2):\n",
    "        store_rest.extend(pref_store[i][:10])\n",
    "else:\n",
    "    store_rest.extend(pref_store[0][:20])\n",
    "store_rest.extend(get_restaurants_by_topic(vegas_contents,topic)[:10])"
   ]
  },
  {
   "cell_type": "code",
   "execution_count": 65,
   "metadata": {},
   "outputs": [
    {
     "name": "stdout",
     "output_type": "stream",
     "text": [
      "The distance from 89129 is     7.098 miles\n",
      "The distance from 89129 is    13.285 miles\n",
      "The distance from 89129 is     8.230 miles\n",
      "The distance from 89129 is     7.098 miles\n",
      "The distance from 89129 is    14.584 miles\n",
      "The distance from 89129 is     8.233 miles\n",
      "The distance from 89129 is     8.999 miles\n",
      "The distance from 89129 is    12.655 miles\n",
      "The distance from 89129 is    13.285 miles\n",
      "The distance from 89129 is     8.230 miles\n",
      "The distance from 89129 is    12.655 miles\n",
      "The distance from 89129 is     8.230 miles\n",
      "The distance from 89129 is     9.761 miles\n",
      "The distance from 89129 is     8.233 miles\n",
      "The distance from 89129 is    12.826 miles\n",
      "The distance from 89129 is    12.826 miles\n",
      "The distance from 89129 is     0.000 miles\n",
      "The distance from 89129 is    12.826 miles\n",
      "The distance from 89129 is    16.148 miles\n",
      "The distance from 89129 is     8.230 miles\n",
      "The distance from 89129 is    14.584 miles\n",
      "The distance from 89129 is     7.098 miles\n",
      "The distance from 89129 is    14.584 miles\n",
      "The distance from 89129 is    13.285 miles\n",
      "The distance from 89129 is    12.826 miles\n",
      "The distance from 89129 is    14.584 miles\n",
      "The distance from 89129 is     8.230 miles\n",
      "The distance from 89129 is    12.826 miles\n",
      "The distance from 89129 is     8.999 miles\n",
      "The distance from 89129 is     4.506 miles\n"
     ]
    }
   ],
   "source": [
    "zip_code = '89129'\n",
    "proximity = 20.0\n",
    "for item in store_rest:\n",
    "    dist = distance(locations[zip_code],locations[item['Zip Code']])    \n",
    "    if dist < proximity:        \n",
    "        print(f'The distance from {zip_code} is {dist:9.3f} miles')"
   ]
  },
  {
   "cell_type": "code",
   "execution_count": 71,
   "metadata": {},
   "outputs": [
    {
     "data": {
      "text/plain": [
       "[{'Name': 'Chef Kennys Asian Vegan Restaurant',\n",
       "  'Address': '6820 Spring Mountain Rd, Ste 111',\n",
       "  'Zip Code': '89146',\n",
       "  'Latitude': 36.1269461,\n",
       "  'Longitude': -115.2410542,\n",
       "  'Category': ['Restaurants', 'Chinese', 'Vegan', 'Sushi Bars', 'Vegetarian'],\n",
       "  'Topics': ['Exotic', 'Fusion / Buffet', 'Continental'],\n",
       "  'Stars': 4.646766169154229},\n",
       " {'Name': 'Sushi King',\n",
       "  'Address': '3430 E Tropicana Ave, Ste 30',\n",
       "  'Zip Code': '89121',\n",
       "  'Latitude': 36.1006736,\n",
       "  'Longitude': -115.1002334,\n",
       "  'Category': ['Restaurants',\n",
       "   'Asian Fusion',\n",
       "   'Sushi Bars',\n",
       "   'Ramen',\n",
       "   'Hawaiian',\n",
       "   'Japanese',\n",
       "   'Chinese'],\n",
       "  'Topics': ['Exotic', 'Fusion / Buffet', 'Continental'],\n",
       "  'Stars': 4.627659574468085}]"
      ]
     },
     "execution_count": 71,
     "metadata": {},
     "output_type": "execute_result"
    }
   ],
   "source": [
    "[item for item in store_rest if distance(locations[zip_code],locations[item['Zip Code']]) < proximity][:2]"
   ]
  },
  {
   "cell_type": "code",
   "execution_count": 94,
   "metadata": {},
   "outputs": [],
   "source": [
    "import folium\n",
    "from folium import plugins\n",
    "from folium.plugins import HeatMap"
   ]
  },
  {
   "cell_type": "code",
   "execution_count": 149,
   "metadata": {},
   "outputs": [],
   "source": [
    "vegas_coordinates = (36.1699, -115.1398)\n",
    "folium_map = folium.Map(location=vegas_coordinates,width=1000,height=800,zoom_start=11)"
   ]
  },
  {
   "cell_type": "code",
   "execution_count": 150,
   "metadata": {},
   "outputs": [],
   "source": [
    "for restaurant in store_rest:\n",
    "    coordinates = restaurant['Latitude'],restaurant['Longitude']\n",
    "    folium.Marker(coordinates,popup=(restaurant['Name'],restaurant['Category'])).add_to(folium_map)"
   ]
  },
  {
   "cell_type": "code",
   "execution_count": 151,
   "metadata": {},
   "outputs": [
    {
     "data": {
      "text/plain": [
       "<folium.plugins.heat_map.HeatMap at 0x7f8780f55048>"
      ]
     },
     "execution_count": 151,
     "metadata": {},
     "output_type": "execute_result"
    }
   ],
   "source": [
    "data = [(restaurant['Latitude'],restaurant['Longitude']) for restaurant in store_rest]\n",
    "HeatMap(data).add_to(folium.FeatureGroup(name='Heat Map').add_to(folium_map))\n"
   ]
  },
  {
   "cell_type": "code",
   "execution_count": 152,
   "metadata": {},
   "outputs": [
    {
     "data": {
      "text/html": [
       "<div style=\"width:100%;\"><div style=\"position:relative;width:100%;height:0;padding-bottom:60%;\"><span style=\"color:#565656\">Make this Notebook Trusted to load map: File -> Trust Notebook</span><iframe src=\"about:blank\" style=\"position:absolute;width:100%;height:100%;left:0;top:0;border:none !important;\" data-html=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 onload=\"this.contentDocument.open();this.contentDocument.write(atob(this.getAttribute('data-html')));this.contentDocument.close();\" allowfullscreen webkitallowfullscreen mozallowfullscreen></iframe></div></div>"
      ],
      "text/plain": [
       "<folium.folium.Map at 0x7f8780f55278>"
      ]
     },
     "execution_count": 152,
     "metadata": {},
     "output_type": "execute_result"
    }
   ],
   "source": [
    "folium_map"
   ]
  },
  {
   "cell_type": "code",
   "execution_count": 67,
   "metadata": {},
   "outputs": [],
   "source": [
    "with open('restaurants.pkl','rb') as f:\n",
    "    restaurants = pickle.load(f)"
   ]
  },
  {
   "cell_type": "code",
   "execution_count": 131,
   "metadata": {},
   "outputs": [],
   "source": [
    "vect = CountVectorizer()\n",
    "tfidf = TfidfVectorizer()"
   ]
  },
  {
   "cell_type": "code",
   "execution_count": 126,
   "metadata": {},
   "outputs": [],
   "source": [
    "vect_matrix = vect.fit_transform(vegas_contents['Combined Features'])"
   ]
  },
  {
   "cell_type": "code",
   "execution_count": 132,
   "metadata": {},
   "outputs": [],
   "source": [
    "tfidf_matrix = tfidf.fit_transform(vegas_contents['Combined Features'])"
   ]
  },
  {
   "cell_type": "code",
   "execution_count": 127,
   "metadata": {},
   "outputs": [
    {
     "data": {
      "text/plain": [
       "(2132, 395)"
      ]
     },
     "execution_count": 127,
     "metadata": {},
     "output_type": "execute_result"
    }
   ],
   "source": [
    "vect_matrix.shape"
   ]
  },
  {
   "cell_type": "code",
   "execution_count": 133,
   "metadata": {},
   "outputs": [],
   "source": [
    "cosine_sim = linear_kernel(tfidf_matrix, tfidf_matrix)"
   ]
  },
  {
   "cell_type": "code",
   "execution_count": 135,
   "metadata": {},
   "outputs": [
    {
     "data": {
      "text/plain": [
       "array([1.        , 0.2896276 , 0.03925627, ..., 0.17515934, 0.17049532,\n",
       "       0.20940573])"
      ]
     },
     "execution_count": 135,
     "metadata": {},
     "output_type": "execute_result"
    }
   ],
   "source": [
    "cosine_sim[0]"
   ]
  },
  {
   "cell_type": "code",
   "execution_count": 136,
   "metadata": {},
   "outputs": [
    {
     "data": {
      "text/plain": [
       "Int64Index([   0,    1,    2,    3,    4,    5,    6,    7,    8,    9,\n",
       "            ...\n",
       "            2122, 2123, 2124, 2125, 2126, 2127, 2128, 2129, 2130, 2131],\n",
       "           dtype='int64', length=2132)"
      ]
     },
     "execution_count": 136,
     "metadata": {},
     "output_type": "execute_result"
    }
   ],
   "source": [
    "vegas_contents.index"
   ]
  },
  {
   "cell_type": "code",
   "execution_count": 157,
   "metadata": {},
   "outputs": [
    {
     "data": {
      "text/plain": [
       "0       Yr_w9lakJrKMyEG_hI6zbA\n",
       "1       AN0bWhisCf6LN9eHZ7DQ3w\n",
       "2       AtD6B83S4Mbmq0t7iDnUVA\n",
       "3       oUX2bYbqjqST-urKbOHG6w\n",
       "4       FiW6w5nmhlUoJAyNofb4jg\n",
       "                 ...          \n",
       "2127    CxZ_qwVlgd-DIrb_a3N8jw\n",
       "2128    K19uBHydrYAsfX3CPnFp-w\n",
       "2129    P3xSYeiJFkbdBwpnEncPTg\n",
       "2130    ak-f8IV0ZdDeI4oYnjA1Pw\n",
       "2131    PIXl4WvAqjl2w9Lj81zXvQ\n",
       "Name: business_id, Length: 2132, dtype: object"
      ]
     },
     "execution_count": 157,
     "metadata": {},
     "output_type": "execute_result"
    }
   ],
   "source": [
    "vegas_contents['business_id']"
   ]
  },
  {
   "cell_type": "code",
   "execution_count": 158,
   "metadata": {},
   "outputs": [],
   "source": [
    "businesses = vegas_contents['business_id']\n",
    "indices = pd.Series(businesses.index,index = vegas_contents['business_id'])"
   ]
  },
  {
   "cell_type": "code",
   "execution_count": 195,
   "metadata": {},
   "outputs": [],
   "source": [
    "def content_recommendations(business):\n",
    "    idx = indices[business]\n",
    "    sim_scores = list(enumerate(cosine_sim[idx]))\n",
    "    sim_scores = sorted(sim_scores, key=lambda x: x[1], reverse=True)\n",
    "    sim_scores = sim_scores[1:21]\n",
    "    biz_indices = [i[0] for i in sim_scores]\n",
    "    return businesses.iloc[biz_indices].values.tolist()"
   ]
  },
  {
   "cell_type": "code",
   "execution_count": 196,
   "metadata": {},
   "outputs": [
    {
     "data": {
      "text/plain": [
       "['d4qwVw4PcN-_2mK2o1Ro1g',\n",
       " '2XkVexeY_8zyc9nriSElQg',\n",
       " '2IvrdAb6zdxr3ZqplqJHbg',\n",
       " 'w55sCX7ZkLIJNhl_RhwjEg',\n",
       " 'GOJJynE4H3i5XghQiy24Zw',\n",
       " 'WcGKG8_rDVBVx6lSTlWiDA',\n",
       " 'pLMPpaJ7whp86uL_3ezwMg',\n",
       " 'BQJokxJ4y4s57i7Mn65pvA',\n",
       " 'Oto60yDwk1z72WmfWEYrjg',\n",
       " 'TzpqNdtAZHXuIKf2xS0o2A',\n",
       " 'CiYLq33nAyghFkUR15pP-Q',\n",
       " 'c-NXKTJ0jrrusTPxJAUwvA',\n",
       " 'Xj7DIGRHEchJ-VVdISazQQ',\n",
       " '8KEB1lcjKlIVSd6uA8JB9w',\n",
       " 'YaTlfyPieOXwHH16wzieFg',\n",
       " 'MZRqxvBkJLjKcoOjNz7yLA',\n",
       " 'Nr5TGaBoGraxbZBCzKyvuA',\n",
       " 'Zrx25j1M794Nh8fUGB8E9A',\n",
       " 'UGiMMw54qYxac0eE_cBbaA',\n",
       " 'VFcx35QDd_kZgLT4UDV8xg']"
      ]
     },
     "execution_count": 196,
     "metadata": {},
     "output_type": "execute_result"
    }
   ],
   "source": [
    "content_recommendations('d4qwVw4PcN-_2mK2o1Ro1g')"
   ]
  },
  {
   "cell_type": "code",
   "execution_count": 162,
   "metadata": {},
   "outputs": [],
   "source": [
    "with open('vegas_reviews.pkl','rb') as f:\n",
    "    vegas_reviews = pickle.load(f)"
   ]
  },
  {
   "cell_type": "code",
   "execution_count": 165,
   "metadata": {},
   "outputs": [
    {
     "data": {
      "text/plain": [
       "str"
      ]
     },
     "execution_count": 165,
     "metadata": {},
     "output_type": "execute_result"
    }
   ],
   "source": [
    "type(vegas_reviews.iloc[0]['date'])"
   ]
  },
  {
   "cell_type": "code",
   "execution_count": 166,
   "metadata": {},
   "outputs": [],
   "source": [
    "import datetime"
   ]
  },
  {
   "cell_type": "code",
   "execution_count": 167,
   "metadata": {},
   "outputs": [],
   "source": [
    "vegas_reviews['date'] = vegas_reviews['date'].apply(lambda x: datetime.datetime.strptime(x, \"%Y-%m-%d %H:%M:%S\"))"
   ]
  },
  {
   "cell_type": "code",
   "execution_count": 175,
   "metadata": {},
   "outputs": [],
   "source": [
    "vegas_reviews_open = vegas_reviews[vegas_reviews['business_id'].isin(vegas_contents['business_id'])]"
   ]
  },
  {
   "cell_type": "code",
   "execution_count": 176,
   "metadata": {},
   "outputs": [
    {
     "data": {
      "text/html": [
       "<div>\n",
       "<style scoped>\n",
       "    .dataframe tbody tr th:only-of-type {\n",
       "        vertical-align: middle;\n",
       "    }\n",
       "\n",
       "    .dataframe tbody tr th {\n",
       "        vertical-align: top;\n",
       "    }\n",
       "\n",
       "    .dataframe thead th {\n",
       "        text-align: right;\n",
       "    }\n",
       "</style>\n",
       "<table border=\"1\" class=\"dataframe\">\n",
       "  <thead>\n",
       "    <tr style=\"text-align: right;\">\n",
       "      <th></th>\n",
       "      <th>review_id</th>\n",
       "      <th>user_id</th>\n",
       "      <th>business_id</th>\n",
       "      <th>stars</th>\n",
       "      <th>useful</th>\n",
       "      <th>funny</th>\n",
       "      <th>cool</th>\n",
       "      <th>text</th>\n",
       "      <th>date</th>\n",
       "    </tr>\n",
       "  </thead>\n",
       "  <tbody>\n",
       "    <tr>\n",
       "      <th>16</th>\n",
       "      <td>bVTjZgRNq8ToxzvtiVrqMA</td>\n",
       "      <td>2hRe26HSCAWbFRn5WChK-Q</td>\n",
       "      <td>d4qwVw4PcN-_2mK2o1Ro1g</td>\n",
       "      <td>1.0</td>\n",
       "      <td>0</td>\n",
       "      <td>0</td>\n",
       "      <td>0</td>\n",
       "      <td>10pm on a super bowl Sunday and they're alread...</td>\n",
       "      <td>2015-02-02 06:28:00</td>\n",
       "    </tr>\n",
       "    <tr>\n",
       "      <th>21</th>\n",
       "      <td>TeX0eOIeZb_wpo86rCedXQ</td>\n",
       "      <td>RR-2nouBn408e3djxC470g</td>\n",
       "      <td>d4qwVw4PcN-_2mK2o1Ro1g</td>\n",
       "      <td>5.0</td>\n",
       "      <td>0</td>\n",
       "      <td>0</td>\n",
       "      <td>0</td>\n",
       "      <td>Holy heck this place is amazing. I love their ...</td>\n",
       "      <td>2017-02-09 04:25:03</td>\n",
       "    </tr>\n",
       "    <tr>\n",
       "      <th>24</th>\n",
       "      <td>XvLG7ReC8JZmBltOLJzfcA</td>\n",
       "      <td>-Co-ReNx_lXT1xL_Rr0B2g</td>\n",
       "      <td>XZbuPXdyA0ZtTu3AzqtQhg</td>\n",
       "      <td>4.0</td>\n",
       "      <td>0</td>\n",
       "      <td>1</td>\n",
       "      <td>0</td>\n",
       "      <td>As the previous person posted, what more can r...</td>\n",
       "      <td>2009-10-13 09:50:48</td>\n",
       "    </tr>\n",
       "    <tr>\n",
       "      <th>30</th>\n",
       "      <td>WGbtqQMeJwTVg6DFb156EQ</td>\n",
       "      <td>K5MSNpwRf0xKQSaC6gK9Cw</td>\n",
       "      <td>PL3cimEUfNHlenOGSOAdJg</td>\n",
       "      <td>4.0</td>\n",
       "      <td>3</td>\n",
       "      <td>0</td>\n",
       "      <td>1</td>\n",
       "      <td>This was our choice, by default, for New Year'...</td>\n",
       "      <td>2017-01-02 05:24:56</td>\n",
       "    </tr>\n",
       "    <tr>\n",
       "      <th>40</th>\n",
       "      <td>TkcxD1A4N_9kRZwGhUjDKA</td>\n",
       "      <td>bgG0jJyUXta_kczGrQW2Rw</td>\n",
       "      <td>7EZ4Eu7YJ1ltRCC5jXFJrQ</td>\n",
       "      <td>1.0</td>\n",
       "      <td>1</td>\n",
       "      <td>0</td>\n",
       "      <td>0</td>\n",
       "      <td>There wasn't one specific thing that made this...</td>\n",
       "      <td>2013-04-10 16:19:12</td>\n",
       "    </tr>\n",
       "  </tbody>\n",
       "</table>\n",
       "</div>"
      ],
      "text/plain": [
       "                 review_id                 user_id             business_id  \\\n",
       "16  bVTjZgRNq8ToxzvtiVrqMA  2hRe26HSCAWbFRn5WChK-Q  d4qwVw4PcN-_2mK2o1Ro1g   \n",
       "21  TeX0eOIeZb_wpo86rCedXQ  RR-2nouBn408e3djxC470g  d4qwVw4PcN-_2mK2o1Ro1g   \n",
       "24  XvLG7ReC8JZmBltOLJzfcA  -Co-ReNx_lXT1xL_Rr0B2g  XZbuPXdyA0ZtTu3AzqtQhg   \n",
       "30  WGbtqQMeJwTVg6DFb156EQ  K5MSNpwRf0xKQSaC6gK9Cw  PL3cimEUfNHlenOGSOAdJg   \n",
       "40  TkcxD1A4N_9kRZwGhUjDKA  bgG0jJyUXta_kczGrQW2Rw  7EZ4Eu7YJ1ltRCC5jXFJrQ   \n",
       "\n",
       "    stars  useful  funny  cool  \\\n",
       "16    1.0       0      0     0   \n",
       "21    5.0       0      0     0   \n",
       "24    4.0       0      1     0   \n",
       "30    4.0       3      0     1   \n",
       "40    1.0       1      0     0   \n",
       "\n",
       "                                                 text                date  \n",
       "16  10pm on a super bowl Sunday and they're alread... 2015-02-02 06:28:00  \n",
       "21  Holy heck this place is amazing. I love their ... 2017-02-09 04:25:03  \n",
       "24  As the previous person posted, what more can r... 2009-10-13 09:50:48  \n",
       "30  This was our choice, by default, for New Year'... 2017-01-02 05:24:56  \n",
       "40  There wasn't one specific thing that made this... 2013-04-10 16:19:12  "
      ]
     },
     "execution_count": 176,
     "metadata": {},
     "output_type": "execute_result"
    }
   ],
   "source": [
    "vegas_reviews_open.head()"
   ]
  },
  {
   "cell_type": "code",
   "execution_count": 179,
   "metadata": {},
   "outputs": [],
   "source": [
    "last_restaurants = vegas_reviews_open[['user_id','business_id','date']].merge(vegas_reviews_open.groupby('user_id')['date'].max(),on=['user_id','date'])"
   ]
  },
  {
   "cell_type": "code",
   "execution_count": 182,
   "metadata": {},
   "outputs": [
    {
     "data": {
      "text/plain": [
       "dict_keys(['aWXGwath_dSGPwNdFiy9BQ', 'WM7MFrRP-7YFuGBAJ6quRQ', 'Q7IoE5m2heQKThuVq3SYFA', '5wT0vDycEzgq95yVCZ60Aw', 'RQlnSCjuqMnhR3Qk6j4KoA', '_7PfR6Tvh2xTbiVi1GELoQ', 'bLbSNkLggFnqwNNzzq-Ijw', 'keBv05MsMFBd0Hu98vXThQ', 'B1829_hxXSEpDPEDJtYeIw', 'rt3PC7WCgCKsoufmQJELfw'])"
      ]
     },
     "execution_count": 182,
     "metadata": {},
     "output_type": "execute_result"
    }
   ],
   "source": [
    "user_ids.keys()"
   ]
  },
  {
   "cell_type": "code",
   "execution_count": 189,
   "metadata": {},
   "outputs": [
    {
     "data": {
      "text/plain": [
       "[('aWXGwath_dSGPwNdFiy9BQ', '0w3BdEOxvwKTpypwbN5kiQ'),\n",
       " ('WM7MFrRP-7YFuGBAJ6quRQ', 'Ia1JlEo7UUyZtmqRe1K1Pw'),\n",
       " ('Q7IoE5m2heQKThuVq3SYFA', '1aEk5vowhhTa-C3EqxdEFw'),\n",
       " ('5wT0vDycEzgq95yVCZ60Aw', 'JDZ6_yycNQFTpUZzLIKHUg'),\n",
       " ('RQlnSCjuqMnhR3Qk6j4KoA', '8-8btzuYZCqEVOPwk0YYfA'),\n",
       " ('_7PfR6Tvh2xTbiVi1GELoQ', 'D_24gRsnae7guxJE8gLgtw'),\n",
       " ('bLbSNkLggFnqwNNzzq-Ijw', 'N0CoaG3cBrTGm2ecLYSzqA'),\n",
       " ('keBv05MsMFBd0Hu98vXThQ', 'mDoLWEOFmxcQ5TAPqxoJLg'),\n",
       " ('B1829_hxXSEpDPEDJtYeIw', 'Mh84_j7YmRrAcm0DWV4bUw'),\n",
       " ('rt3PC7WCgCKsoufmQJELfw', 'e3PBfbtXUjMziX6XGsOMoA')]"
      ]
     },
     "execution_count": 189,
     "metadata": {},
     "output_type": "execute_result"
    }
   ],
   "source": [
    "usr_biz = [(usr,last_restaurants[last_restaurants['user_id'].isin( [usr])]['business_id'].iloc[0]) for usr in user_ids.keys()]\n",
    "usr_biz"
   ]
  },
  {
   "cell_type": "code",
   "execution_count": 197,
   "metadata": {},
   "outputs": [],
   "source": [
    "store_restaurants_content = {item[0]:content_recommendations(item[1]) for item in usr_biz}"
   ]
  },
  {
   "cell_type": "code",
   "execution_count": 199,
   "metadata": {},
   "outputs": [],
   "source": [
    "with open('rec_content.json', 'w') as fp:\n",
    "    json.dump(store_restaurants_content, fp)"
   ]
  },
  {
   "cell_type": "code",
   "execution_count": 203,
   "metadata": {},
   "outputs": [],
   "source": [
    "test_user = 'aWXGwath_dSGPwNdFiy9BQ'"
   ]
  },
  {
   "cell_type": "code",
   "execution_count": 206,
   "metadata": {},
   "outputs": [
    {
     "data": {
      "text/plain": [
       "['Po0QGzgwFrfnGJEi_akCjA',\n",
       " 'wFaVu_D7LiwAeDl_TxCf8g',\n",
       " 'yfxDa8RFOvJPQh0rNtakHA',\n",
       " 'buTa1akbH0pO_P10v99_eA',\n",
       " 'TW58a4UkMcksdfQ7znUqsA',\n",
       " 'OXBROmBWuDhRhd0BZ7zXJA',\n",
       " '7iuruLs-q-_RW06IbsBxZw',\n",
       " '8-8btzuYZCqEVOPwk0YYfA',\n",
       " 'MQI1rSTE2LGrrsPPgenCrA',\n",
       " 'ygaOvp0PLBYaYeN9cZAlGg',\n",
       " 'eaNenRk_liZBERFFLCXqqQ',\n",
       " 'G6w_9uzW4o3Oyb3z8oOZyA',\n",
       " 'FQB3VXrWYM_m_XrzwRozAg',\n",
       " 'EkuSy_kM8dpGrlb2pTxCBw',\n",
       " '8F-UdXe_YylX3k0L1SEiRg',\n",
       " 'm51uL1LZhKYf2y_yG4NEng',\n",
       " 'N4t78qF2C5jqYBjNr0j3_w',\n",
       " 'FSnqO-YWUdRb0Xc95nXbvw',\n",
       " 'iRwT2pBa87Y54q8nqfNAzw',\n",
       " 'BulTr0Cdk-0RPADpM1oFMw']"
      ]
     },
     "execution_count": 206,
     "metadata": {},
     "output_type": "execute_result"
    }
   ],
   "source": [
    "store_restaurants_content[test_user]"
   ]
  },
  {
   "cell_type": "code",
   "execution_count": 205,
   "metadata": {},
   "outputs": [
    {
     "data": {
      "text/plain": [
       "['B-9IuVXitKKwXj0fXUxczQ',\n",
       " 'G4hjhtA_wQ-tSOGpgGlDjw',\n",
       " 'cOqd9ou3uf-1k3OWFo-_CQ',\n",
       " 'cePE3rCuUOVSCCAHSjWxoQ',\n",
       " 'Jjwa-WCK73efAwVZRksWSw',\n",
       " 'vOMDU31gdylrzBhAKC9QbA',\n",
       " '9P23-V64kYz3trn9ecaJJA',\n",
       " '8fFTJBh0RB2EKG53ibiBKw',\n",
       " 'iX2c4IzH_L5F6FM5GD3SUQ',\n",
       " '3pSUr_cdrphurO6m1HMP9A']"
      ]
     },
     "execution_count": 205,
     "metadata": {},
     "output_type": "execute_result"
    }
   ],
   "source": [
    "[item[0] for item in user_ids[test_user]]"
   ]
  },
  {
   "cell_type": "code",
   "execution_count": 211,
   "metadata": {},
   "outputs": [],
   "source": [
    "def get_restaurants_by_usr_id(df,usr_id):\n",
    "    \n",
    "    store_restaurants = []\n",
    "    \n",
    "    df_colab = vegas_contents[vegas_contents['business_id'].isin([item[0] for item in user_ids[usr_id]])]\n",
    "    df_content = vegas_contents[vegas_contents['business_id'].isin([item for item in store_restaurants_content[usr_id]])]\n",
    "    df_rest = pd.concat([df_colab,df_content])\n",
    "     \n",
    "    for index,row in df_rest.iterrows():\n",
    "        restaurant_details = {}\n",
    "        restaurant_details['Name'] = row['name']\n",
    "        restaurant_details['Address'] = row['address']\n",
    "        restaurant_details['Zip Code'] = row['postal_code']\n",
    "        restaurant_details['Latitude'] = row['latitude']\n",
    "        restaurant_details['Longitude'] = row['longitude']\n",
    "        \n",
    "        restaurant_details['Category'] = row['sep_categories']\n",
    "        restaurant_details['Topics'] = row['Topics']\n",
    "        restaurant_details['Stars'] = row['stars']\n",
    "#         restaurant_details['additional_details'] = row['attributes']\n",
    "        store_restaurants.append(restaurant_details)\n",
    "    return sorted(store_restaurants,key = lambda x: x['Stars'],reverse=True)"
   ]
  },
  {
   "cell_type": "code",
   "execution_count": 218,
   "metadata": {},
   "outputs": [
    {
     "data": {
      "text/plain": [
       "[{'Name': 'POTs',\n",
       "  'Address': '1745 S Rainbow Blvd, Ste a',\n",
       "  'Zip Code': '89146',\n",
       "  'Latitude': 36.1520101,\n",
       "  'Longitude': -115.243704,\n",
       "  'Category': ['Vegan',\n",
       "   'Middle Eastern',\n",
       "   'Egyptian',\n",
       "   'Restaurants',\n",
       "   'Vegetarian'],\n",
       "  'Topics': ['Continental', 'Fastfood / American', 'Good Ambiance / Service'],\n",
       "  'Stars': 4.82},\n",
       " {'Name': 'Carnitas King',\n",
       "  'Address': '6030 W Windmill Ln',\n",
       "  'Zip Code': '89139',\n",
       "  'Latitude': 36.0426337,\n",
       "  'Longitude': -115.2245316,\n",
       "  'Category': ['Mexican', 'Restaurants'],\n",
       "  'Topics': ['Snack / Tacos', 'Good Ambiance / Service', 'Continental'],\n",
       "  'Stars': 4.813559322033898},\n",
       " {'Name': 'Bajamar Seafood & Tacos',\n",
       "  'Address': '1615 S Las Vegas Blvd',\n",
       "  'Zip Code': '89104',\n",
       "  'Latitude': 36.1517421042,\n",
       "  'Longitude': -115.1518118808,\n",
       "  'Category': ['Fast Food',\n",
       "   'Dive Bars',\n",
       "   'Bars',\n",
       "   'Tacos',\n",
       "   'Seafood',\n",
       "   'Nightlife',\n",
       "   'Mexican',\n",
       "   'Restaurants'],\n",
       "  'Topics': ['Snack / Tacos', 'Dinner', 'Fusion / Buffet'],\n",
       "  'Stars': 4.7995049504950495},\n",
       " {'Name': 'Poke Heaven',\n",
       "  'Address': '4747 S Maryland Pkwy',\n",
       "  'Zip Code': '89119',\n",
       "  'Latitude': 36.1041615385,\n",
       "  'Longitude': -115.1376310519,\n",
       "  'Category': ['Korean',\n",
       "   'Poke',\n",
       "   'Food',\n",
       "   'Asian Fusion',\n",
       "   'Japanese',\n",
       "   'Restaurants',\n",
       "   'Hawaiian'],\n",
       "  'Topics': ['Exotic', 'Continental', 'Fusion / Buffet'],\n",
       "  'Stars': 4.791666666666667},\n",
       " {'Name': 'J Karaoke Bar',\n",
       "  'Address': '3899 Spring Mountain Rd',\n",
       "  'Zip Code': '89102',\n",
       "  'Latitude': 36.1261962,\n",
       "  'Longitude': -115.1917155,\n",
       "  'Category': ['Nightlife',\n",
       "   'Bars',\n",
       "   'Restaurants',\n",
       "   'Asian Fusion',\n",
       "   'Cocktail Bars',\n",
       "   'Karaoke',\n",
       "   'American (New)',\n",
       "   'Korean'],\n",
       "  'Topics': ['Hotel/ Bar/ Night life', 'Exotic', 'Continental'],\n",
       "  'Stars': 4.772241992882562},\n",
       " {'Name': 'Karved',\n",
       "  'Address': '3957 S Maryland Pkwy',\n",
       "  'Zip Code': '89119',\n",
       "  'Latitude': 36.117091,\n",
       "  'Longitude': -115.138401,\n",
       "  'Category': ['Restaurants',\n",
       "   'Sandwiches',\n",
       "   'Fast Food',\n",
       "   'Salad',\n",
       "   'American (New)',\n",
       "   'American (Traditional)',\n",
       "   'Barbeque'],\n",
       "  'Topics': ['Fastfood / American', 'Good Ambiance / Service', 'Continental'],\n",
       "  'Stars': 4.770833333333333},\n",
       " {'Name': \"Zenaida's Cafe\",\n",
       "  'Address': '3430 E Tropicana Ave, Ste 32',\n",
       "  'Zip Code': '89121',\n",
       "  'Latitude': 36.1017406138,\n",
       "  'Longitude': -115.1003590417,\n",
       "  'Category': ['Cafes', 'Breakfast & Brunch', 'Restaurants'],\n",
       "  'Topics': ['Continental', 'Snack / Tacos', 'Dinner'],\n",
       "  'Stars': 4.760964912280702},\n",
       " {'Name': 'Sushi Hiroyoshi Japanese Cuisine',\n",
       "  'Address': '5900 W Charleston Blvd, Ste 10',\n",
       "  'Zip Code': '89146',\n",
       "  'Latitude': 36.1599423,\n",
       "  'Longitude': -115.2222337,\n",
       "  'Category': ['Seafood', 'Restaurants', 'Sushi Bars', 'Japanese'],\n",
       "  'Topics': ['Exotic', 'Dinner', 'Fusion / Buffet'],\n",
       "  'Stars': 4.754237288135593},\n",
       " {'Name': 'Kame Omakase and Kaiseki',\n",
       "  'Address': '3616 West Spring Mountain Rd, Ste 103',\n",
       "  'Zip Code': '89102',\n",
       "  'Latitude': 36.1265556,\n",
       "  'Longitude': -115.1892231,\n",
       "  'Category': ['Seafood', 'Japanese', 'Sushi Bars', 'Restaurants'],\n",
       "  'Topics': ['Dinner', 'Exotic', 'Fusion / Buffet'],\n",
       "  'Stars': 4.753846153846154},\n",
       " {'Name': 'Tasty Crepes',\n",
       "  'Address': '4845 S Fort Apache Rd',\n",
       "  'Zip Code': '89147',\n",
       "  'Latitude': 36.101689985,\n",
       "  'Longitude': -115.2981502597,\n",
       "  'Category': ['Restaurants',\n",
       "   'Juice Bars & Smoothies',\n",
       "   'Food',\n",
       "   'Ice Cream & Frozen Yogurt',\n",
       "   'Desserts',\n",
       "   'Creperies'],\n",
       "  'Topics': ['Good Ambiance / Service', 'Continental', 'Snack / Tacos'],\n",
       "  'Stars': 4.716279069767442},\n",
       " {'Name': 'Hobak Korean BBQ',\n",
       "  'Address': '5808 Spring Mountain Rd, Ste 101',\n",
       "  'Zip Code': '89146',\n",
       "  'Latitude': 36.1260309581,\n",
       "  'Longitude': -115.2219968887,\n",
       "  'Category': ['Barbeque', 'Restaurants', 'Korean'],\n",
       "  'Topics': ['Fusion / Buffet', 'Continental', 'Dinner'],\n",
       "  'Stars': 4.550324675324675},\n",
       " {'Name': 'Arirang Korean BBQ',\n",
       "  'Address': '1370 East Flamingo Rd, Ste 27',\n",
       "  'Zip Code': '89119',\n",
       "  'Latitude': 36.1154417,\n",
       "  'Longitude': -115.1338935,\n",
       "  'Category': ['Barbeque', 'Korean', 'Restaurants'],\n",
       "  'Topics': ['Fusion / Buffet', 'Continental', 'Snack / Tacos'],\n",
       "  'Stars': 4.508875739644971},\n",
       " {'Name': '888 Korean BBQ',\n",
       "  'Address': '4215 Spring Mountain Rd, B107',\n",
       "  'Zip Code': '89102',\n",
       "  'Latitude': 36.1253178,\n",
       "  'Longitude': -115.1960722,\n",
       "  'Category': ['Barbeque', 'Restaurants', 'Korean'],\n",
       "  'Topics': ['Fusion / Buffet', 'Continental', 'Dinner'],\n",
       "  'Stars': 4.441860465116279},\n",
       " {'Name': \"Master Kim's Korean BBQ\",\n",
       "  'Address': '7036 S Durango Dr, Ste 100',\n",
       "  'Zip Code': '89113',\n",
       "  'Latitude': 36.0607048,\n",
       "  'Longitude': -115.2780632,\n",
       "  'Category': ['Korean', 'Restaurants', 'Asian Fusion', 'Barbeque'],\n",
       "  'Topics': ['Fusion / Buffet', 'Exotic', 'Continental'],\n",
       "  'Stars': 4.3469827586206895},\n",
       " {'Name': 'Gen Korean BBQ House',\n",
       "  'Address': '5125 W Sahara Ave',\n",
       "  'Zip Code': '89146',\n",
       "  'Latitude': 36.1441245,\n",
       "  'Longitude': -115.2108226,\n",
       "  'Category': ['Restaurants', 'Korean', 'Barbeque'],\n",
       "  'Topics': ['Fusion / Buffet', 'Continental', 'Snack / Tacos'],\n",
       "  'Stars': 4.232954545454546},\n",
       " {'Name': 'Viet Noodle Bar',\n",
       "  'Address': '5288 Spring Mountain Rd',\n",
       "  'Zip Code': '89146',\n",
       "  'Latitude': 36.126238,\n",
       "  'Longitude': -115.213266,\n",
       "  'Category': ['Barbeque', 'Vietnamese', 'Soup', 'Restaurants'],\n",
       "  'Topics': ['Fusion / Buffet', 'Continental', 'Exotic'],\n",
       "  'Stars': 4.222435282837967},\n",
       " {'Name': 'Doh Korean BBQ',\n",
       "  'Address': '7920 S Rainbow Blvd, Ste 105',\n",
       "  'Zip Code': '89139',\n",
       "  'Latitude': 36.044636,\n",
       "  'Longitude': -115.242593,\n",
       "  'Category': ['Restaurants', 'Barbeque', 'Korean'],\n",
       "  'Topics': ['Fusion / Buffet', 'Continental', 'Snack / Tacos'],\n",
       "  'Stars': 4.056603773584905},\n",
       " {'Name': 'Da Lat',\n",
       "  'Address': '4553 W Flamingo Rd',\n",
       "  'Zip Code': '89103',\n",
       "  'Latitude': 36.1150660797,\n",
       "  'Longitude': -115.2031197524,\n",
       "  'Category': ['Vietnamese', 'Restaurants'],\n",
       "  'Topics': ['Fusion / Buffet', 'Continental', 'Exotic'],\n",
       "  'Stars': 3.8851063829787233},\n",
       " {'Name': 'Lemongrass Café',\n",
       "  'Address': '8820 S Eastern Ave',\n",
       "  'Zip Code': '89123',\n",
       "  'Latitude': 36.0289933,\n",
       "  'Longitude': -115.1171379,\n",
       "  'Category': ['Restaurants', 'Vietnamese'],\n",
       "  'Topics': ['Fusion / Buffet', 'Continental', 'Exotic'],\n",
       "  'Stars': 3.736501079913607},\n",
       " {'Name': 'Sura BBQ Buffet',\n",
       "  'Address': '4480 W Spring Mountain Rd, Ste 400',\n",
       "  'Zip Code': '89102',\n",
       "  'Latitude': 36.1266899,\n",
       "  'Longitude': -115.201296,\n",
       "  'Category': ['Buffets', 'Barbeque', 'Restaurants', 'Korean'],\n",
       "  'Topics': ['Fusion / Buffet', 'Continental', 'Exotic'],\n",
       "  'Stars': 3.720689655172414},\n",
       " {'Name': 'Honey Pig Korean BBQ',\n",
       "  'Address': '9550 S Eastern Ave, Ste 100',\n",
       "  'Zip Code': '89123',\n",
       "  'Latitude': 36.0150169665,\n",
       "  'Longitude': -115.1171830467,\n",
       "  'Category': ['Restaurants', 'Korean', 'Barbeque'],\n",
       "  'Topics': ['Fusion / Buffet', 'Continental', 'Snack / Tacos'],\n",
       "  'Stars': 3.6538461538461537},\n",
       " {'Name': 'PHO 0 TEN',\n",
       "  'Address': '7320 S Rainbow Blvd, Ste 107',\n",
       "  'Zip Code': '89139',\n",
       "  'Latitude': 36.0553309,\n",
       "  'Longitude': -115.2413886,\n",
       "  'Category': ['Vietnamese', 'Restaurants'],\n",
       "  'Topics': ['Fusion / Buffet', 'Continental', 'Exotic'],\n",
       "  'Stars': 3.6296296296296298},\n",
       " {'Name': 'Pho T',\n",
       "  'Address': '5040 Boulder Hwy, Ste 120',\n",
       "  'Zip Code': '89122',\n",
       "  'Latitude': 36.111237,\n",
       "  'Longitude': -115.06423,\n",
       "  'Category': ['Vietnamese', 'Restaurants'],\n",
       "  'Topics': ['Fusion / Buffet', 'Continental', 'Exotic'],\n",
       "  'Stars': 3.6214285714285714},\n",
       " {'Name': 'Pho Kim Long',\n",
       "  'Address': '4029 Spring Mountain Rd',\n",
       "  'Zip Code': '89102',\n",
       "  'Latitude': 36.1261943318,\n",
       "  'Longitude': -115.193445287,\n",
       "  'Category': ['Korean', 'Vietnamese', 'Chinese', 'Restaurants'],\n",
       "  'Topics': ['Fusion / Buffet', 'Continental', 'Exotic'],\n",
       "  'Stars': 3.4749729924378827},\n",
       " {'Name': 'Pho 87',\n",
       "  'Address': '3620 S Jones Blvd',\n",
       "  'Zip Code': '89103',\n",
       "  'Latitude': 36.1233694,\n",
       "  'Longitude': -115.2246242,\n",
       "  'Category': ['Vietnamese', 'Restaurants'],\n",
       "  'Topics': ['Fusion / Buffet', 'Continental', 'Exotic'],\n",
       "  'Stars': 3.461267605633803},\n",
       " {'Name': 'Honey Pig',\n",
       "  'Address': '4725 Spring Mountain Rd, Ste K',\n",
       "  'Zip Code': '89102',\n",
       "  'Latitude': 36.125416,\n",
       "  'Longitude': -115.205263,\n",
       "  'Category': ['Korean', 'Barbeque', 'Restaurants'],\n",
       "  'Topics': ['Fusion / Buffet', 'Continental', 'Snack / Tacos'],\n",
       "  'Stars': 3.4360189573459716},\n",
       " {'Name': 'KG BBQ',\n",
       "  'Address': '4355 Spring Mountain Rd, Ste 201',\n",
       "  'Zip Code': '89102',\n",
       "  'Latitude': 36.1258775,\n",
       "  'Longitude': -115.197855,\n",
       "  'Category': ['Barbeque',\n",
       "   'Vietnamese',\n",
       "   'Asian Fusion',\n",
       "   'Korean',\n",
       "   'Restaurants'],\n",
       "  'Topics': ['Fusion / Buffet', 'Continental', 'Exotic'],\n",
       "  'Stars': 3.283582089552239},\n",
       " {'Name': 'Ginseng Korean BBQ II',\n",
       "  'Address': '3765 S Las Vegas Blvd',\n",
       "  'Zip Code': '89109',\n",
       "  'Latitude': 36.1049965,\n",
       "  'Longitude': -115.1717319,\n",
       "  'Category': ['Korean', 'Restaurants', 'Barbeque', 'Buffets'],\n",
       "  'Topics': ['Fusion / Buffet', 'Continental', 'Exotic'],\n",
       "  'Stars': 3.116},\n",
       " {'Name': 'Pho Vietnam Restaurant',\n",
       "  'Address': '4215 Spring Mountain Rd',\n",
       "  'Zip Code': '89102',\n",
       "  'Latitude': 36.1253178,\n",
       "  'Longitude': -115.1960722,\n",
       "  'Category': ['Restaurants', 'Vietnamese', 'Korean'],\n",
       "  'Topics': ['Fusion / Buffet', 'Continental', 'Exotic'],\n",
       "  'Stars': 3.00990099009901},\n",
       " {'Name': 'Pho Little Saigon',\n",
       "  'Address': '3775 Spring Mountain Rd, Ste 306',\n",
       "  'Zip Code': '89102',\n",
       "  'Latitude': 36.1256919851,\n",
       "  'Longitude': -115.1899323966,\n",
       "  'Category': ['Restaurants', 'Vietnamese'],\n",
       "  'Topics': ['Fusion / Buffet', 'Continental', 'Exotic'],\n",
       "  'Stars': 2.5276967930029155}]"
      ]
     },
     "execution_count": 218,
     "metadata": {},
     "output_type": "execute_result"
    }
   ],
   "source": [
    "store = get_restaurants_by_usr_id(vegas_contents,test_user)\n",
    "[item for item in store if distance(locations[zip_code],locations[item['Zip Code']]) < proximity]"
   ]
  },
  {
   "cell_type": "code",
   "execution_count": null,
   "metadata": {},
   "outputs": [],
   "source": []
  }
 ],
 "metadata": {
  "kernelspec": {
   "display_name": "flask_env",
   "language": "python",
   "name": "flask_env"
  },
  "language_info": {
   "codemirror_mode": {
    "name": "ipython",
    "version": 3
   },
   "file_extension": ".py",
   "mimetype": "text/x-python",
   "name": "python",
   "nbconvert_exporter": "python",
   "pygments_lexer": "ipython3",
   "version": "3.6.12"
  }
 },
 "nbformat": 4,
 "nbformat_minor": 4
}
