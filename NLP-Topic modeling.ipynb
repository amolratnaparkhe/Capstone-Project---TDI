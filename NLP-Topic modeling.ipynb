{
 "cells": [
  {
   "cell_type": "code",
<<<<<<< HEAD
   "execution_count": 5,
=======
   "execution_count": 1,
   "id": "relative-election",
>>>>>>> 220867bdcc764de07e2df85f5cb7c9964ed08e13
   "metadata": {},
   "outputs": [],
   "source": [
    "import warnings\n",
    "warnings.filterwarnings('ignore')\n",
    "import os\n",
    "import random\n",
    "import json\n",
    "import numpy as np\n",
    "import pandas as pd\n",
    "import pickle\n",
    "import matplotlib.pyplot as plt\n",
    "import seaborn as sns\n",
    "%matplotlib inline"
   ]
  },
  {
   "cell_type": "code",
<<<<<<< HEAD
   "execution_count": 6,
=======
   "execution_count": 164,
   "id": "applied-hungarian",
>>>>>>> 220867bdcc764de07e2df85f5cb7c9964ed08e13
   "metadata": {},
   "outputs": [],
   "source": [
    "sns.set()\n",
    "import re\n",
    "import spacy\n",
    "from wordcloud import WordCloud\n",
    "import gensim"
   ]
  },
  {
   "cell_type": "code",
<<<<<<< HEAD
   "execution_count": 7,
=======
   "execution_count": 160,
   "id": "clean-commons",
>>>>>>> 220867bdcc764de07e2df85f5cb7c9964ed08e13
   "metadata": {},
   "outputs": [],
   "source": [
    "from scipy import stats\n",
    "from collections import Counter\n",
    "from sklearn.feature_extraction.text import TfidfVectorizer, CountVectorizer\n",
    "from sklearn.metrics.pairwise import linear_kernel, cosine_similarity"
   ]
  },
  {
   "cell_type": "code",
<<<<<<< HEAD
   "execution_count": 4,
=======
   "execution_count": 3,
   "id": "alleged-gender",
>>>>>>> 220867bdcc764de07e2df85f5cb7c9964ed08e13
   "metadata": {},
   "outputs": [],
   "source": [
    "nlp = spacy.load('en_core_web_sm',disable=['parser', 'ner'] )  # disable=['parser', 'ner']"
   ]
  },
  {
   "cell_type": "code",
<<<<<<< HEAD
   "execution_count": 5,
=======
   "execution_count": 4,
   "id": "deadly-season",
>>>>>>> 220867bdcc764de07e2df85f5cb7c9964ed08e13
   "metadata": {},
   "outputs": [],
   "source": [
    "spacy_stopwords = spacy.lang.en.stop_words.STOP_WORDS"
   ]
  },
  {
   "cell_type": "code",
<<<<<<< HEAD
   "execution_count": 6,
=======
   "execution_count": 5,
   "id": "random-boxing",
>>>>>>> 220867bdcc764de07e2df85f5cb7c9964ed08e13
   "metadata": {},
   "outputs": [],
   "source": [
    "# # Works perfectly! \n",
    "def is_token_allowed(token):\n",
    "    '''\n",
    "        This function tests to see if the token is valid!\n",
    "    '''\n",
    "    if (not token or not token.string.strip() or token.is_stop\n",
    "        or token.lemma_ in spacy_stopwords or token.is_punct or token.like_num or token.pos_ in ['SYM','CCONJ','NUM']):\n",
    "        return False\n",
    "    return True\n",
    "\n",
    "def preprocess_token(token):\n",
    "    '''\n",
    "        This function lemmatizes the allowed tokens, strips them of any space and finally makes them lowercase. \n",
    "    '''\n",
    "    return token.lemma_.strip().lower()\n",
    "\n",
    "def preprocessing(text):\n",
    "    return \" \".join([preprocess_token(token) for token in nlp(text) if is_token_allowed(token)])\n"
   ]
  },
  {
   "cell_type": "code",
<<<<<<< HEAD
   "execution_count": 7,
=======
   "execution_count": 6,
   "id": "clinical-applicant",
>>>>>>> 220867bdcc764de07e2df85f5cb7c9964ed08e13
   "metadata": {},
   "outputs": [],
   "source": [
    "def preprocessing_gensim(texts):\n",
    "    \"\"\"\n",
    "        This fuction is a wrapper on the preprocessing function.\n",
    "        It takes in a list of text reviews, turns each review in a list of clean words.\n",
    "        Finally, it returns a list of list of clean words\n",
    "    \"\"\"\n",
    "    lst = []\n",
    "    for text in texts:\n",
    "        text = re.sub('\\'ll', ' ', text)\n",
    "        text = re.sub('\\'d', ' ', text)\n",
    "        text = re.sub('\\'m', ' ', text)\n",
    "        text = re.sub('\\'re', ' ', text)\n",
    "        text = re.sub('\\'s', ' ', text)\n",
    "        text = re.sub('\\'ve', ' ', text)\n",
    "        text = re.sub(\"\\n't\", \" \", text)\n",
    "                \n",
    "        lst.append([preprocess_token(token) for token in nlp(text) if is_token_allowed(token)])\n",
    "    return lst\n"
   ]
  },
  {
   "cell_type": "code",
   "execution_count": 77,
<<<<<<< HEAD
=======
   "id": "english-nicholas",
>>>>>>> 220867bdcc764de07e2df85f5cb7c9964ed08e13
   "metadata": {},
   "outputs": [],
   "source": [
    "with open('vegas_reviews.pkl','rb') as f:\n",
    "    vegas_reviews = pickle.load(f)"
   ]
  },
  {
   "cell_type": "code",
   "execution_count": 80,
<<<<<<< HEAD
=======
   "id": "japanese-confusion",
>>>>>>> 220867bdcc764de07e2df85f5cb7c9964ed08e13
   "metadata": {},
   "outputs": [],
   "source": [
    "with open('vegas_restaurants.pkl','rb') as f:\n",
    "    vegas_restaurants = pickle.load(f)"
   ]
  },
  {
   "cell_type": "code",
   "execution_count": null,
<<<<<<< HEAD
=======
   "id": "smart-february",
>>>>>>> 220867bdcc764de07e2df85f5cb7c9964ed08e13
   "metadata": {},
   "outputs": [],
   "source": []
  },
  {
   "cell_type": "code",
   "execution_count": 70,
<<<<<<< HEAD
=======
   "id": "commercial-laugh",
>>>>>>> 220867bdcc764de07e2df85f5cb7c9964ed08e13
   "metadata": {},
   "outputs": [
    {
     "data": {
      "text/html": [
       "<div>\n",
       "<style scoped>\n",
       "    .dataframe tbody tr th:only-of-type {\n",
       "        vertical-align: middle;\n",
       "    }\n",
       "\n",
       "    .dataframe tbody tr th {\n",
       "        vertical-align: top;\n",
       "    }\n",
       "\n",
       "    .dataframe thead th {\n",
       "        text-align: right;\n",
       "    }\n",
       "</style>\n",
       "<table border=\"1\" class=\"dataframe\">\n",
       "  <thead>\n",
       "    <tr style=\"text-align: right;\">\n",
       "      <th></th>\n",
       "      <th>review_id</th>\n",
       "      <th>user_id</th>\n",
       "      <th>business_id</th>\n",
       "      <th>stars</th>\n",
       "      <th>useful</th>\n",
       "      <th>funny</th>\n",
       "      <th>cool</th>\n",
       "      <th>text</th>\n",
       "      <th>date</th>\n",
       "    </tr>\n",
       "  </thead>\n",
       "  <tbody>\n",
       "    <tr>\n",
       "      <th>21</th>\n",
       "      <td>TeX0eOIeZb_wpo86rCedXQ</td>\n",
       "      <td>RR-2nouBn408e3djxC470g</td>\n",
       "      <td>d4qwVw4PcN-_2mK2o1Ro1g</td>\n",
       "      <td>5.0</td>\n",
       "      <td>0</td>\n",
       "      <td>0</td>\n",
       "      <td>0</td>\n",
       "      <td>Holy heck this place is amazing. I love their ...</td>\n",
       "      <td>2017-02-09 04:25:03</td>\n",
       "    </tr>\n",
       "    <tr>\n",
       "      <th>24</th>\n",
       "      <td>XvLG7ReC8JZmBltOLJzfcA</td>\n",
       "      <td>-Co-ReNx_lXT1xL_Rr0B2g</td>\n",
       "      <td>XZbuPXdyA0ZtTu3AzqtQhg</td>\n",
       "      <td>4.0</td>\n",
       "      <td>0</td>\n",
       "      <td>1</td>\n",
       "      <td>0</td>\n",
       "      <td>As the previous person posted, what more can r...</td>\n",
       "      <td>2009-10-13 09:50:48</td>\n",
       "    </tr>\n",
       "    <tr>\n",
       "      <th>30</th>\n",
       "      <td>WGbtqQMeJwTVg6DFb156EQ</td>\n",
       "      <td>K5MSNpwRf0xKQSaC6gK9Cw</td>\n",
       "      <td>PL3cimEUfNHlenOGSOAdJg</td>\n",
       "      <td>4.0</td>\n",
       "      <td>3</td>\n",
       "      <td>0</td>\n",
       "      <td>1</td>\n",
       "      <td>This was our choice, by default, for New Year'...</td>\n",
       "      <td>2017-01-02 05:24:56</td>\n",
       "    </tr>\n",
       "    <tr>\n",
       "      <th>45</th>\n",
       "      <td>a9bcki-Jt26TtUoNRGjQHg</td>\n",
       "      <td>4xIRICDNx33zPG-CYshTXQ</td>\n",
       "      <td>IhNASEZ3XnBHmuuVnWdIwA</td>\n",
       "      <td>5.0</td>\n",
       "      <td>0</td>\n",
       "      <td>0</td>\n",
       "      <td>1</td>\n",
       "      <td>If you are looking for something refreshing an...</td>\n",
       "      <td>2015-07-16 06:46:29</td>\n",
       "    </tr>\n",
       "    <tr>\n",
       "      <th>48</th>\n",
       "      <td>slmv7dEs9FD3KsdbywTHUw</td>\n",
       "      <td>Ir__fU1m6dBqgTrP3aLP9A</td>\n",
       "      <td>KalAJyO0Zpg3K1wVwYXBHA</td>\n",
       "      <td>5.0</td>\n",
       "      <td>1</td>\n",
       "      <td>0</td>\n",
       "      <td>0</td>\n",
       "      <td>I have been coming to this sweet little place ...</td>\n",
       "      <td>2009-05-20 02:16:00</td>\n",
       "    </tr>\n",
       "  </tbody>\n",
       "</table>\n",
       "</div>"
      ],
      "text/plain": [
       "                 review_id                 user_id             business_id  \\\n",
       "21  TeX0eOIeZb_wpo86rCedXQ  RR-2nouBn408e3djxC470g  d4qwVw4PcN-_2mK2o1Ro1g   \n",
       "24  XvLG7ReC8JZmBltOLJzfcA  -Co-ReNx_lXT1xL_Rr0B2g  XZbuPXdyA0ZtTu3AzqtQhg   \n",
       "30  WGbtqQMeJwTVg6DFb156EQ  K5MSNpwRf0xKQSaC6gK9Cw  PL3cimEUfNHlenOGSOAdJg   \n",
       "45  a9bcki-Jt26TtUoNRGjQHg  4xIRICDNx33zPG-CYshTXQ  IhNASEZ3XnBHmuuVnWdIwA   \n",
       "48  slmv7dEs9FD3KsdbywTHUw  Ir__fU1m6dBqgTrP3aLP9A  KalAJyO0Zpg3K1wVwYXBHA   \n",
       "\n",
       "    stars  useful  funny  cool  \\\n",
       "21    5.0       0      0     0   \n",
       "24    4.0       0      1     0   \n",
       "30    4.0       3      0     1   \n",
       "45    5.0       0      0     1   \n",
       "48    5.0       1      0     0   \n",
       "\n",
       "                                                 text                 date  \n",
       "21  Holy heck this place is amazing. I love their ...  2017-02-09 04:25:03  \n",
       "24  As the previous person posted, what more can r...  2009-10-13 09:50:48  \n",
       "30  This was our choice, by default, for New Year'...  2017-01-02 05:24:56  \n",
       "45  If you are looking for something refreshing an...  2015-07-16 06:46:29  \n",
       "48  I have been coming to this sweet little place ...  2009-05-20 02:16:00  "
      ]
     },
     "execution_count": 70,
     "metadata": {},
     "output_type": "execute_result"
    }
   ],
   "source": [
    "vegas_reviews[vegas_reviews['stars'] >= 4].head()"
   ]
  },
  {
   "cell_type": "code",
   "execution_count": 86,
<<<<<<< HEAD
=======
   "id": "differential-graduation",
>>>>>>> 220867bdcc764de07e2df85f5cb7c9964ed08e13
   "metadata": {},
   "outputs": [],
   "source": [
    "biz_ind = vegas_reviews[vegas_reviews['stars'] >= 4].groupby('business_id')['text'].agg(' '.join).index"
   ]
  },
  {
   "cell_type": "code",
   "execution_count": 91,
<<<<<<< HEAD
=======
   "id": "ruled-korean",
>>>>>>> 220867bdcc764de07e2df85f5cb7c9964ed08e13
   "metadata": {},
   "outputs": [],
   "source": [
    "# Reading the json file\n",
    "with open('vegas_ids.json', 'r') as fp:\n",
    "    vegas_ids = json.load(fp)\n",
    "with open('vegas_open_ids.json', 'r') as fp:\n",
    "    vegas_open_ids = json.load(fp)"
   ]
  },
  {
   "cell_type": "code",
   "execution_count": 88,
<<<<<<< HEAD
=======
   "id": "fluid-qualification",
>>>>>>> 220867bdcc764de07e2df85f5cb7c9964ed08e13
   "metadata": {},
   "outputs": [
    {
     "data": {
      "text/plain": [
       "(2742, 2742, 2132)"
      ]
     },
     "execution_count": 88,
     "metadata": {},
     "output_type": "execute_result"
    }
   ],
   "source": [
    "len(biz_ind),len(vegas_ids),len(vegas_open_ids)"
   ]
  },
  {
   "cell_type": "code",
   "execution_count": 89,
<<<<<<< HEAD
=======
   "id": "accessible-aging",
>>>>>>> 220867bdcc764de07e2df85f5cb7c9964ed08e13
   "metadata": {},
   "outputs": [],
   "source": [
    "vegas_open_ids = vegas_reviews[vegas_reviews['stars'] >= 4&vegas_reviews['business_id'].isin(vegas_open_ids)].groupby('business_id')['text'].agg(' '.join).index"
   ]
  },
  {
   "cell_type": "code",
   "execution_count": 95,
<<<<<<< HEAD
=======
   "id": "angry-pitch",
>>>>>>> 220867bdcc764de07e2df85f5cb7c9964ed08e13
   "metadata": {},
   "outputs": [
    {
     "data": {
      "text/plain": [
       "2742"
      ]
     },
     "execution_count": 95,
     "metadata": {},
     "output_type": "execute_result"
    }
   ],
   "source": [
    "len(biz_ind)"
   ]
  },
  {
   "cell_type": "code",
   "execution_count": 94,
<<<<<<< HEAD
=======
   "id": "nonprofit-holder",
>>>>>>> 220867bdcc764de07e2df85f5cb7c9964ed08e13
   "metadata": {},
   "outputs": [
    {
     "data": {
      "text/plain": [
       "2132"
      ]
     },
     "execution_count": 94,
     "metadata": {},
     "output_type": "execute_result"
    }
   ],
   "source": [
    "len(vegas_open_ids)"
   ]
  },
  {
   "cell_type": "code",
   "execution_count": 10,
<<<<<<< HEAD
=======
   "id": "foreign-russell",
>>>>>>> 220867bdcc764de07e2df85f5cb7c9964ed08e13
   "metadata": {},
   "outputs": [],
   "source": [
    "texts = vegas_reviews.groupby('business_id')['text'].agg(' '.join).values"
   ]
  },
  {
   "cell_type": "code",
   "execution_count": 72,
<<<<<<< HEAD
=======
   "id": "greek-consultancy",
>>>>>>> 220867bdcc764de07e2df85f5cb7c9964ed08e13
   "metadata": {},
   "outputs": [
    {
     "data": {
      "text/plain": [
       "'--9e1ONYQuAa-CB_Rrw7Tw'"
      ]
     },
     "execution_count": 72,
     "metadata": {},
     "output_type": "execute_result"
    }
   ],
   "source": [
    "biz_ind[0]"
   ]
  },
  {
   "cell_type": "code",
   "execution_count": 12,
<<<<<<< HEAD
=======
   "id": "bound-trail",
>>>>>>> 220867bdcc764de07e2df85f5cb7c9964ed08e13
   "metadata": {},
   "outputs": [
    {
     "name": "stdout",
     "output_type": "stream",
     "text": [
      "--9e1ONYQuAa-CB_Rrw7Tw            On yelp 5 stars = Woohoo! as good as it gets! Delm\n",
      "-0RkJ_uIduNLWQrphbADRw            New found gem in the Lakes/Summerlin area.  A quai\n",
      "-1m9o3vGRA8IBPNvNqKLmA            Nice restaurant in Park MGM Las Vegas. But I not r\n",
      "-3cJ2k_iwauMpy1WfI4NrA            I really loved the food here. The menu is so simpl\n",
      "-3zffZUHoY8bQjGfPSoBKQ            What an amazing dinner. The service was excellent.\n",
      "-8R_-EkGpUhBk55K9Dd4mg            Great lunch special. Clean and fast. I got a pad T\n",
      "-95mbLJsa0CxXhpaNL4LvA            I've been here about 3 times since I moved to the \n",
      "-9YyInW1wapzdNZrhQJ9dg            Wasn't worth the 25 dollar price tag, food was dry\n",
      "-AD5PiuJHgdUcAK-Vxao2A            The burgers are like Steak n Shakes, but on roids.\n",
      "-ADtl9bLp8wNqYX1k3KuxA            Not quite sure what all the fuss is about. Service\n"
     ]
    }
   ],
   "source": [
    "for i in range(10):\n",
    "    print(biz_ind[i],\" \"*10,texts[i][:50])"
   ]
  },
  {
   "cell_type": "code",
   "execution_count": 13,
<<<<<<< HEAD
=======
   "id": "political-ethernet",
>>>>>>> 220867bdcc764de07e2df85f5cb7c9964ed08e13
   "metadata": {},
   "outputs": [
    {
     "data": {
      "text/plain": [
       "2742"
      ]
     },
     "execution_count": 13,
     "metadata": {},
     "output_type": "execute_result"
    }
   ],
   "source": [
    "len(texts)"
   ]
  },
  {
   "cell_type": "code",
   "execution_count": 55,
<<<<<<< HEAD
=======
   "id": "original-belief",
>>>>>>> 220867bdcc764de07e2df85f5cb7c9964ed08e13
   "metadata": {},
   "outputs": [],
   "source": [
    "test_texts = [(text[0],len(text))for text in texts]"
   ]
  },
  {
   "cell_type": "code",
   "execution_count": 60,
<<<<<<< HEAD
=======
   "id": "gentle-hughes",
>>>>>>> 220867bdcc764de07e2df85f5cb7c9964ed08e13
   "metadata": {},
   "outputs": [],
   "source": [
    "nlp.max_length =6983818"
   ]
  },
  {
   "cell_type": "markdown",
<<<<<<< HEAD
=======
   "id": "veterinary-northern",
>>>>>>> 220867bdcc764de07e2df85f5cb7c9964ed08e13
   "metadata": {},
   "source": [
    "### Let's do it in batches!"
   ]
  },
  {
   "cell_type": "code",
   "execution_count": 102,
<<<<<<< HEAD
=======
   "id": "original-globe",
>>>>>>> 220867bdcc764de07e2df85f5cb7c9964ed08e13
   "metadata": {},
   "outputs": [],
   "source": [
    "n = len(texts)\n",
    "batch_size = 100\n",
    "num_batches = n//batch_size"
   ]
  },
  {
   "cell_type": "code",
   "execution_count": 103,
<<<<<<< HEAD
=======
   "id": "engaging-protein",
>>>>>>> 220867bdcc764de07e2df85f5cb7c9964ed08e13
   "metadata": {},
   "outputs": [
    {
     "data": {
      "text/plain": [
       "(2742, 100, 27)"
      ]
     },
     "execution_count": 103,
     "metadata": {},
     "output_type": "execute_result"
    }
   ],
   "source": [
    "n,batch_size,num_batches"
   ]
  },
  {
   "cell_type": "code",
   "execution_count": 110,
<<<<<<< HEAD
=======
   "id": "pharmaceutical-reducing",
>>>>>>> 220867bdcc764de07e2df85f5cb7c9964ed08e13
   "metadata": {},
   "outputs": [],
   "source": [
    "processed_texts = []\n",
    "for i in range(num_batches + 1):\n",
    "    processed_texts.extend(preprocessing_gensim(texts[i*batch_size:i*batch_size + batch_size]))"
   ]
  },
  {
   "cell_type": "code",
   "execution_count": 107,
<<<<<<< HEAD
=======
   "id": "infectious-oxide",
>>>>>>> 220867bdcc764de07e2df85f5cb7c9964ed08e13
   "metadata": {},
   "outputs": [],
   "source": [
    "# Dumping the processed words in a json file\n",
    "with open('processed_texts.json', 'w') as fp:\n",
    "    json.dump(processed_texts, fp)"
   ]
  },
  {
   "cell_type": "code",
<<<<<<< HEAD
   "execution_count": 8,
=======
   "execution_count": 73,
   "id": "designed-turtle",
>>>>>>> 220867bdcc764de07e2df85f5cb7c9964ed08e13
   "metadata": {},
   "outputs": [],
   "source": [
    "# Reading the json file\n",
    "with open('processed_texts.json', 'r') as fp:\n",
    "    processed_texts = json.load(fp)"
   ]
  },
  {
   "cell_type": "code",
<<<<<<< HEAD
   "execution_count": 9,
   "metadata": {},
   "outputs": [
    {
     "data": {
      "text/plain": [
       "2132"
      ]
     },
     "execution_count": 9,
     "metadata": {},
     "output_type": "execute_result"
    }
   ],
   "source": [
    "len(processed_texts)"
   ]
  },
  {
   "cell_type": "code",
   "execution_count": 10,
=======
   "execution_count": 96,
   "id": "framed-rogers",
>>>>>>> 220867bdcc764de07e2df85f5cb7c9964ed08e13
   "metadata": {},
   "outputs": [
    {
     "data": {
      "text/plain": [
<<<<<<< HEAD
       "['yelp',\n",
       " 'star',\n",
       " 'woohoo',\n",
       " 'good',\n",
       " 'delmonico',\n",
       " 'steak',\n",
       " 'perfect',\n",
       " 'oz',\n",
       " 'filet',\n",
       " 'mignon']"
      ]
     },
     "execution_count": 10,
=======
       "['yelp', 'star', 'woohoo', 'good', 'delmonico', 'steak', 'perfect', 'oz', 'filet', 'mignon']"
      ]
     },
     "execution_count": 96,
>>>>>>> 220867bdcc764de07e2df85f5cb7c9964ed08e13
     "metadata": {},
     "output_type": "execute_result"
    }
   ],
   "source": [
    "processed_texts[0][:10]"
   ]
  },
  {
   "cell_type": "code",
   "execution_count": 122,
<<<<<<< HEAD
=======
   "id": "worth-shape",
>>>>>>> 220867bdcc764de07e2df85f5cb7c9964ed08e13
   "metadata": {},
   "outputs": [
    {
     "name": "stdout",
     "output_type": "stream",
     "text": [
      "Number of unique tokens: 257101\n"
     ]
    }
   ],
   "source": [
    "# processed text will be the total text that we have\n",
    "dictionary = gensim.corpora.Dictionary(processed_texts)\n",
    "print('Number of unique tokens: {}'.format(len(dictionary)))"
   ]
  },
  {
   "cell_type": "code",
   "execution_count": 126,
<<<<<<< HEAD
=======
   "id": "controlled-chart",
>>>>>>> 220867bdcc764de07e2df85f5cb7c9964ed08e13
   "metadata": {},
   "outputs": [],
   "source": [
    "corpus = [dictionary.doc2bow(t) for t in processed_texts]"
   ]
  },
  {
   "cell_type": "code",
   "execution_count": 128,
<<<<<<< HEAD
=======
   "id": "primary-mongolia",
>>>>>>> 220867bdcc764de07e2df85f5cb7c9964ed08e13
   "metadata": {},
   "outputs": [
    {
     "data": {
      "text/plain": [
       "2742"
      ]
     },
     "execution_count": 128,
     "metadata": {},
     "output_type": "execute_result"
    }
   ],
   "source": [
    "len(corpus)"
   ]
  },
  {
   "cell_type": "code",
   "execution_count": 135,
<<<<<<< HEAD
=======
   "id": "living-arizona",
>>>>>>> 220867bdcc764de07e2df85f5cb7c9964ed08e13
   "metadata": {},
   "outputs": [],
   "source": [
    "num_topics = 10\n",
    "\n",
    "lda_model = gensim.models.ldamodel.LdaModel(corpus=corpus, \n",
    "                                            id2word=dictionary,\n",
    "                                            num_topics=num_topics, \n",
    "                                            random_state=117, update_every=1,\n",
    "                                            chunksize=1500, \n",
    "                                            passes=5, iterations=10,\n",
    "                                            alpha='asymmetric', eta=1/100,\n",
    "                                            per_word_topics=True)"
   ]
  },
  {
   "cell_type": "code",
   "execution_count": 139,
<<<<<<< HEAD
=======
   "id": "rapid-cholesterol",
>>>>>>> 220867bdcc764de07e2df85f5cb7c9964ed08e13
   "metadata": {},
   "outputs": [
    {
     "name": "stdout",
     "output_type": "stream",
     "text": [
      "[(0,\n",
      "  '0.021*\"good\" + 0.017*\"food\" + 0.014*\"order\" + 0.014*\"great\" + '\n",
      "  '0.013*\"place\"'),\n",
      " (1,\n",
      "  '0.015*\"good\" + 0.013*\"food\" + 0.012*\"buffet\" + 0.009*\"time\" + 0.008*\"like\"'),\n",
      " (2,\n",
      "  '0.019*\"room\" + 0.013*\"place\" + 0.011*\"hotel\" + 0.011*\"good\" + 0.010*\"stay\"'),\n",
      " (3,\n",
      "  '0.021*\"food\" + 0.019*\"good\" + 0.019*\"place\" + 0.014*\"come\" + 0.013*\"order\"'),\n",
      " (4,\n",
      "  '0.020*\"food\" + 0.018*\"good\" + 0.011*\"service\" + 0.011*\"great\" + '\n",
      "  '0.011*\"order\"'),\n",
      " (5,\n",
      "  '0.019*\"good\" + 0.016*\"place\" + 0.012*\"great\" + 0.012*\"order\" + '\n",
      "  '0.011*\"come\"'),\n",
      " (6,\n",
      "  '0.023*\"good\" + 0.022*\"pizza\" + 0.015*\"place\" + 0.015*\"food\" + '\n",
      "  '0.010*\"order\"'),\n",
      " (7,\n",
      "  '0.018*\"burger\" + 0.017*\"good\" + 0.015*\"place\" + 0.014*\"food\" + '\n",
      "  '0.013*\"order\"'),\n",
      " (8,\n",
      "  '0.026*\"food\" + 0.020*\"good\" + 0.016*\"place\" + 0.014*\"order\" + '\n",
      "  '0.013*\"chicken\"'),\n",
      " (9,\n",
      "  '0.015*\"food\" + 0.014*\"good\" + 0.012*\"restaurant\" + 0.011*\"order\" + '\n",
      "  '0.010*\"service\"')]\n"
     ]
    }
   ],
   "source": [
    "from pprint import pprint\n",
    "pprint(lda_model.print_topics(num_words=5))"
   ]
  },
  {
   "cell_type": "code",
   "execution_count": 137,
<<<<<<< HEAD
=======
   "id": "blessed-sydney",
>>>>>>> 220867bdcc764de07e2df85f5cb7c9964ed08e13
   "metadata": {},
   "outputs": [
    {
     "data": {
      "text/plain": [
       "[(0, 0.04345261),\n",
       " (1, 0.054212827),\n",
       " (2, 0.016233036),\n",
       " (3, 0.03210369),\n",
       " (4, 0.11283643),\n",
       " (5, 0.03963811),\n",
       " (6, 0.043619808),\n",
       " (7, 0.026018677),\n",
       " (8, 0.014405126),\n",
       " (9, 0.6174797)]"
      ]
     },
     "execution_count": 137,
     "metadata": {},
     "output_type": "execute_result"
    }
   ],
   "source": [
    "lda_model.get_document_topics(corpus[0])"
   ]
  },
  {
   "cell_type": "code",
   "execution_count": 140,
<<<<<<< HEAD
=======
   "id": "gothic-force",
>>>>>>> 220867bdcc764de07e2df85f5cb7c9964ed08e13
   "metadata": {},
   "outputs": [
    {
     "name": "stdout",
     "output_type": "stream",
     "text": [
      "Coherence score for 10 topics:  0.29358519506650593\n"
     ]
    }
   ],
   "source": [
    "cm = gensim.models.coherencemodel.CoherenceModel(model=lda_model,\n",
    "                                                 texts=processed_texts,\n",
    "                                                 dictionary=dictionary)\n",
    "\n",
    "coherence_scores = [(num_topics, cm.get_coherence())]\n",
    "print('Coherence score for {} topics:  {}'.format(*coherence_scores[0]))"
   ]
  },
  {
   "cell_type": "code",
   "execution_count": 143,
<<<<<<< HEAD
=======
   "id": "broke-thailand",
>>>>>>> 220867bdcc764de07e2df85f5cb7c9964ed08e13
   "metadata": {},
   "outputs": [],
   "source": [
    "store_coherence_scores = []\n",
    "for n in range(6, 14,2):\n",
    "    mod = gensim.models.ldamodel.LdaModel(corpus=corpus, \n",
    "                                          id2word=dictionary,\n",
    "                                          num_topics=n, \n",
    "                                          random_state=117, update_every=1,\n",
    "                                          chunksize=1500, \n",
    "                                          passes=5, iterations=10,\n",
    "                                          alpha='asymmetric', eta=1/100,\n",
    "                                          per_word_topics=True)\n",
    "    cmodel = gensim.models.coherencemodel.CoherenceModel(model=mod,\n",
    "                                                 texts=processed_texts,\n",
    "                                                 dictionary=dictionary)\n",
    "    store_coherence_scores.append((n, cmodel.get_coherence()))"
   ]
  },
  {
   "cell_type": "code",
   "execution_count": 144,
<<<<<<< HEAD
=======
   "id": "embedded-shame",
>>>>>>> 220867bdcc764de07e2df85f5cb7c9964ed08e13
   "metadata": {},
   "outputs": [
    {
     "data": {
      "text/plain": [
       "[(6, 0.28812323828582487),\n",
       " (8, 0.3036940857831697),\n",
       " (10, 0.29358519506650593),\n",
       " (12, 0.3006129258829432)]"
      ]
     },
     "execution_count": 144,
     "metadata": {},
     "output_type": "execute_result"
    }
   ],
   "source": [
    "store_coherence_scores"
   ]
  },
  {
   "cell_type": "markdown",
<<<<<<< HEAD
=======
   "id": "hourly-communications",
>>>>>>> 220867bdcc764de07e2df85f5cb7c9964ed08e13
   "metadata": {},
   "source": [
    "### Results seem not so great but k = 8 looks the best so far! "
   ]
  },
  {
   "cell_type": "code",
   "execution_count": 145,
<<<<<<< HEAD
=======
   "id": "later-distance",
>>>>>>> 220867bdcc764de07e2df85f5cb7c9964ed08e13
   "metadata": {},
   "outputs": [],
   "source": [
    "num_topics = 8\n",
    "\n",
    "lda_model = gensim.models.ldamodel.LdaModel(corpus=corpus, \n",
    "                                            id2word=dictionary,\n",
    "                                            num_topics=num_topics, \n",
    "                                            random_state=117, update_every=1,\n",
    "                                            chunksize=1500, \n",
    "                                            passes=5, iterations=10,\n",
    "                                            alpha='asymmetric', eta=1/100,\n",
    "                                            per_word_topics=True)"
   ]
  },
  {
   "cell_type": "code",
   "execution_count": 218,
<<<<<<< HEAD
=======
   "id": "infrared-opinion",
>>>>>>> 220867bdcc764de07e2df85f5cb7c9964ed08e13
   "metadata": {},
   "outputs": [
    {
     "name": "stdout",
     "output_type": "stream",
     "text": [
      "[(0,\n",
      "  '0.019*\"good\" + 0.016*\"food\" + 0.013*\"order\" + 0.013*\"service\" + '\n",
      "  '0.013*\"great\"'),\n",
      " (1,\n",
      "  '0.016*\"room\" + 0.011*\"good\" + 0.011*\"hotel\" + 0.010*\"stay\" + 0.009*\"time\"'),\n",
      " (2,\n",
      "  '0.020*\"place\" + 0.018*\"good\" + 0.016*\"food\" + 0.012*\"come\" + 0.010*\"order\"'),\n",
      " (3,\n",
      "  '0.019*\"food\" + 0.017*\"good\" + 0.013*\"place\" + 0.012*\"come\" + 0.011*\"order\"'),\n",
      " (4,\n",
      "  '0.022*\"food\" + 0.017*\"good\" + 0.011*\"service\" + 0.010*\"order\" + '\n",
      "  '0.010*\"great\"'),\n",
      " (5,\n",
      "  '0.019*\"good\" + 0.015*\"place\" + 0.012*\"food\" + 0.012*\"great\" + '\n",
      "  '0.012*\"order\"'),\n",
      " (6,\n",
      "  '0.022*\"good\" + 0.017*\"pizza\" + 0.016*\"food\" + 0.015*\"place\" + '\n",
      "  '0.012*\"order\"'),\n",
      " (7,\n",
      "  '0.019*\"burger\" + 0.016*\"good\" + 0.015*\"food\" + 0.014*\"place\" + '\n",
      "  '0.014*\"order\"')]\n"
     ]
    }
   ],
   "source": [
    "pprint(lda_model.print_topics(num_words=5))"
   ]
  },
  {
   "cell_type": "code",
<<<<<<< HEAD
   "execution_count": 11,
=======
   "execution_count": 16,
   "id": "distributed-gallery",
>>>>>>> 220867bdcc764de07e2df85f5cb7c9964ed08e13
   "metadata": {},
   "outputs": [],
   "source": [
    "# Let's play around! remove the words food, good, great and place,order from processed words\n",
    "def remove_words(lst, words = ['food', 'good', 'great', 'place','order','come','like','service']):\n",
    "    new_lst = [word for word in lst if word not in words]\n",
    "    return new_lst\n",
    "            \n",
    "    "
   ]
  },
  {
   "cell_type": "code",
   "execution_count": 101,
<<<<<<< HEAD
=======
   "id": "clinical-observation",
>>>>>>> 220867bdcc764de07e2df85f5cb7c9964ed08e13
   "metadata": {},
   "outputs": [],
   "source": [
    "def extract(lst,val = vegas_open_ids):\n",
    "    store_ids = [i for i,v in enumerate(lst) if v in val]\n",
    "    return store_ids"
   ]
  },
  {
   "cell_type": "code",
   "execution_count": 103,
<<<<<<< HEAD
=======
   "id": "traditional-august",
>>>>>>> 220867bdcc764de07e2df85f5cb7c9964ed08e13
   "metadata": {},
   "outputs": [
    {
     "data": {
      "text/plain": [
       "2132"
      ]
     },
     "execution_count": 103,
     "metadata": {},
     "output_type": "execute_result"
    }
   ],
   "source": [
    "extract(biz_ind)"
   ]
  },
  {
   "cell_type": "code",
   "execution_count": 108,
<<<<<<< HEAD
=======
   "id": "billion-percentage",
>>>>>>> 220867bdcc764de07e2df85f5cb7c9964ed08e13
   "metadata": {},
   "outputs": [],
   "source": [
    "biz_ind = [biz_ind[i] for i in extract(biz_ind)]"
   ]
  },
  {
   "cell_type": "code",
   "execution_count": 106,
<<<<<<< HEAD
=======
   "id": "assigned-objective",
>>>>>>> 220867bdcc764de07e2df85f5cb7c9964ed08e13
   "metadata": {},
   "outputs": [],
   "source": [
    "processed_texts = [processed_texts[i] for i in extract(biz_ind)]"
   ]
  },
  {
   "cell_type": "code",
   "execution_count": null,
<<<<<<< HEAD
=======
   "id": "random-internet",
>>>>>>> 220867bdcc764de07e2df85f5cb7c9964ed08e13
   "metadata": {},
   "outputs": [],
   "source": []
  },
  {
   "cell_type": "code",
   "execution_count": null,
<<<<<<< HEAD
=======
   "id": "first-match",
>>>>>>> 220867bdcc764de07e2df85f5cb7c9964ed08e13
   "metadata": {},
   "outputs": [],
   "source": []
  },
  {
   "cell_type": "code",
<<<<<<< HEAD
   "execution_count": 12,
=======
   "execution_count": 109,
   "id": "frequent-frank",
>>>>>>> 220867bdcc764de07e2df85f5cb7c9964ed08e13
   "metadata": {},
   "outputs": [],
   "source": [
    "new_processed_texts = [remove_words(lst) for lst in processed_texts]"
   ]
  },
  {
   "cell_type": "code",
<<<<<<< HEAD
   "execution_count": 13,
=======
   "execution_count": 110,
   "id": "higher-recorder",
>>>>>>> 220867bdcc764de07e2df85f5cb7c9964ed08e13
   "metadata": {},
   "outputs": [
    {
     "name": "stdout",
     "output_type": "stream",
     "text": [
      "Number of unique tokens: 229493\n"
     ]
    }
   ],
   "source": [
    "# processed text will be the total text that we have\n",
    "new_dictionary = gensim.corpora.Dictionary(new_processed_texts)\n",
    "print('Number of unique tokens: {}'.format(len(new_dictionary)))"
   ]
  },
  {
   "cell_type": "code",
<<<<<<< HEAD
   "execution_count": 14,
=======
   "execution_count": 111,
   "id": "frank-colombia",
>>>>>>> 220867bdcc764de07e2df85f5cb7c9964ed08e13
   "metadata": {},
   "outputs": [],
   "source": [
    "new_corpus = [new_dictionary.doc2bow(t) for t in new_processed_texts]"
   ]
  },
  {
   "cell_type": "code",
<<<<<<< HEAD
   "execution_count": 15,
=======
   "execution_count": 112,
   "id": "rubber-algeria",
>>>>>>> 220867bdcc764de07e2df85f5cb7c9964ed08e13
   "metadata": {},
   "outputs": [
    {
     "data": {
      "text/plain": [
       "2132"
      ]
     },
<<<<<<< HEAD
     "execution_count": 15,
=======
     "execution_count": 112,
>>>>>>> 220867bdcc764de07e2df85f5cb7c9964ed08e13
     "metadata": {},
     "output_type": "execute_result"
    }
   ],
   "source": [
    "len(new_corpus)"
   ]
  },
  {
   "cell_type": "code",
   "execution_count": 20,
<<<<<<< HEAD
=======
   "id": "decreased-sample",
>>>>>>> 220867bdcc764de07e2df85f5cb7c9964ed08e13
   "metadata": {},
   "outputs": [],
   "source": [
    "num_topics = 8\n",
    "\n",
    "new_lda_model = gensim.models.ldamodel.LdaModel(corpus=new_corpus, \n",
    "                                            id2word=new_dictionary,\n",
    "                                            num_topics=num_topics, \n",
    "                                            random_state=117, update_every=1,\n",
    "                                            chunksize=1500, \n",
    "                                            passes=5, iterations=10,\n",
    "                                            alpha='asymmetric', eta=1/100,\n",
    "                                            per_word_topics=True)"
   ]
  },
  {
   "cell_type": "code",
   "execution_count": 21,
<<<<<<< HEAD
=======
   "id": "disturbed-spirit",
>>>>>>> 220867bdcc764de07e2df85f5cb7c9964ed08e13
   "metadata": {},
   "outputs": [
    {
     "name": "stdout",
     "output_type": "stream",
     "text": [
      "Pretty printing has been turned OFF\n"
     ]
    }
   ],
   "source": [
    "pprint(new_lda_model.print_topics(num_words=5))"
   ]
  },
  {
   "cell_type": "code",
   "execution_count": 113,
<<<<<<< HEAD
=======
   "id": "printable-column",
>>>>>>> 220867bdcc764de07e2df85f5cb7c9964ed08e13
   "metadata": {},
   "outputs": [],
   "source": [
    "store_dom = []\n",
    "store_pct = []\n",
    "for i in range(len(new_corpus)):\n",
    "    lst = sorted(new_lda_model.get_document_topics(new_corpus[i]),key= lambda x: x[1],reverse=True)[:3]\n",
    "    lst1 = [item[0] for item in lst]\n",
    "    lst2 = [item[1] for item in lst]\n",
    "    store_dom.append(lst1)\n",
    "    store_pct.append(lst2)\n",
    "    #print(f'{i+1:2}: Dominant topics: {lst1} Percentages: {lst2}')"
   ]
  },
  {
   "cell_type": "code",
   "execution_count": 114,
<<<<<<< HEAD
=======
   "id": "muslim-murder",
>>>>>>> 220867bdcc764de07e2df85f5cb7c9964ed08e13
   "metadata": {},
   "outputs": [],
   "source": [
    "biz_topic = pd.DataFrame(list(zip(biz_ind,store_dom,store_pct)),columns = ['business_id','Dominant Ids','Percent'])"
   ]
  },
  {
   "cell_type": "code",
<<<<<<< HEAD
   "execution_count": 11,
   "metadata": {},
   "outputs": [],
   "source": [
    "topics_map = {0: 'Continental',\n",
    "              1: 'Fastfood / American',\n",
    "              2: 'Dinner',\n",
    "              3: 'Snack / Tacos',\n",
    "              4: 'Fusion / Buffet',\n",
    "              5: 'Exotic',\n",
    "              6: 'Good Ambiance / Service',\n",
=======
   "execution_count": 116,
   "id": "prostate-clause",
   "metadata": {},
   "outputs": [],
   "source": [
    "topics_map = {0: 'Thai / Continental',\n",
    "              1: 'Fastfood / American',\n",
    "              2: 'Steakhouse / Dinner',\n",
    "              3: 'Mexican',\n",
    "              4: 'Asian / Buffet',\n",
    "              5: 'Japanese',\n",
    "              6: 'Ambiance / Good Service',\n",
>>>>>>> 220867bdcc764de07e2df85f5cb7c9964ed08e13
    "              7: 'Hotel/ Bar/ Night life'\n",
    "             }  \n",
    "\n",
    "def map_dominant(num):\n",
    "    return topics_map[num]"
   ]
  },
  {
   "cell_type": "code",
   "execution_count": 66,
<<<<<<< HEAD
=======
   "id": "minimal-mainland",
>>>>>>> 220867bdcc764de07e2df85f5cb7c9964ed08e13
   "metadata": {},
   "outputs": [],
   "source": [
    "with open('vegas_restaurants.pkl','rb') as f:\n",
    "    vegas_restaurants = pickle.load(f)"
   ]
  },
  {
   "cell_type": "code",
<<<<<<< HEAD
   "execution_count": 194,
   "metadata": {},
   "outputs": [],
   "source": [
    "with open('vegas_stars.pkl','rb') as f:\n",
    "    vegas_stars = pickle.load(f)"
   ]
  },
  {
   "cell_type": "code",
   "execution_count": 180,
=======
   "execution_count": 115,
   "id": "foster-villa",
>>>>>>> 220867bdcc764de07e2df85f5cb7c9964ed08e13
   "metadata": {},
   "outputs": [
    {
     "data": {
      "text/plain": [
<<<<<<< HEAD
       "business_id       2132\n",
       "name              2132\n",
       "address           2132\n",
       "postal_code       2132\n",
       "latitude          2132\n",
       "longitude         2132\n",
       "categories        2132\n",
       "sep_categories    2132\n",
       "dtype: int64"
      ]
     },
     "execution_count": 180,
=======
       "business_id    2132\n",
       "name           2132\n",
       "address        2132\n",
       "city           2132\n",
       "state          2132\n",
       "postal_code    2132\n",
       "latitude       2132\n",
       "longitude      2132\n",
       "categories     2132\n",
       "dtype: int64"
      ]
     },
     "execution_count": 115,
>>>>>>> 220867bdcc764de07e2df85f5cb7c9964ed08e13
     "metadata": {},
     "output_type": "execute_result"
    }
   ],
   "source": [
    "vegas_restaurants.count()"
   ]
  },
  {
   "cell_type": "code",
   "execution_count": 118,
<<<<<<< HEAD
=======
   "id": "controlling-burke",
>>>>>>> 220867bdcc764de07e2df85f5cb7c9964ed08e13
   "metadata": {},
   "outputs": [],
   "source": [
    "biz_topic['Topics'] = biz_topic['Dominant Ids'].apply(lambda x: list(map(map_dominant,x)))"
   ]
  },
  {
   "cell_type": "code",
   "execution_count": 121,
<<<<<<< HEAD
=======
   "id": "emotional-masters",
>>>>>>> 220867bdcc764de07e2df85f5cb7c9964ed08e13
   "metadata": {},
   "outputs": [
    {
     "data": {
      "text/html": [
       "<div>\n",
       "<style scoped>\n",
       "    .dataframe tbody tr th:only-of-type {\n",
       "        vertical-align: middle;\n",
       "    }\n",
       "\n",
       "    .dataframe tbody tr th {\n",
       "        vertical-align: top;\n",
       "    }\n",
       "\n",
       "    .dataframe thead th {\n",
       "        text-align: right;\n",
       "    }\n",
       "</style>\n",
       "<table border=\"1\" class=\"dataframe\">\n",
       "  <thead>\n",
       "    <tr style=\"text-align: right;\">\n",
       "      <th></th>\n",
       "      <th>business_id</th>\n",
       "      <th>name</th>\n",
       "      <th>address</th>\n",
       "      <th>city</th>\n",
       "      <th>state</th>\n",
       "      <th>postal_code</th>\n",
       "      <th>latitude</th>\n",
       "      <th>longitude</th>\n",
       "      <th>categories</th>\n",
       "    </tr>\n",
       "  </thead>\n",
       "  <tbody>\n",
       "    <tr>\n",
       "      <th>157</th>\n",
       "      <td>Yr_w9lakJrKMyEG_hI6zbA</td>\n",
       "      <td>Fat Moe's Pizza &amp; Wings</td>\n",
       "      <td>6125 W Tropicana Ave, Ste F</td>\n",
       "      <td>Las Vegas</td>\n",
       "      <td>NV</td>\n",
       "      <td>89103</td>\n",
       "      <td>36.099361</td>\n",
       "      <td>-115.226636</td>\n",
       "      <td>Pizza, Salad, Burgers, Restaurants</td>\n",
       "    </tr>\n",
       "    <tr>\n",
       "      <th>238</th>\n",
       "      <td>AN0bWhisCf6LN9eHZ7DQ3w</td>\n",
       "      <td>Los Olivos Ristorante</td>\n",
       "      <td>3759 E Desert Inn Rd</td>\n",
       "      <td>Las Vegas</td>\n",
       "      <td>NV</td>\n",
       "      <td>89121</td>\n",
       "      <td>36.129178</td>\n",
       "      <td>-115.092483</td>\n",
       "      <td>Restaurants, Italian</td>\n",
       "    </tr>\n",
       "    <tr>\n",
       "      <th>246</th>\n",
       "      <td>AtD6B83S4Mbmq0t7iDnUVA</td>\n",
       "      <td>Veggie House</td>\n",
       "      <td>5115 Spring Mountain Rd, Ste 203</td>\n",
       "      <td>Las Vegas</td>\n",
       "      <td>NV</td>\n",
       "      <td>89146</td>\n",
       "      <td>36.125569</td>\n",
       "      <td>-115.210911</td>\n",
       "      <td>Restaurants, Specialty Food, Japanese, Sushi B...</td>\n",
       "    </tr>\n",
       "    <tr>\n",
       "      <th>308</th>\n",
       "      <td>oUX2bYbqjqST-urKbOHG6w</td>\n",
       "      <td>Loftti Cafe</td>\n",
       "      <td>7729 S Rainbow Blvd, Ste 9B</td>\n",
       "      <td>Las Vegas</td>\n",
       "      <td>NV</td>\n",
       "      <td>89139</td>\n",
       "      <td>36.047942</td>\n",
       "      <td>-115.244167</td>\n",
       "      <td>Sandwiches, Shaved Ice, Coffee &amp; Tea, Desserts...</td>\n",
       "    </tr>\n",
       "    <tr>\n",
       "      <th>315</th>\n",
       "      <td>FiW6w5nmhlUoJAyNofb4jg</td>\n",
       "      <td>Fruits and Roots</td>\n",
       "      <td>5020 Blue Diamond Rd</td>\n",
       "      <td>Las Vegas</td>\n",
       "      <td>NV</td>\n",
       "      <td>89139</td>\n",
       "      <td>36.032122</td>\n",
       "      <td>-115.210267</td>\n",
       "      <td>Coffee &amp; Tea, Food Stands, Food, Restaurants, ...</td>\n",
       "    </tr>\n",
       "  </tbody>\n",
       "</table>\n",
       "</div>"
      ],
      "text/plain": [
       "                business_id                     name  \\\n",
       "157  Yr_w9lakJrKMyEG_hI6zbA  Fat Moe's Pizza & Wings   \n",
       "238  AN0bWhisCf6LN9eHZ7DQ3w    Los Olivos Ristorante   \n",
       "246  AtD6B83S4Mbmq0t7iDnUVA             Veggie House   \n",
       "308  oUX2bYbqjqST-urKbOHG6w              Loftti Cafe   \n",
       "315  FiW6w5nmhlUoJAyNofb4jg         Fruits and Roots   \n",
       "\n",
       "                              address       city state postal_code   latitude  \\\n",
       "157       6125 W Tropicana Ave, Ste F  Las Vegas    NV       89103  36.099361   \n",
       "238              3759 E Desert Inn Rd  Las Vegas    NV       89121  36.129178   \n",
       "246  5115 Spring Mountain Rd, Ste 203  Las Vegas    NV       89146  36.125569   \n",
       "308       7729 S Rainbow Blvd, Ste 9B  Las Vegas    NV       89139  36.047942   \n",
       "315              5020 Blue Diamond Rd  Las Vegas    NV       89139  36.032122   \n",
       "\n",
       "      longitude                                         categories  \n",
       "157 -115.226636                 Pizza, Salad, Burgers, Restaurants  \n",
       "238 -115.092483                               Restaurants, Italian  \n",
       "246 -115.210911  Restaurants, Specialty Food, Japanese, Sushi B...  \n",
       "308 -115.244167  Sandwiches, Shaved Ice, Coffee & Tea, Desserts...  \n",
       "315 -115.210267  Coffee & Tea, Food Stands, Food, Restaurants, ...  "
      ]
     },
     "execution_count": 121,
     "metadata": {},
     "output_type": "execute_result"
    }
   ],
   "source": [
    "vegas_restaurants.head()"
   ]
  },
  {
   "cell_type": "code",
   "execution_count": 122,
<<<<<<< HEAD
=======
   "id": "close-screening",
>>>>>>> 220867bdcc764de07e2df85f5cb7c9964ed08e13
   "metadata": {},
   "outputs": [],
   "source": [
    "vegas_restaurants.drop(['city','state'],axis=1,inplace=True)"
   ]
  },
  {
   "cell_type": "code",
   "execution_count": 123,
<<<<<<< HEAD
=======
   "id": "accredited-technician",
>>>>>>> 220867bdcc764de07e2df85f5cb7c9964ed08e13
   "metadata": {},
   "outputs": [],
   "source": [
    "vegas_restaurants['sep_categories'] = vegas_restaurants['categories'].str.split(', ')"
   ]
  },
  {
   "cell_type": "code",
   "execution_count": 129,
<<<<<<< HEAD
=======
   "id": "respected-luxembourg",
>>>>>>> 220867bdcc764de07e2df85f5cb7c9964ed08e13
   "metadata": {},
   "outputs": [],
   "source": [
    "content_df = vegas_restaurants.merge(biz_topic,on='business_id')"
   ]
  },
  {
   "cell_type": "code",
<<<<<<< HEAD
   "execution_count": 192,
=======
   "execution_count": 130,
   "id": "moved-brick",
>>>>>>> 220867bdcc764de07e2df85f5cb7c9964ed08e13
   "metadata": {},
   "outputs": [
    {
     "data": {
      "text/html": [
       "<div>\n",
       "<style scoped>\n",
       "    .dataframe tbody tr th:only-of-type {\n",
       "        vertical-align: middle;\n",
       "    }\n",
       "\n",
       "    .dataframe tbody tr th {\n",
       "        vertical-align: top;\n",
       "    }\n",
       "\n",
       "    .dataframe thead th {\n",
       "        text-align: right;\n",
       "    }\n",
       "</style>\n",
       "<table border=\"1\" class=\"dataframe\">\n",
       "  <thead>\n",
       "    <tr style=\"text-align: right;\">\n",
       "      <th></th>\n",
       "      <th>business_id</th>\n",
       "      <th>name</th>\n",
       "      <th>address</th>\n",
       "      <th>postal_code</th>\n",
       "      <th>latitude</th>\n",
       "      <th>longitude</th>\n",
       "      <th>categories</th>\n",
       "      <th>sep_categories</th>\n",
       "      <th>Dominant Ids</th>\n",
       "      <th>Percent</th>\n",
       "      <th>Topics</th>\n",
<<<<<<< HEAD
       "      <th>Features</th>\n",
=======
>>>>>>> 220867bdcc764de07e2df85f5cb7c9964ed08e13
       "    </tr>\n",
       "  </thead>\n",
       "  <tbody>\n",
       "    <tr>\n",
       "      <th>0</th>\n",
       "      <td>Yr_w9lakJrKMyEG_hI6zbA</td>\n",
       "      <td>Fat Moe's Pizza &amp; Wings</td>\n",
       "      <td>6125 W Tropicana Ave, Ste F</td>\n",
       "      <td>89103</td>\n",
       "      <td>36.099361</td>\n",
       "      <td>-115.226636</td>\n",
       "      <td>Pizza, Salad, Burgers, Restaurants</td>\n",
       "      <td>[Pizza, Salad, Burgers, Restaurants]</td>\n",
       "      <td>[6, 1, 0]</td>\n",
       "      <td>[0.71840245, 0.10773659, 0.06156651]</td>\n",
       "      <td>[Ambiance / Good Service, Fastfood / American,...</td>\n",
<<<<<<< HEAD
       "      <td>[Pizza, Salad, Burgers, Restaurants, Ambiance ...</td>\n",
=======
>>>>>>> 220867bdcc764de07e2df85f5cb7c9964ed08e13
       "    </tr>\n",
       "    <tr>\n",
       "      <th>1</th>\n",
       "      <td>AN0bWhisCf6LN9eHZ7DQ3w</td>\n",
       "      <td>Los Olivos Ristorante</td>\n",
       "      <td>3759 E Desert Inn Rd</td>\n",
       "      <td>89121</td>\n",
       "      <td>36.129178</td>\n",
       "      <td>-115.092483</td>\n",
       "      <td>Restaurants, Italian</td>\n",
       "      <td>[Restaurants, Italian]</td>\n",
       "      <td>[2, 6, 0]</td>\n",
       "      <td>[0.44978717, 0.2163004, 0.09988998]</td>\n",
       "      <td>[Steakhouse / Dinner, Ambiance / Good Service,...</td>\n",
<<<<<<< HEAD
       "      <td>[Restaurants, Italian, Steakhouse / Dinner, Am...</td>\n",
=======
>>>>>>> 220867bdcc764de07e2df85f5cb7c9964ed08e13
       "    </tr>\n",
       "    <tr>\n",
       "      <th>2</th>\n",
       "      <td>AtD6B83S4Mbmq0t7iDnUVA</td>\n",
       "      <td>Veggie House</td>\n",
       "      <td>5115 Spring Mountain Rd, Ste 203</td>\n",
       "      <td>89146</td>\n",
       "      <td>36.125569</td>\n",
       "      <td>-115.210911</td>\n",
       "      <td>Restaurants, Specialty Food, Japanese, Sushi B...</td>\n",
       "      <td>[Restaurants, Specialty Food, Japanese, Sushi ...</td>\n",
       "      <td>[4, 0, 3]</td>\n",
       "      <td>[0.30285373, 0.2803057, 0.13361645]</td>\n",
       "      <td>[Asian / Buffet, Thai / Continental, Mexican]</td>\n",
<<<<<<< HEAD
       "      <td>[Restaurants, Specialty Food, Japanese, Sushi ...</td>\n",
=======
>>>>>>> 220867bdcc764de07e2df85f5cb7c9964ed08e13
       "    </tr>\n",
       "    <tr>\n",
       "      <th>3</th>\n",
       "      <td>oUX2bYbqjqST-urKbOHG6w</td>\n",
       "      <td>Loftti Cafe</td>\n",
       "      <td>7729 S Rainbow Blvd, Ste 9B</td>\n",
       "      <td>89139</td>\n",
       "      <td>36.047942</td>\n",
       "      <td>-115.244167</td>\n",
       "      <td>Sandwiches, Shaved Ice, Coffee &amp; Tea, Desserts...</td>\n",
       "      <td>[Sandwiches, Shaved Ice, Coffee &amp; Tea, Dessert...</td>\n",
       "      <td>[0, 6, 5]</td>\n",
       "      <td>[0.39396736, 0.19578542, 0.14329998]</td>\n",
       "      <td>[Thai / Continental, Ambiance / Good Service, ...</td>\n",
<<<<<<< HEAD
       "      <td>[Sandwiches, Shaved Ice, Coffee &amp; Tea, Dessert...</td>\n",
=======
>>>>>>> 220867bdcc764de07e2df85f5cb7c9964ed08e13
       "    </tr>\n",
       "    <tr>\n",
       "      <th>4</th>\n",
       "      <td>FiW6w5nmhlUoJAyNofb4jg</td>\n",
       "      <td>Fruits and Roots</td>\n",
       "      <td>5020 Blue Diamond Rd</td>\n",
       "      <td>89139</td>\n",
       "      <td>36.032122</td>\n",
       "      <td>-115.210267</td>\n",
       "      <td>Coffee &amp; Tea, Food Stands, Food, Restaurants, ...</td>\n",
       "      <td>[Coffee &amp; Tea, Food Stands, Food, Restaurants,...</td>\n",
       "      <td>[0, 3, 5]</td>\n",
       "      <td>[0.49596417, 0.12588032, 0.09800566]</td>\n",
       "      <td>[Thai / Continental, Mexican, Japanese]</td>\n",
<<<<<<< HEAD
       "      <td>[Coffee &amp; Tea, Food Stands, Food, Restaurants,...</td>\n",
=======
>>>>>>> 220867bdcc764de07e2df85f5cb7c9964ed08e13
       "    </tr>\n",
       "  </tbody>\n",
       "</table>\n",
       "</div>"
      ],
      "text/plain": [
       "              business_id                     name  \\\n",
       "0  Yr_w9lakJrKMyEG_hI6zbA  Fat Moe's Pizza & Wings   \n",
       "1  AN0bWhisCf6LN9eHZ7DQ3w    Los Olivos Ristorante   \n",
       "2  AtD6B83S4Mbmq0t7iDnUVA             Veggie House   \n",
       "3  oUX2bYbqjqST-urKbOHG6w              Loftti Cafe   \n",
       "4  FiW6w5nmhlUoJAyNofb4jg         Fruits and Roots   \n",
       "\n",
       "                            address postal_code   latitude   longitude  \\\n",
       "0       6125 W Tropicana Ave, Ste F       89103  36.099361 -115.226636   \n",
       "1              3759 E Desert Inn Rd       89121  36.129178 -115.092483   \n",
       "2  5115 Spring Mountain Rd, Ste 203       89146  36.125569 -115.210911   \n",
       "3       7729 S Rainbow Blvd, Ste 9B       89139  36.047942 -115.244167   \n",
       "4              5020 Blue Diamond Rd       89139  36.032122 -115.210267   \n",
       "\n",
       "                                          categories  \\\n",
       "0                 Pizza, Salad, Burgers, Restaurants   \n",
       "1                               Restaurants, Italian   \n",
       "2  Restaurants, Specialty Food, Japanese, Sushi B...   \n",
       "3  Sandwiches, Shaved Ice, Coffee & Tea, Desserts...   \n",
       "4  Coffee & Tea, Food Stands, Food, Restaurants, ...   \n",
       "\n",
       "                                      sep_categories Dominant Ids  \\\n",
       "0               [Pizza, Salad, Burgers, Restaurants]    [6, 1, 0]   \n",
       "1                             [Restaurants, Italian]    [2, 6, 0]   \n",
       "2  [Restaurants, Specialty Food, Japanese, Sushi ...    [4, 0, 3]   \n",
       "3  [Sandwiches, Shaved Ice, Coffee & Tea, Dessert...    [0, 6, 5]   \n",
       "4  [Coffee & Tea, Food Stands, Food, Restaurants,...    [0, 3, 5]   \n",
       "\n",
       "                                Percent  \\\n",
       "0  [0.71840245, 0.10773659, 0.06156651]   \n",
       "1   [0.44978717, 0.2163004, 0.09988998]   \n",
       "2   [0.30285373, 0.2803057, 0.13361645]   \n",
       "3  [0.39396736, 0.19578542, 0.14329998]   \n",
       "4  [0.49596417, 0.12588032, 0.09800566]   \n",
       "\n",
<<<<<<< HEAD
       "                                              Topics  \\\n",
       "0  [Ambiance / Good Service, Fastfood / American,...   \n",
       "1  [Steakhouse / Dinner, Ambiance / Good Service,...   \n",
       "2      [Asian / Buffet, Thai / Continental, Mexican]   \n",
       "3  [Thai / Continental, Ambiance / Good Service, ...   \n",
       "4            [Thai / Continental, Mexican, Japanese]   \n",
       "\n",
       "                                            Features  \n",
       "0  [Pizza, Salad, Burgers, Restaurants, Ambiance ...  \n",
       "1  [Restaurants, Italian, Steakhouse / Dinner, Am...  \n",
       "2  [Restaurants, Specialty Food, Japanese, Sushi ...  \n",
       "3  [Sandwiches, Shaved Ice, Coffee & Tea, Dessert...  \n",
       "4  [Coffee & Tea, Food Stands, Food, Restaurants,...  "
      ]
     },
     "execution_count": 192,
=======
       "                                              Topics  \n",
       "0  [Ambiance / Good Service, Fastfood / American,...  \n",
       "1  [Steakhouse / Dinner, Ambiance / Good Service,...  \n",
       "2      [Asian / Buffet, Thai / Continental, Mexican]  \n",
       "3  [Thai / Continental, Ambiance / Good Service, ...  \n",
       "4            [Thai / Continental, Mexican, Japanese]  "
      ]
     },
     "execution_count": 130,
>>>>>>> 220867bdcc764de07e2df85f5cb7c9964ed08e13
     "metadata": {},
     "output_type": "execute_result"
    }
   ],
   "source": [
    "content_df.head()"
   ]
  },
  {
<<<<<<< HEAD
   "cell_type": "code",
   "execution_count": 195,
   "metadata": {},
   "outputs": [
    {
     "data": {
      "text/html": [
       "<div>\n",
       "<style scoped>\n",
       "    .dataframe tbody tr th:only-of-type {\n",
       "        vertical-align: middle;\n",
       "    }\n",
       "\n",
       "    .dataframe tbody tr th {\n",
       "        vertical-align: top;\n",
       "    }\n",
       "\n",
       "    .dataframe thead th {\n",
       "        text-align: right;\n",
       "    }\n",
       "</style>\n",
       "<table border=\"1\" class=\"dataframe\">\n",
       "  <thead>\n",
       "    <tr style=\"text-align: right;\">\n",
       "      <th></th>\n",
       "      <th>business_id</th>\n",
       "      <th>stars</th>\n",
       "    </tr>\n",
       "  </thead>\n",
       "  <tbody>\n",
       "    <tr>\n",
       "      <th>0</th>\n",
       "      <td>--9e1ONYQuAa-CB_Rrw7Tw</td>\n",
       "      <td>4.131563</td>\n",
       "    </tr>\n",
       "    <tr>\n",
       "      <th>1</th>\n",
       "      <td>-0RkJ_uIduNLWQrphbADRw</td>\n",
       "      <td>4.213740</td>\n",
       "    </tr>\n",
       "    <tr>\n",
       "      <th>2</th>\n",
       "      <td>-1m9o3vGRA8IBPNvNqKLmA</td>\n",
       "      <td>4.498734</td>\n",
       "    </tr>\n",
       "    <tr>\n",
       "      <th>3</th>\n",
       "      <td>-3cJ2k_iwauMpy1WfI4NrA</td>\n",
       "      <td>4.281553</td>\n",
       "    </tr>\n",
       "    <tr>\n",
       "      <th>4</th>\n",
       "      <td>-3zffZUHoY8bQjGfPSoBKQ</td>\n",
       "      <td>4.130293</td>\n",
       "    </tr>\n",
       "  </tbody>\n",
       "</table>\n",
       "</div>"
      ],
      "text/plain": [
       "              business_id     stars\n",
       "0  --9e1ONYQuAa-CB_Rrw7Tw  4.131563\n",
       "1  -0RkJ_uIduNLWQrphbADRw  4.213740\n",
       "2  -1m9o3vGRA8IBPNvNqKLmA  4.498734\n",
       "3  -3cJ2k_iwauMpy1WfI4NrA  4.281553\n",
       "4  -3zffZUHoY8bQjGfPSoBKQ  4.130293"
      ]
     },
     "execution_count": 195,
     "metadata": {},
     "output_type": "execute_result"
    }
   ],
   "source": [
    "vegas_stars.head()"
   ]
  },
  {
   "cell_type": "markdown",
=======
   "cell_type": "markdown",
   "id": "scheduled-making",
>>>>>>> 220867bdcc764de07e2df85f5cb7c9964ed08e13
   "metadata": {},
   "source": [
    "```python\n",
    "sep_topics = pd.DataFrame(biz_topic['Topics'].values.tolist(),columns = ['Topic 1','Topic 2','Topic 3'])\n",
    "```"
   ]
  },
  {
   "cell_type": "code",
   "execution_count": 131,
<<<<<<< HEAD
=======
   "id": "south-modern",
>>>>>>> 220867bdcc764de07e2df85f5cb7c9964ed08e13
   "metadata": {},
   "outputs": [],
   "source": [
    "content_df['Features'] = content_df['sep_categories'] + content_df['Topics']"
   ]
  },
  {
   "cell_type": "code",
   "execution_count": 148,
<<<<<<< HEAD
=======
   "id": "novel-strand",
>>>>>>> 220867bdcc764de07e2df85f5cb7c9964ed08e13
   "metadata": {},
   "outputs": [
    {
     "data": {
      "text/plain": [
       "1537"
      ]
     },
     "execution_count": 148,
     "metadata": {},
     "output_type": "execute_result"
    }
   ],
   "source": [
    "content_df['Features'].apply(lambda x: 'Food' not in x).sum()"
   ]
  },
  {
   "cell_type": "code",
   "execution_count": 152,
<<<<<<< HEAD
=======
   "id": "clean-architect",
>>>>>>> 220867bdcc764de07e2df85f5cb7c9964ed08e13
   "metadata": {},
   "outputs": [],
   "source": [
    "features = content_df.apply(lambda x: pd.Series(x['Features']),axis=1).stack().reset_index(level=1, drop=True)\n",
    "features.name = 'Feat'"
   ]
  },
  {
   "cell_type": "code",
   "execution_count": 153,
<<<<<<< HEAD
=======
   "id": "appreciated-longer",
>>>>>>> 220867bdcc764de07e2df85f5cb7c9964ed08e13
   "metadata": {},
   "outputs": [
    {
     "data": {
      "text/plain": [
       "Restaurants                2132\n",
       "Thai / Continental         1357\n",
       "Ambiance / Good Service    1051\n",
       "Mexican                     909\n",
       "Japanese                    895\n",
       "                           ... \n",
       "Skating Rinks                 1\n",
       "Guamanian                     1\n",
       "Boxing                        1\n",
       "Nail Technicians              1\n",
       "Convenience Stores            1\n",
       "Name: Feat, Length: 318, dtype: int64"
      ]
     },
     "execution_count": 153,
     "metadata": {},
     "output_type": "execute_result"
    }
   ],
   "source": [
    "features.value_counts()"
   ]
  },
  {
   "cell_type": "code",
   "execution_count": 155,
<<<<<<< HEAD
=======
   "id": "effective-suggestion",
>>>>>>> 220867bdcc764de07e2df85f5cb7c9964ed08e13
   "metadata": {},
   "outputs": [],
   "source": [
    "features_list = content_df['Features'].values.flatten()\n",
    "features_list = [item for sublist in features_list for item in sublist]"
   ]
  },
  {
   "cell_type": "code",
   "execution_count": 157,
<<<<<<< HEAD
=======
   "id": "united-trout",
>>>>>>> 220867bdcc764de07e2df85f5cb7c9964ed08e13
   "metadata": {},
   "outputs": [],
   "source": [
    "corpus_features = [content_df['Features'].iloc[i] for i in range(len(content_df))]\n",
    "unique_features = sorted(list(set(features_list)))"
   ]
  },
  {
   "cell_type": "code",
   "execution_count": 161,
<<<<<<< HEAD
=======
   "id": "tested-worry",
>>>>>>> 220867bdcc764de07e2df85f5cb7c9964ed08e13
   "metadata": {},
   "outputs": [],
   "source": [
    "dict_features = Counter()\n",
    "for item in features_list:\n",
    "    dict_features[item] += 1"
   ]
  },
  {
   "cell_type": "code",
   "execution_count": 162,
<<<<<<< HEAD
=======
   "id": "iraqi-parallel",
>>>>>>> 220867bdcc764de07e2df85f5cb7c9964ed08e13
   "metadata": {},
   "outputs": [],
   "source": [
    "dict_features_sorted = sorted(dict_features.items(),key = lambda x: x[1],reverse = True)"
   ]
  },
  {
   "cell_type": "code",
   "execution_count": 165,
<<<<<<< HEAD
=======
   "id": "average-jacob",
>>>>>>> 220867bdcc764de07e2df85f5cb7c9964ed08e13
   "metadata": {},
   "outputs": [
    {
     "data": {
      "image/png": "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\n",
      "text/plain": [
       "<Figure size 1080x720 with 1 Axes>"
      ]
     },
     "metadata": {},
     "output_type": "display_data"
    }
   ],
   "source": [
    "# Let's see the distribution of these categories.\n",
    "indices = np.arange(len(dict_features_sorted[:50]))\n",
    "word = []\n",
    "frequency = []\n",
    "\n",
    "for i in range(len(dict_features_sorted[:50])):\n",
    "    word.append(dict_features_sorted[i][0])\n",
    "    frequency.append(dict_features_sorted[i][1])\n",
    "plt.figure(figsize=(15,10))\n",
    "plt.bar(indices, frequency, color='b')\n",
    "plt.xticks(indices, word, rotation='vertical')\n",
    "plt.tight_layout()\n",
    "plt.show()"
   ]
  },
  {
   "cell_type": "markdown",
<<<<<<< HEAD
=======
   "id": "canadian-moses",
>>>>>>> 220867bdcc764de07e2df85f5cb7c9964ed08e13
   "metadata": {},
   "source": [
    "### 'Restaurants' and 'Food' seem like general tags accompanying a large number of businesses!"
   ]
  },
  {
   "cell_type": "code",
   "execution_count": 166,
<<<<<<< HEAD
=======
   "id": "atlantic-confidentiality",
>>>>>>> 220867bdcc764de07e2df85f5cb7c9964ed08e13
   "metadata": {},
   "outputs": [],
   "source": [
    "from sklearn import base\n",
    "\n",
    "class DictEncoder(base.BaseEstimator, base.TransformerMixin):\n",
    "    \n",
    "    def __init__(self, col):\n",
    "        self.col = col\n",
    "    \n",
    "    def fit(self, X, y=None):\n",
    "        return self\n",
    "    \n",
    "    def transform(self, X):\n",
    "        \n",
    "        def to_dict(l):\n",
    "            try:\n",
    "                return {x: 1 for x in l}\n",
    "            except TypeError:\n",
    "                return {}\n",
    "        \n",
    "        return X[self.col].apply(to_dict)"
   ]
  },
  {
   "cell_type": "code",
   "execution_count": 167,
<<<<<<< HEAD
=======
   "id": "medieval-modification",
>>>>>>> 220867bdcc764de07e2df85f5cb7c9964ed08e13
   "metadata": {},
   "outputs": [],
   "source": [
    "from collections import Counter\n",
    "# col is a list of entries\n",
    "def count_vectorizer(col):    # custom countvectorizer\n",
    "    m = len(unique_categories)\n",
    "    lst = [None] * m\n",
    "    for i in range(m):\n",
    "        if unique_categories[i] in col:\n",
    "            lst[i] = 1\n",
    "        else:    \n",
    "            lst[i] = 0\n",
    "    return lst    \n",
    "\n",
    "# Function to check how many documents in the corpus contain the word\n",
    "def idf(word):\n",
    "    count = 0\n",
    "    n = len(corpus)\n",
    "    for i in range(n):\n",
    "        if word in corpus[i]:\n",
    "            count += 1\n",
    "    return count\n",
    "\n",
    "\n",
    "def tfidf_vectorizer(col):    # custom tfidfvectorizer\n",
    "    m = len(unique_categories)\n",
    "    lst = [None]*m\n",
    "    counter = Counter()\n",
    "    for word in col:\n",
    "        counter[word] += 1\n",
    "    for i in range(m):\n",
    "        if unique_categories[i] in col:\n",
    "            tf = counter[unique_categories[i]]/len(col)\n",
    "            inv_df = np.log((n + 1)/(idf(unique_categories[i]) + 1))\n",
    "            tfidf = tf*inv_df\n",
    "            lst[i] = tfidf\n",
    "        else:\n",
    "            lst[i] = 0\n",
    "    return lst"
   ]
  },
  {
   "cell_type": "code",
<<<<<<< HEAD
   "execution_count": 181,
   "metadata": {},
   "outputs": [
    {
     "data": {
      "text/html": [
       "<div>\n",
       "<style scoped>\n",
       "    .dataframe tbody tr th:only-of-type {\n",
       "        vertical-align: middle;\n",
       "    }\n",
       "\n",
       "    .dataframe tbody tr th {\n",
       "        vertical-align: top;\n",
       "    }\n",
       "\n",
       "    .dataframe thead th {\n",
       "        text-align: right;\n",
       "    }\n",
       "</style>\n",
       "<table border=\"1\" class=\"dataframe\">\n",
       "  <thead>\n",
       "    <tr style=\"text-align: right;\">\n",
       "      <th></th>\n",
       "      <th>business_id</th>\n",
       "      <th>name</th>\n",
       "      <th>address</th>\n",
       "      <th>postal_code</th>\n",
       "      <th>latitude</th>\n",
       "      <th>longitude</th>\n",
       "      <th>categories</th>\n",
       "      <th>sep_categories</th>\n",
       "      <th>Dominant Ids</th>\n",
       "      <th>Percent</th>\n",
       "      <th>Topics</th>\n",
       "      <th>Features</th>\n",
       "    </tr>\n",
       "  </thead>\n",
       "  <tbody>\n",
       "    <tr>\n",
       "      <th>0</th>\n",
       "      <td>Yr_w9lakJrKMyEG_hI6zbA</td>\n",
       "      <td>Fat Moe's Pizza &amp; Wings</td>\n",
       "      <td>6125 W Tropicana Ave, Ste F</td>\n",
       "      <td>89103</td>\n",
       "      <td>36.099361</td>\n",
       "      <td>-115.226636</td>\n",
       "      <td>Pizza, Salad, Burgers, Restaurants</td>\n",
       "      <td>[Pizza, Salad, Burgers, Restaurants]</td>\n",
       "      <td>[6, 1, 0]</td>\n",
       "      <td>[0.71840245, 0.10773659, 0.06156651]</td>\n",
       "      <td>[Ambiance / Good Service, Fastfood / American,...</td>\n",
       "      <td>[Pizza, Salad, Burgers, Restaurants, Ambiance ...</td>\n",
       "    </tr>\n",
       "    <tr>\n",
       "      <th>1</th>\n",
       "      <td>AN0bWhisCf6LN9eHZ7DQ3w</td>\n",
       "      <td>Los Olivos Ristorante</td>\n",
       "      <td>3759 E Desert Inn Rd</td>\n",
       "      <td>89121</td>\n",
       "      <td>36.129178</td>\n",
       "      <td>-115.092483</td>\n",
       "      <td>Restaurants, Italian</td>\n",
       "      <td>[Restaurants, Italian]</td>\n",
       "      <td>[2, 6, 0]</td>\n",
       "      <td>[0.44978717, 0.2163004, 0.09988998]</td>\n",
       "      <td>[Steakhouse / Dinner, Ambiance / Good Service,...</td>\n",
       "      <td>[Restaurants, Italian, Steakhouse / Dinner, Am...</td>\n",
       "    </tr>\n",
       "    <tr>\n",
       "      <th>2</th>\n",
       "      <td>AtD6B83S4Mbmq0t7iDnUVA</td>\n",
       "      <td>Veggie House</td>\n",
       "      <td>5115 Spring Mountain Rd, Ste 203</td>\n",
       "      <td>89146</td>\n",
       "      <td>36.125569</td>\n",
       "      <td>-115.210911</td>\n",
       "      <td>Restaurants, Specialty Food, Japanese, Sushi B...</td>\n",
       "      <td>[Restaurants, Specialty Food, Japanese, Sushi ...</td>\n",
       "      <td>[4, 0, 3]</td>\n",
       "      <td>[0.30285373, 0.2803057, 0.13361645]</td>\n",
       "      <td>[Asian / Buffet, Thai / Continental, Mexican]</td>\n",
       "      <td>[Restaurants, Specialty Food, Japanese, Sushi ...</td>\n",
       "    </tr>\n",
       "    <tr>\n",
       "      <th>3</th>\n",
       "      <td>oUX2bYbqjqST-urKbOHG6w</td>\n",
       "      <td>Loftti Cafe</td>\n",
       "      <td>7729 S Rainbow Blvd, Ste 9B</td>\n",
       "      <td>89139</td>\n",
       "      <td>36.047942</td>\n",
       "      <td>-115.244167</td>\n",
       "      <td>Sandwiches, Shaved Ice, Coffee &amp; Tea, Desserts...</td>\n",
       "      <td>[Sandwiches, Shaved Ice, Coffee &amp; Tea, Dessert...</td>\n",
       "      <td>[0, 6, 5]</td>\n",
       "      <td>[0.39396736, 0.19578542, 0.14329998]</td>\n",
       "      <td>[Thai / Continental, Ambiance / Good Service, ...</td>\n",
       "      <td>[Sandwiches, Shaved Ice, Coffee &amp; Tea, Dessert...</td>\n",
       "    </tr>\n",
       "    <tr>\n",
       "      <th>4</th>\n",
       "      <td>FiW6w5nmhlUoJAyNofb4jg</td>\n",
       "      <td>Fruits and Roots</td>\n",
       "      <td>5020 Blue Diamond Rd</td>\n",
       "      <td>89139</td>\n",
       "      <td>36.032122</td>\n",
       "      <td>-115.210267</td>\n",
       "      <td>Coffee &amp; Tea, Food Stands, Food, Restaurants, ...</td>\n",
       "      <td>[Coffee &amp; Tea, Food Stands, Food, Restaurants,...</td>\n",
       "      <td>[0, 3, 5]</td>\n",
       "      <td>[0.49596417, 0.12588032, 0.09800566]</td>\n",
       "      <td>[Thai / Continental, Mexican, Japanese]</td>\n",
       "      <td>[Coffee &amp; Tea, Food Stands, Food, Restaurants,...</td>\n",
       "    </tr>\n",
       "  </tbody>\n",
       "</table>\n",
       "</div>"
      ],
      "text/plain": [
       "              business_id                     name  \\\n",
       "0  Yr_w9lakJrKMyEG_hI6zbA  Fat Moe's Pizza & Wings   \n",
       "1  AN0bWhisCf6LN9eHZ7DQ3w    Los Olivos Ristorante   \n",
       "2  AtD6B83S4Mbmq0t7iDnUVA             Veggie House   \n",
       "3  oUX2bYbqjqST-urKbOHG6w              Loftti Cafe   \n",
       "4  FiW6w5nmhlUoJAyNofb4jg         Fruits and Roots   \n",
       "\n",
       "                            address postal_code   latitude   longitude  \\\n",
       "0       6125 W Tropicana Ave, Ste F       89103  36.099361 -115.226636   \n",
       "1              3759 E Desert Inn Rd       89121  36.129178 -115.092483   \n",
       "2  5115 Spring Mountain Rd, Ste 203       89146  36.125569 -115.210911   \n",
       "3       7729 S Rainbow Blvd, Ste 9B       89139  36.047942 -115.244167   \n",
       "4              5020 Blue Diamond Rd       89139  36.032122 -115.210267   \n",
       "\n",
       "                                          categories  \\\n",
       "0                 Pizza, Salad, Burgers, Restaurants   \n",
       "1                               Restaurants, Italian   \n",
       "2  Restaurants, Specialty Food, Japanese, Sushi B...   \n",
       "3  Sandwiches, Shaved Ice, Coffee & Tea, Desserts...   \n",
       "4  Coffee & Tea, Food Stands, Food, Restaurants, ...   \n",
       "\n",
       "                                      sep_categories Dominant Ids  \\\n",
       "0               [Pizza, Salad, Burgers, Restaurants]    [6, 1, 0]   \n",
       "1                             [Restaurants, Italian]    [2, 6, 0]   \n",
       "2  [Restaurants, Specialty Food, Japanese, Sushi ...    [4, 0, 3]   \n",
       "3  [Sandwiches, Shaved Ice, Coffee & Tea, Dessert...    [0, 6, 5]   \n",
       "4  [Coffee & Tea, Food Stands, Food, Restaurants,...    [0, 3, 5]   \n",
       "\n",
       "                                Percent  \\\n",
       "0  [0.71840245, 0.10773659, 0.06156651]   \n",
       "1   [0.44978717, 0.2163004, 0.09988998]   \n",
       "2   [0.30285373, 0.2803057, 0.13361645]   \n",
       "3  [0.39396736, 0.19578542, 0.14329998]   \n",
       "4  [0.49596417, 0.12588032, 0.09800566]   \n",
       "\n",
       "                                              Topics  \\\n",
       "0  [Ambiance / Good Service, Fastfood / American,...   \n",
       "1  [Steakhouse / Dinner, Ambiance / Good Service,...   \n",
       "2      [Asian / Buffet, Thai / Continental, Mexican]   \n",
       "3  [Thai / Continental, Ambiance / Good Service, ...   \n",
       "4            [Thai / Continental, Mexican, Japanese]   \n",
       "\n",
       "                                            Features  \n",
       "0  [Pizza, Salad, Burgers, Restaurants, Ambiance ...  \n",
       "1  [Restaurants, Italian, Steakhouse / Dinner, Am...  \n",
       "2  [Restaurants, Specialty Food, Japanese, Sushi ...  \n",
       "3  [Sandwiches, Shaved Ice, Coffee & Tea, Dessert...  \n",
       "4  [Coffee & Tea, Food Stands, Food, Restaurants,...  "
      ]
     },
     "execution_count": 181,
     "metadata": {},
     "output_type": "execute_result"
    }
   ],
   "source": [
    "content_df.head()"
   ]
  },
  {
   "cell_type": "code",
   "execution_count": 184,
   "metadata": {},
   "outputs": [
    {
     "data": {
      "text/plain": [
       "['89103', '89121', '89146', '89139', '89117', '89119', '89149', '89101', '89107', '89109', '89113', '89183', '89178', '89131', '89123', '89128', '89118', '89104', '89147', '89102', '89169', '89108', '89148', '89134', '89158', '89122', '89120', '89135', '89129', '89110', '89141', '89144', '89145', '89166', '89130', '89031', '89106', '89032', '89115', '89152', '89142', '89136', '89156', '89052', '89014', '89179', '89143', '89084', '89111', '89019', '89030', '89114']"
      ]
     },
     "execution_count": 184,
     "metadata": {},
     "output_type": "execute_result"
    }
   ],
   "source": [
    "content_df['postal_code'].unique().tolist()"
   ]
  },
  {
   "cell_type": "code",
   "execution_count": 1,
   "metadata": {},
   "outputs": [
    {
     "ename": "NameError",
     "evalue": "name 'content_df' is not defined",
     "output_type": "error",
     "traceback": [
      "\u001b[0;31m---------------------------------------------------------------------------\u001b[0m",
      "\u001b[0;31mNameError\u001b[0m                                 Traceback (most recent call last)",
      "\u001b[0;32m<ipython-input-1-f62dc6f0ef3c>\u001b[0m in \u001b[0;36m<module>\u001b[0;34m\u001b[0m\n\u001b[0;32m----> 1\u001b[0;31m \u001b[0mcontent_df\u001b[0m\u001b[0;34m.\u001b[0m\u001b[0mhead\u001b[0m\u001b[0;34m(\u001b[0m\u001b[0;34m)\u001b[0m\u001b[0;34m\u001b[0m\u001b[0;34m\u001b[0m\u001b[0m\n\u001b[0m",
      "\u001b[0;31mNameError\u001b[0m: name 'content_df' is not defined"
     ]
    }
   ],
   "source": [
    "content_df.head()"
   ]
  },
  {
   "cell_type": "code",
   "execution_count": 197,
   "metadata": {},
   "outputs": [
    {
     "data": {
      "text/plain": [
       "True"
      ]
     },
     "execution_count": 197,
     "metadata": {},
     "output_type": "execute_result"
    }
   ],
   "source": [
    "set(content_df['business_id']) == set(vegas_stars['business_id'])"
   ]
  },
  {
   "cell_type": "code",
   "execution_count": 198,
   "metadata": {},
   "outputs": [],
   "source": [
    "content_df = content_df.merge(vegas_stars,on='business_id')"
   ]
  },
  {
   "cell_type": "code",
   "execution_count": 199,
   "metadata": {},
   "outputs": [],
   "source": [
    "with open('vegas_contents.pkl', 'wb') as fp:\n",
    "    pickle.dump(content_df, fp)"
   ]
  },
  {
   "cell_type": "code",
   "execution_count": 190,
   "metadata": {},
   "outputs": [
    {
     "data": {
      "text/html": [
       "<div>\n",
       "<style scoped>\n",
       "    .dataframe tbody tr th:only-of-type {\n",
       "        vertical-align: middle;\n",
       "    }\n",
       "\n",
       "    .dataframe tbody tr th {\n",
       "        vertical-align: top;\n",
       "    }\n",
       "\n",
       "    .dataframe thead th {\n",
       "        text-align: right;\n",
       "    }\n",
       "</style>\n",
       "<table border=\"1\" class=\"dataframe\">\n",
       "  <thead>\n",
       "    <tr style=\"text-align: right;\">\n",
       "      <th></th>\n",
       "      <th>latitude</th>\n",
       "      <th>longitude</th>\n",
       "    </tr>\n",
       "  </thead>\n",
       "  <tbody>\n",
       "    <tr>\n",
       "      <th>count</th>\n",
       "      <td>2132.000000</td>\n",
       "      <td>2132.000000</td>\n",
       "    </tr>\n",
       "    <tr>\n",
       "      <th>mean</th>\n",
       "      <td>36.122946</td>\n",
       "      <td>-115.201731</td>\n",
       "    </tr>\n",
       "    <tr>\n",
       "      <th>std</th>\n",
       "      <td>0.057894</td>\n",
       "      <td>0.062144</td>\n",
       "    </tr>\n",
       "    <tr>\n",
       "      <th>min</th>\n",
       "      <td>35.982920</td>\n",
       "      <td>-115.351342</td>\n",
       "    </tr>\n",
       "    <tr>\n",
       "      <th>25%</th>\n",
       "      <td>36.099045</td>\n",
       "      <td>-115.248299</td>\n",
       "    </tr>\n",
       "    <tr>\n",
       "      <th>50%</th>\n",
       "      <td>36.118129</td>\n",
       "      <td>-115.189236</td>\n",
       "    </tr>\n",
       "    <tr>\n",
       "      <th>75%</th>\n",
       "      <td>36.148919</td>\n",
       "      <td>-115.163415</td>\n",
       "    </tr>\n",
       "    <tr>\n",
       "      <th>max</th>\n",
       "      <td>36.306775</td>\n",
       "      <td>-115.029755</td>\n",
       "    </tr>\n",
       "  </tbody>\n",
       "</table>\n",
       "</div>"
      ],
      "text/plain": [
       "          latitude    longitude\n",
       "count  2132.000000  2132.000000\n",
       "mean     36.122946  -115.201731\n",
       "std       0.057894     0.062144\n",
       "min      35.982920  -115.351342\n",
       "25%      36.099045  -115.248299\n",
       "50%      36.118129  -115.189236\n",
       "75%      36.148919  -115.163415\n",
       "max      36.306775  -115.029755"
      ]
     },
     "execution_count": 190,
     "metadata": {},
     "output_type": "execute_result"
    }
   ],
   "source": []
  },
  {
   "cell_type": "code",
   "execution_count": 3,
   "metadata": {},
   "outputs": [
    {
     "name": "stdout",
     "output_type": "stream",
     "text": [
      "Analysis.ipynb             rec.json\n",
      "EDA.ipynb                  \u001b[34mtemplates\u001b[m\u001b[m\n",
      "NLP-Topic modeling.ipynb   vegas_contents.pkl\n",
      "Surprise-recommender.ipynb vegas_ids.json\n",
      "Untitled.ipynb             vegas_open_ids.json\n",
      "app.py                     vegas_restaurants.pkl\n",
      "dump_file                  vegas_reviews.pkl\n",
      "filtering.ipynb            vegas_stars.pkl\n",
      "map.html                   zip_codes.json\n",
      "processed_texts.json\n"
     ]
    }
   ],
   "source": [
    "!ls"
   ]
  },
  {
   "cell_type": "code",
   "execution_count": 8,
   "metadata": {},
   "outputs": [],
   "source": []
  },
  {
   "cell_type": "code",
   "execution_count": 10,
   "metadata": {},
   "outputs": [
    {
     "data": {
      "text/html": [
       "<div>\n",
       "<style scoped>\n",
       "    .dataframe tbody tr th:only-of-type {\n",
       "        vertical-align: middle;\n",
       "    }\n",
       "\n",
       "    .dataframe tbody tr th {\n",
       "        vertical-align: top;\n",
       "    }\n",
       "\n",
       "    .dataframe thead th {\n",
       "        text-align: right;\n",
       "    }\n",
       "</style>\n",
       "<table border=\"1\" class=\"dataframe\">\n",
       "  <thead>\n",
       "    <tr style=\"text-align: right;\">\n",
       "      <th></th>\n",
       "      <th>business_id</th>\n",
       "      <th>name</th>\n",
       "      <th>address</th>\n",
       "      <th>postal_code</th>\n",
       "      <th>latitude</th>\n",
       "      <th>longitude</th>\n",
       "      <th>categories</th>\n",
       "      <th>sep_categories</th>\n",
       "      <th>Dominant Ids</th>\n",
       "      <th>Percent</th>\n",
       "      <th>Topics</th>\n",
       "      <th>Features</th>\n",
       "      <th>stars</th>\n",
       "    </tr>\n",
       "  </thead>\n",
       "  <tbody>\n",
       "    <tr>\n",
       "      <th>0</th>\n",
       "      <td>Yr_w9lakJrKMyEG_hI6zbA</td>\n",
       "      <td>Fat Moe's Pizza &amp; Wings</td>\n",
       "      <td>6125 W Tropicana Ave, Ste F</td>\n",
       "      <td>89103</td>\n",
       "      <td>36.099361</td>\n",
       "      <td>-115.226636</td>\n",
       "      <td>Pizza, Salad, Burgers, Restaurants</td>\n",
       "      <td>[Pizza, Salad, Burgers, Restaurants]</td>\n",
       "      <td>[6, 1, 0]</td>\n",
       "      <td>[0.71840245, 0.10773659, 0.06156651]</td>\n",
       "      <td>[Ambiance / Good Service, Fastfood / American,...</td>\n",
       "      <td>[Pizza, Salad, Burgers, Restaurants, Ambiance ...</td>\n",
       "      <td>3.694118</td>\n",
       "    </tr>\n",
       "    <tr>\n",
       "      <th>1</th>\n",
       "      <td>AN0bWhisCf6LN9eHZ7DQ3w</td>\n",
       "      <td>Los Olivos Ristorante</td>\n",
       "      <td>3759 E Desert Inn Rd</td>\n",
       "      <td>89121</td>\n",
       "      <td>36.129178</td>\n",
       "      <td>-115.092483</td>\n",
       "      <td>Restaurants, Italian</td>\n",
       "      <td>[Restaurants, Italian]</td>\n",
       "      <td>[2, 6, 0]</td>\n",
       "      <td>[0.44978717, 0.2163004, 0.09988998]</td>\n",
       "      <td>[Steakhouse / Dinner, Ambiance / Good Service,...</td>\n",
       "      <td>[Restaurants, Italian, Steakhouse / Dinner, Am...</td>\n",
       "      <td>4.807143</td>\n",
       "    </tr>\n",
       "    <tr>\n",
       "      <th>2</th>\n",
       "      <td>AtD6B83S4Mbmq0t7iDnUVA</td>\n",
       "      <td>Veggie House</td>\n",
       "      <td>5115 Spring Mountain Rd, Ste 203</td>\n",
       "      <td>89146</td>\n",
       "      <td>36.125569</td>\n",
       "      <td>-115.210911</td>\n",
       "      <td>Restaurants, Specialty Food, Japanese, Sushi B...</td>\n",
       "      <td>[Restaurants, Specialty Food, Japanese, Sushi ...</td>\n",
       "      <td>[4, 0, 3]</td>\n",
       "      <td>[0.30285373, 0.2803057, 0.13361645]</td>\n",
       "      <td>[Asian / Buffet, Thai / Continental, Mexican]</td>\n",
       "      <td>[Restaurants, Specialty Food, Japanese, Sushi ...</td>\n",
       "      <td>4.523707</td>\n",
       "    </tr>\n",
       "    <tr>\n",
       "      <th>3</th>\n",
       "      <td>oUX2bYbqjqST-urKbOHG6w</td>\n",
       "      <td>Loftti Cafe</td>\n",
       "      <td>7729 S Rainbow Blvd, Ste 9B</td>\n",
       "      <td>89139</td>\n",
       "      <td>36.047942</td>\n",
       "      <td>-115.244167</td>\n",
       "      <td>Sandwiches, Shaved Ice, Coffee &amp; Tea, Desserts...</td>\n",
       "      <td>[Sandwiches, Shaved Ice, Coffee &amp; Tea, Dessert...</td>\n",
       "      <td>[0, 6, 5]</td>\n",
       "      <td>[0.39396736, 0.19578542, 0.14329998]</td>\n",
       "      <td>[Thai / Continental, Ambiance / Good Service, ...</td>\n",
       "      <td>[Sandwiches, Shaved Ice, Coffee &amp; Tea, Dessert...</td>\n",
       "      <td>4.277512</td>\n",
       "    </tr>\n",
       "    <tr>\n",
       "      <th>4</th>\n",
       "      <td>FiW6w5nmhlUoJAyNofb4jg</td>\n",
       "      <td>Fruits and Roots</td>\n",
       "      <td>5020 Blue Diamond Rd</td>\n",
       "      <td>89139</td>\n",
       "      <td>36.032122</td>\n",
       "      <td>-115.210267</td>\n",
       "      <td>Coffee &amp; Tea, Food Stands, Food, Restaurants, ...</td>\n",
       "      <td>[Coffee &amp; Tea, Food Stands, Food, Restaurants,...</td>\n",
       "      <td>[0, 3, 5]</td>\n",
       "      <td>[0.49596417, 0.12588032, 0.09800566]</td>\n",
       "      <td>[Thai / Continental, Mexican, Japanese]</td>\n",
       "      <td>[Coffee &amp; Tea, Food Stands, Food, Restaurants,...</td>\n",
       "      <td>4.296296</td>\n",
       "    </tr>\n",
       "  </tbody>\n",
       "</table>\n",
       "</div>"
      ],
      "text/plain": [
       "              business_id                     name  \\\n",
       "0  Yr_w9lakJrKMyEG_hI6zbA  Fat Moe's Pizza & Wings   \n",
       "1  AN0bWhisCf6LN9eHZ7DQ3w    Los Olivos Ristorante   \n",
       "2  AtD6B83S4Mbmq0t7iDnUVA             Veggie House   \n",
       "3  oUX2bYbqjqST-urKbOHG6w              Loftti Cafe   \n",
       "4  FiW6w5nmhlUoJAyNofb4jg         Fruits and Roots   \n",
       "\n",
       "                            address postal_code   latitude   longitude  \\\n",
       "0       6125 W Tropicana Ave, Ste F       89103  36.099361 -115.226636   \n",
       "1              3759 E Desert Inn Rd       89121  36.129178 -115.092483   \n",
       "2  5115 Spring Mountain Rd, Ste 203       89146  36.125569 -115.210911   \n",
       "3       7729 S Rainbow Blvd, Ste 9B       89139  36.047942 -115.244167   \n",
       "4              5020 Blue Diamond Rd       89139  36.032122 -115.210267   \n",
       "\n",
       "                                          categories  \\\n",
       "0                 Pizza, Salad, Burgers, Restaurants   \n",
       "1                               Restaurants, Italian   \n",
       "2  Restaurants, Specialty Food, Japanese, Sushi B...   \n",
       "3  Sandwiches, Shaved Ice, Coffee & Tea, Desserts...   \n",
       "4  Coffee & Tea, Food Stands, Food, Restaurants, ...   \n",
       "\n",
       "                                      sep_categories Dominant Ids  \\\n",
       "0               [Pizza, Salad, Burgers, Restaurants]    [6, 1, 0]   \n",
       "1                             [Restaurants, Italian]    [2, 6, 0]   \n",
       "2  [Restaurants, Specialty Food, Japanese, Sushi ...    [4, 0, 3]   \n",
       "3  [Sandwiches, Shaved Ice, Coffee & Tea, Dessert...    [0, 6, 5]   \n",
       "4  [Coffee & Tea, Food Stands, Food, Restaurants,...    [0, 3, 5]   \n",
       "\n",
       "                                Percent  \\\n",
       "0  [0.71840245, 0.10773659, 0.06156651]   \n",
       "1   [0.44978717, 0.2163004, 0.09988998]   \n",
       "2   [0.30285373, 0.2803057, 0.13361645]   \n",
       "3  [0.39396736, 0.19578542, 0.14329998]   \n",
       "4  [0.49596417, 0.12588032, 0.09800566]   \n",
       "\n",
       "                                              Topics  \\\n",
       "0  [Ambiance / Good Service, Fastfood / American,...   \n",
       "1  [Steakhouse / Dinner, Ambiance / Good Service,...   \n",
       "2      [Asian / Buffet, Thai / Continental, Mexican]   \n",
       "3  [Thai / Continental, Ambiance / Good Service, ...   \n",
       "4            [Thai / Continental, Mexican, Japanese]   \n",
       "\n",
       "                                            Features     stars  \n",
       "0  [Pizza, Salad, Burgers, Restaurants, Ambiance ...  3.694118  \n",
       "1  [Restaurants, Italian, Steakhouse / Dinner, Am...  4.807143  \n",
       "2  [Restaurants, Specialty Food, Japanese, Sushi ...  4.523707  \n",
       "3  [Sandwiches, Shaved Ice, Coffee & Tea, Dessert...  4.277512  \n",
       "4  [Coffee & Tea, Food Stands, Food, Restaurants,...  4.296296  "
      ]
     },
     "execution_count": 10,
     "metadata": {},
     "output_type": "execute_result"
    }
   ],
   "source": [
    "vegas_contents.head()"
   ]
  },
  {
   "cell_type": "code",
   "execution_count": null,
=======
   "execution_count": null,
   "id": "painful-aerospace",
>>>>>>> 220867bdcc764de07e2df85f5cb7c9964ed08e13
   "metadata": {},
   "outputs": [],
   "source": []
  }
 ],
 "metadata": {
  "kernelspec": {
   "display_name": "flask_env",
   "language": "python",
   "name": "flask_env"
  },
  "language_info": {
   "codemirror_mode": {
    "name": "ipython",
    "version": 3
   },
   "file_extension": ".py",
   "mimetype": "text/x-python",
   "name": "python",
   "nbconvert_exporter": "python",
   "pygments_lexer": "ipython3",
   "version": "3.6.12"
  }
 },
 "nbformat": 4,
 "nbformat_minor": 5
}
