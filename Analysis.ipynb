{
 "cells": [
  {
   "cell_type": "code",
   "execution_count": 1,
   "metadata": {},
   "outputs": [],
   "source": [
    "import re\n",
    "import string\n",
    "from nltk.corpus import stopwords\n",
    "from nltk.stem.porter import PorterStemmer\n",
    "from nltk.stem import WordNetLemmatizer\n",
    "from collections import Counter"
   ]
  },
  {
   "cell_type": "code",
   "execution_count": 2,
   "metadata": {},
   "outputs": [
    {
     "name": "stderr",
     "output_type": "stream",
     "text": [
      "\n",
      "Bad key savefig.frameon in file /Users/axr524/opt/anaconda3/envs/nlp_course/lib/python3.7/site-packages/matplotlib/mpl-data/stylelib/_classic_test.mplstyle, line 421 ('savefig.frameon : True')\n",
      "You probably need to get an updated matplotlibrc file from\n",
      "https://github.com/matplotlib/matplotlib/blob/v3.3.2/matplotlibrc.template\n",
      "or from the matplotlib source distribution\n",
      "\n",
      "Bad key verbose.level in file /Users/axr524/opt/anaconda3/envs/nlp_course/lib/python3.7/site-packages/matplotlib/mpl-data/stylelib/_classic_test.mplstyle, line 472 ('verbose.level  : silent      # one of silent, helpful, debug, debug-annoying')\n",
      "You probably need to get an updated matplotlibrc file from\n",
      "https://github.com/matplotlib/matplotlib/blob/v3.3.2/matplotlibrc.template\n",
      "or from the matplotlib source distribution\n",
      "\n",
      "Bad key verbose.fileo in file /Users/axr524/opt/anaconda3/envs/nlp_course/lib/python3.7/site-packages/matplotlib/mpl-data/stylelib/_classic_test.mplstyle, line 473 ('verbose.fileo  : sys.stdout  # a log filename, sys.stdout or sys.stderr')\n",
      "You probably need to get an updated matplotlibrc file from\n",
      "https://github.com/matplotlib/matplotlib/blob/v3.3.2/matplotlibrc.template\n",
      "or from the matplotlib source distribution\n",
      "In /Users/axr524/opt/anaconda3/envs/nlp_course/lib/python3.7/site-packages/matplotlib/mpl-data/stylelib/_classic_test.mplstyle: \n",
      "The text.latex.preview rcparam was deprecated in Matplotlib 3.3 and will be removed two minor releases later.\n",
      "In /Users/axr524/opt/anaconda3/envs/nlp_course/lib/python3.7/site-packages/matplotlib/mpl-data/stylelib/_classic_test.mplstyle: \n",
      "The mathtext.fallback_to_cm rcparam was deprecated in Matplotlib 3.3 and will be removed two minor releases later.\n",
      "In /Users/axr524/opt/anaconda3/envs/nlp_course/lib/python3.7/site-packages/matplotlib/mpl-data/stylelib/_classic_test.mplstyle: Support for setting the 'mathtext.fallback_to_cm' rcParam is deprecated since 3.3 and will be removed two minor releases later; use 'mathtext.fallback : 'cm' instead.\n",
      "In /Users/axr524/opt/anaconda3/envs/nlp_course/lib/python3.7/site-packages/matplotlib/mpl-data/stylelib/_classic_test.mplstyle: \n",
      "The validate_bool_maybe_none function was deprecated in Matplotlib 3.3 and will be removed two minor releases later.\n",
      "In /Users/axr524/opt/anaconda3/envs/nlp_course/lib/python3.7/site-packages/matplotlib/mpl-data/stylelib/_classic_test.mplstyle: \n",
      "The savefig.jpeg_quality rcparam was deprecated in Matplotlib 3.3 and will be removed two minor releases later.\n",
      "In /Users/axr524/opt/anaconda3/envs/nlp_course/lib/python3.7/site-packages/matplotlib/mpl-data/stylelib/_classic_test.mplstyle: \n",
      "The keymap.all_axes rcparam was deprecated in Matplotlib 3.3 and will be removed two minor releases later.\n",
      "In /Users/axr524/opt/anaconda3/envs/nlp_course/lib/python3.7/site-packages/matplotlib/mpl-data/stylelib/_classic_test.mplstyle: \n",
      "The animation.avconv_path rcparam was deprecated in Matplotlib 3.3 and will be removed two minor releases later.\n",
      "In /Users/axr524/opt/anaconda3/envs/nlp_course/lib/python3.7/site-packages/matplotlib/mpl-data/stylelib/_classic_test.mplstyle: \n",
      "The animation.avconv_args rcparam was deprecated in Matplotlib 3.3 and will be removed two minor releases later.\n"
     ]
    }
   ],
   "source": [
    "import numpy as np\n",
    "import pandas as pd\n",
    "import matplotlib.pyplot as plt\n",
    "import seaborn as sns\n",
    "sns.set()\n",
    "import pickle\n",
    "import spacy\n",
    "nlp_large = spacy.load('en_core_web_lg')\n",
    "from wordcloud import WordCloud\n",
    "import textacy\n",
    "from sklearn.feature_extraction.text import CountVectorizer, TfidfVectorizer\n",
    "import scipy"
   ]
  },
  {
   "cell_type": "code",
   "execution_count": 3,
   "metadata": {},
   "outputs": [],
   "source": [
    "with open('ohio_restaurants.pkl','rb') as f:\n",
    "    ohio_restaurants = pickle.load(f)\n",
    "with open('imp_ohio_reviews.pkl','rb') as f:\n",
    "    imp_ohio_reviews = pickle.load(f)"
   ]
  },
  {
   "cell_type": "code",
   "execution_count": 4,
   "metadata": {},
   "outputs": [
    {
     "data": {
      "text/html": [
       "<div>\n",
       "<style scoped>\n",
       "    .dataframe tbody tr th:only-of-type {\n",
       "        vertical-align: middle;\n",
       "    }\n",
       "\n",
       "    .dataframe tbody tr th {\n",
       "        vertical-align: top;\n",
       "    }\n",
       "\n",
       "    .dataframe thead th {\n",
       "        text-align: right;\n",
       "    }\n",
       "</style>\n",
       "<table border=\"1\" class=\"dataframe\">\n",
       "  <thead>\n",
       "    <tr style=\"text-align: right;\">\n",
       "      <th></th>\n",
       "      <th>business_id</th>\n",
       "      <th>name</th>\n",
       "      <th>address</th>\n",
       "      <th>city</th>\n",
       "      <th>state</th>\n",
       "      <th>postal_code</th>\n",
       "      <th>latitude</th>\n",
       "      <th>longitude</th>\n",
       "      <th>stars</th>\n",
       "      <th>review_count</th>\n",
       "      <th>is_open</th>\n",
       "      <th>attributes</th>\n",
       "      <th>categories</th>\n",
       "      <th>hours</th>\n",
       "      <th>sep_categories</th>\n",
       "    </tr>\n",
       "  </thead>\n",
       "  <tbody>\n",
       "    <tr>\n",
       "      <th>83</th>\n",
       "      <td>7j0kor_fkeYhyEpXh4OpnQ</td>\n",
       "      <td>Scramblers - Strongsville</td>\n",
       "      <td>16726 Pearl Rd</td>\n",
       "      <td>Strongsville</td>\n",
       "      <td>OH</td>\n",
       "      <td>44136</td>\n",
       "      <td>41.295689</td>\n",
       "      <td>-81.835722</td>\n",
       "      <td>3.5</td>\n",
       "      <td>81</td>\n",
       "      <td>1</td>\n",
       "      <td>{'BusinessAcceptsCreditCards': 'True', 'Ambien...</td>\n",
       "      <td>Breakfast &amp; Brunch, Restaurants, American (Tra...</td>\n",
       "      <td>{'Monday': '6:30-15:0', 'Tuesday': '6:30-15:0'...</td>\n",
       "      <td>[Breakfast &amp; Brunch, Restaurants, American (Tr...</td>\n",
       "    </tr>\n",
       "    <tr>\n",
       "      <th>115</th>\n",
       "      <td>8Hvp1tYKiQbBgGIwkCRK5g</td>\n",
       "      <td>Tony's Family Restaurant</td>\n",
       "      <td>1515 W Pleasant Valley Rd</td>\n",
       "      <td>Parma</td>\n",
       "      <td>OH</td>\n",
       "      <td>44134</td>\n",
       "      <td>41.361185</td>\n",
       "      <td>-81.688755</td>\n",
       "      <td>4.0</td>\n",
       "      <td>60</td>\n",
       "      <td>1</td>\n",
       "      <td>{'OutdoorSeating': 'False', 'RestaurantsReserv...</td>\n",
       "      <td>Coffee &amp; Tea, Restaurants, Food, Breakfast &amp; B...</td>\n",
       "      <td>{'Monday': '6:0-21:0', 'Tuesday': '6:0-21:0', ...</td>\n",
       "      <td>[Coffee &amp; Tea, Restaurants, Food, Breakfast &amp; ...</td>\n",
       "    </tr>\n",
       "    <tr>\n",
       "      <th>433</th>\n",
       "      <td>owV0aSgh4t_9aG56iPxGEw</td>\n",
       "      <td>Panda Express</td>\n",
       "      <td>6895 Ridge Rd</td>\n",
       "      <td>Parma</td>\n",
       "      <td>OH</td>\n",
       "      <td>44129</td>\n",
       "      <td>41.378045</td>\n",
       "      <td>-81.734138</td>\n",
       "      <td>2.5</td>\n",
       "      <td>57</td>\n",
       "      <td>1</td>\n",
       "      <td>{'RestaurantsTableService': 'False', 'Restaura...</td>\n",
       "      <td>Chinese, Fast Food, Restaurants</td>\n",
       "      <td>{'Monday': '10:30-21:30', 'Tuesday': '10:30-21...</td>\n",
       "      <td>[Chinese, Fast Food, Restaurants]</td>\n",
       "    </tr>\n",
       "    <tr>\n",
       "      <th>492</th>\n",
       "      <td>Ra5fI9BEAuWWaLJSfkiCiQ</td>\n",
       "      <td>White Oaks</td>\n",
       "      <td>777 Cahoon Rd</td>\n",
       "      <td>Westlake</td>\n",
       "      <td>OH</td>\n",
       "      <td>44145</td>\n",
       "      <td>41.475638</td>\n",
       "      <td>-81.924795</td>\n",
       "      <td>3.5</td>\n",
       "      <td>143</td>\n",
       "      <td>1</td>\n",
       "      <td>{'GoodForKids': 'False', 'RestaurantsReservati...</td>\n",
       "      <td>Mediterranean, Salad, Seafood, American (New),...</td>\n",
       "      <td>{'Monday': '17:0-22:0', 'Tuesday': '17:0-22:0'...</td>\n",
       "      <td>[Mediterranean, Salad, Seafood, American (New)...</td>\n",
       "    </tr>\n",
       "    <tr>\n",
       "      <th>577</th>\n",
       "      <td>ErxACeMyF4hSQyGhpEt4Tw</td>\n",
       "      <td>Peppermint Thai Cuisine</td>\n",
       "      <td>30769 Pinetree Rd</td>\n",
       "      <td>Pepper Pike</td>\n",
       "      <td>OH</td>\n",
       "      <td>44124</td>\n",
       "      <td>41.462942</td>\n",
       "      <td>-81.461824</td>\n",
       "      <td>4.0</td>\n",
       "      <td>217</td>\n",
       "      <td>1</td>\n",
       "      <td>{'OutdoorSeating': 'False', 'RestaurantsTakeOu...</td>\n",
       "      <td>Restaurants, Thai</td>\n",
       "      <td>{'Tuesday': '17:0-21:30', 'Wednesday': '17:0-2...</td>\n",
       "      <td>[Restaurants, Thai]</td>\n",
       "    </tr>\n",
       "  </tbody>\n",
       "</table>\n",
       "</div>"
      ],
      "text/plain": [
       "                business_id                       name  \\\n",
       "83   7j0kor_fkeYhyEpXh4OpnQ  Scramblers - Strongsville   \n",
       "115  8Hvp1tYKiQbBgGIwkCRK5g   Tony's Family Restaurant   \n",
       "433  owV0aSgh4t_9aG56iPxGEw              Panda Express   \n",
       "492  Ra5fI9BEAuWWaLJSfkiCiQ                 White Oaks   \n",
       "577  ErxACeMyF4hSQyGhpEt4Tw    Peppermint Thai Cuisine   \n",
       "\n",
       "                       address          city state postal_code   latitude  \\\n",
       "83              16726 Pearl Rd  Strongsville    OH       44136  41.295689   \n",
       "115  1515 W Pleasant Valley Rd         Parma    OH       44134  41.361185   \n",
       "433              6895 Ridge Rd         Parma    OH       44129  41.378045   \n",
       "492              777 Cahoon Rd      Westlake    OH       44145  41.475638   \n",
       "577          30769 Pinetree Rd   Pepper Pike    OH       44124  41.462942   \n",
       "\n",
       "     longitude  stars  review_count  is_open  \\\n",
       "83  -81.835722    3.5            81        1   \n",
       "115 -81.688755    4.0            60        1   \n",
       "433 -81.734138    2.5            57        1   \n",
       "492 -81.924795    3.5           143        1   \n",
       "577 -81.461824    4.0           217        1   \n",
       "\n",
       "                                            attributes  \\\n",
       "83   {'BusinessAcceptsCreditCards': 'True', 'Ambien...   \n",
       "115  {'OutdoorSeating': 'False', 'RestaurantsReserv...   \n",
       "433  {'RestaurantsTableService': 'False', 'Restaura...   \n",
       "492  {'GoodForKids': 'False', 'RestaurantsReservati...   \n",
       "577  {'OutdoorSeating': 'False', 'RestaurantsTakeOu...   \n",
       "\n",
       "                                            categories  \\\n",
       "83   Breakfast & Brunch, Restaurants, American (Tra...   \n",
       "115  Coffee & Tea, Restaurants, Food, Breakfast & B...   \n",
       "433                    Chinese, Fast Food, Restaurants   \n",
       "492  Mediterranean, Salad, Seafood, American (New),...   \n",
       "577                                  Restaurants, Thai   \n",
       "\n",
       "                                                 hours  \\\n",
       "83   {'Monday': '6:30-15:0', 'Tuesday': '6:30-15:0'...   \n",
       "115  {'Monday': '6:0-21:0', 'Tuesday': '6:0-21:0', ...   \n",
       "433  {'Monday': '10:30-21:30', 'Tuesday': '10:30-21...   \n",
       "492  {'Monday': '17:0-22:0', 'Tuesday': '17:0-22:0'...   \n",
       "577  {'Tuesday': '17:0-21:30', 'Wednesday': '17:0-2...   \n",
       "\n",
       "                                        sep_categories  \n",
       "83   [Breakfast & Brunch, Restaurants, American (Tr...  \n",
       "115  [Coffee & Tea, Restaurants, Food, Breakfast & ...  \n",
       "433                  [Chinese, Fast Food, Restaurants]  \n",
       "492  [Mediterranean, Salad, Seafood, American (New)...  \n",
       "577                                [Restaurants, Thai]  "
      ]
     },
     "execution_count": 4,
     "metadata": {},
     "output_type": "execute_result"
    }
   ],
   "source": [
    "ohio_restaurants.head()"
   ]
  },
  {
   "cell_type": "code",
   "execution_count": 5,
   "metadata": {},
   "outputs": [
    {
     "data": {
      "text/html": [
       "<div>\n",
       "<style scoped>\n",
       "    .dataframe tbody tr th:only-of-type {\n",
       "        vertical-align: middle;\n",
       "    }\n",
       "\n",
       "    .dataframe tbody tr th {\n",
       "        vertical-align: top;\n",
       "    }\n",
       "\n",
       "    .dataframe thead th {\n",
       "        text-align: right;\n",
       "    }\n",
       "</style>\n",
       "<table border=\"1\" class=\"dataframe\">\n",
       "  <thead>\n",
       "    <tr style=\"text-align: right;\">\n",
       "      <th></th>\n",
       "      <th>review_id</th>\n",
       "      <th>user_id</th>\n",
       "      <th>business_id</th>\n",
       "      <th>stars</th>\n",
       "      <th>useful</th>\n",
       "      <th>funny</th>\n",
       "      <th>cool</th>\n",
       "      <th>text</th>\n",
       "      <th>date</th>\n",
       "    </tr>\n",
       "  </thead>\n",
       "  <tbody>\n",
       "    <tr>\n",
       "      <th>0</th>\n",
       "      <td>LG2ZaYiOgpr2DK_90pYjNw</td>\n",
       "      <td>V34qejxNsCbcgD8C0HVk-Q</td>\n",
       "      <td>HQl28KMwrEKHqhFrrDqVNQ</td>\n",
       "      <td>5.0</td>\n",
       "      <td>1</td>\n",
       "      <td>0</td>\n",
       "      <td>0</td>\n",
       "      <td>I love Deagan's. I do. I really do. The atmosp...</td>\n",
       "      <td>2015-12-05 03:18:11</td>\n",
       "    </tr>\n",
       "    <tr>\n",
       "      <th>1</th>\n",
       "      <td>jCza0LPv1vNU0FF-NFMWQA</td>\n",
       "      <td>V34qejxNsCbcgD8C0HVk-Q</td>\n",
       "      <td>ErxACeMyF4hSQyGhpEt4Tw</td>\n",
       "      <td>5.0</td>\n",
       "      <td>1</td>\n",
       "      <td>1</td>\n",
       "      <td>1</td>\n",
       "      <td>This is definitely one of my favorite Thai res...</td>\n",
       "      <td>2019-12-04 14:09:06</td>\n",
       "    </tr>\n",
       "    <tr>\n",
       "      <th>2</th>\n",
       "      <td>14_N-s_7TsEpzgjnXJMu9Q</td>\n",
       "      <td>V34qejxNsCbcgD8C0HVk-Q</td>\n",
       "      <td>eoJfl5vG7X87QhcKb0nt5Q</td>\n",
       "      <td>4.0</td>\n",
       "      <td>4</td>\n",
       "      <td>1</td>\n",
       "      <td>3</td>\n",
       "      <td>This is exactly what you think it will be. A h...</td>\n",
       "      <td>2014-11-27 05:28:11</td>\n",
       "    </tr>\n",
       "    <tr>\n",
       "      <th>3</th>\n",
       "      <td>eE3ekstCj5dNcBJVsbOJBw</td>\n",
       "      <td>V34qejxNsCbcgD8C0HVk-Q</td>\n",
       "      <td>VH2BjFjc9usDquDgoHhptA</td>\n",
       "      <td>4.0</td>\n",
       "      <td>2</td>\n",
       "      <td>0</td>\n",
       "      <td>2</td>\n",
       "      <td>How exciting to have another great Barrio loca...</td>\n",
       "      <td>2015-02-11 03:05:31</td>\n",
       "    </tr>\n",
       "    <tr>\n",
       "      <th>4</th>\n",
       "      <td>B6-F7JQzRIiMQpphyPR3VA</td>\n",
       "      <td>V34qejxNsCbcgD8C0HVk-Q</td>\n",
       "      <td>0youcKV6-eE3F2MQj1l6Fw</td>\n",
       "      <td>4.0</td>\n",
       "      <td>1</td>\n",
       "      <td>0</td>\n",
       "      <td>1</td>\n",
       "      <td>I attended a group event here with about 80 pe...</td>\n",
       "      <td>2014-11-08 19:11:34</td>\n",
       "    </tr>\n",
       "  </tbody>\n",
       "</table>\n",
       "</div>"
      ],
      "text/plain": [
       "                review_id                 user_id             business_id  \\\n",
       "0  LG2ZaYiOgpr2DK_90pYjNw  V34qejxNsCbcgD8C0HVk-Q  HQl28KMwrEKHqhFrrDqVNQ   \n",
       "1  jCza0LPv1vNU0FF-NFMWQA  V34qejxNsCbcgD8C0HVk-Q  ErxACeMyF4hSQyGhpEt4Tw   \n",
       "2  14_N-s_7TsEpzgjnXJMu9Q  V34qejxNsCbcgD8C0HVk-Q  eoJfl5vG7X87QhcKb0nt5Q   \n",
       "3  eE3ekstCj5dNcBJVsbOJBw  V34qejxNsCbcgD8C0HVk-Q  VH2BjFjc9usDquDgoHhptA   \n",
       "4  B6-F7JQzRIiMQpphyPR3VA  V34qejxNsCbcgD8C0HVk-Q  0youcKV6-eE3F2MQj1l6Fw   \n",
       "\n",
       "   stars  useful  funny  cool  \\\n",
       "0    5.0       1      0     0   \n",
       "1    5.0       1      1     1   \n",
       "2    4.0       4      1     3   \n",
       "3    4.0       2      0     2   \n",
       "4    4.0       1      0     1   \n",
       "\n",
       "                                                text                 date  \n",
       "0  I love Deagan's. I do. I really do. The atmosp...  2015-12-05 03:18:11  \n",
       "1  This is definitely one of my favorite Thai res...  2019-12-04 14:09:06  \n",
       "2  This is exactly what you think it will be. A h...  2014-11-27 05:28:11  \n",
       "3  How exciting to have another great Barrio loca...  2015-02-11 03:05:31  \n",
       "4  I attended a group event here with about 80 pe...  2014-11-08 19:11:34  "
      ]
     },
     "execution_count": 5,
     "metadata": {},
     "output_type": "execute_result"
    }
   ],
   "source": [
    "imp_ohio_reviews.head()"
   ]
  },
  {
   "cell_type": "code",
   "execution_count": 6,
   "metadata": {},
   "outputs": [],
   "source": [
    "categories_list = ohio_restaurants['sep_categories'].values.flatten()\n",
    "categories_list = [item for sublist in categories_list for item in sublist]"
   ]
  },
  {
   "cell_type": "code",
   "execution_count": 7,
   "metadata": {},
   "outputs": [],
   "source": [
    "corpus = [ohio_restaurants['sep_categories'].iloc[i] for i in range(len(ohio_restaurants))]\n",
    "unique_categories = sorted(list(set(categories_list)))\n"
   ]
  },
  {
   "cell_type": "code",
   "execution_count": 8,
   "metadata": {},
   "outputs": [],
   "source": [
    "m = len(unique_categories)\n",
    "n = len(corpus)"
   ]
  },
  {
   "cell_type": "code",
   "execution_count": 9,
   "metadata": {},
   "outputs": [],
   "source": [
    "dict_category = Counter()\n",
    "for item in categories_list:\n",
    "    dict_category[item] += 1"
   ]
  },
  {
   "cell_type": "code",
   "execution_count": 10,
   "metadata": {},
   "outputs": [],
   "source": [
    "dict_category_sorted = sorted(dict_category.items(),key = lambda x: x[1],reverse = True)"
   ]
  },
  {
   "cell_type": "code",
   "execution_count": 11,
   "metadata": {},
   "outputs": [],
   "source": [
    "from sklearn import base\n",
    "\n",
    "class DictEncoder(base.BaseEstimator, base.TransformerMixin):\n",
    "    \n",
    "    def __init__(self, col):\n",
    "        self.col = col\n",
    "    \n",
    "    def fit(self, X, y=None):\n",
    "        return self\n",
    "    \n",
    "    def transform(self, X):\n",
    "        \n",
    "        def to_dict(l):\n",
    "            try:\n",
    "                return {x: 1 for x in l}\n",
    "            except TypeError:\n",
    "                return {}\n",
    "        \n",
    "        return X[self.col].apply(to_dict)"
   ]
  },
  {
   "cell_type": "code",
   "execution_count": 12,
   "metadata": {},
   "outputs": [],
   "source": [
    "from collections import Counter\n",
    "# col is a list of entries\n",
    "def count_vectorizer(col):    # custom countvectorizer\n",
    "    m = len(unique_categories)\n",
    "    lst = [None] * m\n",
    "    for i in range(m):\n",
    "        if unique_categories[i] in col:\n",
    "            lst[i] = 1\n",
    "        else:    \n",
    "            lst[i] = 0\n",
    "    return lst    \n",
    "\n",
    "# Function to check how many documents in the corpus contain the word\n",
    "def idf(word):\n",
    "    count = 0\n",
    "    n = len(corpus)\n",
    "    for i in range(n):\n",
    "        if word in corpus[i]:\n",
    "            count += 1\n",
    "    return count\n",
    "\n",
    "\n",
    "def tfidf_vectorizer(col):    # custom tfidfvectorizer\n",
    "    m = len(unique_categories)\n",
    "    lst = [None]*m\n",
    "    counter = Counter()\n",
    "    for word in col:\n",
    "        counter[word] += 1\n",
    "    for i in range(m):\n",
    "        if unique_categories[i] in col:\n",
    "            tf = counter[unique_categories[i]]/len(col)\n",
    "            inv_df = np.log((n + 1)/(idf(unique_categories[i]) + 1))\n",
    "            tfidf = tf*inv_df\n",
    "            lst[i] = tfidf\n",
    "        else:\n",
    "            lst[i] = 0\n",
    "    return lst"
   ]
  },
  {
   "cell_type": "code",
   "execution_count": 13,
   "metadata": {},
   "outputs": [
    {
     "data": {
      "text/html": [
       "<div>\n",
       "<style scoped>\n",
       "    .dataframe tbody tr th:only-of-type {\n",
       "        vertical-align: middle;\n",
       "    }\n",
       "\n",
       "    .dataframe tbody tr th {\n",
       "        vertical-align: top;\n",
       "    }\n",
       "\n",
       "    .dataframe thead th {\n",
       "        text-align: right;\n",
       "    }\n",
       "</style>\n",
       "<table border=\"1\" class=\"dataframe\">\n",
       "  <thead>\n",
       "    <tr style=\"text-align: right;\">\n",
       "      <th></th>\n",
       "      <th>review_id</th>\n",
       "      <th>user_id</th>\n",
       "      <th>business_id</th>\n",
       "      <th>stars</th>\n",
       "      <th>useful</th>\n",
       "      <th>funny</th>\n",
       "      <th>cool</th>\n",
       "      <th>text</th>\n",
       "      <th>date</th>\n",
       "    </tr>\n",
       "  </thead>\n",
       "  <tbody>\n",
       "    <tr>\n",
       "      <th>0</th>\n",
       "      <td>LG2ZaYiOgpr2DK_90pYjNw</td>\n",
       "      <td>V34qejxNsCbcgD8C0HVk-Q</td>\n",
       "      <td>HQl28KMwrEKHqhFrrDqVNQ</td>\n",
       "      <td>5.0</td>\n",
       "      <td>1</td>\n",
       "      <td>0</td>\n",
       "      <td>0</td>\n",
       "      <td>I love Deagan's. I do. I really do. The atmosp...</td>\n",
       "      <td>2015-12-05 03:18:11</td>\n",
       "    </tr>\n",
       "    <tr>\n",
       "      <th>1</th>\n",
       "      <td>jCza0LPv1vNU0FF-NFMWQA</td>\n",
       "      <td>V34qejxNsCbcgD8C0HVk-Q</td>\n",
       "      <td>ErxACeMyF4hSQyGhpEt4Tw</td>\n",
       "      <td>5.0</td>\n",
       "      <td>1</td>\n",
       "      <td>1</td>\n",
       "      <td>1</td>\n",
       "      <td>This is definitely one of my favorite Thai res...</td>\n",
       "      <td>2019-12-04 14:09:06</td>\n",
       "    </tr>\n",
       "    <tr>\n",
       "      <th>2</th>\n",
       "      <td>14_N-s_7TsEpzgjnXJMu9Q</td>\n",
       "      <td>V34qejxNsCbcgD8C0HVk-Q</td>\n",
       "      <td>eoJfl5vG7X87QhcKb0nt5Q</td>\n",
       "      <td>4.0</td>\n",
       "      <td>4</td>\n",
       "      <td>1</td>\n",
       "      <td>3</td>\n",
       "      <td>This is exactly what you think it will be. A h...</td>\n",
       "      <td>2014-11-27 05:28:11</td>\n",
       "    </tr>\n",
       "    <tr>\n",
       "      <th>3</th>\n",
       "      <td>eE3ekstCj5dNcBJVsbOJBw</td>\n",
       "      <td>V34qejxNsCbcgD8C0HVk-Q</td>\n",
       "      <td>VH2BjFjc9usDquDgoHhptA</td>\n",
       "      <td>4.0</td>\n",
       "      <td>2</td>\n",
       "      <td>0</td>\n",
       "      <td>2</td>\n",
       "      <td>How exciting to have another great Barrio loca...</td>\n",
       "      <td>2015-02-11 03:05:31</td>\n",
       "    </tr>\n",
       "    <tr>\n",
       "      <th>4</th>\n",
       "      <td>B6-F7JQzRIiMQpphyPR3VA</td>\n",
       "      <td>V34qejxNsCbcgD8C0HVk-Q</td>\n",
       "      <td>0youcKV6-eE3F2MQj1l6Fw</td>\n",
       "      <td>4.0</td>\n",
       "      <td>1</td>\n",
       "      <td>0</td>\n",
       "      <td>1</td>\n",
       "      <td>I attended a group event here with about 80 pe...</td>\n",
       "      <td>2014-11-08 19:11:34</td>\n",
       "    </tr>\n",
       "  </tbody>\n",
       "</table>\n",
       "</div>"
      ],
      "text/plain": [
       "                review_id                 user_id             business_id  \\\n",
       "0  LG2ZaYiOgpr2DK_90pYjNw  V34qejxNsCbcgD8C0HVk-Q  HQl28KMwrEKHqhFrrDqVNQ   \n",
       "1  jCza0LPv1vNU0FF-NFMWQA  V34qejxNsCbcgD8C0HVk-Q  ErxACeMyF4hSQyGhpEt4Tw   \n",
       "2  14_N-s_7TsEpzgjnXJMu9Q  V34qejxNsCbcgD8C0HVk-Q  eoJfl5vG7X87QhcKb0nt5Q   \n",
       "3  eE3ekstCj5dNcBJVsbOJBw  V34qejxNsCbcgD8C0HVk-Q  VH2BjFjc9usDquDgoHhptA   \n",
       "4  B6-F7JQzRIiMQpphyPR3VA  V34qejxNsCbcgD8C0HVk-Q  0youcKV6-eE3F2MQj1l6Fw   \n",
       "\n",
       "   stars  useful  funny  cool  \\\n",
       "0    5.0       1      0     0   \n",
       "1    5.0       1      1     1   \n",
       "2    4.0       4      1     3   \n",
       "3    4.0       2      0     2   \n",
       "4    4.0       1      0     1   \n",
       "\n",
       "                                                text                 date  \n",
       "0  I love Deagan's. I do. I really do. The atmosp...  2015-12-05 03:18:11  \n",
       "1  This is definitely one of my favorite Thai res...  2019-12-04 14:09:06  \n",
       "2  This is exactly what you think it will be. A h...  2014-11-27 05:28:11  \n",
       "3  How exciting to have another great Barrio loca...  2015-02-11 03:05:31  \n",
       "4  I attended a group event here with about 80 pe...  2014-11-08 19:11:34  "
      ]
     },
     "execution_count": 13,
     "metadata": {},
     "output_type": "execute_result"
    }
   ],
   "source": [
    "imp_ohio_reviews.head()"
   ]
  },
  {
   "cell_type": "code",
   "execution_count": 14,
   "metadata": {},
   "outputs": [],
   "source": [
    "ohio_categorywise = ohio_restaurants[['business_id','stars','sep_categories']]"
   ]
  },
  {
   "cell_type": "code",
   "execution_count": 15,
   "metadata": {},
   "outputs": [],
   "source": [
    "imp_ohio_reviews = imp_ohio_reviews.merge(ohio_categorywise)"
   ]
  },
  {
   "cell_type": "code",
   "execution_count": null,
   "metadata": {},
   "outputs": [],
   "source": []
  },
  {
   "cell_type": "code",
   "execution_count": null,
   "metadata": {},
   "outputs": [],
   "source": []
  },
  {
   "cell_type": "code",
   "execution_count": 16,
   "metadata": {},
   "outputs": [
    {
     "data": {
      "text/html": [
       "<div>\n",
       "<style scoped>\n",
       "    .dataframe tbody tr th:only-of-type {\n",
       "        vertical-align: middle;\n",
       "    }\n",
       "\n",
       "    .dataframe tbody tr th {\n",
       "        vertical-align: top;\n",
       "    }\n",
       "\n",
       "    .dataframe thead th {\n",
       "        text-align: right;\n",
       "    }\n",
       "</style>\n",
       "<table border=\"1\" class=\"dataframe\">\n",
       "  <thead>\n",
       "    <tr style=\"text-align: right;\">\n",
       "      <th></th>\n",
       "      <th>review_id</th>\n",
       "      <th>user_id</th>\n",
       "      <th>business_id</th>\n",
       "      <th>stars</th>\n",
       "      <th>useful</th>\n",
       "      <th>funny</th>\n",
       "      <th>cool</th>\n",
       "      <th>text</th>\n",
       "      <th>date</th>\n",
       "      <th>sep_categories</th>\n",
       "    </tr>\n",
       "  </thead>\n",
       "  <tbody>\n",
       "    <tr>\n",
       "      <th>0</th>\n",
       "      <td>eE3ekstCj5dNcBJVsbOJBw</td>\n",
       "      <td>V34qejxNsCbcgD8C0HVk-Q</td>\n",
       "      <td>VH2BjFjc9usDquDgoHhptA</td>\n",
       "      <td>4.0</td>\n",
       "      <td>2</td>\n",
       "      <td>0</td>\n",
       "      <td>2</td>\n",
       "      <td>How exciting to have another great Barrio loca...</td>\n",
       "      <td>2015-02-11 03:05:31</td>\n",
       "      <td>[Restaurants, Breakfast &amp; Brunch, Mexican, Nig...</td>\n",
       "    </tr>\n",
       "    <tr>\n",
       "      <th>1</th>\n",
       "      <td>9RIlb-Awn4B4Cdv7hfL9Hg</td>\n",
       "      <td>sxEzazybwfF86Mv8Dm3tgw</td>\n",
       "      <td>VH2BjFjc9usDquDgoHhptA</td>\n",
       "      <td>4.0</td>\n",
       "      <td>1</td>\n",
       "      <td>0</td>\n",
       "      <td>0</td>\n",
       "      <td>Fun, fun place!  It's just the perfect food-wi...</td>\n",
       "      <td>2016-12-04 14:15:43</td>\n",
       "      <td>[Restaurants, Breakfast &amp; Brunch, Mexican, Nig...</td>\n",
       "    </tr>\n",
       "    <tr>\n",
       "      <th>2</th>\n",
       "      <td>V18bxL_rnoPltBZhthORYA</td>\n",
       "      <td>v35r6tj4TjIsON7Z1xE4yA</td>\n",
       "      <td>VH2BjFjc9usDquDgoHhptA</td>\n",
       "      <td>4.0</td>\n",
       "      <td>0</td>\n",
       "      <td>0</td>\n",
       "      <td>0</td>\n",
       "      <td>So effing good. Super cheap too. Did the build...</td>\n",
       "      <td>2015-12-15 01:46:39</td>\n",
       "      <td>[Restaurants, Breakfast &amp; Brunch, Mexican, Nig...</td>\n",
       "    </tr>\n",
       "    <tr>\n",
       "      <th>3</th>\n",
       "      <td>ee7s14ESTjHfhbXEAl1_yw</td>\n",
       "      <td>p0lnRfBorJW2HzkzoLyymQ</td>\n",
       "      <td>VH2BjFjc9usDquDgoHhptA</td>\n",
       "      <td>4.0</td>\n",
       "      <td>0</td>\n",
       "      <td>0</td>\n",
       "      <td>0</td>\n",
       "      <td>Heading into Cleveland for the first time, we ...</td>\n",
       "      <td>2017-11-08 15:13:13</td>\n",
       "      <td>[Restaurants, Breakfast &amp; Brunch, Mexican, Nig...</td>\n",
       "    </tr>\n",
       "    <tr>\n",
       "      <th>4</th>\n",
       "      <td>raOFF3dORMPZ81RI5zh1Wg</td>\n",
       "      <td>ILk5Y4wPNW-7y0_As-xI6A</td>\n",
       "      <td>VH2BjFjc9usDquDgoHhptA</td>\n",
       "      <td>4.0</td>\n",
       "      <td>4</td>\n",
       "      <td>0</td>\n",
       "      <td>1</td>\n",
       "      <td>Hot dogs are to Happy Dog as tacos are to Barr...</td>\n",
       "      <td>2015-02-10 03:53:51</td>\n",
       "      <td>[Restaurants, Breakfast &amp; Brunch, Mexican, Nig...</td>\n",
       "    </tr>\n",
       "  </tbody>\n",
       "</table>\n",
       "</div>"
      ],
      "text/plain": [
       "                review_id                 user_id             business_id  \\\n",
       "0  eE3ekstCj5dNcBJVsbOJBw  V34qejxNsCbcgD8C0HVk-Q  VH2BjFjc9usDquDgoHhptA   \n",
       "1  9RIlb-Awn4B4Cdv7hfL9Hg  sxEzazybwfF86Mv8Dm3tgw  VH2BjFjc9usDquDgoHhptA   \n",
       "2  V18bxL_rnoPltBZhthORYA  v35r6tj4TjIsON7Z1xE4yA  VH2BjFjc9usDquDgoHhptA   \n",
       "3  ee7s14ESTjHfhbXEAl1_yw  p0lnRfBorJW2HzkzoLyymQ  VH2BjFjc9usDquDgoHhptA   \n",
       "4  raOFF3dORMPZ81RI5zh1Wg  ILk5Y4wPNW-7y0_As-xI6A  VH2BjFjc9usDquDgoHhptA   \n",
       "\n",
       "   stars  useful  funny  cool  \\\n",
       "0    4.0       2      0     2   \n",
       "1    4.0       1      0     0   \n",
       "2    4.0       0      0     0   \n",
       "3    4.0       0      0     0   \n",
       "4    4.0       4      0     1   \n",
       "\n",
       "                                                text                 date  \\\n",
       "0  How exciting to have another great Barrio loca...  2015-02-11 03:05:31   \n",
       "1  Fun, fun place!  It's just the perfect food-wi...  2016-12-04 14:15:43   \n",
       "2  So effing good. Super cheap too. Did the build...  2015-12-15 01:46:39   \n",
       "3  Heading into Cleveland for the first time, we ...  2017-11-08 15:13:13   \n",
       "4  Hot dogs are to Happy Dog as tacos are to Barr...  2015-02-10 03:53:51   \n",
       "\n",
       "                                      sep_categories  \n",
       "0  [Restaurants, Breakfast & Brunch, Mexican, Nig...  \n",
       "1  [Restaurants, Breakfast & Brunch, Mexican, Nig...  \n",
       "2  [Restaurants, Breakfast & Brunch, Mexican, Nig...  \n",
       "3  [Restaurants, Breakfast & Brunch, Mexican, Nig...  \n",
       "4  [Restaurants, Breakfast & Brunch, Mexican, Nig...  "
      ]
     },
     "execution_count": 16,
     "metadata": {},
     "output_type": "execute_result"
    }
   ],
   "source": [
    "imp_ohio_reviews.head()"
   ]
  },
  {
   "cell_type": "code",
   "execution_count": 17,
   "metadata": {},
   "outputs": [],
   "source": [
    "imp_ohio_reviews['lst_stars'] = imp_ohio_reviews['stars'].apply(lambda x: [x])"
   ]
  },
  {
   "cell_type": "code",
   "execution_count": 18,
   "metadata": {},
   "outputs": [],
   "source": [
    "imp_ohio_reviews['count_vect'] = imp_ohio_reviews['sep_categories'].apply(count_vectorizer)\n",
    "imp_ohio_reviews['tfidf_vect'] = imp_ohio_reviews['sep_categories'].apply(tfidf_vectorizer)\n"
   ]
  },
  {
   "cell_type": "code",
   "execution_count": 19,
   "metadata": {},
   "outputs": [],
   "source": [
    "imp_ohio_reviews['values_cnt'] = imp_ohio_reviews['lst_stars'] + imp_ohio_reviews['count_vect']\n",
    "imp_ohio_reviews['values_tfidf'] = imp_ohio_reviews['lst_stars'] + imp_ohio_reviews['tfidf_vect']"
   ]
  },
  {
   "cell_type": "markdown",
   "metadata": {},
   "source": [
    "### Let's pick a category to test"
   ]
  },
  {
   "cell_type": "code",
   "execution_count": 99,
   "metadata": {},
   "outputs": [],
   "source": [
    "category = 'Indian'"
   ]
  },
  {
   "cell_type": "code",
   "execution_count": 110,
   "metadata": {},
   "outputs": [
    {
     "data": {
      "text/html": [
       "<div>\n",
       "<style scoped>\n",
       "    .dataframe tbody tr th:only-of-type {\n",
       "        vertical-align: middle;\n",
       "    }\n",
       "\n",
       "    .dataframe tbody tr th {\n",
       "        vertical-align: top;\n",
       "    }\n",
       "\n",
       "    .dataframe thead th {\n",
       "        text-align: right;\n",
       "    }\n",
       "</style>\n",
       "<table border=\"1\" class=\"dataframe\">\n",
       "  <thead>\n",
       "    <tr style=\"text-align: right;\">\n",
       "      <th></th>\n",
       "      <th>review_id</th>\n",
       "      <th>user_id</th>\n",
       "      <th>business_id</th>\n",
       "      <th>stars</th>\n",
       "      <th>text</th>\n",
       "      <th>date</th>\n",
       "      <th>sep_categories</th>\n",
       "      <th>lst_stars</th>\n",
       "      <th>count_vect</th>\n",
       "      <th>tfidf_vect</th>\n",
       "      <th>values_cnt</th>\n",
       "      <th>values_tfidf</th>\n",
       "      <th>clean_text</th>\n",
       "    </tr>\n",
       "  </thead>\n",
       "  <tbody>\n",
       "    <tr>\n",
       "      <th>2202</th>\n",
       "      <td>skpu0gIwu_cTteh8KXJeDw</td>\n",
       "      <td>wDS2IgK5uTgx-NXum8jPBw</td>\n",
       "      <td>ScdtR67jO-p_ZIpVbZPRfw</td>\n",
       "      <td>4.0</td>\n",
       "      <td>Before coming here I had never had Indian food...</td>\n",
       "      <td>2019-03-23 22:06:32</td>\n",
       "      <td>[Restaurants, Pakistani, Indian, Vegetarian, V...</td>\n",
       "      <td>[4.0]</td>\n",
       "      <td>[0, 0, 0, 0, 0, 0, 0, 0, 0, 0, 0, 0, 0, 0, 0, ...</td>\n",
       "      <td>[0, 0, 0, 0, 0, 0, 0, 0, 0, 0, 0, 0, 0, 0, 0, ...</td>\n",
       "      <td>[4.0, 0, 0, 0, 0, 0, 0, 0, 0, 0, 0, 0, 0, 0, 0...</td>\n",
       "      <td>[4.0, 0, 0, 0, 0, 0, 0, 0, 0, 0, 0, 0, 0, 0, 0...</td>\n",
       "      <td>coming never indian food before friend brought...</td>\n",
       "    </tr>\n",
       "    <tr>\n",
       "      <th>2203</th>\n",
       "      <td>y35iDDIHmO8td29RGVdKXw</td>\n",
       "      <td>lEw2VL9JCDFk3R5NzahqnA</td>\n",
       "      <td>ScdtR67jO-p_ZIpVbZPRfw</td>\n",
       "      <td>4.0</td>\n",
       "      <td>I'm a true omnivore, but I could be a really h...</td>\n",
       "      <td>2011-06-30 22:42:35</td>\n",
       "      <td>[Restaurants, Pakistani, Indian, Vegetarian, V...</td>\n",
       "      <td>[4.0]</td>\n",
       "      <td>[0, 0, 0, 0, 0, 0, 0, 0, 0, 0, 0, 0, 0, 0, 0, ...</td>\n",
       "      <td>[0, 0, 0, 0, 0, 0, 0, 0, 0, 0, 0, 0, 0, 0, 0, ...</td>\n",
       "      <td>[4.0, 0, 0, 0, 0, 0, 0, 0, 0, 0, 0, 0, 0, 0, 0...</td>\n",
       "      <td>[4.0, 0, 0, 0, 0, 0, 0, 0, 0, 0, 0, 0, 0, 0, 0...</td>\n",
       "      <td>i am true omnivore could really happy vegetari...</td>\n",
       "    </tr>\n",
       "  </tbody>\n",
       "</table>\n",
       "</div>"
      ],
      "text/plain": [
       "                   review_id                 user_id             business_id  \\\n",
       "2202  skpu0gIwu_cTteh8KXJeDw  wDS2IgK5uTgx-NXum8jPBw  ScdtR67jO-p_ZIpVbZPRfw   \n",
       "2203  y35iDDIHmO8td29RGVdKXw  lEw2VL9JCDFk3R5NzahqnA  ScdtR67jO-p_ZIpVbZPRfw   \n",
       "\n",
       "      stars                                               text  \\\n",
       "2202    4.0  Before coming here I had never had Indian food...   \n",
       "2203    4.0  I'm a true omnivore, but I could be a really h...   \n",
       "\n",
       "                    date                                     sep_categories  \\\n",
       "2202 2019-03-23 22:06:32  [Restaurants, Pakistani, Indian, Vegetarian, V...   \n",
       "2203 2011-06-30 22:42:35  [Restaurants, Pakistani, Indian, Vegetarian, V...   \n",
       "\n",
       "     lst_stars                                         count_vect  \\\n",
       "2202     [4.0]  [0, 0, 0, 0, 0, 0, 0, 0, 0, 0, 0, 0, 0, 0, 0, ...   \n",
       "2203     [4.0]  [0, 0, 0, 0, 0, 0, 0, 0, 0, 0, 0, 0, 0, 0, 0, ...   \n",
       "\n",
       "                                             tfidf_vect  \\\n",
       "2202  [0, 0, 0, 0, 0, 0, 0, 0, 0, 0, 0, 0, 0, 0, 0, ...   \n",
       "2203  [0, 0, 0, 0, 0, 0, 0, 0, 0, 0, 0, 0, 0, 0, 0, ...   \n",
       "\n",
       "                                             values_cnt  \\\n",
       "2202  [4.0, 0, 0, 0, 0, 0, 0, 0, 0, 0, 0, 0, 0, 0, 0...   \n",
       "2203  [4.0, 0, 0, 0, 0, 0, 0, 0, 0, 0, 0, 0, 0, 0, 0...   \n",
       "\n",
       "                                           values_tfidf  \\\n",
       "2202  [4.0, 0, 0, 0, 0, 0, 0, 0, 0, 0, 0, 0, 0, 0, 0...   \n",
       "2203  [4.0, 0, 0, 0, 0, 0, 0, 0, 0, 0, 0, 0, 0, 0, 0...   \n",
       "\n",
       "                                             clean_text  \n",
       "2202  coming never indian food before friend brought...  \n",
       "2203  i am true omnivore could really happy vegetari...  "
      ]
     },
     "execution_count": 110,
     "metadata": {},
     "output_type": "execute_result"
    }
   ],
   "source": [
    "imp_ohio_reviews[imp_ohio_reviews['sep_categories'].apply(lambda x: True if category in x else False)].head(2)"
   ]
  },
  {
   "cell_type": "code",
   "execution_count": 102,
   "metadata": {},
   "outputs": [],
   "source": [
    "indian_restaurants  = imp_ohio_reviews[imp_ohio_reviews['sep_categories'].apply(lambda x: True if category in x else False)]"
   ]
  },
  {
   "cell_type": "code",
   "execution_count": 130,
   "metadata": {},
   "outputs": [],
   "source": [
    "top_5_ind_rest = indian_restaurants[['business_id','stars']].groupby('business_id').mean().sort_values(by=['stars'],ascending=False)[:10].index.tolist()"
   ]
  },
  {
   "cell_type": "code",
   "execution_count": 132,
   "metadata": {},
   "outputs": [],
   "source": [
    "top_indian_restaurants = ohio_restaurants[ohio_restaurants['business_id'].apply(lambda x: True if x in top_5_ind_rest else False)]"
   ]
  },
  {
   "cell_type": "code",
   "execution_count": 138,
   "metadata": {},
   "outputs": [
    {
     "data": {
      "text/html": [
       "<div>\n",
       "<style scoped>\n",
       "    .dataframe tbody tr th:only-of-type {\n",
       "        vertical-align: middle;\n",
       "    }\n",
       "\n",
       "    .dataframe tbody tr th {\n",
       "        vertical-align: top;\n",
       "    }\n",
       "\n",
       "    .dataframe thead th {\n",
       "        text-align: right;\n",
       "    }\n",
       "</style>\n",
       "<table border=\"1\" class=\"dataframe\">\n",
       "  <thead>\n",
       "    <tr style=\"text-align: right;\">\n",
       "      <th></th>\n",
       "      <th>business_id</th>\n",
       "      <th>name</th>\n",
       "      <th>address</th>\n",
       "      <th>city</th>\n",
       "      <th>state</th>\n",
       "      <th>postal_code</th>\n",
       "      <th>latitude</th>\n",
       "      <th>longitude</th>\n",
       "      <th>stars</th>\n",
       "      <th>review_count</th>\n",
       "      <th>is_open</th>\n",
       "      <th>attributes</th>\n",
       "      <th>categories</th>\n",
       "      <th>hours</th>\n",
       "      <th>sep_categories</th>\n",
       "    </tr>\n",
       "  </thead>\n",
       "  <tbody>\n",
       "    <tr>\n",
       "      <th>69360</th>\n",
       "      <td>7xfeQhen2wLnvFuQNvmTAg</td>\n",
       "      <td>Tandul</td>\n",
       "      <td>2505 Professor Ave</td>\n",
       "      <td>Cleveland</td>\n",
       "      <td>OH</td>\n",
       "      <td>44113</td>\n",
       "      <td>41.477919</td>\n",
       "      <td>-81.682580</td>\n",
       "      <td>4.0</td>\n",
       "      <td>194</td>\n",
       "      <td>1</td>\n",
       "      <td>{'Smoking': 'u'outdoor'', 'WiFi': 'u'no'', 'Al...</td>\n",
       "      <td>Nightlife, Indian, Buffets, Restaurants, Bars</td>\n",
       "      <td>{'Monday': '14:0-22:0', 'Tuesday': '14:0-22:0'...</td>\n",
       "      <td>[Nightlife, Indian, Buffets, Restaurants, Bars]</td>\n",
       "    </tr>\n",
       "    <tr>\n",
       "      <th>76010</th>\n",
       "      <td>1v9TVINzMod7JfSQI7Aayw</td>\n",
       "      <td>Bombaychaat</td>\n",
       "      <td>2044 Euclid Ave</td>\n",
       "      <td>Cleveland</td>\n",
       "      <td>OH</td>\n",
       "      <td>44114</td>\n",
       "      <td>41.501403</td>\n",
       "      <td>-81.675836</td>\n",
       "      <td>4.0</td>\n",
       "      <td>128</td>\n",
       "      <td>1</td>\n",
       "      <td>{'NoiseLevel': 'u'average'', 'GoodForMeal': '{...</td>\n",
       "      <td>Halal, Fast Food, Ethnic Food, Indian, Food, R...</td>\n",
       "      <td>{'Monday': '11:0-22:0', 'Tuesday': '11:0-22:0'...</td>\n",
       "      <td>[Halal, Fast Food, Ethnic Food, Indian, Food, ...</td>\n",
       "    </tr>\n",
       "    <tr>\n",
       "      <th>97874</th>\n",
       "      <td>-z_DR7omzpcR__l7MbDu0A</td>\n",
       "      <td>Paradise Biryani Pointe</td>\n",
       "      <td>6679 Wilson Mills Rd</td>\n",
       "      <td>Gates Mills</td>\n",
       "      <td>OH</td>\n",
       "      <td>44040</td>\n",
       "      <td>41.539657</td>\n",
       "      <td>-81.437713</td>\n",
       "      <td>4.0</td>\n",
       "      <td>71</td>\n",
       "      <td>1</td>\n",
       "      <td>{'WiFi': ''no'', 'GoodForKids': 'True', 'HasTV...</td>\n",
       "      <td>Restaurants, Indian</td>\n",
       "      <td>{'Monday': '0:0-0:0', 'Tuesday': '17:30-22:0',...</td>\n",
       "      <td>[Restaurants, Indian]</td>\n",
       "    </tr>\n",
       "    <tr>\n",
       "      <th>99789</th>\n",
       "      <td>5z0qD9Qftputpv37VjFJPQ</td>\n",
       "      <td>Pari Indian Cuisine</td>\n",
       "      <td>12775 Chillicothe Rd</td>\n",
       "      <td>Chesterland</td>\n",
       "      <td>OH</td>\n",
       "      <td>44026</td>\n",
       "      <td>41.521203</td>\n",
       "      <td>-81.337234</td>\n",
       "      <td>4.0</td>\n",
       "      <td>84</td>\n",
       "      <td>1</td>\n",
       "      <td>{'GoodForMeal': '{'dessert': False, 'latenight...</td>\n",
       "      <td>Restaurants, Indian</td>\n",
       "      <td>{'Monday': '17:0-21:30', 'Tuesday': '17:0-21:3...</td>\n",
       "      <td>[Restaurants, Indian]</td>\n",
       "    </tr>\n",
       "    <tr>\n",
       "      <th>127061</th>\n",
       "      <td>KcxNZlw2arK3jCX3-YV9TQ</td>\n",
       "      <td>Jaipur Junction</td>\n",
       "      <td>180 W Streetsboro St, Ste 5</td>\n",
       "      <td>Hudson</td>\n",
       "      <td>OH</td>\n",
       "      <td>44236</td>\n",
       "      <td>41.238594</td>\n",
       "      <td>-81.449626</td>\n",
       "      <td>4.0</td>\n",
       "      <td>113</td>\n",
       "      <td>1</td>\n",
       "      <td>{'RestaurantsPriceRange2': '2', 'RestaurantsAt...</td>\n",
       "      <td>Indian, Restaurants</td>\n",
       "      <td>{'Monday': '17:0-22:0', 'Tuesday': '17:0-22:0'...</td>\n",
       "      <td>[Indian, Restaurants]</td>\n",
       "    </tr>\n",
       "  </tbody>\n",
       "</table>\n",
       "</div>"
      ],
      "text/plain": [
       "                   business_id                     name  \\\n",
       "69360   7xfeQhen2wLnvFuQNvmTAg                   Tandul   \n",
       "76010   1v9TVINzMod7JfSQI7Aayw              Bombaychaat   \n",
       "97874   -z_DR7omzpcR__l7MbDu0A  Paradise Biryani Pointe   \n",
       "99789   5z0qD9Qftputpv37VjFJPQ      Pari Indian Cuisine   \n",
       "127061  KcxNZlw2arK3jCX3-YV9TQ          Jaipur Junction   \n",
       "\n",
       "                            address         city state postal_code   latitude  \\\n",
       "69360            2505 Professor Ave    Cleveland    OH       44113  41.477919   \n",
       "76010               2044 Euclid Ave    Cleveland    OH       44114  41.501403   \n",
       "97874          6679 Wilson Mills Rd  Gates Mills    OH       44040  41.539657   \n",
       "99789          12775 Chillicothe Rd  Chesterland    OH       44026  41.521203   \n",
       "127061  180 W Streetsboro St, Ste 5       Hudson    OH       44236  41.238594   \n",
       "\n",
       "        longitude  stars  review_count  is_open  \\\n",
       "69360  -81.682580    4.0           194        1   \n",
       "76010  -81.675836    4.0           128        1   \n",
       "97874  -81.437713    4.0            71        1   \n",
       "99789  -81.337234    4.0            84        1   \n",
       "127061 -81.449626    4.0           113        1   \n",
       "\n",
       "                                               attributes  \\\n",
       "69360   {'Smoking': 'u'outdoor'', 'WiFi': 'u'no'', 'Al...   \n",
       "76010   {'NoiseLevel': 'u'average'', 'GoodForMeal': '{...   \n",
       "97874   {'WiFi': ''no'', 'GoodForKids': 'True', 'HasTV...   \n",
       "99789   {'GoodForMeal': '{'dessert': False, 'latenight...   \n",
       "127061  {'RestaurantsPriceRange2': '2', 'RestaurantsAt...   \n",
       "\n",
       "                                               categories  \\\n",
       "69360       Nightlife, Indian, Buffets, Restaurants, Bars   \n",
       "76010   Halal, Fast Food, Ethnic Food, Indian, Food, R...   \n",
       "97874                                 Restaurants, Indian   \n",
       "99789                                 Restaurants, Indian   \n",
       "127061                                Indian, Restaurants   \n",
       "\n",
       "                                                    hours  \\\n",
       "69360   {'Monday': '14:0-22:0', 'Tuesday': '14:0-22:0'...   \n",
       "76010   {'Monday': '11:0-22:0', 'Tuesday': '11:0-22:0'...   \n",
       "97874   {'Monday': '0:0-0:0', 'Tuesday': '17:30-22:0',...   \n",
       "99789   {'Monday': '17:0-21:30', 'Tuesday': '17:0-21:3...   \n",
       "127061  {'Monday': '17:0-22:0', 'Tuesday': '17:0-22:0'...   \n",
       "\n",
       "                                           sep_categories  \n",
       "69360     [Nightlife, Indian, Buffets, Restaurants, Bars]  \n",
       "76010   [Halal, Fast Food, Ethnic Food, Indian, Food, ...  \n",
       "97874                               [Restaurants, Indian]  \n",
       "99789                               [Restaurants, Indian]  \n",
       "127061                              [Indian, Restaurants]  "
      ]
     },
     "execution_count": 138,
     "metadata": {},
     "output_type": "execute_result"
    }
   ],
   "source": [
    "top_indian_restaurants.head()"
   ]
  },
  {
   "cell_type": "code",
   "execution_count": null,
   "metadata": {},
   "outputs": [],
   "source": []
  },
  {
   "cell_type": "markdown",
   "metadata": {},
   "source": [
    "### Let's wrap it into a function"
   ]
  },
  {
   "cell_type": "code",
   "execution_count": 255,
   "metadata": {},
   "outputs": [],
   "source": [
    "try_categories_list = [item[0] for item in dict_category_sorted[:55]]"
   ]
  },
  {
   "cell_type": "code",
   "execution_count": 256,
   "metadata": {},
   "outputs": [],
   "source": [
    "try_categories_list.remove('Restaurants')\n",
    "try_categories_list.remove('Food')"
   ]
  },
  {
   "cell_type": "code",
   "execution_count": 251,
   "metadata": {},
   "outputs": [],
   "source": [
    "def get_popular_restaurants(df,categories_list):\n",
    "    \n",
    "    store_restaurants = []\n",
    "    \n",
    "    df_rest = pd.DataFrame(columns=ohio_restaurants.columns)\n",
    "    for category in categories_list:        \n",
    "        category_restaurants = df[df['sep_categories'].apply(lambda x: True if category in x else False)]\n",
    "        rest_list = category_restaurants[['business_id','stars']].groupby('business_id').mean().sort_values(by=['stars'],ascending=False).index.tolist()\n",
    "        df_categ = ohio_restaurants[ohio_restaurants['business_id'].apply(lambda x: True if x in rest_list else False)]\n",
    "        df_rest = pd.concat([df_rest,df_categ])  \n",
    "    for index,row in df_rest.iterrows():\n",
    "        restaurant_details = {}\n",
    "        restaurant_details['Name'] = row['name']\n",
    "        restaurant_details['Address'] = row['address']\n",
    "        restaurant_details['Zip Code'] = row['postal_code']\n",
    "        restaurant_details['Latitude'] = row['latitude']\n",
    "        restaurant_details['Longitude'] = row['longitude']\n",
    "        \n",
    "        restaurant_details['Category'] = row['sep_categories']\n",
    "        restaurant_details['Stars'] = row['stars']\n",
    "#         restaurant_details['additional_details'] = row['attributes']\n",
    "        store_restaurants.append(restaurant_details)\n",
    "    return sorted(store_restaurants,key = lambda x: x['Stars'],reverse=True)"
   ]
  },
  {
   "cell_type": "code",
   "execution_count": 354,
   "metadata": {},
   "outputs": [
    {
     "data": {
      "text/plain": [
       "['Nightlife',\n",
       " 'Bars',\n",
       " 'American (Traditional)',\n",
       " 'American (New)',\n",
       " 'Sandwiches',\n",
       " 'Italian',\n",
       " 'Breakfast & Brunch',\n",
       " 'Pizza',\n",
       " 'Burgers',\n",
       " 'Seafood',\n",
       " 'Event Planning & Services',\n",
       " 'Mexican',\n",
       " 'Salad',\n",
       " 'Pubs',\n",
       " 'Steakhouses',\n",
       " 'Caterers',\n",
       " 'Sports Bars',\n",
       " 'Japanese',\n",
       " 'Sushi Bars',\n",
       " 'Beer',\n",
       " 'Wine & Spirits',\n",
       " 'Wine Bars',\n",
       " 'Chinese',\n",
       " 'Fast Food',\n",
       " 'Cocktail Bars',\n",
       " 'Desserts',\n",
       " 'Diners',\n",
       " 'Mediterranean',\n",
       " 'Asian Fusion',\n",
       " 'Barbeque',\n",
       " 'Coffee & Tea',\n",
       " 'Thai',\n",
       " 'Cafes',\n",
       " 'Chicken Wings',\n",
       " 'Specialty Food',\n",
       " 'Delis',\n",
       " 'Vegetarian',\n",
       " 'Bakeries',\n",
       " 'Middle Eastern',\n",
       " 'Gluten-Free',\n",
       " 'Arts & Entertainment',\n",
       " 'Soup',\n",
       " 'Gastropubs',\n",
       " 'Vegan',\n",
       " 'Beer Bar',\n",
       " 'Venues & Event Spaces',\n",
       " 'Indian',\n",
       " 'Breweries',\n",
       " 'Latin American',\n",
       " 'Lounges',\n",
       " 'Buffets',\n",
       " 'Tacos',\n",
       " 'Tapas/Small Plates']"
      ]
     },
     "execution_count": 354,
     "metadata": {},
     "output_type": "execute_result"
    }
   ],
   "source": [
    "try_categories_list"
   ]
  },
  {
   "cell_type": "code",
   "execution_count": 261,
   "metadata": {},
   "outputs": [],
   "source": [
    "import folium"
   ]
  },
  {
   "cell_type": "code",
   "execution_count": 357,
   "metadata": {},
   "outputs": [],
   "source": [
    "cleveland_coordinates = (41.4993, -81.6944)\n",
    "folium_map = folium.Map(location=cleveland_coordinates,width=1000,height=800,zoom_start=9)"
   ]
  },
  {
   "cell_type": "code",
   "execution_count": 360,
   "metadata": {},
   "outputs": [],
   "source": [
    "top_restaurants = get_popular_restaurants(imp_ohio_reviews,['Japanese','Steakhouses'])"
   ]
  },
  {
   "cell_type": "code",
   "execution_count": 361,
   "metadata": {},
   "outputs": [
    {
     "data": {
      "text/html": [
       "<div style=\"width:100%;\"><div style=\"position:relative;width:100%;height:0;padding-bottom:60%;\"><span style=\"color:#565656\">Make this Notebook Trusted to load map: File -> Trust Notebook</span><iframe src=\"about:blank\" style=\"position:absolute;width:100%;height:100%;left:0;top:0;border:none !important;\" data-html=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 onload=\"this.contentDocument.open();this.contentDocument.write(atob(this.getAttribute('data-html')));this.contentDocument.close();\" allowfullscreen webkitallowfullscreen mozallowfullscreen></iframe></div></div>"
      ],
      "text/plain": [
       "<folium.folium.Map at 0x1a96aa87d0>"
      ]
     },
     "execution_count": 361,
     "metadata": {},
     "output_type": "execute_result"
    },
    {
     "data": {
      "text/plain": [
       "<Figure size 720x576 with 0 Axes>"
      ]
     },
     "metadata": {},
     "output_type": "display_data"
    }
   ],
   "source": [
    "plt.figure(figsize=(10,8))\n",
    "for restaurant in top_restaurants[:20]:\n",
    "    coordinates = restaurant['Latitude'],restaurant['Longitude']\n",
    "    folium.Marker(coordinates,popup=(restaurant['Name'],restaurant['Category'])).add_to(folium_map)  \n",
    "folium_map"
   ]
  },
  {
   "cell_type": "code",
   "execution_count": 312,
   "metadata": {},
   "outputs": [
    {
     "data": {
      "text/html": [
       "<div style=\"width:100%;\"><div style=\"position:relative;width:100%;height:0;padding-bottom:60%;\"><span style=\"color:#565656\">Make this Notebook Trusted to load map: File -> Trust Notebook</span><iframe src=\"about:blank\" style=\"position:absolute;width:100%;height:100%;left:0;top:0;border:none !important;\" data-html=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 onload=\"this.contentDocument.open();this.contentDocument.write(atob(this.getAttribute('data-html')));this.contentDocument.close();\" allowfullscreen webkitallowfullscreen mozallowfullscreen></iframe></div></div>"
      ],
      "text/plain": [
       "<folium.folium.Map at 0x1a967c5590>"
      ]
     },
     "execution_count": 312,
     "metadata": {},
     "output_type": "execute_result"
    }
   ],
   "source": []
  },
  {
   "cell_type": "code",
   "execution_count": null,
   "metadata": {},
   "outputs": [],
   "source": []
  },
  {
   "cell_type": "code",
   "execution_count": 21,
   "metadata": {},
   "outputs": [
    {
     "data": {
      "image/png": "[encoded data removed]",
      "text/plain": [
       "<Figure size 1080x720 with 1 Axes>"
      ]
     },
     "metadata": {},
     "output_type": "display_data"
    }
   ],
   "source": [
    "# Let's see the distribution of these categories.\n",
    "indices = np.arange(len(dict_category_sorted[:50]))\n",
    "word = []\n",
    "frequency = []\n",
    "\n",
    "for i in range(len(dict_category_sorted[:50])):\n",
    "    word.append(dict_category_sorted[i][0])\n",
    "    frequency.append(dict_category_sorted[i][1])\n",
    "plt.figure(figsize=(15,10))\n",
    "plt.bar(indices, frequency, color='b')\n",
    "plt.xticks(indices, word, rotation='vertical')\n",
    "plt.tight_layout()\n",
    "plt.show()"
   ]
  },
  {
   "cell_type": "markdown",
   "metadata": {},
   "source": [
    "### Text processing of the reviews"
   ]
  },
  {
   "cell_type": "code",
   "execution_count": null,
   "metadata": {},
   "outputs": [],
   "source": []
  },
  {
   "cell_type": "code",
   "execution_count": 22,
   "metadata": {},
   "outputs": [
    {
     "data": {
      "text/html": [
       "<div>\n",
       "<style scoped>\n",
       "    .dataframe tbody tr th:only-of-type {\n",
       "        vertical-align: middle;\n",
       "    }\n",
       "\n",
       "    .dataframe tbody tr th {\n",
       "        vertical-align: top;\n",
       "    }\n",
       "\n",
       "    .dataframe thead th {\n",
       "        text-align: right;\n",
       "    }\n",
       "</style>\n",
       "<table border=\"1\" class=\"dataframe\">\n",
       "  <thead>\n",
       "    <tr style=\"text-align: right;\">\n",
       "      <th></th>\n",
       "      <th>review_id</th>\n",
       "      <th>user_id</th>\n",
       "      <th>business_id</th>\n",
       "      <th>stars</th>\n",
       "      <th>useful</th>\n",
       "      <th>funny</th>\n",
       "      <th>cool</th>\n",
       "      <th>text</th>\n",
       "      <th>date</th>\n",
       "      <th>sep_categories</th>\n",
       "      <th>lst_stars</th>\n",
       "      <th>count_vect</th>\n",
       "      <th>tfidf_vect</th>\n",
       "      <th>values_cnt</th>\n",
       "      <th>values_tfidf</th>\n",
       "    </tr>\n",
       "  </thead>\n",
       "  <tbody>\n",
       "    <tr>\n",
       "      <th>0</th>\n",
       "      <td>eE3ekstCj5dNcBJVsbOJBw</td>\n",
       "      <td>V34qejxNsCbcgD8C0HVk-Q</td>\n",
       "      <td>VH2BjFjc9usDquDgoHhptA</td>\n",
       "      <td>4.0</td>\n",
       "      <td>2</td>\n",
       "      <td>0</td>\n",
       "      <td>2</td>\n",
       "      <td>How exciting to have another great Barrio loca...</td>\n",
       "      <td>2015-02-11 03:05:31</td>\n",
       "      <td>[Restaurants, Breakfast &amp; Brunch, Mexican, Nig...</td>\n",
       "      <td>[4.0]</td>\n",
       "      <td>[0, 0, 0, 0, 0, 0, 0, 0, 0, 0, 0, 0, 0, 0, 0, ...</td>\n",
       "      <td>[0, 0, 0, 0, 0, 0, 0, 0, 0, 0, 0, 0, 0, 0, 0, ...</td>\n",
       "      <td>[4.0, 0, 0, 0, 0, 0, 0, 0, 0, 0, 0, 0, 0, 0, 0...</td>\n",
       "      <td>[4.0, 0, 0, 0, 0, 0, 0, 0, 0, 0, 0, 0, 0, 0, 0...</td>\n",
       "    </tr>\n",
       "    <tr>\n",
       "      <th>1</th>\n",
       "      <td>9RIlb-Awn4B4Cdv7hfL9Hg</td>\n",
       "      <td>sxEzazybwfF86Mv8Dm3tgw</td>\n",
       "      <td>VH2BjFjc9usDquDgoHhptA</td>\n",
       "      <td>4.0</td>\n",
       "      <td>1</td>\n",
       "      <td>0</td>\n",
       "      <td>0</td>\n",
       "      <td>Fun, fun place!  It's just the perfect food-wi...</td>\n",
       "      <td>2016-12-04 14:15:43</td>\n",
       "      <td>[Restaurants, Breakfast &amp; Brunch, Mexican, Nig...</td>\n",
       "      <td>[4.0]</td>\n",
       "      <td>[0, 0, 0, 0, 0, 0, 0, 0, 0, 0, 0, 0, 0, 0, 0, ...</td>\n",
       "      <td>[0, 0, 0, 0, 0, 0, 0, 0, 0, 0, 0, 0, 0, 0, 0, ...</td>\n",
       "      <td>[4.0, 0, 0, 0, 0, 0, 0, 0, 0, 0, 0, 0, 0, 0, 0...</td>\n",
       "      <td>[4.0, 0, 0, 0, 0, 0, 0, 0, 0, 0, 0, 0, 0, 0, 0...</td>\n",
       "    </tr>\n",
       "    <tr>\n",
       "      <th>2</th>\n",
       "      <td>V18bxL_rnoPltBZhthORYA</td>\n",
       "      <td>v35r6tj4TjIsON7Z1xE4yA</td>\n",
       "      <td>VH2BjFjc9usDquDgoHhptA</td>\n",
       "      <td>4.0</td>\n",
       "      <td>0</td>\n",
       "      <td>0</td>\n",
       "      <td>0</td>\n",
       "      <td>So effing good. Super cheap too. Did the build...</td>\n",
       "      <td>2015-12-15 01:46:39</td>\n",
       "      <td>[Restaurants, Breakfast &amp; Brunch, Mexican, Nig...</td>\n",
       "      <td>[4.0]</td>\n",
       "      <td>[0, 0, 0, 0, 0, 0, 0, 0, 0, 0, 0, 0, 0, 0, 0, ...</td>\n",
       "      <td>[0, 0, 0, 0, 0, 0, 0, 0, 0, 0, 0, 0, 0, 0, 0, ...</td>\n",
       "      <td>[4.0, 0, 0, 0, 0, 0, 0, 0, 0, 0, 0, 0, 0, 0, 0...</td>\n",
       "      <td>[4.0, 0, 0, 0, 0, 0, 0, 0, 0, 0, 0, 0, 0, 0, 0...</td>\n",
       "    </tr>\n",
       "    <tr>\n",
       "      <th>3</th>\n",
       "      <td>ee7s14ESTjHfhbXEAl1_yw</td>\n",
       "      <td>p0lnRfBorJW2HzkzoLyymQ</td>\n",
       "      <td>VH2BjFjc9usDquDgoHhptA</td>\n",
       "      <td>4.0</td>\n",
       "      <td>0</td>\n",
       "      <td>0</td>\n",
       "      <td>0</td>\n",
       "      <td>Heading into Cleveland for the first time, we ...</td>\n",
       "      <td>2017-11-08 15:13:13</td>\n",
       "      <td>[Restaurants, Breakfast &amp; Brunch, Mexican, Nig...</td>\n",
       "      <td>[4.0]</td>\n",
       "      <td>[0, 0, 0, 0, 0, 0, 0, 0, 0, 0, 0, 0, 0, 0, 0, ...</td>\n",
       "      <td>[0, 0, 0, 0, 0, 0, 0, 0, 0, 0, 0, 0, 0, 0, 0, ...</td>\n",
       "      <td>[4.0, 0, 0, 0, 0, 0, 0, 0, 0, 0, 0, 0, 0, 0, 0...</td>\n",
       "      <td>[4.0, 0, 0, 0, 0, 0, 0, 0, 0, 0, 0, 0, 0, 0, 0...</td>\n",
       "    </tr>\n",
       "    <tr>\n",
       "      <th>4</th>\n",
       "      <td>raOFF3dORMPZ81RI5zh1Wg</td>\n",
       "      <td>ILk5Y4wPNW-7y0_As-xI6A</td>\n",
       "      <td>VH2BjFjc9usDquDgoHhptA</td>\n",
       "      <td>4.0</td>\n",
       "      <td>4</td>\n",
       "      <td>0</td>\n",
       "      <td>1</td>\n",
       "      <td>Hot dogs are to Happy Dog as tacos are to Barr...</td>\n",
       "      <td>2015-02-10 03:53:51</td>\n",
       "      <td>[Restaurants, Breakfast &amp; Brunch, Mexican, Nig...</td>\n",
       "      <td>[4.0]</td>\n",
       "      <td>[0, 0, 0, 0, 0, 0, 0, 0, 0, 0, 0, 0, 0, 0, 0, ...</td>\n",
       "      <td>[0, 0, 0, 0, 0, 0, 0, 0, 0, 0, 0, 0, 0, 0, 0, ...</td>\n",
       "      <td>[4.0, 0, 0, 0, 0, 0, 0, 0, 0, 0, 0, 0, 0, 0, 0...</td>\n",
       "      <td>[4.0, 0, 0, 0, 0, 0, 0, 0, 0, 0, 0, 0, 0, 0, 0...</td>\n",
       "    </tr>\n",
       "  </tbody>\n",
       "</table>\n",
       "</div>"
      ],
      "text/plain": [
       "                review_id                 user_id             business_id  \\\n",
       "0  eE3ekstCj5dNcBJVsbOJBw  V34qejxNsCbcgD8C0HVk-Q  VH2BjFjc9usDquDgoHhptA   \n",
       "1  9RIlb-Awn4B4Cdv7hfL9Hg  sxEzazybwfF86Mv8Dm3tgw  VH2BjFjc9usDquDgoHhptA   \n",
       "2  V18bxL_rnoPltBZhthORYA  v35r6tj4TjIsON7Z1xE4yA  VH2BjFjc9usDquDgoHhptA   \n",
       "3  ee7s14ESTjHfhbXEAl1_yw  p0lnRfBorJW2HzkzoLyymQ  VH2BjFjc9usDquDgoHhptA   \n",
       "4  raOFF3dORMPZ81RI5zh1Wg  ILk5Y4wPNW-7y0_As-xI6A  VH2BjFjc9usDquDgoHhptA   \n",
       "\n",
       "   stars  useful  funny  cool  \\\n",
       "0    4.0       2      0     2   \n",
       "1    4.0       1      0     0   \n",
       "2    4.0       0      0     0   \n",
       "3    4.0       0      0     0   \n",
       "4    4.0       4      0     1   \n",
       "\n",
       "                                                text                 date  \\\n",
       "0  How exciting to have another great Barrio loca...  2015-02-11 03:05:31   \n",
       "1  Fun, fun place!  It's just the perfect food-wi...  2016-12-04 14:15:43   \n",
       "2  So effing good. Super cheap too. Did the build...  2015-12-15 01:46:39   \n",
       "3  Heading into Cleveland for the first time, we ...  2017-11-08 15:13:13   \n",
       "4  Hot dogs are to Happy Dog as tacos are to Barr...  2015-02-10 03:53:51   \n",
       "\n",
       "                                      sep_categories lst_stars  \\\n",
       "0  [Restaurants, Breakfast & Brunch, Mexican, Nig...     [4.0]   \n",
       "1  [Restaurants, Breakfast & Brunch, Mexican, Nig...     [4.0]   \n",
       "2  [Restaurants, Breakfast & Brunch, Mexican, Nig...     [4.0]   \n",
       "3  [Restaurants, Breakfast & Brunch, Mexican, Nig...     [4.0]   \n",
       "4  [Restaurants, Breakfast & Brunch, Mexican, Nig...     [4.0]   \n",
       "\n",
       "                                          count_vect  \\\n",
       "0  [0, 0, 0, 0, 0, 0, 0, 0, 0, 0, 0, 0, 0, 0, 0, ...   \n",
       "1  [0, 0, 0, 0, 0, 0, 0, 0, 0, 0, 0, 0, 0, 0, 0, ...   \n",
       "2  [0, 0, 0, 0, 0, 0, 0, 0, 0, 0, 0, 0, 0, 0, 0, ...   \n",
       "3  [0, 0, 0, 0, 0, 0, 0, 0, 0, 0, 0, 0, 0, 0, 0, ...   \n",
       "4  [0, 0, 0, 0, 0, 0, 0, 0, 0, 0, 0, 0, 0, 0, 0, ...   \n",
       "\n",
       "                                          tfidf_vect  \\\n",
       "0  [0, 0, 0, 0, 0, 0, 0, 0, 0, 0, 0, 0, 0, 0, 0, ...   \n",
       "1  [0, 0, 0, 0, 0, 0, 0, 0, 0, 0, 0, 0, 0, 0, 0, ...   \n",
       "2  [0, 0, 0, 0, 0, 0, 0, 0, 0, 0, 0, 0, 0, 0, 0, ...   \n",
       "3  [0, 0, 0, 0, 0, 0, 0, 0, 0, 0, 0, 0, 0, 0, 0, ...   \n",
       "4  [0, 0, 0, 0, 0, 0, 0, 0, 0, 0, 0, 0, 0, 0, 0, ...   \n",
       "\n",
       "                                          values_cnt  \\\n",
       "0  [4.0, 0, 0, 0, 0, 0, 0, 0, 0, 0, 0, 0, 0, 0, 0...   \n",
       "1  [4.0, 0, 0, 0, 0, 0, 0, 0, 0, 0, 0, 0, 0, 0, 0...   \n",
       "2  [4.0, 0, 0, 0, 0, 0, 0, 0, 0, 0, 0, 0, 0, 0, 0...   \n",
       "3  [4.0, 0, 0, 0, 0, 0, 0, 0, 0, 0, 0, 0, 0, 0, 0...   \n",
       "4  [4.0, 0, 0, 0, 0, 0, 0, 0, 0, 0, 0, 0, 0, 0, 0...   \n",
       "\n",
       "                                        values_tfidf  \n",
       "0  [4.0, 0, 0, 0, 0, 0, 0, 0, 0, 0, 0, 0, 0, 0, 0...  \n",
       "1  [4.0, 0, 0, 0, 0, 0, 0, 0, 0, 0, 0, 0, 0, 0, 0...  \n",
       "2  [4.0, 0, 0, 0, 0, 0, 0, 0, 0, 0, 0, 0, 0, 0, 0...  \n",
       "3  [4.0, 0, 0, 0, 0, 0, 0, 0, 0, 0, 0, 0, 0, 0, 0...  \n",
       "4  [4.0, 0, 0, 0, 0, 0, 0, 0, 0, 0, 0, 0, 0, 0, 0...  "
      ]
     },
     "execution_count": 22,
     "metadata": {},
     "output_type": "execute_result"
    }
   ],
   "source": [
    "imp_ohio_reviews.head()"
   ]
  },
  {
   "cell_type": "code",
   "execution_count": 23,
   "metadata": {},
   "outputs": [],
   "source": [
    "import datetime"
   ]
  },
  {
   "cell_type": "code",
   "execution_count": 24,
   "metadata": {},
   "outputs": [
    {
     "data": {
      "text/plain": [
       "'2015-02-11 03:05:31'"
      ]
     },
     "execution_count": 24,
     "metadata": {},
     "output_type": "execute_result"
    }
   ],
   "source": [
    "imp_ohio_reviews['date'][0]"
   ]
  },
  {
   "cell_type": "code",
   "execution_count": 25,
   "metadata": {},
   "outputs": [],
   "source": [
    "imp_ohio_reviews['date'] = imp_ohio_reviews['date'].apply(lambda x: datetime.datetime.strptime(x, \"%Y-%m-%d %H:%M:%S\"))"
   ]
  },
  {
   "cell_type": "code",
   "execution_count": 26,
   "metadata": {},
   "outputs": [],
   "source": [
    "imp_ohio_reviews.drop(['useful','funny','cool'],axis=1,inplace=True)"
   ]
  },
  {
   "cell_type": "code",
   "execution_count": 27,
   "metadata": {},
   "outputs": [],
   "source": [
    "# Let's clean the text"
   ]
  },
  {
   "cell_type": "code",
   "execution_count": 37,
   "metadata": {},
   "outputs": [
    {
     "ename": "AttributeError",
     "evalue": "'set' object has no attribute 'words'",
     "output_type": "error",
     "traceback": [
      "\u001b[0;31m---------------------------------------------------------------------------\u001b[0m",
      "\u001b[0;31mAttributeError\u001b[0m                            Traceback (most recent call last)",
      "\u001b[0;32m<ipython-input-37-a84421a30dbc>\u001b[0m in \u001b[0;36m<module>\u001b[0;34m\u001b[0m\n\u001b[0;32m----> 1\u001b[0;31m \u001b[0mstopwords\u001b[0m \u001b[0;34m=\u001b[0m \u001b[0mset\u001b[0m\u001b[0;34m(\u001b[0m\u001b[0mstopwords\u001b[0m\u001b[0;34m.\u001b[0m\u001b[0mwords\u001b[0m\u001b[0;34m(\u001b[0m\u001b[0;34m'english'\u001b[0m\u001b[0;34m)\u001b[0m\u001b[0;34m)\u001b[0m\u001b[0;34m\u001b[0m\u001b[0;34m\u001b[0m\u001b[0m\n\u001b[0m\u001b[1;32m      2\u001b[0m \u001b[0;32mdef\u001b[0m \u001b[0mpreprocess\u001b[0m\u001b[0;34m(\u001b[0m\u001b[0mtext\u001b[0m\u001b[0;34m)\u001b[0m\u001b[0;34m:\u001b[0m\u001b[0;34m\u001b[0m\u001b[0;34m\u001b[0m\u001b[0m\n\u001b[1;32m      3\u001b[0m     \u001b[0mtext\u001b[0m \u001b[0;34m=\u001b[0m \u001b[0mtext\u001b[0m\u001b[0;34m.\u001b[0m\u001b[0mtranslate\u001b[0m\u001b[0;34m(\u001b[0m\u001b[0mstring\u001b[0m\u001b[0;34m.\u001b[0m\u001b[0mpunctuation\u001b[0m\u001b[0;34m)\u001b[0m\u001b[0;34m\u001b[0m\u001b[0;34m\u001b[0m\u001b[0m\n\u001b[1;32m      4\u001b[0m     \u001b[0mtext\u001b[0m \u001b[0;34m=\u001b[0m \u001b[0mtext\u001b[0m\u001b[0;34m.\u001b[0m\u001b[0mlower\u001b[0m\u001b[0;34m(\u001b[0m\u001b[0;34m)\u001b[0m\u001b[0;34m.\u001b[0m\u001b[0msplit\u001b[0m\u001b[0;34m(\u001b[0m\u001b[0;34m)\u001b[0m\u001b[0;34m\u001b[0m\u001b[0;34m\u001b[0m\u001b[0m\n\u001b[1;32m      5\u001b[0m     \u001b[0mtext\u001b[0m \u001b[0;34m=\u001b[0m \u001b[0;34m[\u001b[0m\u001b[0mw\u001b[0m \u001b[0;32mfor\u001b[0m \u001b[0mw\u001b[0m \u001b[0;32min\u001b[0m \u001b[0mtext\u001b[0m \u001b[0;32mif\u001b[0m \u001b[0;32mnot\u001b[0m \u001b[0mw\u001b[0m \u001b[0;32min\u001b[0m \u001b[0mstopwords\u001b[0m \u001b[0;32mand\u001b[0m \u001b[0mlen\u001b[0m\u001b[0;34m(\u001b[0m\u001b[0mw\u001b[0m\u001b[0;34m)\u001b[0m \u001b[0;34m>\u001b[0m \u001b[0;36m0\u001b[0m\u001b[0;34m]\u001b[0m\u001b[0;34m\u001b[0m\u001b[0;34m\u001b[0m\u001b[0m\n",
      "\u001b[0;31mAttributeError\u001b[0m: 'set' object has no attribute 'words'"
     ]
    }
   ],
   "source": [
    "stopwords = set(stopwords.words('english'))\n",
    "def preprocess(text):\n",
    "    text = text.translate(string.punctuation)\n",
    "    text = text.lower().split()    \n",
    "    text = [w for w in text if not w in stopwords and len(w) > 0]    \n",
    "    text = \" \".join(text)\n",
    "    \n",
    "    text = re.sub(r\"[^A-Za-z0-9^,!.\\/'+-=]\", \" \", text)\n",
    "    text = re.sub(r\"what's\", \"what is \", text)\n",
    "    text = re.sub(r\"\\'s\", \" \", text)\n",
    "    text = re.sub(r\"\\'ve\", \" have \", text)\n",
    "    text = re.sub(r\"n't\", \" not \", text)\n",
    "    text = re.sub(r\"i'm\", \"i am \", text)\n",
    "    text = re.sub(r\"\\'re\", \" are \", text)\n",
    "    text = re.sub(r\"\\'d\", \" would \", text)\n",
    "    text = re.sub(r\"\\'ll\", \" will \", text)\n",
    "    text = re.sub(r\",\", \" \", text)\n",
    "    text = re.sub(r\"\\.\", \" \", text)\n",
    "    text = re.sub(r\"!\", \" ! \", text)\n",
    "    text = re.sub(r\"\\/\", \" \", text)\n",
    "    text = re.sub(r\"\\^\", \" \", text)\n",
    "    text = re.sub(r\"\\+\", \" \", text)\n",
    "    text = re.sub(r\"\\-\", \" - \", text)\n",
    "    text = re.sub(r\"\\=\", \" \", text)\n",
    "    text = re.sub(r\"'\", \" \", text)\n",
    "    text = re.sub(r\":\", \" \", text)\n",
    "    text = re.sub(r\" e g \", \" eg \", text)\n",
    "    text = re.sub(r\" b g \", \" bg \", text)\n",
    "    text = re.sub(r\" u s \", \" american \", text)\n",
    "    text = re.sub(r\"\\0s\", \"0\", text)\n",
    "    text = re.sub(r\" 9 11 \", \"911\", text)\n",
    "    text = re.sub(r\"e - mail\", \"email\", text)\n",
    "    text = re.sub(r\"j k\", \"jk\", text)\n",
    "    text = re.sub(r\"\\s{2,}\", \" \", text)    \n",
    "    return text"
   ]
  },
  {
   "cell_type": "code",
   "execution_count": 36,
   "metadata": {},
   "outputs": [],
   "source": [
    "imp_ohio_reviews['clean_text'] = imp_ohio_reviews['text'].apply(preprocess)"
   ]
  },
  {
   "cell_type": "code",
   "execution_count": 38,
   "metadata": {},
   "outputs": [
    {
     "name": "stdout",
     "output_type": "stream",
     "text": [
      "How exciting to have another great Barrio location. It's large and bright and the service was quick. Same cheap prices and great tacos as we're used to from the Tremont and Lakewood locations.\n",
      "\n",
      "\n",
      "exciting another great barrio location large bright service quick cheap prices great tacos we are used tremont lakewood locations \n",
      "----------------------------------------------------------------------------------------------------\n",
      "Fun, fun place!  It's just the perfect food-with-drinks kind of place.  For $3 each, you make your own tacos. (Ordering off of a check list, choosing your own shell, protein, toppings, etc).  Totally vegan-friendly too.  I ordered two corn/hard shells, one with spicy tofu and the other with black beans, both with a jicama slaw and salsas.  You can also order a small side of rice which comes in the perfect-sized four ounce container to compliment the tacos.\n",
      "So $7 got me two tacos and rice which was more than enough for me.  The food was surprisingly good.  Everything tastes fresh.\n",
      "\n",
      "\n",
      "fun fun place ! perfect food - with - drinks kind place 3 each make tacos ordering check list choosing shell protein toppings etc totally vegan - friendly too ordered two corn hard shells one spicy tofu black beans jicama slaw salsas also order small side rice comes perfect - sized four ounce container compliment tacos so 7 got two tacos rice enough me food surprisingly good everything tastes fresh \n",
      "----------------------------------------------------------------------------------------------------\n"
     ]
    }
   ],
   "source": [
    "for i in range(2):\n",
    "    print(imp_ohio_reviews.iloc[i]['text'])\n",
    "    print('\\n')\n",
    "    print(imp_ohio_reviews.iloc[i]['clean_text'])\n",
    "    print('-'*100)"
   ]
  },
  {
   "cell_type": "markdown",
   "metadata": {},
   "source": [
    "### One hot encoding over the dishes!"
   ]
  },
  {
   "cell_type": "markdown",
   "metadata": {},
   "source": [
    "### There are multiple reviews per user as well as per restaurant"
   ]
  },
  {
   "cell_type": "code",
   "execution_count": 41,
   "metadata": {},
   "outputs": [],
   "source": [
    "user_rev = imp_ohio_reviews.groupby('user_id').agg({'clean_text': ' '.join})\n",
    "rest_rev = imp_ohio_reviews.groupby('business_id').agg({'clean_text': ' '.join})"
   ]
  },
  {
   "cell_type": "code",
   "execution_count": 42,
   "metadata": {},
   "outputs": [
    {
     "data": {
      "text/html": [
       "<div>\n",
       "<style scoped>\n",
       "    .dataframe tbody tr th:only-of-type {\n",
       "        vertical-align: middle;\n",
       "    }\n",
       "\n",
       "    .dataframe tbody tr th {\n",
       "        vertical-align: top;\n",
       "    }\n",
       "\n",
       "    .dataframe thead tr th {\n",
       "        text-align: left;\n",
       "    }\n",
       "\n",
       "    .dataframe thead tr:last-of-type th {\n",
       "        text-align: right;\n",
       "    }\n",
       "</style>\n",
       "<table border=\"1\" class=\"dataframe\">\n",
       "  <thead>\n",
       "    <tr>\n",
       "      <th></th>\n",
       "      <th colspan=\"8\" halign=\"left\">stars</th>\n",
       "    </tr>\n",
       "    <tr>\n",
       "      <th></th>\n",
       "      <th>count</th>\n",
       "      <th>mean</th>\n",
       "      <th>std</th>\n",
       "      <th>min</th>\n",
       "      <th>25%</th>\n",
       "      <th>50%</th>\n",
       "      <th>75%</th>\n",
       "      <th>max</th>\n",
       "    </tr>\n",
       "    <tr>\n",
       "      <th>business_id</th>\n",
       "      <th></th>\n",
       "      <th></th>\n",
       "      <th></th>\n",
       "      <th></th>\n",
       "      <th></th>\n",
       "      <th></th>\n",
       "      <th></th>\n",
       "      <th></th>\n",
       "    </tr>\n",
       "  </thead>\n",
       "  <tbody>\n",
       "    <tr>\n",
       "      <th>--S62v0QgkqQaVUhFnNHrw</th>\n",
       "      <td>3.0</td>\n",
       "      <td>2.0</td>\n",
       "      <td>0.0</td>\n",
       "      <td>2.0</td>\n",
       "      <td>2.0</td>\n",
       "      <td>2.0</td>\n",
       "      <td>2.0</td>\n",
       "      <td>2.0</td>\n",
       "    </tr>\n",
       "    <tr>\n",
       "      <th>-GOsHrWPC0meDRgkCEgC8w</th>\n",
       "      <td>41.0</td>\n",
       "      <td>4.0</td>\n",
       "      <td>0.0</td>\n",
       "      <td>4.0</td>\n",
       "      <td>4.0</td>\n",
       "      <td>4.0</td>\n",
       "      <td>4.0</td>\n",
       "      <td>4.0</td>\n",
       "    </tr>\n",
       "    <tr>\n",
       "      <th>-MC7EFxTsyKMKB3zeP_FIQ</th>\n",
       "      <td>10.0</td>\n",
       "      <td>4.0</td>\n",
       "      <td>0.0</td>\n",
       "      <td>4.0</td>\n",
       "      <td>4.0</td>\n",
       "      <td>4.0</td>\n",
       "      <td>4.0</td>\n",
       "      <td>4.0</td>\n",
       "    </tr>\n",
       "    <tr>\n",
       "      <th>-OD5KnGJk4Ld8IVa2jAuFA</th>\n",
       "      <td>16.0</td>\n",
       "      <td>4.0</td>\n",
       "      <td>0.0</td>\n",
       "      <td>4.0</td>\n",
       "      <td>4.0</td>\n",
       "      <td>4.0</td>\n",
       "      <td>4.0</td>\n",
       "      <td>4.0</td>\n",
       "    </tr>\n",
       "    <tr>\n",
       "      <th>-_DxZ8gKU50sfuZEu4ypKg</th>\n",
       "      <td>69.0</td>\n",
       "      <td>4.0</td>\n",
       "      <td>0.0</td>\n",
       "      <td>4.0</td>\n",
       "      <td>4.0</td>\n",
       "      <td>4.0</td>\n",
       "      <td>4.0</td>\n",
       "      <td>4.0</td>\n",
       "    </tr>\n",
       "    <tr>\n",
       "      <th>...</th>\n",
       "      <td>...</td>\n",
       "      <td>...</td>\n",
       "      <td>...</td>\n",
       "      <td>...</td>\n",
       "      <td>...</td>\n",
       "      <td>...</td>\n",
       "      <td>...</td>\n",
       "      <td>...</td>\n",
       "    </tr>\n",
       "    <tr>\n",
       "      <th>zm8u9z2KCwEkNiCD59UQ3Q</th>\n",
       "      <td>9.0</td>\n",
       "      <td>4.0</td>\n",
       "      <td>0.0</td>\n",
       "      <td>4.0</td>\n",
       "      <td>4.0</td>\n",
       "      <td>4.0</td>\n",
       "      <td>4.0</td>\n",
       "      <td>4.0</td>\n",
       "    </tr>\n",
       "    <tr>\n",
       "      <th>ztQH2Q99E3D-iSdfImqjcQ</th>\n",
       "      <td>13.0</td>\n",
       "      <td>4.0</td>\n",
       "      <td>0.0</td>\n",
       "      <td>4.0</td>\n",
       "      <td>4.0</td>\n",
       "      <td>4.0</td>\n",
       "      <td>4.0</td>\n",
       "      <td>4.0</td>\n",
       "    </tr>\n",
       "    <tr>\n",
       "      <th>zutT311xSgH_Gbdza_jc1w</th>\n",
       "      <td>14.0</td>\n",
       "      <td>4.0</td>\n",
       "      <td>0.0</td>\n",
       "      <td>4.0</td>\n",
       "      <td>4.0</td>\n",
       "      <td>4.0</td>\n",
       "      <td>4.0</td>\n",
       "      <td>4.0</td>\n",
       "    </tr>\n",
       "    <tr>\n",
       "      <th>zydbdBR6-CM8UZ6WkW1DWA</th>\n",
       "      <td>8.0</td>\n",
       "      <td>3.0</td>\n",
       "      <td>0.0</td>\n",
       "      <td>3.0</td>\n",
       "      <td>3.0</td>\n",
       "      <td>3.0</td>\n",
       "      <td>3.0</td>\n",
       "      <td>3.0</td>\n",
       "    </tr>\n",
       "    <tr>\n",
       "      <th>zzSYBWuv_fXGtSgsO-6_1g</th>\n",
       "      <td>77.0</td>\n",
       "      <td>4.0</td>\n",
       "      <td>0.0</td>\n",
       "      <td>4.0</td>\n",
       "      <td>4.0</td>\n",
       "      <td>4.0</td>\n",
       "      <td>4.0</td>\n",
       "      <td>4.0</td>\n",
       "    </tr>\n",
       "  </tbody>\n",
       "</table>\n",
       "<p>689 rows × 8 columns</p>\n",
       "</div>"
      ],
      "text/plain": [
       "                       stars                                   \n",
       "                       count mean  std  min  25%  50%  75%  max\n",
       "business_id                                                    \n",
       "--S62v0QgkqQaVUhFnNHrw   3.0  2.0  0.0  2.0  2.0  2.0  2.0  2.0\n",
       "-GOsHrWPC0meDRgkCEgC8w  41.0  4.0  0.0  4.0  4.0  4.0  4.0  4.0\n",
       "-MC7EFxTsyKMKB3zeP_FIQ  10.0  4.0  0.0  4.0  4.0  4.0  4.0  4.0\n",
       "-OD5KnGJk4Ld8IVa2jAuFA  16.0  4.0  0.0  4.0  4.0  4.0  4.0  4.0\n",
       "-_DxZ8gKU50sfuZEu4ypKg  69.0  4.0  0.0  4.0  4.0  4.0  4.0  4.0\n",
       "...                      ...  ...  ...  ...  ...  ...  ...  ...\n",
       "zm8u9z2KCwEkNiCD59UQ3Q   9.0  4.0  0.0  4.0  4.0  4.0  4.0  4.0\n",
       "ztQH2Q99E3D-iSdfImqjcQ  13.0  4.0  0.0  4.0  4.0  4.0  4.0  4.0\n",
       "zutT311xSgH_Gbdza_jc1w  14.0  4.0  0.0  4.0  4.0  4.0  4.0  4.0\n",
       "zydbdBR6-CM8UZ6WkW1DWA   8.0  3.0  0.0  3.0  3.0  3.0  3.0  3.0\n",
       "zzSYBWuv_fXGtSgsO-6_1g  77.0  4.0  0.0  4.0  4.0  4.0  4.0  4.0\n",
       "\n",
       "[689 rows x 8 columns]"
      ]
     },
     "execution_count": 42,
     "metadata": {},
     "output_type": "execute_result"
    }
   ],
   "source": [
    "imp_ohio_reviews.groupby('business_id').describe()"
   ]
  },
  {
   "cell_type": "code",
   "execution_count": 43,
   "metadata": {},
   "outputs": [
    {
     "data": {
      "text/html": [
       "<div>\n",
       "<style scoped>\n",
       "    .dataframe tbody tr th:only-of-type {\n",
       "        vertical-align: middle;\n",
       "    }\n",
       "\n",
       "    .dataframe tbody tr th {\n",
       "        vertical-align: top;\n",
       "    }\n",
       "\n",
       "    .dataframe thead th {\n",
       "        text-align: right;\n",
       "    }\n",
       "</style>\n",
       "<table border=\"1\" class=\"dataframe\">\n",
       "  <thead>\n",
       "    <tr style=\"text-align: right;\">\n",
       "      <th></th>\n",
       "      <th>clean_text</th>\n",
       "    </tr>\n",
       "    <tr>\n",
       "      <th>user_id</th>\n",
       "      <th></th>\n",
       "    </tr>\n",
       "  </thead>\n",
       "  <tbody>\n",
       "    <tr>\n",
       "      <th>--J8UruLD_xvVuI1lMAxpA</th>\n",
       "      <td>lived cleveland often took customers favorite ...</td>\n",
       "    </tr>\n",
       "    <tr>\n",
       "      <th>--amZ_cR9Zgu4B1RrAHJyA</th>\n",
       "      <td>great location pho row staff pretty cool frien...</td>\n",
       "    </tr>\n",
       "    <tr>\n",
       "      <th>--cO5bedOWodnt8UgamQNA</th>\n",
       "      <td>service great ! chips alright just tortilla ch...</td>\n",
       "    </tr>\n",
       "    <tr>\n",
       "      <th>-0MXmdIs75oSWmp8XlQKIw</th>\n",
       "      <td>place pretty decent burger kind way way chicag...</td>\n",
       "    </tr>\n",
       "    <tr>\n",
       "      <th>-0S_XaK3Q_Mesal2Unta2w</th>\n",
       "      <td>hole wall place but food pretty good pho crepe...</td>\n",
       "    </tr>\n",
       "  </tbody>\n",
       "</table>\n",
       "</div>"
      ],
      "text/plain": [
       "                                                               clean_text\n",
       "user_id                                                                  \n",
       "--J8UruLD_xvVuI1lMAxpA  lived cleveland often took customers favorite ...\n",
       "--amZ_cR9Zgu4B1RrAHJyA  great location pho row staff pretty cool frien...\n",
       "--cO5bedOWodnt8UgamQNA  service great ! chips alright just tortilla ch...\n",
       "-0MXmdIs75oSWmp8XlQKIw  place pretty decent burger kind way way chicag...\n",
       "-0S_XaK3Q_Mesal2Unta2w  hole wall place but food pretty good pho crepe..."
      ]
     },
     "execution_count": 43,
     "metadata": {},
     "output_type": "execute_result"
    }
   ],
   "source": [
    "user_rev.head()"
   ]
  },
  {
   "cell_type": "code",
   "execution_count": 44,
   "metadata": {},
   "outputs": [],
   "source": [
    "tfidf_user = TfidfVectorizer(max_features=5000)\n",
    "tfidf_rest = TfidfVectorizer(max_features=5000)"
   ]
  },
  {
   "cell_type": "code",
   "execution_count": 45,
   "metadata": {},
   "outputs": [],
   "source": [
    "trans_user_rev = tfidf_user.fit_transform(user_rev['clean_text'])"
   ]
  },
  {
   "cell_type": "code",
   "execution_count": 46,
   "metadata": {},
   "outputs": [],
   "source": [
    "trans_rest_rev = tfidf_rest.fit_transform(rest_rev['clean_text'])"
   ]
  },
  {
   "cell_type": "markdown",
   "metadata": {},
   "source": [
    "### I could use some kind of similarity measure!"
   ]
  },
  {
   "cell_type": "code",
   "execution_count": 47,
   "metadata": {},
   "outputs": [
    {
     "data": {
      "text/plain": [
       "array([[0., 0., 0., ..., 0., 0., 0.]])"
      ]
     },
     "execution_count": 47,
     "metadata": {},
     "output_type": "execute_result"
    }
   ],
   "source": [
    "trans_rest_rev[0].toarray()"
   ]
  },
  {
   "cell_type": "markdown",
   "metadata": {},
   "source": [
    "## SpaCy word2vec"
   ]
  },
  {
   "cell_type": "markdown",
   "metadata": {},
   "source": [
    "Make a function to check the similarities between two text reviews"
   ]
  },
  {
   "cell_type": "code",
   "execution_count": 48,
   "metadata": {},
   "outputs": [],
   "source": [
    "def check_similarities(str1,str2):\n",
    "    doc1 = nlp_large(str1)\n",
    "    doc2 = nlp_large(str2)\n",
    "    return doc1.similarity(doc2)"
   ]
  },
  {
   "cell_type": "markdown",
   "metadata": {},
   "source": [
    "### We can use this function to calculate the similarity between the reviews for user 1 and user2"
   ]
  },
  {
   "cell_type": "code",
   "execution_count": 49,
   "metadata": {},
   "outputs": [
    {
     "data": {
      "text/plain": [
       "0.9280858216188774"
      ]
     },
     "execution_count": 49,
     "metadata": {},
     "output_type": "execute_result"
    }
   ],
   "source": [
    "# Similarity between user 1 and user 2\n",
    "check_similarities(user_rev.iloc[0]['clean_text'],user_rev.iloc[500]['clean_text'])"
   ]
  },
  {
   "cell_type": "code",
   "execution_count": 50,
   "metadata": {},
   "outputs": [
    {
     "data": {
      "text/plain": [
       "0.9575572142908965"
      ]
     },
     "execution_count": 50,
     "metadata": {},
     "output_type": "execute_result"
    }
   ],
   "source": [
    "# Similarity between user 1 and user 2\n",
    "check_similarities(rest_rev.iloc[0]['clean_text'],rest_rev.iloc[1]['clean_text'])"
   ]
  },
  {
   "cell_type": "code",
   "execution_count": null,
   "metadata": {},
   "outputs": [],
   "source": []
  },
  {
   "cell_type": "markdown",
   "metadata": {},
   "source": [
    "##  VADER polarity scores "
   ]
  },
  {
   "cell_type": "code",
   "execution_count": 51,
   "metadata": {},
   "outputs": [],
   "source": [
    "from nltk.sentiment.vader import SentimentIntensityAnalyzer"
   ]
  },
  {
   "cell_type": "code",
   "execution_count": 52,
   "metadata": {},
   "outputs": [],
   "source": [
    "sid = SentimentIntensityAnalyzer()"
   ]
  },
  {
   "cell_type": "code",
   "execution_count": 58,
   "metadata": {},
   "outputs": [
    {
     "data": {
      "text/plain": [
       "{'neg': 0.0, 'neu': 0.512, 'pos': 0.488, 'compound': 0.936}"
      ]
     },
     "execution_count": 58,
     "metadata": {},
     "output_type": "execute_result"
    }
   ],
   "source": [
    "sid.polarity_scores(imp_ohio_reviews['clean_text'][0])"
   ]
  },
  {
   "cell_type": "code",
   "execution_count": 60,
   "metadata": {},
   "outputs": [
    {
     "data": {
      "text/plain": [
       "'exciting another great barrio location large bright service quick cheap prices great tacos we are used tremont lakewood locations '"
      ]
     },
     "execution_count": 60,
     "metadata": {},
     "output_type": "execute_result"
    }
   ],
   "source": [
    "imp_ohio_reviews.loc[0]['clean_text']"
   ]
  },
  {
   "cell_type": "code",
   "execution_count": 65,
   "metadata": {},
   "outputs": [
    {
     "data": {
      "text/plain": [
       "4.0    16784\n",
       "3.0     2177\n",
       "5.0      571\n",
       "2.0      124\n",
       "Name: stars, dtype: int64"
      ]
     },
     "execution_count": 65,
     "metadata": {},
     "output_type": "execute_result"
    }
   ],
   "source": [
    "imp_ohio_reviews['stars'].value_counts()"
   ]
  },
  {
   "cell_type": "code",
   "execution_count": 67,
   "metadata": {},
   "outputs": [
    {
     "data": {
      "text/plain": [
       "19656"
      ]
     },
     "execution_count": 67,
     "metadata": {},
     "output_type": "execute_result"
    }
   ],
   "source": [
    "len(imp_ohio_reviews)"
   ]
  },
  {
   "cell_type": "code",
   "execution_count": 68,
   "metadata": {},
   "outputs": [
    {
     "name": "stdout",
     "output_type": "stream",
     "text": [
      "The star rating is 4.0 \n",
      "The vader dict score is {'neg': 0.0, 'neu': 0.512, 'pos': 0.488, 'compound': 0.936} \n",
      "The polarity score is 0.488\n",
      "exciting another great barrio location large bright service quick cheap prices great tacos we are used tremont lakewood locations \n",
      "\n",
      "\n"
     ]
    }
   ],
   "source": [
    "for i in range(1):\n",
    "    item_star = imp_ohio_reviews['stars'][i]\n",
    "    \n",
    "    pol_dict = sid.polarity_scores(imp_ohio_reviews['clean_text'][i])\n",
    "    if pol_dict['pos'] >= pol_dict['neg']:\n",
    "        item_pol = pol_dict['pos']\n",
    "    else:\n",
    "        item_pol = pol_dict['neg']\n",
    "    \n",
    "\n",
    "    print(f\"The star rating is {item_star} \\nThe vader dict score is {pol_dict} \\nThe polarity score is {item_pol}\")\n",
    "    print(imp_ohio_reviews['clean_text'][i])\n",
    "    print('\\n')"
   ]
  },
  {
   "cell_type": "code",
   "execution_count": 81,
   "metadata": {},
   "outputs": [],
   "source": [
    "# make a function\n",
    "def extract_polarity(clean_text):\n",
    "    pol_dict = sid.polarity_scores(clean_text)\n",
    "    if pol_dict['pos'] >= pol_dict['neg']:\n",
    "        item_pol = pol_dict['pos']\n",
    "        return item_pol\n",
    "    else:\n",
    "        item_pol = -pol_dict['neg']\n",
    "        return item_pol\n",
    "    "
   ]
  },
  {
   "cell_type": "code",
   "execution_count": 85,
   "metadata": {},
   "outputs": [
    {
     "data": {
      "text/plain": [
       "-0.381"
      ]
     },
     "execution_count": 85,
     "metadata": {},
     "output_type": "execute_result"
    }
   ],
   "source": [
    "extract_polarity('exciting another horrible barrio location not large bright service bad cheap prices great')"
   ]
  },
  {
   "cell_type": "code",
   "execution_count": 55,
   "metadata": {},
   "outputs": [],
   "source": [
    "for i in range(100):\n",
    "    item_star = imp_ohio_reviews['stars'][i]\n",
    "    if item_star <= 2.0:\n",
    "        pol_dict = sid.polarity_scores(imp_ohio_reviews['clean_text'][i])\n",
    "        if pol_dict['pos'] >= pol_dict['neg']:\n",
    "            item_pol = pol_dict['compound']\n",
    "        elif pol_dict['pos'] + 0.02 < pol_dict['neg']:\n",
    "            item_pol = pol_dict['compound']\n",
    "        else:\n",
    "            item_pol = -pol_dict['compound']\n",
    "\n",
    "        print(f\"The star rating is {item_star} \\nThe compound score is {pol_dict} \\nThe polarity score in {item_pol}\")\n",
    "        print(imp_ohio_reviews['clean_text'][i])\n",
    "        print('\\n')"
   ]
  },
  {
   "cell_type": "code",
   "execution_count": null,
   "metadata": {},
   "outputs": [],
   "source": []
  },
  {
   "cell_type": "markdown",
   "metadata": {},
   "source": [
    "## Vader is not able to capture the negative sentiments!"
   ]
  },
  {
   "cell_type": "markdown",
   "metadata": {},
   "source": [
    "## Latent Dirichlet Allocation(LDA) "
   ]
  },
  {
   "cell_type": "code",
   "execution_count": 34,
   "metadata": {},
   "outputs": [],
   "source": [
    "\n"
   ]
  },
  {
   "cell_type": "code",
   "execution_count": 102,
   "metadata": {},
   "outputs": [],
   "source": [
    "cv = CountVectorizer(min_df=0.1,max_df=0.9,stop_words=stopwords,)"
   ]
  },
  {
   "cell_type": "code",
   "execution_count": 103,
   "metadata": {},
   "outputs": [],
   "source": [
    "matrix = cv.fit_transform(imp_ohio_reviews['text'])"
   ]
  },
  {
   "cell_type": "code",
   "execution_count": 104,
   "metadata": {},
   "outputs": [
    {
     "data": {
      "text/plain": [
       "<109248x65 sparse matrix of type '<class 'numpy.longlong'>'\n",
       "\twith 1201673 stored elements in Compressed Sparse Row format>"
      ]
     },
     "execution_count": 104,
     "metadata": {},
     "output_type": "execute_result"
    }
   ],
   "source": [
    "matrix"
   ]
  },
  {
   "cell_type": "code",
   "execution_count": 94,
   "metadata": {},
   "outputs": [],
   "source": [
    "from sklearn.decomposition import LatentDirichletAllocation"
   ]
  },
  {
   "cell_type": "code",
   "execution_count": 105,
   "metadata": {},
   "outputs": [],
   "source": [
    "LDA = LatentDirichletAllocation(n_components=5,random_state=42)"
   ]
  },
  {
   "cell_type": "code",
   "execution_count": 106,
   "metadata": {},
   "outputs": [
    {
     "data": {
      "text/plain": [
       "LatentDirichletAllocation(batch_size=128, doc_topic_prior=None,\n",
       "             evaluate_every=-1, learning_decay=0.7,\n",
       "             learning_method='batch', learning_offset=10.0,\n",
       "             max_doc_update_iter=100, max_iter=10, mean_change_tol=0.001,\n",
       "             n_components=5, n_jobs=None, n_topics=None, perp_tol=0.1,\n",
       "             random_state=42, topic_word_prior=None,\n",
       "             total_samples=1000000.0, verbose=0)"
      ]
     },
     "execution_count": 106,
     "metadata": {},
     "output_type": "execute_result"
    }
   ],
   "source": [
    "LDA.fit(matrix)"
   ]
  },
  {
   "cell_type": "code",
   "execution_count": 108,
   "metadata": {},
   "outputs": [
    {
     "data": {
      "text/plain": [
       "array([1.08637490e+04, 1.28961075e+01, 1.51446325e+03, 1.33589934e+03,\n",
       "       9.18723704e+02, 3.22918025e+03, 9.21615274e+01, 1.01995673e+01,\n",
       "       2.34514419e+03, 1.99098020e+03, 3.18407224e+03, 1.20820581e+04,\n",
       "       2.42675472e+04, 3.61457978e+02, 1.19051714e+03, 2.22499104e+03,\n",
       "       4.59356239e+03, 6.66922365e+03, 2.92663026e+03, 8.26826874e+02,\n",
       "       9.39538589e+02, 1.69222890e+03, 1.06222046e+02, 9.63888032e+02,\n",
       "       9.63639960e+03, 5.82503573e+03, 1.33538152e+03, 2.49460780e+03,\n",
       "       1.55355364e+03, 3.52482571e+04, 6.60373315e+03, 6.07659023e+03,\n",
       "       9.44176582e+03, 8.85093284e+03, 6.88796703e+02, 2.56200783e+03,\n",
       "       7.59759688e+02, 3.92394433e+03, 3.86631934e+03, 3.58890692e+03,\n",
       "       1.54133784e+02, 9.26813408e+03, 9.43273545e+02, 2.58357928e+03,\n",
       "       2.03927296e+03, 1.02997436e+04, 2.44870608e+02, 6.29211225e+03,\n",
       "       7.57818480e+03, 1.25065714e+04, 3.13885694e+03, 1.65114678e+04,\n",
       "       5.14944951e+03, 7.72711912e+03, 7.77290521e+01, 1.20822046e+02,\n",
       "       2.18640730e+03, 1.68155622e+03, 4.56391081e+03, 1.57899170e+03,\n",
       "       2.23022392e+01, 3.21400902e+01, 5.84216976e+03, 1.73532427e+03,\n",
       "       4.84331674e+03])"
      ]
     },
     "execution_count": 108,
     "metadata": {},
     "output_type": "execute_result"
    }
   ],
   "source": [
    "LDA.components_[0]"
   ]
  },
  {
   "cell_type": "code",
   "execution_count": 109,
   "metadata": {},
   "outputs": [
    {
     "data": {
      "text/plain": [
       "['also',\n",
       " 'always',\n",
       " 'amazing',\n",
       " 'area',\n",
       " 'atmosphere',\n",
       " 'back',\n",
       " 'bar',\n",
       " 'beer',\n",
       " 'best',\n",
       " 'better',\n",
       " 'came',\n",
       " 'cheese',\n",
       " 'chicken',\n",
       " 'cleveland',\n",
       " 'come',\n",
       " 'could',\n",
       " 'definitely',\n",
       " 'delicious',\n",
       " 'dinner',\n",
       " 'eat',\n",
       " 'even',\n",
       " 'everything',\n",
       " 'experience',\n",
       " 'first',\n",
       " 'food',\n",
       " 'fresh',\n",
       " 'friendly',\n",
       " 'get',\n",
       " 'go',\n",
       " 'good',\n",
       " 'got',\n",
       " 'great',\n",
       " 'like',\n",
       " 'little',\n",
       " 'love',\n",
       " 'made',\n",
       " 'make',\n",
       " 'meal',\n",
       " 'menu',\n",
       " 'much',\n",
       " 'never',\n",
       " 'nice',\n",
       " 'night',\n",
       " 'one',\n",
       " 'order',\n",
       " 'ordered',\n",
       " 'people',\n",
       " 'place',\n",
       " 'pretty',\n",
       " 'really',\n",
       " 'restaurant',\n",
       " 'sauce',\n",
       " 'service',\n",
       " 'side',\n",
       " 'staff',\n",
       " 'table',\n",
       " 'think',\n",
       " 'time',\n",
       " 'try',\n",
       " 'two',\n",
       " 'us',\n",
       " 'wait',\n",
       " 'well',\n",
       " 'went',\n",
       " 'would']"
      ]
     },
     "execution_count": 109,
     "metadata": {},
     "output_type": "execute_result"
    }
   ],
   "source": [
    "cv.get_feature_names()"
   ]
  },
  {
   "cell_type": "code",
   "execution_count": 110,
   "metadata": {},
   "outputs": [],
   "source": [
    "single_topic = LDA.components_[0]"
   ]
  },
  {
   "cell_type": "code",
   "execution_count": 113,
   "metadata": {},
   "outputs": [
    {
     "name": "stdout",
     "output_type": "stream",
     "text": [
      "beer\n",
      "always\n",
      "us\n",
      "wait\n",
      "staff\n",
      "bar\n",
      "experience\n",
      "table\n",
      "never\n",
      "people\n"
     ]
    }
   ],
   "source": [
    "for index in single_topic.argsort()[:10]:\n",
    "    print(cv.get_feature_names()[index])\n",
    "    "
   ]
  },
  {
   "cell_type": "code",
   "execution_count": 114,
   "metadata": {},
   "outputs": [
    {
     "name": "stdout",
     "output_type": "stream",
     "text": [
      "beer\n",
      "always\n",
      "us\n",
      "wait\n",
      "staff\n",
      "bar\n",
      "experience\n",
      "table\n",
      "never\n",
      "people\n",
      "--------------------------------------------------\n",
      "chicken\n",
      "sauce\n",
      "always\n",
      "ordered\n",
      "came\n",
      "order\n",
      "fresh\n",
      "table\n",
      "us\n",
      "got\n",
      "--------------------------------------------------\n",
      "chicken\n",
      "always\n",
      "beer\n",
      "love\n",
      "go\n",
      "sauce\n",
      "eat\n",
      "cheese\n",
      "never\n",
      "pretty\n",
      "--------------------------------------------------\n",
      "beer\n",
      "came\n",
      "ordered\n",
      "got\n",
      "us\n",
      "went\n",
      "bar\n",
      "chicken\n",
      "atmosphere\n",
      "table\n",
      "--------------------------------------------------\n",
      "beer\n",
      "always\n",
      "atmosphere\n",
      "chicken\n",
      "staff\n",
      "friendly\n",
      "fresh\n",
      "love\n",
      "great\n",
      "delicious\n",
      "--------------------------------------------------\n"
     ]
    }
   ],
   "source": [
    "for topic in LDA.components_:\n",
    "    for index in topic.argsort()[:10]:\n",
    "        print(cv.get_feature_names()[index])\n",
    "    print('-'*50)"
   ]
  },
  {
   "cell_type": "markdown",
   "metadata": {},
   "source": [
    "### All the reviews are food and restaurant related so, LDA is not able to capture the individual topics!"
   ]
  },
  {
   "cell_type": "code",
   "execution_count": null,
   "metadata": {},
   "outputs": [],
   "source": []
  }
 ],
 "metadata": {
  "kernelspec": {
   "display_name": "nlp_course",
   "language": "python",
   "name": "nlp_course"
  },
  "language_info": {
   "codemirror_mode": {
    "name": "ipython",
    "version": 3
   },
   "file_extension": ".py",
   "mimetype": "text/x-python",
   "name": "python",
   "nbconvert_exporter": "python",
   "pygments_lexer": "ipython3",
   "version": "3.7.9"
  }
 },
 "nbformat": 4,
 "nbformat_minor": 4
}
