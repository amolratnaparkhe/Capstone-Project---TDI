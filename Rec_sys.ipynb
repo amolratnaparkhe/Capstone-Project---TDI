{
 "cells": [
  {
   "cell_type": "code",
   "execution_count": 89,
   "metadata": {},
   "outputs": [],
   "source": [
    "import numpy as np\n",
    "import pandas as pd\n",
    "from collections import Counter\n",
    "from scipy import spatial"
   ]
  },
  {
   "cell_type": "markdown",
   "metadata": {},
   "source": [
    "### Toy example"
   ]
  },
  {
   "cell_type": "code",
   "execution_count": 40,
   "metadata": {},
   "outputs": [],
   "source": [
    "unique_words = sorted(['Amol','Prashant','Mrinal','Saurabh','Diana'])\n",
    "\n",
    "a = ['Amol', 'Prashant']\n",
    "b = ['Mrinal','Prashant']\n",
    "c = ['Saurabh','Amol','Diana']\n",
    "corpus = [a, b, c]"
   ]
  },
  {
   "cell_type": "code",
   "execution_count": 57,
   "metadata": {},
   "outputs": [
    {
     "data": {
      "text/plain": [
       "{0: [['Amol', 'Prashant']],\n",
       " 1: [['Mrinal', 'Prashant']],\n",
       " 2: [['Saurabh', 'Amol', 'Diana']]}"
      ]
     },
     "execution_count": 57,
     "metadata": {},
     "output_type": "execute_result"
    }
   ],
   "source": [
    "# Let's play around with an example\n",
    "dict_dataframe = {i:[corpus[i]] for i in range(len(corpus))}\n",
    "dict_dataframe"
   ]
  },
  {
   "cell_type": "code",
   "execution_count": 60,
   "metadata": {},
   "outputs": [
    {
     "data": {
      "text/html": [
       "<div>\n",
       "<style scoped>\n",
       "    .dataframe tbody tr th:only-of-type {\n",
       "        vertical-align: middle;\n",
       "    }\n",
       "\n",
       "    .dataframe tbody tr th {\n",
       "        vertical-align: top;\n",
       "    }\n",
       "\n",
       "    .dataframe thead th {\n",
       "        text-align: right;\n",
       "    }\n",
       "</style>\n",
       "<table border=\"1\" class=\"dataframe\">\n",
       "  <thead>\n",
       "    <tr style=\"text-align: right;\">\n",
       "      <th></th>\n",
       "      <th>Documents</th>\n",
       "    </tr>\n",
       "  </thead>\n",
       "  <tbody>\n",
       "    <tr>\n",
       "      <th>0</th>\n",
       "      <td>[Amol, Prashant]</td>\n",
       "    </tr>\n",
       "    <tr>\n",
       "      <th>1</th>\n",
       "      <td>[Mrinal, Prashant]</td>\n",
       "    </tr>\n",
       "    <tr>\n",
       "      <th>2</th>\n",
       "      <td>[Saurabh, Amol, Diana]</td>\n",
       "    </tr>\n",
       "  </tbody>\n",
       "</table>\n",
       "</div>"
      ],
      "text/plain": [
       "                Documents\n",
       "0        [Amol, Prashant]\n",
       "1      [Mrinal, Prashant]\n",
       "2  [Saurabh, Amol, Diana]"
      ]
     },
     "execution_count": 60,
     "metadata": {},
     "output_type": "execute_result"
    }
   ],
   "source": [
    "df = pd.DataFrame(data = dict_dataframe.values(),index=range(len(corpus)),columns=['Documents'])\n",
    "df"
   ]
  },
  {
   "cell_type": "code",
   "execution_count": 61,
   "metadata": {},
   "outputs": [],
   "source": [
    "df['count_vect'] = df['Documents'].apply(count_vectorizer)\n",
    "df['tfidf_vect'] = df['Documents'].apply(tfidf_vectorizer)\n"
   ]
  },
  {
   "cell_type": "code",
   "execution_count": 63,
   "metadata": {},
   "outputs": [],
   "source": [
    "df['stars'] = [1,2,3]"
   ]
  },
  {
   "cell_type": "code",
   "execution_count": 80,
   "metadata": {},
   "outputs": [
    {
     "data": {
      "text/html": [
       "<div>\n",
       "<style scoped>\n",
       "    .dataframe tbody tr th:only-of-type {\n",
       "        vertical-align: middle;\n",
       "    }\n",
       "\n",
       "    .dataframe tbody tr th {\n",
       "        vertical-align: top;\n",
       "    }\n",
       "\n",
       "    .dataframe thead th {\n",
       "        text-align: right;\n",
       "    }\n",
       "</style>\n",
       "<table border=\"1\" class=\"dataframe\">\n",
       "  <thead>\n",
       "    <tr style=\"text-align: right;\">\n",
       "      <th></th>\n",
       "      <th>Documents</th>\n",
       "      <th>count_vect</th>\n",
       "      <th>tfidf_vect</th>\n",
       "      <th>stars</th>\n",
       "      <th>users</th>\n",
       "      <th>Products</th>\n",
       "      <th>lst_stars</th>\n",
       "    </tr>\n",
       "  </thead>\n",
       "  <tbody>\n",
       "    <tr>\n",
       "      <th>0</th>\n",
       "      <td>[Amol, Prashant]</td>\n",
       "      <td>[1, 0, 0, 1, 0]</td>\n",
       "      <td>[0.14384103622589042, 0, 0, 0.1438410362258904...</td>\n",
       "      <td>1</td>\n",
       "      <td>U1</td>\n",
       "      <td>P1</td>\n",
       "      <td>[1]</td>\n",
       "    </tr>\n",
       "    <tr>\n",
       "      <th>1</th>\n",
       "      <td>[Mrinal, Prashant]</td>\n",
       "      <td>[0, 0, 1, 1, 0]</td>\n",
       "      <td>[0, 0, 0.34657359027997264, 0.1438410362258904...</td>\n",
       "      <td>2</td>\n",
       "      <td>U1</td>\n",
       "      <td>P2</td>\n",
       "      <td>[2]</td>\n",
       "    </tr>\n",
       "    <tr>\n",
       "      <th>2</th>\n",
       "      <td>[Saurabh, Amol, Diana]</td>\n",
       "      <td>[1, 1, 0, 0, 1]</td>\n",
       "      <td>[0.09589402415059362, 0.23104906018664842, 0, ...</td>\n",
       "      <td>3</td>\n",
       "      <td>U2</td>\n",
       "      <td>P2</td>\n",
       "      <td>[3]</td>\n",
       "    </tr>\n",
       "  </tbody>\n",
       "</table>\n",
       "</div>"
      ],
      "text/plain": [
       "                Documents       count_vect  \\\n",
       "0        [Amol, Prashant]  [1, 0, 0, 1, 0]   \n",
       "1      [Mrinal, Prashant]  [0, 0, 1, 1, 0]   \n",
       "2  [Saurabh, Amol, Diana]  [1, 1, 0, 0, 1]   \n",
       "\n",
       "                                          tfidf_vect  stars users Products  \\\n",
       "0  [0.14384103622589042, 0, 0, 0.1438410362258904...      1    U1       P1   \n",
       "1  [0, 0, 0.34657359027997264, 0.1438410362258904...      2    U1       P2   \n",
       "2  [0.09589402415059362, 0.23104906018664842, 0, ...      3    U2       P2   \n",
       "\n",
       "  lst_stars  \n",
       "0       [1]  \n",
       "1       [2]  \n",
       "2       [3]  "
      ]
     },
     "execution_count": 80,
     "metadata": {},
     "output_type": "execute_result"
    }
   ],
   "source": [
    "df['lst_stars'] = df['stars'].apply(lambda x: [x])\n",
    "df"
   ]
  },
  {
   "cell_type": "code",
   "execution_count": 82,
   "metadata": {},
   "outputs": [
    {
     "data": {
      "text/html": [
       "<div>\n",
       "<style scoped>\n",
       "    .dataframe tbody tr th:only-of-type {\n",
       "        vertical-align: middle;\n",
       "    }\n",
       "\n",
       "    .dataframe tbody tr th {\n",
       "        vertical-align: top;\n",
       "    }\n",
       "\n",
       "    .dataframe thead th {\n",
       "        text-align: right;\n",
       "    }\n",
       "</style>\n",
       "<table border=\"1\" class=\"dataframe\">\n",
       "  <thead>\n",
       "    <tr style=\"text-align: right;\">\n",
       "      <th></th>\n",
       "      <th>Documents</th>\n",
       "      <th>count_vect</th>\n",
       "      <th>tfidf_vect</th>\n",
       "      <th>stars</th>\n",
       "      <th>users</th>\n",
       "      <th>Products</th>\n",
       "      <th>lst_stars</th>\n",
       "      <th>values_cnt</th>\n",
       "      <th>values_tfidf</th>\n",
       "    </tr>\n",
       "  </thead>\n",
       "  <tbody>\n",
       "    <tr>\n",
       "      <th>0</th>\n",
       "      <td>[Amol, Prashant]</td>\n",
       "      <td>[1, 0, 0, 1, 0]</td>\n",
       "      <td>[0.14384103622589042, 0, 0, 0.1438410362258904...</td>\n",
       "      <td>1</td>\n",
       "      <td>U1</td>\n",
       "      <td>P1</td>\n",
       "      <td>[1]</td>\n",
       "      <td>[1, 0, 0, 1, 0, 1]</td>\n",
       "      <td>[0.14384103622589042, 0, 0, 0.1438410362258904...</td>\n",
       "    </tr>\n",
       "    <tr>\n",
       "      <th>1</th>\n",
       "      <td>[Mrinal, Prashant]</td>\n",
       "      <td>[0, 0, 1, 1, 0]</td>\n",
       "      <td>[0, 0, 0.34657359027997264, 0.1438410362258904...</td>\n",
       "      <td>2</td>\n",
       "      <td>U1</td>\n",
       "      <td>P2</td>\n",
       "      <td>[2]</td>\n",
       "      <td>[0, 0, 1, 1, 0, 2]</td>\n",
       "      <td>[0, 0, 0.34657359027997264, 0.1438410362258904...</td>\n",
       "    </tr>\n",
       "    <tr>\n",
       "      <th>2</th>\n",
       "      <td>[Saurabh, Amol, Diana]</td>\n",
       "      <td>[1, 1, 0, 0, 1]</td>\n",
       "      <td>[0.09589402415059362, 0.23104906018664842, 0, ...</td>\n",
       "      <td>3</td>\n",
       "      <td>U2</td>\n",
       "      <td>P2</td>\n",
       "      <td>[3]</td>\n",
       "      <td>[1, 1, 0, 0, 1, 3]</td>\n",
       "      <td>[0.09589402415059362, 0.23104906018664842, 0, ...</td>\n",
       "    </tr>\n",
       "  </tbody>\n",
       "</table>\n",
       "</div>"
      ],
      "text/plain": [
       "                Documents       count_vect  \\\n",
       "0        [Amol, Prashant]  [1, 0, 0, 1, 0]   \n",
       "1      [Mrinal, Prashant]  [0, 0, 1, 1, 0]   \n",
       "2  [Saurabh, Amol, Diana]  [1, 1, 0, 0, 1]   \n",
       "\n",
       "                                          tfidf_vect  stars users Products  \\\n",
       "0  [0.14384103622589042, 0, 0, 0.1438410362258904...      1    U1       P1   \n",
       "1  [0, 0, 0.34657359027997264, 0.1438410362258904...      2    U1       P2   \n",
       "2  [0.09589402415059362, 0.23104906018664842, 0, ...      3    U2       P2   \n",
       "\n",
       "  lst_stars          values_cnt  \\\n",
       "0       [1]  [1, 0, 0, 1, 0, 1]   \n",
       "1       [2]  [0, 0, 1, 1, 0, 2]   \n",
       "2       [3]  [1, 1, 0, 0, 1, 3]   \n",
       "\n",
       "                                        values_tfidf  \n",
       "0  [0.14384103622589042, 0, 0, 0.1438410362258904...  \n",
       "1  [0, 0, 0.34657359027997264, 0.1438410362258904...  \n",
       "2  [0.09589402415059362, 0.23104906018664842, 0, ...  "
      ]
     },
     "execution_count": 82,
     "metadata": {},
     "output_type": "execute_result"
    }
   ],
   "source": [
    "df"
   ]
  },
  {
   "cell_type": "code",
   "execution_count": 83,
   "metadata": {},
   "outputs": [],
   "source": [
    "df['users'] = ['U1','U1','U2']\n",
    "df['Products'] = ['P1','P2','P2']\n",
    "\n",
    "df['values_cnt'] = df['lst_stars'] + df['count_vect']\n",
    "df['values_tfidf'] = df['lst_stars'] + df['tfidf_vect']"
   ]
  },
  {
   "cell_type": "code",
   "execution_count": 84,
   "metadata": {},
   "outputs": [],
   "source": [
    "df_cnt = df.pivot(values='values_cnt',index='users',columns='Products')\n",
    "df_tfidf = df.pivot(values='values_tfidf',index='users',columns='Products')"
   ]
  },
  {
   "cell_type": "code",
   "execution_count": 85,
   "metadata": {},
   "outputs": [
    {
     "data": {
      "text/html": [
       "<div>\n",
       "<style scoped>\n",
       "    .dataframe tbody tr th:only-of-type {\n",
       "        vertical-align: middle;\n",
       "    }\n",
       "\n",
       "    .dataframe tbody tr th {\n",
       "        vertical-align: top;\n",
       "    }\n",
       "\n",
       "    .dataframe thead th {\n",
       "        text-align: right;\n",
       "    }\n",
       "</style>\n",
       "<table border=\"1\" class=\"dataframe\">\n",
       "  <thead>\n",
       "    <tr style=\"text-align: right;\">\n",
       "      <th>Products</th>\n",
       "      <th>P1</th>\n",
       "      <th>P2</th>\n",
       "    </tr>\n",
       "    <tr>\n",
       "      <th>users</th>\n",
       "      <th></th>\n",
       "      <th></th>\n",
       "    </tr>\n",
       "  </thead>\n",
       "  <tbody>\n",
       "    <tr>\n",
       "      <th>U1</th>\n",
       "      <td>[1, 1, 0, 0, 1, 0]</td>\n",
       "      <td>[2, 0, 0, 1, 1, 0]</td>\n",
       "    </tr>\n",
       "    <tr>\n",
       "      <th>U2</th>\n",
       "      <td>NaN</td>\n",
       "      <td>[3, 1, 1, 0, 0, 1]</td>\n",
       "    </tr>\n",
       "  </tbody>\n",
       "</table>\n",
       "</div>"
      ],
      "text/plain": [
       "Products                  P1                  P2\n",
       "users                                           \n",
       "U1        [1, 1, 0, 0, 1, 0]  [2, 0, 0, 1, 1, 0]\n",
       "U2                       NaN  [3, 1, 1, 0, 0, 1]"
      ]
     },
     "execution_count": 85,
     "metadata": {},
     "output_type": "execute_result"
    }
   ],
   "source": [
    "df_cnt"
   ]
  },
  {
   "cell_type": "code",
   "execution_count": 86,
   "metadata": {},
   "outputs": [
    {
     "data": {
      "text/html": [
       "<div>\n",
       "<style scoped>\n",
       "    .dataframe tbody tr th:only-of-type {\n",
       "        vertical-align: middle;\n",
       "    }\n",
       "\n",
       "    .dataframe tbody tr th {\n",
       "        vertical-align: top;\n",
       "    }\n",
       "\n",
       "    .dataframe thead th {\n",
       "        text-align: right;\n",
       "    }\n",
       "</style>\n",
       "<table border=\"1\" class=\"dataframe\">\n",
       "  <thead>\n",
       "    <tr style=\"text-align: right;\">\n",
       "      <th>Products</th>\n",
       "      <th>P1</th>\n",
       "      <th>P2</th>\n",
       "    </tr>\n",
       "    <tr>\n",
       "      <th>users</th>\n",
       "      <th></th>\n",
       "      <th></th>\n",
       "    </tr>\n",
       "  </thead>\n",
       "  <tbody>\n",
       "    <tr>\n",
       "      <th>U1</th>\n",
       "      <td>[1, 0.14384103622589042, 0, 0, 0.1438410362258...</td>\n",
       "      <td>[2, 0, 0, 0.34657359027997264, 0.1438410362258...</td>\n",
       "    </tr>\n",
       "    <tr>\n",
       "      <th>U2</th>\n",
       "      <td>NaN</td>\n",
       "      <td>[3, 0.09589402415059362, 0.23104906018664842, ...</td>\n",
       "    </tr>\n",
       "  </tbody>\n",
       "</table>\n",
       "</div>"
      ],
      "text/plain": [
       "Products                                                 P1  \\\n",
       "users                                                         \n",
       "U1        [1, 0.14384103622589042, 0, 0, 0.1438410362258...   \n",
       "U2                                                      NaN   \n",
       "\n",
       "Products                                                 P2  \n",
       "users                                                        \n",
       "U1        [2, 0, 0, 0.34657359027997264, 0.1438410362258...  \n",
       "U2        [3, 0.09589402415059362, 0.23104906018664842, ...  "
      ]
     },
     "execution_count": 86,
     "metadata": {},
     "output_type": "execute_result"
    }
   ],
   "source": [
    "df_tfidf"
   ]
  },
  {
   "cell_type": "code",
   "execution_count": 91,
   "metadata": {},
   "outputs": [],
   "source": [
    "def cosine_similarity(v1,v2):\n",
    "    ans = 1 - spatial.distance.cosine(v1,v2)\n",
    "    return ans"
   ]
  },
  {
   "cell_type": "code",
   "execution_count": 93,
   "metadata": {},
   "outputs": [
    {
     "data": {
      "text/plain": [
       "0.0"
      ]
     },
     "execution_count": 93,
     "metadata": {},
     "output_type": "execute_result"
    }
   ],
   "source": [
    "cosine_similarity(df_tfidf.iloc[0]['P2'][1:],df_tfidf.iloc[1]['P2'][1:])"
   ]
  },
  {
   "cell_type": "code",
   "execution_count": 94,
   "metadata": {},
   "outputs": [
    {
     "name": "stdout",
     "output_type": "stream",
     "text": [
      "[0, 0, 0.34657359027997264, 0.14384103622589042, 0]\n",
      "[0.09589402415059362, 0.23104906018664842, 0, 0, 0.23104906018664842]\n"
     ]
    }
   ],
   "source": [
    "print(df_tfidf.iloc[0]['P2'][1:])\n",
    "print(df_tfidf.iloc[1]['P2'][1:])"
   ]
  },
  {
   "cell_type": "code",
   "execution_count": null,
   "metadata": {},
   "outputs": [],
   "source": []
  },
  {
   "cell_type": "code",
   "execution_count": 48,
   "metadata": {},
   "outputs": [],
   "source": [
    "# m --> len of unique words(columns), n --> len of corpus \n",
    "\n",
    "def count_vectorizer(col):    # custom countvectorizer\n",
    "    m = len(unique_words)\n",
    "    lst = [None] * m\n",
    "    for i in range(m):\n",
    "        if full_list[i] in col:\n",
    "            lst[i] = 1\n",
    "        else:    \n",
    "            lst[i] = 0\n",
    "    return lst    \n",
    "\n",
    "\n",
    "\n",
    "# Function to check how many documents in the corpus contain the word\n",
    "def idf(word):\n",
    "    count = 0\n",
    "    n = len(corpus)\n",
    "    for i in range(n):\n",
    "        if word in corpus[i]:\n",
    "            count += 1\n",
    "    return count\n",
    "\n",
    "\n",
    "def tfidf_vectorizer(col):    # custom tfidfvectorizer\n",
    "    m = len(unique_words)\n",
    "    lst = [None]*m\n",
    "    counter = Counter()\n",
    "    for word in col:\n",
    "        counter[word] += 1\n",
    "    for i in range(m):\n",
    "        if unique_words[i] in col:\n",
    "            tf = counter[unique_words[i]]/len(col)\n",
    "            inv_df = np.log((n + 1)/(idf(unique_words[i]) + 1))\n",
    "            tfidf = tf*inv_df\n",
    "            lst[i] = tfidf\n",
    "        else:\n",
    "            lst[i] = 0\n",
    "    return lst"
   ]
  },
  {
   "cell_type": "code",
   "execution_count": 44,
   "metadata": {},
   "outputs": [],
   "source": []
  },
  {
   "cell_type": "code",
   "execution_count": 42,
   "metadata": {},
   "outputs": [
    {
     "data": {
      "text/plain": [
       "[1, 1, 0, 0, 1]"
      ]
     },
     "execution_count": 42,
     "metadata": {},
     "output_type": "execute_result"
    }
   ],
   "source": [
    "count_vectorizer(c)"
   ]
  },
  {
   "cell_type": "code",
   "execution_count": 45,
   "metadata": {},
   "outputs": [
    {
     "data": {
      "text/plain": [
       "[0.09589402415059362, 0.23104906018664842, 0, 0, 0.23104906018664842]"
      ]
     },
     "execution_count": 45,
     "metadata": {},
     "output_type": "execute_result"
    }
   ],
   "source": [
    "tfidf_vectorizer(c)"
   ]
  },
  {
   "cell_type": "code",
   "execution_count": 47,
   "metadata": {},
   "outputs": [
    {
     "name": "stdout",
     "output_type": "stream",
     "text": [
      "The CountVector is [1, 0, 0, 1, 0]\n",
      "The TFIDF vector is [0.14384103622589042, 0, 0, 0.14384103622589042, 0]\n",
      "\n",
      "\n",
      "The CountVector is [0, 0, 1, 1, 0]\n",
      "The TFIDF vector is [0, 0, 0.34657359027997264, 0.14384103622589042, 0]\n",
      "\n",
      "\n",
      "The CountVector is [1, 1, 0, 0, 1]\n",
      "The TFIDF vector is [0.09589402415059362, 0.23104906018664842, 0, 0, 0.23104906018664842]\n",
      "\n",
      "\n"
     ]
    }
   ],
   "source": [
    "for col in corpus:\n",
    "    print(f'The CountVector is {count_vectorizer(col)}')\n",
    "    print(f'The TFIDF vector is {tfidf_vectorizer(col)}')\n",
    "    print('\\n')"
   ]
  },
  {
   "cell_type": "code",
   "execution_count": null,
   "metadata": {},
   "outputs": [],
   "source": []
  }
 ],
 "metadata": {
  "kernelspec": {
   "display_name": "nlp_course",
   "language": "python",
   "name": "nlp_course"
  },
  "language_info": {
   "codemirror_mode": {
    "name": "ipython",
    "version": 3
   },
   "file_extension": ".py",
   "mimetype": "text/x-python",
   "name": "python",
   "nbconvert_exporter": "python",
   "pygments_lexer": "ipython3",
   "version": "3.7.9"
  }
 },
 "nbformat": 4,
 "nbformat_minor": 4
}
